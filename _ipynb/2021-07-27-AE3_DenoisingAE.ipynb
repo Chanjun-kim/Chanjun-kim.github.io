{
 "cells": [
  {
   "cell_type": "markdown",
   "metadata": {
    "id": "ZCQ4MIS2mv4N"
   },
   "source": [
    "---\n",
    "layout: post\n",
    "title: \"AE3. Denoising AE - 노이즈제거 오토인코더란?\"\n",
    "author: \"Chanjun Kim\"\n",
    "categories: Data분석\n",
    "tags: [Data, AutoEncoder, AE, Gan, Denoising AE, VAE, 딥러닝, CNN]\n",
    "image: 08_AutoEncoder.png\n",
    "---"
   ]
  },
  {
   "cell_type": "markdown",
   "metadata": {
    "id": "66ofBhh4mv4Q"
   },
   "source": [
    "## **학습목적**\n",
    "이 포스팅에선 저번 포스팅에서 알아본 오터인코더의 단점을 보완한 변이형 오토인코더에 대해서 알아보도록 하겠습니다."
   ]
  },
  {
   "cell_type": "markdown",
   "metadata": {
    "id": "oGJTcUcZdOnt"
   },
   "source": [
    "---\n",
    "\n",
    "#### **Denosing AutoEncoder - **\n",
    "- 오토인코더(Autoencoder)의 기본적인 개념은 저차원(직관적)인 데이터를 고차원(추상적)의 데이터로 표현(representation)하고 다시 저차원의 데이터로 만들어 데이터 생성, 노이즈 제거, 특성 변화 등을 할 수 있도록 만들어주는 기법으로, 오토 인코더라고 불리지만 실제로는 인코더와 디코더가 같이 묶여있는 네트워크입니다.\n",
    "    - 저차원과 고차원\n",
    "        - 인코더는 차원 축소라고 표현되나, 잠재공간(Latent Space)가 늘어나며 추상적인 고차원 데이터로 변환됩니다..\n",
    "        - 128x128x3의 이미지는 사람의 눈으로도 판단 가능한 직관적인 데이터지만 2x2x32 같이 잠재공간(Latent Space)가 많은 경우는 사람의 눈으로는 판단할 수 없는 추상적인 데이터라고 볼 수 있습니다.\n",
    "\n",
    "<br>\n"
   ]
  },
  {
   "cell_type": "markdown",
   "metadata": {
    "id": "rzsUdxzGwoM1"
   },
   "source": [
    "---\n",
    "\n",
    "#### **오토인코더 실습**"
   ]
  },
  {
   "cell_type": "code",
   "execution_count": 1,
   "metadata": {
    "colab": {
     "base_uri": "https://localhost:8080/"
    },
    "executionInfo": {
     "elapsed": 112543,
     "status": "ok",
     "timestamp": 1627296351922,
     "user": {
      "displayName": "김찬준",
      "photoUrl": "",
      "userId": "01130487808933653943"
     },
     "user_tz": -540
    },
    "id": "CC3TPDHjwuln",
    "outputId": "2bfb02a8-b34a-4e44-d058-b4138ed9f729"
   },
   "outputs": [
    {
     "name": "stdout",
     "output_type": "stream",
     "text": [
      "Mounted at /content/drive\n",
      "/content/drive/MyDrive/cj/portfolio/Chanjun-kim.github.io/_ipynb\n",
      "/content/drive/MyDrive/cj/portfolio/Chanjun-kim.github.io/_ipynb\n"
     ]
    }
   ],
   "source": [
    "from google.colab import drive\n",
    "drive.mount(\"/content/drive\")\n",
    "%cd drive/MyDrive/cj/portfolio/Chanjun-kim.github.io/_ipynb\n",
    "!pwd"
   ]
  },
  {
   "cell_type": "code",
   "execution_count": 1,
   "metadata": {
    "executionInfo": {
     "elapsed": 3222,
     "status": "ok",
     "timestamp": 1627296371592,
     "user": {
      "displayName": "김찬준",
      "photoUrl": "",
      "userId": "01130487808933653943"
     },
     "user_tz": -540
    },
    "id": "p2MtC3_DwoM5"
   },
   "outputs": [],
   "source": [
    "import os\n",
    "import sys\n",
    "import warnings\n",
    "\n",
    "import random\n",
    "\n",
    "import numpy as np\n",
    "import pandas as pd\n",
    "\n",
    "import scipy\n",
    "import scipy.stats\n",
    "from scipy.spatial import ConvexHull, convex_hull_plot_2d\n",
    "from sklearn.datasets import make_regression\n",
    "from sklearn.ensemble import GradientBoostingRegressor\n",
    "from sklearn.model_selection import train_test_split\n",
    "from sklearn.metrics import accuracy_score, precision_score, recall_score\n",
    "\n",
    "import matplotlib as mpl\n",
    "import matplotlib.pyplot as plt\n",
    "from plotnine import * \n",
    "\n",
    "import tensorflow as tf\n",
    "from tensorflow.keras.layers import Input, Conv2D, Flatten, Dense, Conv2DTranspose, Reshape, Lambda, Activation, BatchNormalization, LeakyReLU, Dropout\n",
    "from tensorflow.keras.models import Model, Sequential\n",
    "from tensorflow.keras import backend as K\n",
    "from tensorflow.keras.optimizers import Adam\n",
    "from tensorflow.keras.callbacks import ModelCheckpoint \n",
    "from tensorflow.keras import layers, losses\n",
    "from tensorflow.keras.datasets import mnist, fashion_mnist"
   ]
  },
  {
   "cell_type": "code",
   "execution_count": 2,
   "metadata": {
    "executionInfo": {
     "elapsed": 3,
     "status": "ok",
     "timestamp": 1627296371593,
     "user": {
      "displayName": "김찬준",
      "photoUrl": "",
      "userId": "01130487808933653943"
     },
     "user_tz": -540
    },
    "id": "tUmVU1IKwoM6"
   },
   "outputs": [],
   "source": [
    "%matplotlib inline\n",
    "warnings.filterwarnings(action='ignore')"
   ]
  },
  {
   "cell_type": "code",
   "execution_count": 7,
   "metadata": {
    "executionInfo": {
     "elapsed": 300,
     "status": "ok",
     "timestamp": 1627296406192,
     "user": {
      "displayName": "김찬준",
      "photoUrl": "",
      "userId": "01130487808933653943"
     },
     "user_tz": -540
    },
    "id": "WX0yd70UdOnu"
   },
   "outputs": [],
   "source": [
    "class Denoising_Autoencoder_V1():\n",
    "    def __init__(self\n",
    "        , input_dim\n",
    "        , encoder_conv_filters\n",
    "        , encoder_conv_kernel_size\n",
    "        , encoder_conv_strides\n",
    "        , decoder_conv_t_filters\n",
    "        , decoder_conv_t_kernel_size\n",
    "        , decoder_conv_t_strides\n",
    "        , z_dim\n",
    "        , use_batch_norm = False\n",
    "        , use_dropout = False\n",
    "        ):\n",
    "\n",
    "        self.name = 'autoencoder'\n",
    "\n",
    "        self.input_dim = input_dim\n",
    "        self.encoder_conv_filters = encoder_conv_filters\n",
    "        self.encoder_conv_kernel_size = encoder_conv_kernel_size\n",
    "        self.encoder_conv_strides = encoder_conv_strides\n",
    "        self.decoder_conv_t_filters = decoder_conv_t_filters\n",
    "        self.decoder_conv_t_kernel_size = decoder_conv_t_kernel_size\n",
    "        self.decoder_conv_t_strides = decoder_conv_t_strides\n",
    "        self.z_dim = z_dim\n",
    "\n",
    "        self.use_batch_norm = use_batch_norm\n",
    "        self.use_dropout = use_dropout\n",
    "\n",
    "        self.n_layers_encoder = len(encoder_conv_filters)\n",
    "        self.n_layers_decoder = len(decoder_conv_t_filters)\n",
    "\n",
    "        self._build()\n",
    "\n",
    "    def _build(self):\n",
    "\n",
    "        ### THE ENCODER\n",
    "        encoder_input = Input(shape=self.input_dim, name='encoder_input')\n",
    "\n",
    "        x = encoder_input\n",
    "\n",
    "        for i in range(self.n_layers_encoder):\n",
    "            conv_layer = Conv2D(\n",
    "                filters = self.encoder_conv_filters[i]\n",
    "                , kernel_size = self.encoder_conv_kernel_size[i]\n",
    "                , strides = self.encoder_conv_strides[i]\n",
    "                , padding = 'same'\n",
    "                , name = 'encoder_conv_' + str(i)\n",
    "                )\n",
    "\n",
    "            x = conv_layer(x)\n",
    "\n",
    "            x = LeakyReLU()(x)\n",
    "\n",
    "            if self.use_batch_norm:\n",
    "                x = BatchNormalization()(x)\n",
    "\n",
    "            if self.use_dropout:\n",
    "                x = Dropout(rate = 0.25)(x)\n",
    "\n",
    "        shape_before_flattening = K.int_shape(x)[1:]\n",
    "\n",
    "        x = Flatten()(x)\n",
    "        encoder_output= Dense(self.z_dim, name='encoder_output')(x)\n",
    "\n",
    "        self.encoder = Model(encoder_input, encoder_output)\n",
    "\n",
    "\n",
    "        ### THE DECODER\n",
    "        decoder_input = Input(shape=(self.z_dim,), name='decoder_input')\n",
    "\n",
    "        x = Dense(np.prod(shape_before_flattening))(decoder_input)\n",
    "        x = Reshape(shape_before_flattening)(x)\n",
    "\n",
    "        for i in range(self.n_layers_decoder):\n",
    "            conv_t_layer = Conv2DTranspose(\n",
    "                filters = self.decoder_conv_t_filters[i]\n",
    "                , kernel_size = self.decoder_conv_t_kernel_size[i]\n",
    "                , strides = self.decoder_conv_t_strides[i]\n",
    "                , padding = 'same'\n",
    "                , name = 'decoder_conv_t_' + str(i)\n",
    "                )\n",
    "\n",
    "            x = conv_t_layer(x)\n",
    "\n",
    "            if i < self.n_layers_decoder - 1:\n",
    "                x = LeakyReLU()(x)\n",
    "                \n",
    "                if self.use_batch_norm:\n",
    "                    x = BatchNormalization()(x)\n",
    "                \n",
    "                if self.use_dropout:\n",
    "                    x = Dropout(rate = 0.25)(x)\n",
    "            else:\n",
    "                x = Activation('sigmoid')(x)\n",
    "\n",
    "        decoder_output = x\n",
    "\n",
    "        self.decoder = Model(decoder_input, decoder_output)\n",
    "\n",
    "        ### THE FULL AUTOENCODER\n",
    "        model_input = encoder_input\n",
    "        model_output = self.decoder(encoder_output)\n",
    "\n",
    "        self.model = Model(model_input, model_output)\n",
    "        \n",
    "    def compile(self, learning_rate):\n",
    "        self.learning_rate = learning_rate\n",
    "        optimizer = Adam(lr=learning_rate)\n",
    "\n",
    "        self.model.compile(optimizer=optimizer, loss = tf.keras.losses.MeanSquaredError(reduction=\"auto\", name=\"mean_squared_error\")) \n",
    "\n",
    "    def train(self, x_train, y_train, batch_size, epochs, verbose = 1):\n",
    "        self.model.fit(     \n",
    "        x_train\n",
    "        , y_train\n",
    "        , batch_size = batch_size\n",
    "        , shuffle = True\n",
    "        , epochs = epochs\n",
    "        , verbose = verbose\n",
    "        )"
   ]
  },
  {
   "cell_type": "code",
   "execution_count": 9,
   "metadata": {
    "executionInfo": {
     "elapsed": 16,
     "status": "ok",
     "timestamp": 1627296413955,
     "user": {
      "displayName": "김찬준",
      "photoUrl": "",
      "userId": "01130487808933653943"
     },
     "user_tz": -540
    },
    "id": "XS04oM8lnF6s"
   },
   "outputs": [],
   "source": [
    "DAE_V1.compile(0.00005)"
   ]
  },
  {
   "cell_type": "code",
   "execution_count": 11,
   "metadata": {
    "colab": {
     "base_uri": "https://localhost:8080/",
     "height": 145
    },
    "executionInfo": {
     "elapsed": 1931,
     "status": "ok",
     "timestamp": 1627297369551,
     "user": {
      "displayName": "김찬준",
      "photoUrl": "",
      "userId": "01130487808933653943"
     },
     "user_tz": -540
    },
    "id": "9piN_wAneB2J",
    "outputId": "1eb50afb-949e-4763-93d0-2f06510cc605"
   },
   "outputs": [
    {
     "data": {
      "image/png": "[encoded data removed]",
      "text/plain": [
       "<Figure size 1440x288 with 10 Axes>"
      ]
     },
     "metadata": {
      "needs_background": "light",
      "tags": []
     },
     "output_type": "display_data"
    }
   ],
   "source": [
    "dae_predict = DAE_V1.model.predict(x_test_noisy)\n",
    "\n",
    "n = 10\n",
    "plt.figure(figsize=(20, 4))\n",
    "for i in range(n):\n",
    "    # display original\n",
    "    ax = plt.subplot(2, n, i + 1)\n",
    "    plt.imshow(np.reshape(dae_predict[i], (28, 28)))\n",
    "    plt.title(y_test[i])\n",
    "    plt.gray()\n",
    "    ax.get_xaxis().set_visible(False)\n",
    "    ax.get_yaxis().set_visible(False)\n",
    "plt.show()"
   ]
  },
  {
   "cell_type": "code",
   "execution_count": 45,
   "metadata": {},
   "outputs": [],
   "source": [
    "class Denoising_Autoencoder_V2():\n",
    "    def __init__(self\n",
    "        , input_dim\n",
    "        , encoder_conv_filters\n",
    "        , encoder_conv_kernel_size\n",
    "        , encoder_conv_strides\n",
    "        , decoder_conv_t_filters\n",
    "        , decoder_conv_t_kernel_size\n",
    "        , decoder_conv_t_strides\n",
    "        , z_dim\n",
    "        , use_batch_norm = False\n",
    "        , use_dropout = False\n",
    "        ):\n",
    "\n",
    "        self.name = 'autoencoder'\n",
    "\n",
    "        self.input_dim = input_dim\n",
    "        self.encoder_conv_filters = encoder_conv_filters\n",
    "        self.encoder_conv_kernel_size = encoder_conv_kernel_size\n",
    "        self.encoder_conv_strides = encoder_conv_strides\n",
    "        self.decoder_conv_t_filters = decoder_conv_t_filters\n",
    "        self.decoder_conv_t_kernel_size = decoder_conv_t_kernel_size\n",
    "        self.decoder_conv_t_strides = decoder_conv_t_strides\n",
    "        self.z_dim = z_dim\n",
    "\n",
    "        self.use_batch_norm = use_batch_norm\n",
    "        self.use_dropout = use_dropout\n",
    "\n",
    "        self.n_layers_encoder = len(encoder_conv_filters)\n",
    "        self.n_layers_decoder = len(decoder_conv_t_filters)\n",
    "\n",
    "        self._build()\n",
    "\n",
    "    def _build(self):\n",
    "\n",
    "        ### THE ENCODER\n",
    "        encoder_input = Input(shape=self.input_dim, name='encoder_input')\n",
    "\n",
    "        x = encoder_input\n",
    "\n",
    "        for i in range(self.n_layers_encoder):\n",
    "            conv_layer = Conv2D(\n",
    "                filters = self.encoder_conv_filters[i]\n",
    "                , kernel_size = self.encoder_conv_kernel_size[i]\n",
    "                , strides = self.encoder_conv_strides[i]\n",
    "                , padding = 'same'\n",
    "                , name = 'encoder_conv_' + str(i)\n",
    "                )\n",
    "\n",
    "            x = conv_layer(x)\n",
    "\n",
    "            x = LeakyReLU()(x)\n",
    "\n",
    "            if self.use_batch_norm:\n",
    "                x = BatchNormalization()(x)\n",
    "\n",
    "            if self.use_dropout:\n",
    "                x = Dropout(rate = 0.25)(x)\n",
    "\n",
    "        encoder_output= Conv2D(\n",
    "                filters = self.z_dim\n",
    "                , kernel_size = 1\n",
    "                , strides = 1\n",
    "                , padding = 'same'\n",
    "                , name = 'encoder_conv_' + str(i + 1)\n",
    "                )\n",
    "        \n",
    "        x = encoder_output(x)\n",
    "        \n",
    "        self.encoder = Model(encoder_input, x)\n",
    "\n",
    "        ### THE DECODER\n",
    "\n",
    "        for i in range(self.n_layers_decoder):\n",
    "            conv_t_layer = Conv2DTranspose(\n",
    "                filters = self.decoder_conv_t_filters[i]\n",
    "                , kernel_size = self.decoder_conv_t_kernel_size[i]\n",
    "                , strides = self.decoder_conv_t_strides[i]\n",
    "                , padding = 'same'\n",
    "                , name = 'decoder_conv_t_' + str(i)\n",
    "                )\n",
    "\n",
    "            x = conv_t_layer(x)\n",
    "\n",
    "            if i < self.n_layers_decoder - 1:\n",
    "                x = LeakyReLU()(x)\n",
    "                \n",
    "                if self.use_batch_norm:\n",
    "                    x = BatchNormalization()(x)\n",
    "                \n",
    "                if self.use_dropout:\n",
    "                    x = Dropout(rate = 0.25)(x)\n",
    "            else:\n",
    "                x = Activation('sigmoid')(x)\n",
    "\n",
    "        decoder_output = x\n",
    "\n",
    "        ### THE FULL AUTOENCODER\n",
    "        model_input = encoder_input\n",
    "\n",
    "        self.model = Model(model_input, decoder_output)\n",
    "        \n",
    "    def compile(self, learning_rate):\n",
    "        self.learning_rate = learning_rate\n",
    "        optimizer = Adam(lr=learning_rate)\n",
    "\n",
    "        self.model.compile(optimizer=optimizer, loss = tf.keras.losses.MeanSquaredError(reduction=\"auto\", name=\"mean_squared_error\")) \n",
    "\n",
    "    def train(self, x_train, y_train, batch_size, epochs, verbose = 1):\n",
    "        self.model.fit(     \n",
    "        x_train\n",
    "        , y_train\n",
    "        , batch_size = batch_size\n",
    "        , shuffle = True\n",
    "        , epochs = epochs\n",
    "        , verbose = verbose\n",
    "        )"
   ]
  },
  {
   "cell_type": "code",
   "execution_count": 50,
   "metadata": {
    "colab": {
     "base_uri": "https://localhost:8080/",
     "height": 392
    },
    "executionInfo": {
     "elapsed": 5,
     "status": "error",
     "timestamp": 1627298373631,
     "user": {
      "displayName": "김찬준",
      "photoUrl": "",
      "userId": "01130487808933653943"
     },
     "user_tz": -540
    },
    "id": "pExd_D7OfJdz",
    "outputId": "15692fa1-9859-4efe-fde6-e47c52f3e739"
   },
   "outputs": [],
   "source": [
    "DAE_V2 = Denoising_Autoencoder_V2(\n",
    "    input_dim = (28,28,1)\n",
    "    , encoder_conv_filters = [32,64,128,256]\n",
    "    , encoder_conv_kernel_size = [3,3,3,3]\n",
    "    , encoder_conv_strides = [1,2,2,1]\n",
    "    , decoder_conv_t_filters = [128,64,32,1]\n",
    "    , decoder_conv_t_kernel_size = [3,3,3,3]\n",
    "    , decoder_conv_t_strides = [1,2,2,1]\n",
    "    , z_dim = 512\n",
    ")"
   ]
  },
  {
   "cell_type": "code",
   "execution_count": 51,
   "metadata": {},
   "outputs": [
    {
     "name": "stdout",
     "output_type": "stream",
     "text": [
      "Model: \"model_24\"\n",
      "_________________________________________________________________\n",
      "Layer (type)                 Output Shape              Param #   \n",
      "=================================================================\n",
      "encoder_input (InputLayer)   [(None, 28, 28, 1)]       0         \n",
      "_________________________________________________________________\n",
      "encoder_conv_0 (Conv2D)      (None, 28, 28, 32)        320       \n",
      "_________________________________________________________________\n",
      "leaky_re_lu_102 (LeakyReLU)  (None, 28, 28, 32)        0         \n",
      "_________________________________________________________________\n",
      "encoder_conv_1 (Conv2D)      (None, 14, 14, 64)        18496     \n",
      "_________________________________________________________________\n",
      "leaky_re_lu_103 (LeakyReLU)  (None, 14, 14, 64)        0         \n",
      "_________________________________________________________________\n",
      "encoder_conv_2 (Conv2D)      (None, 7, 7, 128)         73856     \n",
      "_________________________________________________________________\n",
      "leaky_re_lu_104 (LeakyReLU)  (None, 7, 7, 128)         0         \n",
      "_________________________________________________________________\n",
      "encoder_conv_3 (Conv2D)      (None, 7, 7, 256)         295168    \n",
      "_________________________________________________________________\n",
      "leaky_re_lu_105 (LeakyReLU)  (None, 7, 7, 256)         0         \n",
      "_________________________________________________________________\n",
      "encoder_conv_4 (Conv2D)      (None, 7, 7, 512)         131584    \n",
      "_________________________________________________________________\n",
      "decoder_conv_t_0 (Conv2DTran (None, 7, 7, 128)         589952    \n",
      "_________________________________________________________________\n",
      "leaky_re_lu_106 (LeakyReLU)  (None, 7, 7, 128)         0         \n",
      "_________________________________________________________________\n",
      "decoder_conv_t_1 (Conv2DTran (None, 14, 14, 64)        73792     \n",
      "_________________________________________________________________\n",
      "leaky_re_lu_107 (LeakyReLU)  (None, 14, 14, 64)        0         \n",
      "_________________________________________________________________\n",
      "decoder_conv_t_2 (Conv2DTran (None, 28, 28, 32)        18464     \n",
      "_________________________________________________________________\n",
      "leaky_re_lu_108 (LeakyReLU)  (None, 28, 28, 32)        0         \n",
      "_________________________________________________________________\n",
      "decoder_conv_t_3 (Conv2DTran (None, 28, 28, 1)         289       \n",
      "_________________________________________________________________\n",
      "activation_7 (Activation)    (None, 28, 28, 1)         0         \n",
      "=================================================================\n",
      "Total params: 1,201,921\n",
      "Trainable params: 1,201,921\n",
      "Non-trainable params: 0\n",
      "_________________________________________________________________\n"
     ]
    }
   ],
   "source": [
    "DAE_V2.model.summary()"
   ]
  },
  {
   "cell_type": "code",
   "execution_count": 9,
   "metadata": {
    "executionInfo": {
     "elapsed": 16,
     "status": "ok",
     "timestamp": 1627296413955,
     "user": {
      "displayName": "김찬준",
      "photoUrl": "",
      "userId": "01130487808933653943"
     },
     "user_tz": -540
    },
    "id": "XS04oM8lnF6s"
   },
   "outputs": [],
   "source": [
    "DAE_V2.compile(0.00005)"
   ]
  },
  {
   "cell_type": "markdown",
   "metadata": {
    "id": "A1dP9udTdOnr"
   },
   "source": [
    "- #### **결론 :**\n",
    "    - **오토인코더를 왜 쓰는가?**\n",
    "        - 인코더를 거치면 일종의 차원축소처럼 보이게되는데 이 때 확실한 영역을 구분하게 된다면, 그 주변의 좌표들을 통하여 비슷한 이미지를 생성하는데 기여할 수 있습니다.\n",
    "    - **오터인코더의 한계?**\n",
    "        - 모든 데이터가 인코더를 거치며 정확히 구분되지 않을 뿐 아니라 잠재 공간 모두에 분포하지 않습니다. 즉, 잠재공간이 존재하지만 엉뚱한 곳을 찍었을 때는 전혀 다른 데이터를 생성할 수 있습니다."
   ]
  },
  {
   "cell_type": "markdown",
   "metadata": {
    "id": "sFxcbBrNmv4f"
   },
   "source": [
    "---\n",
    "\n",
    "code : https://github.com/Chanjun-kim/Chanjun-kim.github.io/blob/main/_ipynb/2021-07-25-AE1_AutoEncoder.ipynb"
   ]
  },
  {
   "cell_type": "markdown",
   "metadata": {
    "id": "OvWAWUs7mv4e"
   },
   "source": [
    "> 참고자료 : [https://www.tensorflow.org/tutorials/generative/autoencoder?hl=ko](https://www.tensorflow.org/tutorials/generative/autoencoder?hl=ko)<br>\n",
    "> 참고자료 : [https://github.com/davidADSP/GDL_code](https://github.com/davidADSP/GDL_code)<br>"
   ]
  }
 ],
 "metadata": {
  "accelerator": "GPU",
  "colab": {
   "collapsed_sections": [
    "ZCQ4MIS2mv4N",
    "6vsMVZXjmv4R"
   ],
   "name": "2021-07-25-AutoEncoder.ipynb",
   "provenance": []
  },
  "kernelspec": {
   "display_name": "Python 3",
   "language": "python",
   "name": "python3"
  },
  "language_info": {
   "codemirror_mode": {
    "name": "ipython",
    "version": 3
   },
   "file_extension": ".py",
   "mimetype": "text/x-python",
   "name": "python",
   "nbconvert_exporter": "python",
   "pygments_lexer": "ipython3",
   "version": "3.7.3"
  }
 },
 "nbformat": 4,
 "nbformat_minor": 4
}
