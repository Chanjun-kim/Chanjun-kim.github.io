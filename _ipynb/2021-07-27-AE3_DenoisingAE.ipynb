{
 "cells": [
  {
   "cell_type": "markdown",
   "metadata": {
    "id": "ZCQ4MIS2mv4N"
   },
   "source": [
    "---\n",
    "layout: post\n",
    "title: \"AE3. Denoising AE - 노이즈제거 오토인코더란?\"\n",
    "author: \"Chanjun Kim\"\n",
    "categories: Data분석\n",
    "tags: [Data, AutoEncoder, AE, Gan, Denoising AE, VAE, 딥러닝, CNN]\n",
    "image: 08_AutoEncoder.png\n",
    "---"
   ]
  },
  {
   "cell_type": "markdown",
   "metadata": {
    "id": "66ofBhh4mv4Q"
   },
   "source": [
    "## **학습목적**\n",
    "이 포스팅에선 오터인코더의 한 사례인 노이즈가 추가된 데이터에서 깨끗한 이미지를 뽑아낼 수 있는 Denoising AutoEncoder에 대해서 알아보겠습니다."
   ]
  },
  {
   "cell_type": "markdown",
   "metadata": {
    "id": "oGJTcUcZdOnt"
   },
   "source": [
    "\n",
    "---\n",
    "\n",
    "#### **Denosing AutoEncoder**\n",
    "- 오토인코더(Autoencoder)의 기본적인 개념은 저차원(직관적)인 데이터를 고차원(추상적)의 데이터로 표현(representation)하고 다시 저차원의 데이터로 만들어 데이터 생성, 노이즈 제거, 특성 변화 등을 할 수 있도록 만들어주는 기법으로, 오토 인코더라고 불리지만 실제로는 인코더와 디코더가 같이 묶여있는 네트워크입니다.\n",
    "    - 저차원과 고차원\n",
    "        - 인코더는 차원 축소라고 표현되나, 잠재공간(Latent Space)가 늘어나며 추상적인 고차원 데이터로 변환됩니다..\n",
    "        - 128x128x3의 이미지는 사람의 눈으로도 판단 가능한 직관적인 데이터지만 2x2x32 같이 잠재공간(Latent Space)가 많은 경우는 사람의 눈으로는 판단할 수 없는 추상적인 데이터라고 볼 수 있습니다.\n",
    "\n",
    "<br>\n"
   ]
  },
  {
   "cell_type": "markdown",
   "metadata": {
    "id": "rzsUdxzGwoM1"
   },
   "source": [
    "---\n",
    "\n",
    "#### **오토인코더 실습**"
   ]
  },
  {
   "cell_type": "code",
   "execution_count": null,
   "metadata": {
    "colab": {
     "base_uri": "https://localhost:8080/"
    },
    "executionInfo": {
     "elapsed": 326,
     "status": "ok",
     "timestamp": 1627999411686,
     "user": {
      "displayName": "김찬준",
      "photoUrl": "",
      "userId": "01130487808933653943"
     },
     "user_tz": -540
    },
    "id": "CC3TPDHjwuln",
    "outputId": "ab75a066-dfaf-4310-da61-dafe50c5f748"
   },
   "outputs": [
    {
     "name": "stdout",
     "output_type": "stream",
     "text": [
      "Drive already mounted at /content/drive; to attempt to forcibly remount, call drive.mount(\"/content/drive\", force_remount=True).\n",
      "/content/drive/MyDrive/cj/portfolio/Chanjun-kim.github.io/_ipynb\n",
      "/content/drive/MyDrive/cj/portfolio/Chanjun-kim.github.io/_ipynb\n"
     ]
    }
   ],
   "source": [
    "from google.colab import drive\n",
    "drive.mount(\"/content/drive\")\n",
    "%cd drive/MyDrive/cj/portfolio/Chanjun-kim.github.io/_ipynb\n",
    "!pwd"
   ]
  },
  {
   "cell_type": "code",
   "execution_count": null,
   "metadata": {
    "id": "p2MtC3_DwoM5"
   },
   "outputs": [],
   "source": [
    "import os\n",
    "import sys\n",
    "import warnings\n",
    "\n",
    "import random\n",
    "\n",
    "import numpy as np\n",
    "import pandas as pd\n",
    "\n",
    "import scipy\n",
    "import scipy.stats\n",
    "from scipy.spatial import ConvexHull, convex_hull_plot_2d\n",
    "from sklearn.datasets import make_regression\n",
    "from sklearn.ensemble import GradientBoostingRegressor\n",
    "from sklearn.model_selection import train_test_split\n",
    "from sklearn.metrics import accuracy_score, precision_score, recall_score\n",
    "\n",
    "import matplotlib as mpl\n",
    "import matplotlib.pyplot as plt\n",
    "from plotnine import * \n",
    "\n",
    "import tensorflow as tf\n",
    "from tensorflow.keras.layers import Input, Conv2D, Flatten, Dense, Conv2DTranspose, Reshape, Lambda, Activation, BatchNormalization, LeakyReLU, Dropout\n",
    "from tensorflow.keras.models import Model, Sequential\n",
    "from tensorflow.keras import backend as K\n",
    "from tensorflow.keras.optimizers import Adam\n",
    "from tensorflow.keras.callbacks import ModelCheckpoint \n",
    "from tensorflow.keras import layers, losses\n",
    "from tensorflow.keras.datasets import mnist, fashion_mnist"
   ]
  },
  {
   "cell_type": "code",
   "execution_count": null,
   "metadata": {
    "id": "tUmVU1IKwoM6"
   },
   "outputs": [],
   "source": [
    "%matplotlib inline\n",
    "warnings.filterwarnings(action='ignore')"
   ]
  },
  {
   "cell_type": "code",
   "execution_count": null,
   "metadata": {
    "id": "Pw8tKVeTxcBK"
   },
   "outputs": [],
   "source": [
    "(x_train, y_train), (x_test, y_test) = mnist.load_data()"
   ]
  },
  {
   "cell_type": "code",
   "execution_count": null,
   "metadata": {
    "id": "1HrVa2gyySTR"
   },
   "outputs": [],
   "source": [
    "x_train = x_train.astype('float32') / 255.\n",
    "x_test = x_test.astype('float32') / 255.\n",
    "x_train = np.reshape(x_train, (len(x_train), 28, 28, 1))  # adapt this if using `channels_first` image data format\n",
    "x_test = np.reshape(x_test, (len(x_test), 28, 28, 1))  # adapt this if using `channels_first` image data format\n",
    "\n",
    "noise_factor = 0.5\n",
    "x_train_noisy = x_train + noise_factor * np.random.normal(loc=0.0, scale=1.0, size=x_train.shape) \n",
    "x_test_noisy = x_test + noise_factor * np.random.normal(loc=0.0, scale=1.0, size=x_test.shape) \n",
    "\n",
    "x_train_noisy = np.clip(x_train_noisy, 0., 1.)\n",
    "x_test_noisy = np.clip(x_test_noisy, 0., 1.)"
   ]
  },
  {
   "cell_type": "code",
   "execution_count": null,
   "metadata": {
    "colab": {
     "base_uri": "https://localhost:8080/",
     "height": 145
    },
    "executionInfo": {
     "elapsed": 581,
     "status": "ok",
     "timestamp": 1627992859467,
     "user": {
      "displayName": "김찬준",
      "photoUrl": "",
      "userId": "01130487808933653943"
     },
     "user_tz": -540
    },
    "id": "c6LyjEulxpHQ",
    "outputId": "ab76953b-ab1a-437c-da78-fa82c34a3b45"
   },
   "outputs": [
    {
     "data": {
      "image/png": "[encoded data removed]",
      "text/plain": [
       "<Figure size 1440x288 with 10 Axes>"
      ]
     },
     "metadata": {
      "needs_background": "light",
      "tags": []
     },
     "output_type": "display_data"
    }
   ],
   "source": [
    "n = 10\n",
    "plt.figure(figsize=(20, 4))\n",
    "for i in range(n):\n",
    "    # display original\n",
    "    ax = plt.subplot(2, n, i + 1)\n",
    "    plt.imshow(np.reshape(x_train[i], (28, 28)))\n",
    "    plt.title(y_train[i])\n",
    "    plt.gray()\n",
    "    ax.get_xaxis().set_visible(False)\n",
    "    ax.get_yaxis().set_visible(False)\n",
    "plt.show()"
   ]
  },
  {
   "cell_type": "code",
   "execution_count": null,
   "metadata": {
    "colab": {
     "base_uri": "https://localhost:8080/",
     "height": 145
    },
    "executionInfo": {
     "elapsed": 393,
     "status": "ok",
     "timestamp": 1628000546618,
     "user": {
      "displayName": "김찬준",
      "photoUrl": "",
      "userId": "01130487808933653943"
     },
     "user_tz": -540
    },
    "id": "gHr0N-IvyYvi",
    "outputId": "da6348ad-4d15-4642-9dda-793d902e8f96"
   },
   "outputs": [
    {
     "data": {
      "image/png": "[encoded data removed]",
      "text/plain": [
       "<Figure size 1440x288 with 10 Axes>"
      ]
     },
     "metadata": {
      "needs_background": "light",
      "tags": []
     },
     "output_type": "display_data"
    }
   ],
   "source": [
    "n = 10\n",
    "plt.figure(figsize=(20, 4))\n",
    "for i in range(n):\n",
    "    # display original\n",
    "    ax = plt.subplot(2, n, i + 1)\n",
    "    plt.imshow(np.reshape(x_train_noisy[i], (28, 28)))\n",
    "    plt.title(y_train[i])\n",
    "    plt.gray()\n",
    "    ax.get_xaxis().set_visible(False)\n",
    "    ax.get_yaxis().set_visible(False)\n",
    "plt.show()"
   ]
  },
  {
   "cell_type": "code",
   "execution_count": null,
   "metadata": {
    "id": "WX0yd70UdOnu"
   },
   "outputs": [],
   "source": [
    "class Denoising_Autoencoder_V1():\n",
    "    def __init__(self\n",
    "        , input_dim\n",
    "        , encoder_conv_filters\n",
    "        , encoder_conv_kernel_size\n",
    "        , encoder_conv_strides\n",
    "        , decoder_conv_t_filters\n",
    "        , decoder_conv_t_kernel_size\n",
    "        , decoder_conv_t_strides\n",
    "        , z_dim\n",
    "        , use_batch_norm = False\n",
    "        , use_dropout = False\n",
    "        ):\n",
    "\n",
    "        self.name = 'autoencoder'\n",
    "\n",
    "        self.input_dim = input_dim\n",
    "        self.encoder_conv_filters = encoder_conv_filters\n",
    "        self.encoder_conv_kernel_size = encoder_conv_kernel_size\n",
    "        self.encoder_conv_strides = encoder_conv_strides\n",
    "        self.decoder_conv_t_filters = decoder_conv_t_filters\n",
    "        self.decoder_conv_t_kernel_size = decoder_conv_t_kernel_size\n",
    "        self.decoder_conv_t_strides = decoder_conv_t_strides\n",
    "        self.z_dim = z_dim\n",
    "\n",
    "        self.use_batch_norm = use_batch_norm\n",
    "        self.use_dropout = use_dropout\n",
    "\n",
    "        self.n_layers_encoder = len(encoder_conv_filters)\n",
    "        self.n_layers_decoder = len(decoder_conv_t_filters)\n",
    "\n",
    "        self._build()\n",
    "\n",
    "    def _build(self):\n",
    "\n",
    "        ### THE ENCODER\n",
    "        encoder_input = Input(shape=self.input_dim, name='encoder_input')\n",
    "\n",
    "        x = encoder_input\n",
    "\n",
    "        for i in range(self.n_layers_encoder):\n",
    "            conv_layer = Conv2D(\n",
    "                filters = self.encoder_conv_filters[i]\n",
    "                , kernel_size = self.encoder_conv_kernel_size[i]\n",
    "                , strides = self.encoder_conv_strides[i]\n",
    "                , padding = 'same'\n",
    "                , name = 'encoder_conv_' + str(i)\n",
    "                )\n",
    "\n",
    "            x = conv_layer(x)\n",
    "\n",
    "            x = LeakyReLU()(x)\n",
    "\n",
    "            if self.use_batch_norm:\n",
    "                x = BatchNormalization()(x)\n",
    "\n",
    "            if self.use_dropout:\n",
    "                x = Dropout(rate = 0.25)(x)\n",
    "\n",
    "        shape_before_flattening = K.int_shape(x)[1:]\n",
    "\n",
    "        x = Flatten()(x)\n",
    "        encoder_output= Dense(self.z_dim, name='encoder_output')(x)\n",
    "\n",
    "        self.encoder = Model(encoder_input, encoder_output)\n",
    "\n",
    "\n",
    "        ### THE DECODER\n",
    "        decoder_input = Input(shape=(self.z_dim,), name='decoder_input')\n",
    "\n",
    "        x = Dense(np.prod(shape_before_flattening))(decoder_input)\n",
    "        x = Reshape(shape_before_flattening)(x)\n",
    "\n",
    "        for i in range(self.n_layers_decoder):\n",
    "            conv_t_layer = Conv2DTranspose(\n",
    "                filters = self.decoder_conv_t_filters[i]\n",
    "                , kernel_size = self.decoder_conv_t_kernel_size[i]\n",
    "                , strides = self.decoder_conv_t_strides[i]\n",
    "                , padding = 'same'\n",
    "                , name = 'decoder_conv_t_' + str(i)\n",
    "                )\n",
    "\n",
    "            x = conv_t_layer(x)\n",
    "\n",
    "            if i < self.n_layers_decoder - 1:\n",
    "                x = LeakyReLU()(x)\n",
    "                \n",
    "                if self.use_batch_norm:\n",
    "                    x = BatchNormalization()(x)\n",
    "                \n",
    "                if self.use_dropout:\n",
    "                    x = Dropout(rate = 0.25)(x)\n",
    "            else:\n",
    "                x = Activation('sigmoid')(x)\n",
    "\n",
    "        decoder_output = x\n",
    "\n",
    "        self.decoder = Model(decoder_input, decoder_output)\n",
    "\n",
    "        ### THE FULL AUTOENCODER\n",
    "        model_input = encoder_input\n",
    "        model_output = self.decoder(encoder_output)\n",
    "\n",
    "        self.model = Model(model_input, model_output)\n",
    "        \n",
    "    def compile(self, learning_rate):\n",
    "        self.learning_rate = learning_rate\n",
    "        optimizer = Adam(lr=learning_rate)\n",
    "\n",
    "        self.model.compile(optimizer=optimizer, loss = tf.keras.losses.MeanSquaredError(reduction=\"auto\", name=\"mean_squared_error\")) \n",
    "\n",
    "    def train(self, x_train, y_train, batch_size, epochs, verbose = 1):\n",
    "        self.model.fit(     \n",
    "        x_train\n",
    "        , y_train\n",
    "        , batch_size = batch_size\n",
    "        , shuffle = True\n",
    "        , epochs = epochs\n",
    "        , verbose = verbose\n",
    "        )"
   ]
  },
  {
   "cell_type": "code",
   "execution_count": null,
   "metadata": {
    "id": "PtvVpX9ny62O"
   },
   "outputs": [],
   "source": [
    "DAE_V1 = Denoising_Autoencoder_V1(\n",
    "    input_dim = (28,28,1)\n",
    "    , encoder_conv_filters = [32,64,64,64]\n",
    "    , encoder_conv_kernel_size = [3,3,3,3]\n",
    "    , encoder_conv_strides = [1,2,2,1]\n",
    "    , decoder_conv_t_filters = [64,64,32,1]\n",
    "    , decoder_conv_t_kernel_size = [3,3,3,3]\n",
    "    , decoder_conv_t_strides = [1,2,2,1]\n",
    "    , z_dim = 2\n",
    ")"
   ]
  },
  {
   "cell_type": "code",
   "execution_count": null,
   "metadata": {
    "id": "XS04oM8lnF6s"
   },
   "outputs": [],
   "source": [
    "DAE_V1.compile(0.00005)"
   ]
  },
  {
   "cell_type": "code",
   "execution_count": null,
   "metadata": {
    "colab": {
     "base_uri": "https://localhost:8080/"
    },
    "executionInfo": {
     "elapsed": 4,
     "status": "ok",
     "timestamp": 1628000590538,
     "user": {
      "displayName": "김찬준",
      "photoUrl": "",
      "userId": "01130487808933653943"
     },
     "user_tz": -540
    },
    "id": "Hxmndhc1zq0G",
    "outputId": "b4c1c9cb-3656-40ec-885b-246eb5894094"
   },
   "outputs": [
    {
     "name": "stdout",
     "output_type": "stream",
     "text": [
      "Model: \"model_4\"\n",
      "_________________________________________________________________\n",
      "Layer (type)                 Output Shape              Param #   \n",
      "=================================================================\n",
      "encoder_input (InputLayer)   [(None, 28, 28, 1)]       0         \n",
      "_________________________________________________________________\n",
      "encoder_conv_0 (Conv2D)      (None, 28, 28, 32)        320       \n",
      "_________________________________________________________________\n",
      "leaky_re_lu_10 (LeakyReLU)   (None, 28, 28, 32)        0         \n",
      "_________________________________________________________________\n",
      "encoder_conv_1 (Conv2D)      (None, 14, 14, 64)        18496     \n",
      "_________________________________________________________________\n",
      "leaky_re_lu_11 (LeakyReLU)   (None, 14, 14, 64)        0         \n",
      "_________________________________________________________________\n",
      "encoder_conv_2 (Conv2D)      (None, 7, 7, 64)          36928     \n",
      "_________________________________________________________________\n",
      "leaky_re_lu_12 (LeakyReLU)   (None, 7, 7, 64)          0         \n",
      "_________________________________________________________________\n",
      "encoder_conv_3 (Conv2D)      (None, 7, 7, 64)          36928     \n",
      "_________________________________________________________________\n",
      "leaky_re_lu_13 (LeakyReLU)   (None, 7, 7, 64)          0         \n",
      "_________________________________________________________________\n",
      "flatten (Flatten)            (None, 3136)              0         \n",
      "_________________________________________________________________\n",
      "encoder_output (Dense)       (None, 2)                 6274      \n",
      "=================================================================\n",
      "Total params: 98,946\n",
      "Trainable params: 98,946\n",
      "Non-trainable params: 0\n",
      "_________________________________________________________________\n"
     ]
    }
   ],
   "source": [
    "DAE_V1.encoder.summary()"
   ]
  },
  {
   "cell_type": "code",
   "execution_count": null,
   "metadata": {
    "colab": {
     "base_uri": "https://localhost:8080/"
    },
    "executionInfo": {
     "elapsed": 577,
     "status": "ok",
     "timestamp": 1628000593755,
     "user": {
      "displayName": "김찬준",
      "photoUrl": "",
      "userId": "01130487808933653943"
     },
     "user_tz": -540
    },
    "id": "FUWCNv7jzvqA",
    "outputId": "eee0f8a3-9038-4f29-eaa8-eba1bdbac692"
   },
   "outputs": [
    {
     "name": "stdout",
     "output_type": "stream",
     "text": [
      "Model: \"model_5\"\n",
      "_________________________________________________________________\n",
      "Layer (type)                 Output Shape              Param #   \n",
      "=================================================================\n",
      "decoder_input (InputLayer)   [(None, 2)]               0         \n",
      "_________________________________________________________________\n",
      "dense (Dense)                (None, 3136)              9408      \n",
      "_________________________________________________________________\n",
      "reshape (Reshape)            (None, 7, 7, 64)          0         \n",
      "_________________________________________________________________\n",
      "decoder_conv_t_0 (Conv2DTran (None, 7, 7, 64)          36928     \n",
      "_________________________________________________________________\n",
      "leaky_re_lu_14 (LeakyReLU)   (None, 7, 7, 64)          0         \n",
      "_________________________________________________________________\n",
      "decoder_conv_t_1 (Conv2DTran (None, 14, 14, 64)        36928     \n",
      "_________________________________________________________________\n",
      "leaky_re_lu_15 (LeakyReLU)   (None, 14, 14, 64)        0         \n",
      "_________________________________________________________________\n",
      "decoder_conv_t_2 (Conv2DTran (None, 28, 28, 32)        18464     \n",
      "_________________________________________________________________\n",
      "leaky_re_lu_16 (LeakyReLU)   (None, 28, 28, 32)        0         \n",
      "_________________________________________________________________\n",
      "decoder_conv_t_3 (Conv2DTran (None, 28, 28, 1)         289       \n",
      "_________________________________________________________________\n",
      "activation_2 (Activation)    (None, 28, 28, 1)         0         \n",
      "=================================================================\n",
      "Total params: 102,017\n",
      "Trainable params: 102,017\n",
      "Non-trainable params: 0\n",
      "_________________________________________________________________\n"
     ]
    }
   ],
   "source": [
    "DAE_V1.decoder.summary()"
   ]
  },
  {
   "cell_type": "code",
   "execution_count": null,
   "metadata": {
    "colab": {
     "base_uri": "https://localhost:8080/"
    },
    "executionInfo": {
     "elapsed": 1643093,
     "status": "ok",
     "timestamp": 1628002238528,
     "user": {
      "displayName": "김찬준",
      "photoUrl": "",
      "userId": "01130487808933653943"
     },
     "user_tz": -540
    },
    "id": "roTmgQitzkCf",
    "outputId": "b54448b3-2255-4ea4-a119-9ce5e0a86f9b"
   },
   "outputs": [
    {
     "name": "stdout",
     "output_type": "stream",
     "text": [
      "Epoch 1/200\n",
      "1875/1875 [==============================] - 9s 4ms/step - loss: 0.0757\n",
      "Epoch 2/200\n",
      "1875/1875 [==============================] - 8s 4ms/step - loss: 0.0592\n",
      "Epoch 3/200\n",
      "1875/1875 [==============================] - 8s 4ms/step - loss: 0.0567\n",
      "Epoch 4/200\n",
      "1875/1875 [==============================] - 8s 4ms/step - loss: 0.0558\n",
      "Epoch 5/200\n",
      "1875/1875 [==============================] - 8s 4ms/step - loss: 0.0552\n",
      "Epoch 6/200\n",
      "1875/1875 [==============================] - 8s 4ms/step - loss: 0.0546\n",
      "Epoch 7/200\n",
      "1875/1875 [==============================] - 8s 4ms/step - loss: 0.0540\n",
      "Epoch 8/200\n",
      "1875/1875 [==============================] - 8s 4ms/step - loss: 0.0533\n",
      "Epoch 9/200\n",
      "1875/1875 [==============================] - 8s 4ms/step - loss: 0.0528\n",
      "Epoch 10/200\n",
      "1875/1875 [==============================] - 8s 4ms/step - loss: 0.0523\n",
      "Epoch 11/200\n",
      "1875/1875 [==============================] - 8s 4ms/step - loss: 0.0518\n",
      "Epoch 12/200\n",
      "1875/1875 [==============================] - 8s 4ms/step - loss: 0.0514\n",
      "Epoch 13/200\n",
      "1875/1875 [==============================] - 8s 4ms/step - loss: 0.0510\n",
      "Epoch 14/200\n",
      "1875/1875 [==============================] - 8s 4ms/step - loss: 0.0506\n",
      "Epoch 15/200\n",
      "1875/1875 [==============================] - 8s 4ms/step - loss: 0.0502\n",
      "Epoch 16/200\n",
      "1875/1875 [==============================] - 8s 4ms/step - loss: 0.0499\n",
      "Epoch 17/200\n",
      "1875/1875 [==============================] - 8s 4ms/step - loss: 0.0495\n",
      "Epoch 18/200\n",
      "1875/1875 [==============================] - 8s 4ms/step - loss: 0.0492\n",
      "Epoch 19/200\n",
      "1875/1875 [==============================] - 8s 4ms/step - loss: 0.0489\n",
      "Epoch 20/200\n",
      "1875/1875 [==============================] - 8s 4ms/step - loss: 0.0487\n",
      "Epoch 21/200\n",
      "1875/1875 [==============================] - 8s 4ms/step - loss: 0.0484\n",
      "Epoch 22/200\n",
      "1875/1875 [==============================] - 8s 4ms/step - loss: 0.0482\n",
      "Epoch 23/200\n",
      "1875/1875 [==============================] - 8s 4ms/step - loss: 0.0480\n",
      "Epoch 24/200\n",
      "1875/1875 [==============================] - 8s 4ms/step - loss: 0.0478\n",
      "Epoch 25/200\n",
      "1875/1875 [==============================] - 8s 4ms/step - loss: 0.0476\n",
      "Epoch 26/200\n",
      "1875/1875 [==============================] - 8s 4ms/step - loss: 0.0474\n",
      "Epoch 27/200\n",
      "1875/1875 [==============================] - 8s 4ms/step - loss: 0.0472\n",
      "Epoch 28/200\n",
      "1875/1875 [==============================] - 8s 4ms/step - loss: 0.0471\n",
      "Epoch 29/200\n",
      "1875/1875 [==============================] - 8s 4ms/step - loss: 0.0469\n",
      "Epoch 30/200\n",
      "1875/1875 [==============================] - 8s 4ms/step - loss: 0.0468\n",
      "Epoch 31/200\n",
      "1875/1875 [==============================] - 8s 4ms/step - loss: 0.0467\n",
      "Epoch 32/200\n",
      "1875/1875 [==============================] - 8s 4ms/step - loss: 0.0465\n",
      "Epoch 33/200\n",
      "1875/1875 [==============================] - 8s 4ms/step - loss: 0.0464\n",
      "Epoch 34/200\n",
      "1875/1875 [==============================] - 8s 4ms/step - loss: 0.0463\n",
      "Epoch 35/200\n",
      "1875/1875 [==============================] - 8s 4ms/step - loss: 0.0462\n",
      "Epoch 36/200\n",
      "1875/1875 [==============================] - 8s 4ms/step - loss: 0.0461\n",
      "Epoch 37/200\n",
      "1875/1875 [==============================] - 8s 4ms/step - loss: 0.0460\n",
      "Epoch 38/200\n",
      "1875/1875 [==============================] - 8s 4ms/step - loss: 0.0458\n",
      "Epoch 39/200\n",
      "1875/1875 [==============================] - 8s 4ms/step - loss: 0.0457\n",
      "Epoch 40/200\n",
      "1875/1875 [==============================] - 8s 4ms/step - loss: 0.0457\n",
      "Epoch 41/200\n",
      "1875/1875 [==============================] - 8s 4ms/step - loss: 0.0456\n",
      "Epoch 42/200\n",
      "1875/1875 [==============================] - 8s 4ms/step - loss: 0.0455\n",
      "Epoch 43/200\n",
      "1875/1875 [==============================] - 8s 4ms/step - loss: 0.0454\n",
      "Epoch 44/200\n",
      "1875/1875 [==============================] - 8s 4ms/step - loss: 0.0453\n",
      "Epoch 45/200\n",
      "1875/1875 [==============================] - 8s 4ms/step - loss: 0.0452\n",
      "Epoch 46/200\n",
      "1875/1875 [==============================] - 8s 4ms/step - loss: 0.0452\n",
      "Epoch 47/200\n",
      "1875/1875 [==============================] - 8s 4ms/step - loss: 0.0451\n",
      "Epoch 48/200\n",
      "1875/1875 [==============================] - 8s 4ms/step - loss: 0.0450\n",
      "Epoch 49/200\n",
      "1875/1875 [==============================] - 8s 4ms/step - loss: 0.0450\n",
      "Epoch 50/200\n",
      "1875/1875 [==============================] - 8s 4ms/step - loss: 0.0449\n",
      "Epoch 51/200\n",
      "1875/1875 [==============================] - 8s 4ms/step - loss: 0.0448\n",
      "Epoch 52/200\n",
      "1875/1875 [==============================] - 8s 4ms/step - loss: 0.0447\n",
      "Epoch 53/200\n",
      "1875/1875 [==============================] - 8s 4ms/step - loss: 0.0447\n",
      "Epoch 54/200\n",
      "1875/1875 [==============================] - 8s 4ms/step - loss: 0.0446\n",
      "Epoch 55/200\n",
      "1875/1875 [==============================] - 8s 4ms/step - loss: 0.0446\n",
      "Epoch 56/200\n",
      "1875/1875 [==============================] - 8s 4ms/step - loss: 0.0445\n",
      "Epoch 57/200\n",
      "1875/1875 [==============================] - 8s 4ms/step - loss: 0.0445\n",
      "Epoch 58/200\n",
      "1875/1875 [==============================] - 8s 4ms/step - loss: 0.0444\n",
      "Epoch 59/200\n",
      "1875/1875 [==============================] - 8s 4ms/step - loss: 0.0444\n",
      "Epoch 60/200\n",
      "1875/1875 [==============================] - 8s 4ms/step - loss: 0.0443\n",
      "Epoch 61/200\n",
      "1875/1875 [==============================] - 8s 4ms/step - loss: 0.0443\n",
      "Epoch 62/200\n",
      "1875/1875 [==============================] - 8s 4ms/step - loss: 0.0442\n",
      "Epoch 63/200\n",
      "1875/1875 [==============================] - 8s 4ms/step - loss: 0.0442\n",
      "Epoch 64/200\n",
      "1875/1875 [==============================] - 8s 4ms/step - loss: 0.0442\n",
      "Epoch 65/200\n",
      "1875/1875 [==============================] - 8s 4ms/step - loss: 0.0441\n",
      "Epoch 66/200\n",
      "1875/1875 [==============================] - 8s 4ms/step - loss: 0.0441\n",
      "Epoch 67/200\n",
      "1875/1875 [==============================] - 8s 4ms/step - loss: 0.0440\n",
      "Epoch 68/200\n",
      "1875/1875 [==============================] - 8s 4ms/step - loss: 0.0440\n",
      "Epoch 69/200\n",
      "1875/1875 [==============================] - 8s 4ms/step - loss: 0.0439\n",
      "Epoch 70/200\n",
      "1875/1875 [==============================] - 8s 4ms/step - loss: 0.0439\n",
      "Epoch 71/200\n",
      "1875/1875 [==============================] - 8s 4ms/step - loss: 0.0438\n",
      "Epoch 72/200\n",
      "1875/1875 [==============================] - 8s 4ms/step - loss: 0.0438\n",
      "Epoch 73/200\n",
      "1875/1875 [==============================] - 8s 4ms/step - loss: 0.0438\n",
      "Epoch 74/200\n",
      "1875/1875 [==============================] - 8s 4ms/step - loss: 0.0437\n",
      "Epoch 75/200\n",
      "1875/1875 [==============================] - 8s 4ms/step - loss: 0.0437\n",
      "Epoch 76/200\n",
      "1875/1875 [==============================] - 8s 4ms/step - loss: 0.0436\n",
      "Epoch 77/200\n",
      "1875/1875 [==============================] - 8s 4ms/step - loss: 0.0436\n",
      "Epoch 78/200\n",
      "1875/1875 [==============================] - 8s 4ms/step - loss: 0.0436\n",
      "Epoch 79/200\n",
      "1875/1875 [==============================] - 8s 4ms/step - loss: 0.0435\n",
      "Epoch 80/200\n",
      "1875/1875 [==============================] - 8s 4ms/step - loss: 0.0435\n",
      "Epoch 81/200\n",
      "1875/1875 [==============================] - 8s 4ms/step - loss: 0.0435\n",
      "Epoch 82/200\n",
      "1875/1875 [==============================] - 8s 4ms/step - loss: 0.0434\n",
      "Epoch 83/200\n",
      "1875/1875 [==============================] - 8s 4ms/step - loss: 0.0434\n",
      "Epoch 84/200\n",
      "1875/1875 [==============================] - 8s 4ms/step - loss: 0.0434\n",
      "Epoch 85/200\n",
      "1875/1875 [==============================] - 8s 4ms/step - loss: 0.0433\n",
      "Epoch 86/200\n",
      "1875/1875 [==============================] - 8s 4ms/step - loss: 0.0433\n",
      "Epoch 87/200\n",
      "1875/1875 [==============================] - 8s 4ms/step - loss: 0.0433\n",
      "Epoch 88/200\n",
      "1875/1875 [==============================] - 8s 4ms/step - loss: 0.0432\n",
      "Epoch 89/200\n",
      "1875/1875 [==============================] - 8s 4ms/step - loss: 0.0432\n",
      "Epoch 90/200\n",
      "1875/1875 [==============================] - 8s 4ms/step - loss: 0.0432\n",
      "Epoch 91/200\n",
      "1875/1875 [==============================] - 8s 4ms/step - loss: 0.0431\n",
      "Epoch 92/200\n",
      "1875/1875 [==============================] - 8s 4ms/step - loss: 0.0431\n",
      "Epoch 93/200\n",
      "1875/1875 [==============================] - 8s 4ms/step - loss: 0.0431\n",
      "Epoch 94/200\n",
      "1875/1875 [==============================] - 8s 4ms/step - loss: 0.0430\n",
      "Epoch 95/200\n",
      "1875/1875 [==============================] - 8s 4ms/step - loss: 0.0430\n",
      "Epoch 96/200\n",
      "1875/1875 [==============================] - 8s 4ms/step - loss: 0.0430\n",
      "Epoch 97/200\n",
      "1875/1875 [==============================] - 8s 4ms/step - loss: 0.0430\n",
      "Epoch 98/200\n",
      "1875/1875 [==============================] - 8s 4ms/step - loss: 0.0429\n",
      "Epoch 99/200\n",
      "1875/1875 [==============================] - 8s 4ms/step - loss: 0.0429\n",
      "Epoch 100/200\n",
      "1875/1875 [==============================] - 8s 4ms/step - loss: 0.0429\n",
      "Epoch 101/200\n",
      "1875/1875 [==============================] - 8s 4ms/step - loss: 0.0428\n",
      "Epoch 102/200\n",
      "1875/1875 [==============================] - 8s 4ms/step - loss: 0.0428\n",
      "Epoch 103/200\n",
      "1875/1875 [==============================] - 8s 4ms/step - loss: 0.0428\n",
      "Epoch 104/200\n",
      "1875/1875 [==============================] - 8s 4ms/step - loss: 0.0428\n",
      "Epoch 105/200\n",
      "1875/1875 [==============================] - 8s 4ms/step - loss: 0.0427\n",
      "Epoch 106/200\n",
      "1875/1875 [==============================] - 8s 4ms/step - loss: 0.0427\n",
      "Epoch 107/200\n",
      "1875/1875 [==============================] - 8s 4ms/step - loss: 0.0427\n",
      "Epoch 108/200\n",
      "1875/1875 [==============================] - 8s 4ms/step - loss: 0.0427\n",
      "Epoch 109/200\n",
      "1875/1875 [==============================] - 8s 4ms/step - loss: 0.0426\n",
      "Epoch 110/200\n",
      "1875/1875 [==============================] - 8s 4ms/step - loss: 0.0426\n",
      "Epoch 111/200\n",
      "1875/1875 [==============================] - 8s 4ms/step - loss: 0.0426\n",
      "Epoch 112/200\n",
      "1875/1875 [==============================] - 8s 4ms/step - loss: 0.0425\n",
      "Epoch 113/200\n",
      "1875/1875 [==============================] - 8s 4ms/step - loss: 0.0425\n",
      "Epoch 114/200\n",
      "1875/1875 [==============================] - 8s 4ms/step - loss: 0.0425\n",
      "Epoch 115/200\n",
      "1875/1875 [==============================] - 8s 4ms/step - loss: 0.0425\n",
      "Epoch 116/200\n",
      "1875/1875 [==============================] - 8s 4ms/step - loss: 0.0425\n",
      "Epoch 117/200\n",
      "1875/1875 [==============================] - 8s 4ms/step - loss: 0.0424\n",
      "Epoch 118/200\n",
      "1875/1875 [==============================] - 8s 4ms/step - loss: 0.0424\n",
      "Epoch 119/200\n",
      "1875/1875 [==============================] - 8s 4ms/step - loss: 0.0424\n",
      "Epoch 120/200\n",
      "1875/1875 [==============================] - 8s 4ms/step - loss: 0.0424\n",
      "Epoch 121/200\n",
      "1875/1875 [==============================] - 8s 4ms/step - loss: 0.0423\n",
      "Epoch 122/200\n",
      "1875/1875 [==============================] - 8s 4ms/step - loss: 0.0423\n",
      "Epoch 123/200\n",
      "1875/1875 [==============================] - 8s 4ms/step - loss: 0.0423\n",
      "Epoch 124/200\n",
      "1875/1875 [==============================] - 8s 4ms/step - loss: 0.0422\n",
      "Epoch 125/200\n",
      "1875/1875 [==============================] - 8s 4ms/step - loss: 0.0422\n",
      "Epoch 126/200\n",
      "1875/1875 [==============================] - 8s 4ms/step - loss: 0.0422\n",
      "Epoch 127/200\n",
      "1875/1875 [==============================] - 8s 4ms/step - loss: 0.0422\n",
      "Epoch 128/200\n",
      "1875/1875 [==============================] - 8s 4ms/step - loss: 0.0421\n",
      "Epoch 129/200\n",
      "1875/1875 [==============================] - 8s 4ms/step - loss: 0.0421\n",
      "Epoch 130/200\n",
      "1875/1875 [==============================] - 8s 4ms/step - loss: 0.0421\n",
      "Epoch 131/200\n",
      "1875/1875 [==============================] - 8s 4ms/step - loss: 0.0421\n",
      "Epoch 132/200\n",
      "1875/1875 [==============================] - 8s 4ms/step - loss: 0.0421\n",
      "Epoch 133/200\n",
      "1875/1875 [==============================] - 8s 4ms/step - loss: 0.0420\n",
      "Epoch 134/200\n",
      "1875/1875 [==============================] - 8s 4ms/step - loss: 0.0420\n",
      "Epoch 135/200\n",
      "1875/1875 [==============================] - 8s 4ms/step - loss: 0.0420\n",
      "Epoch 136/200\n",
      "1875/1875 [==============================] - 8s 4ms/step - loss: 0.0420\n",
      "Epoch 137/200\n",
      "1875/1875 [==============================] - 8s 4ms/step - loss: 0.0419\n",
      "Epoch 138/200\n",
      "1875/1875 [==============================] - 8s 4ms/step - loss: 0.0419\n",
      "Epoch 139/200\n",
      "1875/1875 [==============================] - 8s 4ms/step - loss: 0.0419\n",
      "Epoch 140/200\n",
      "1875/1875 [==============================] - 8s 4ms/step - loss: 0.0419\n",
      "Epoch 141/200\n",
      "1875/1875 [==============================] - 8s 4ms/step - loss: 0.0419\n",
      "Epoch 142/200\n",
      "1875/1875 [==============================] - 8s 4ms/step - loss: 0.0418\n",
      "Epoch 143/200\n",
      "1875/1875 [==============================] - 8s 4ms/step - loss: 0.0418\n",
      "Epoch 144/200\n",
      "1875/1875 [==============================] - 8s 4ms/step - loss: 0.0418\n",
      "Epoch 145/200\n",
      "1875/1875 [==============================] - 8s 4ms/step - loss: 0.0418\n",
      "Epoch 146/200\n",
      "1875/1875 [==============================] - 8s 4ms/step - loss: 0.0418\n",
      "Epoch 147/200\n",
      "1875/1875 [==============================] - 8s 4ms/step - loss: 0.0417\n",
      "Epoch 148/200\n",
      "1875/1875 [==============================] - 8s 4ms/step - loss: 0.0417\n",
      "Epoch 149/200\n",
      "1875/1875 [==============================] - 8s 4ms/step - loss: 0.0417\n",
      "Epoch 150/200\n",
      "1875/1875 [==============================] - 8s 4ms/step - loss: 0.0417\n",
      "Epoch 151/200\n",
      "1875/1875 [==============================] - 8s 4ms/step - loss: 0.0417\n",
      "Epoch 152/200\n",
      "1875/1875 [==============================] - 8s 4ms/step - loss: 0.0416\n",
      "Epoch 153/200\n",
      "1875/1875 [==============================] - 8s 4ms/step - loss: 0.0416\n",
      "Epoch 154/200\n",
      "1875/1875 [==============================] - 8s 4ms/step - loss: 0.0416\n",
      "Epoch 155/200\n",
      "1875/1875 [==============================] - 8s 4ms/step - loss: 0.0416\n",
      "Epoch 156/200\n",
      "1875/1875 [==============================] - 8s 4ms/step - loss: 0.0416\n",
      "Epoch 157/200\n",
      "1875/1875 [==============================] - 8s 4ms/step - loss: 0.0416\n",
      "Epoch 158/200\n",
      "1875/1875 [==============================] - 8s 4ms/step - loss: 0.0415\n",
      "Epoch 159/200\n",
      "1875/1875 [==============================] - 8s 4ms/step - loss: 0.0415\n",
      "Epoch 160/200\n",
      "1875/1875 [==============================] - 8s 4ms/step - loss: 0.0415\n",
      "Epoch 161/200\n",
      "1875/1875 [==============================] - 8s 4ms/step - loss: 0.0415\n",
      "Epoch 162/200\n",
      "1875/1875 [==============================] - 8s 4ms/step - loss: 0.0414\n",
      "Epoch 163/200\n",
      "1875/1875 [==============================] - 8s 4ms/step - loss: 0.0414\n",
      "Epoch 164/200\n",
      "1875/1875 [==============================] - 8s 4ms/step - loss: 0.0414\n",
      "Epoch 165/200\n",
      "1875/1875 [==============================] - 8s 4ms/step - loss: 0.0414\n",
      "Epoch 166/200\n",
      "1875/1875 [==============================] - 8s 4ms/step - loss: 0.0414\n",
      "Epoch 167/200\n",
      "1875/1875 [==============================] - 8s 4ms/step - loss: 0.0414\n",
      "Epoch 168/200\n",
      "1875/1875 [==============================] - 8s 4ms/step - loss: 0.0413\n",
      "Epoch 169/200\n",
      "1875/1875 [==============================] - 8s 4ms/step - loss: 0.0413\n",
      "Epoch 170/200\n",
      "1875/1875 [==============================] - 8s 4ms/step - loss: 0.0413\n",
      "Epoch 171/200\n",
      "1875/1875 [==============================] - 8s 4ms/step - loss: 0.0413\n",
      "Epoch 172/200\n",
      "1875/1875 [==============================] - 8s 4ms/step - loss: 0.0413\n",
      "Epoch 173/200\n",
      "1875/1875 [==============================] - 8s 4ms/step - loss: 0.0413\n",
      "Epoch 174/200\n",
      "1875/1875 [==============================] - 9s 5ms/step - loss: 0.0412\n",
      "Epoch 175/200\n",
      "1875/1875 [==============================] - 8s 4ms/step - loss: 0.0412\n",
      "Epoch 176/200\n",
      "1875/1875 [==============================] - 8s 4ms/step - loss: 0.0412\n",
      "Epoch 177/200\n",
      "1875/1875 [==============================] - 8s 4ms/step - loss: 0.0412\n",
      "Epoch 178/200\n",
      "1875/1875 [==============================] - 8s 5ms/step - loss: 0.0412\n",
      "Epoch 179/200\n",
      "1875/1875 [==============================] - 8s 4ms/step - loss: 0.0412\n",
      "Epoch 180/200\n",
      "1875/1875 [==============================] - 8s 4ms/step - loss: 0.0411\n",
      "Epoch 181/200\n",
      "1875/1875 [==============================] - 8s 4ms/step - loss: 0.0411\n",
      "Epoch 182/200\n",
      "1875/1875 [==============================] - 8s 4ms/step - loss: 0.0411\n",
      "Epoch 183/200\n",
      "1875/1875 [==============================] - 8s 4ms/step - loss: 0.0411\n",
      "Epoch 184/200\n",
      "1875/1875 [==============================] - 8s 4ms/step - loss: 0.0411\n",
      "Epoch 185/200\n",
      "1875/1875 [==============================] - 8s 4ms/step - loss: 0.0411\n",
      "Epoch 186/200\n",
      "1875/1875 [==============================] - 8s 4ms/step - loss: 0.0410\n",
      "Epoch 187/200\n",
      "1875/1875 [==============================] - 9s 5ms/step - loss: 0.0410\n",
      "Epoch 188/200\n",
      "1875/1875 [==============================] - 8s 4ms/step - loss: 0.0410\n",
      "Epoch 189/200\n",
      "1875/1875 [==============================] - 8s 4ms/step - loss: 0.0410\n",
      "Epoch 190/200\n",
      "1875/1875 [==============================] - 8s 4ms/step - loss: 0.0410\n",
      "Epoch 191/200\n",
      "1875/1875 [==============================] - 8s 4ms/step - loss: 0.0410\n",
      "Epoch 192/200\n",
      "1875/1875 [==============================] - 8s 4ms/step - loss: 0.0409\n",
      "Epoch 193/200\n",
      "1875/1875 [==============================] - 8s 5ms/step - loss: 0.0409\n",
      "Epoch 194/200\n",
      "1875/1875 [==============================] - 9s 5ms/step - loss: 0.0409\n",
      "Epoch 195/200\n",
      "1875/1875 [==============================] - 8s 5ms/step - loss: 0.0409\n",
      "Epoch 196/200\n",
      "1875/1875 [==============================] - 8s 4ms/step - loss: 0.0409\n",
      "Epoch 197/200\n",
      "1875/1875 [==============================] - 8s 4ms/step - loss: 0.0409\n",
      "Epoch 198/200\n",
      "1875/1875 [==============================] - 8s 4ms/step - loss: 0.0408\n",
      "Epoch 199/200\n",
      "1875/1875 [==============================] - 8s 4ms/step - loss: 0.0408\n",
      "Epoch 200/200\n",
      "1875/1875 [==============================] - 8s 4ms/step - loss: 0.0408\n"
     ]
    }
   ],
   "source": [
    "DAE_V1.train(x_train_noisy, x_train, batch_size = 32, epochs = 200)"
   ]
  },
  {
   "cell_type": "code",
   "execution_count": null,
   "metadata": {
    "colab": {
     "base_uri": "https://localhost:8080/",
     "height": 145
    },
    "executionInfo": {
     "elapsed": 1087,
     "status": "ok",
     "timestamp": 1628002244709,
     "user": {
      "displayName": "김찬준",
      "photoUrl": "",
      "userId": "01130487808933653943"
     },
     "user_tz": -540
    },
    "id": "lSwL1sDlYmHg",
    "outputId": "fbb0d3fb-62cd-451d-fa72-d712d0d4abc0"
   },
   "outputs": [
    {
     "data": {
      "image/png": "[encoded data removed]",
      "text/plain": [
       "<Figure size 1440x288 with 10 Axes>"
      ]
     },
     "metadata": {
      "needs_background": "light",
      "tags": []
     },
     "output_type": "display_data"
    }
   ],
   "source": [
    "n = 10\n",
    "plt.figure(figsize=(20, 4))\n",
    "for i in range(n):\n",
    "    # display original\n",
    "    ax = plt.subplot(1, n, i + 1)\n",
    "    plt.imshow(np.reshape(x_test_noisy[i], (28, 28)))\n",
    "    plt.title(y_test[i])\n",
    "    plt.gray()\n",
    "    ax.get_xaxis().set_visible(False)\n",
    "    ax.get_yaxis().set_visible(False)\n",
    "plt.show()"
   ]
  },
  {
   "cell_type": "code",
   "execution_count": null,
   "metadata": {
    "colab": {
     "base_uri": "https://localhost:8080/",
     "height": 145
    },
    "executionInfo": {
     "elapsed": 781,
     "status": "ok",
     "timestamp": 1628002256448,
     "user": {
      "displayName": "김찬준",
      "photoUrl": "",
      "userId": "01130487808933653943"
     },
     "user_tz": -540
    },
    "id": "sjZEYVFwYrOW",
    "outputId": "8fb1a172-981b-4f87-afc2-45cbbe0fae2b"
   },
   "outputs": [
    {
     "data": {
      "image/png": "[encoded data removed]",
      "text/plain": [
       "<Figure size 1440x288 with 10 Axes>"
      ]
     },
     "metadata": {
      "needs_background": "light",
      "tags": []
     },
     "output_type": "display_data"
    }
   ],
   "source": [
    "n = 10\n",
    "plt.figure(figsize=(20, 4))\n",
    "for i in range(n):\n",
    "    # display original\n",
    "    ax = plt.subplot(1, n, i + 1)\n",
    "    plt.imshow(np.reshape(x_test[i], (28, 28)))\n",
    "    plt.title(y_test[i])\n",
    "    plt.gray()\n",
    "    ax.get_xaxis().set_visible(False)\n",
    "    ax.get_yaxis().set_visible(False)\n",
    "plt.show()"
   ]
  },
  {
   "cell_type": "code",
   "execution_count": null,
   "metadata": {
    "colab": {
     "base_uri": "https://localhost:8080/",
     "height": 145
    },
    "executionInfo": {
     "elapsed": 1529,
     "status": "ok",
     "timestamp": 1628002260121,
     "user": {
      "displayName": "김찬준",
      "photoUrl": "",
      "userId": "01130487808933653943"
     },
     "user_tz": -540
    },
    "id": "9piN_wAneB2J",
    "outputId": "e8b122f6-fbf6-4c71-e4be-a3ce56b7bb93"
   },
   "outputs": [
    {
     "data": {
      "image/png": "[encoded data removed]",
      "text/plain": [
       "<Figure size 1440x288 with 10 Axes>"
      ]
     },
     "metadata": {
      "needs_background": "light",
      "tags": []
     },
     "output_type": "display_data"
    }
   ],
   "source": [
    "dae_predict = DAE_V1.model.predict(x_test_noisy)\n",
    "\n",
    "n = 10\n",
    "plt.figure(figsize=(20, 4))\n",
    "for i in range(n):\n",
    "    # display original\n",
    "    ax = plt.subplot(2, n, i + 1)\n",
    "    plt.imshow(np.reshape(dae_predict[i], (28, 28)))\n",
    "    plt.title(y_test[i])\n",
    "    plt.gray()\n",
    "    ax.get_xaxis().set_visible(False)\n",
    "    ax.get_yaxis().set_visible(False)\n",
    "plt.show()"
   ]
  },
  {
   "cell_type": "code",
   "execution_count": null,
   "metadata": {
    "id": "1ziSZbL9xHgu"
   },
   "outputs": [],
   "source": [
    "class Denoising_Autoencoder_V2():\n",
    "    def __init__(self\n",
    "        , input_dim\n",
    "        , encoder_conv_filters\n",
    "        , encoder_conv_kernel_size\n",
    "        , encoder_conv_strides\n",
    "        , decoder_conv_t_filters\n",
    "        , decoder_conv_t_kernel_size\n",
    "        , decoder_conv_t_strides\n",
    "        , z_dim\n",
    "        , use_batch_norm = False\n",
    "        , use_dropout = False\n",
    "        ):\n",
    "\n",
    "        self.name = 'autoencoder'\n",
    "\n",
    "        self.input_dim = input_dim\n",
    "        self.encoder_conv_filters = encoder_conv_filters\n",
    "        self.encoder_conv_kernel_size = encoder_conv_kernel_size\n",
    "        self.encoder_conv_strides = encoder_conv_strides\n",
    "        self.decoder_conv_t_filters = decoder_conv_t_filters\n",
    "        self.decoder_conv_t_kernel_size = decoder_conv_t_kernel_size\n",
    "        self.decoder_conv_t_strides = decoder_conv_t_strides\n",
    "        self.z_dim = z_dim\n",
    "\n",
    "        self.use_batch_norm = use_batch_norm\n",
    "        self.use_dropout = use_dropout\n",
    "\n",
    "        self.n_layers_encoder = len(encoder_conv_filters)\n",
    "        self.n_layers_decoder = len(decoder_conv_t_filters)\n",
    "\n",
    "        self._build()\n",
    "\n",
    "    def _build(self):\n",
    "\n",
    "        ### THE ENCODER\n",
    "        encoder_input = Input(shape=self.input_dim, name='encoder_input')\n",
    "\n",
    "        x = encoder_input\n",
    "\n",
    "        for i in range(self.n_layers_encoder):\n",
    "            conv_layer = Conv2D(\n",
    "                filters = self.encoder_conv_filters[i]\n",
    "                , kernel_size = self.encoder_conv_kernel_size[i]\n",
    "                , strides = self.encoder_conv_strides[i]\n",
    "                , padding = 'same'\n",
    "                , name = 'encoder_conv_' + str(i)\n",
    "                )\n",
    "\n",
    "            x = conv_layer(x)\n",
    "\n",
    "            x = LeakyReLU()(x)\n",
    "\n",
    "            if self.use_batch_norm:\n",
    "                x = BatchNormalization()(x)\n",
    "\n",
    "            if self.use_dropout:\n",
    "                x = Dropout(rate = 0.25)(x)\n",
    "\n",
    "        # encoder_output= Conv2D(\n",
    "        #         filters = self.z_dim\n",
    "        #         , kernel_size = 1\n",
    "        #         , strides = 1\n",
    "        #         , padding = 'same'\n",
    "        #         , name = 'encoder_conv_' + str(i + 1)\n",
    "        #         , activation = \"sigmoid\"\n",
    "        #         )\n",
    "        \n",
    "        # x = encoder_output(x)\n",
    "        \n",
    "        self.encoder = Model(encoder_input, x)\n",
    "\n",
    "        ### THE DECODER\n",
    "\n",
    "        for i in range(self.n_layers_decoder):\n",
    "            conv_t_layer = Conv2DTranspose(\n",
    "                filters = self.decoder_conv_t_filters[i]\n",
    "                , kernel_size = self.decoder_conv_t_kernel_size[i]\n",
    "                , strides = self.decoder_conv_t_strides[i]\n",
    "                , padding = 'same'\n",
    "                , name = 'decoder_conv_t_' + str(i)\n",
    "                )\n",
    "\n",
    "            x = conv_t_layer(x)\n",
    "\n",
    "            if i < self.n_layers_decoder - 1:\n",
    "                x = LeakyReLU()(x)\n",
    "                \n",
    "                if self.use_batch_norm:\n",
    "                    x = BatchNormalization()(x)\n",
    "                \n",
    "                if self.use_dropout:\n",
    "                    x = Dropout(rate = 0.25)(x)\n",
    "            else:\n",
    "                x = Activation('sigmoid')(x)\n",
    "\n",
    "        decoder_output = x\n",
    "\n",
    "        ### THE FULL AUTOENCODER\n",
    "        model_input = encoder_input\n",
    "\n",
    "        self.model = Model(model_input, decoder_output)\n",
    "        \n",
    "    def compile(self, learning_rate, loss_func = \"BCE\"):\n",
    "        self.learning_rate = learning_rate\n",
    "        optimizer = Adam(lr=learning_rate)\n",
    "\n",
    "        if loss_func == \"BCE\" :\n",
    "          self.model.compile(optimizer=optimizer, loss = tf.keras.losses.BinaryCrossentropy(reduction=\"auto\", name=\"BCE\")) \n",
    "\n",
    "        elif loss_func == \"mse\" :\n",
    "          self.model.compile(optimizer=optimizer, loss = tf.keras.losses.MeanSquaredError(reduction=\"auto\", name=\"mean_squared_error\")) \n",
    "        \n",
    "        else :\n",
    "          self.model.compile(optimizer=optimizer, loss = tf.keras.losses.BinaryCrossentropy(reduction=\"auto\", name=\"BCE\")) \n",
    "          \n",
    "\n",
    "    def train(self, x_train, y_train, batch_size, epochs, verbose = 1):\n",
    "        self.model.fit(     \n",
    "        x_train\n",
    "        , y_train\n",
    "        , batch_size = batch_size\n",
    "        , shuffle = True\n",
    "        , epochs = epochs\n",
    "        , verbose = verbose\n",
    "        )"
   ]
  },
  {
   "cell_type": "code",
   "execution_count": null,
   "metadata": {
    "id": "pExd_D7OfJdz"
   },
   "outputs": [],
   "source": [
    "DAE_V2 = Denoising_Autoencoder_V2(\n",
    "    input_dim = (28,28,1)\n",
    "    , encoder_conv_filters = [32,64,128]\n",
    "    , encoder_conv_kernel_size = [3,3,3,3]\n",
    "    , encoder_conv_strides = [1,2,2]\n",
    "    , decoder_conv_t_filters = [64,32,1]\n",
    "    , decoder_conv_t_kernel_size = [3,3,3,3]\n",
    "    , decoder_conv_t_strides = [2,2,1]\n",
    "    , z_dim = 256\n",
    ")"
   ]
  },
  {
   "cell_type": "code",
   "execution_count": null,
   "metadata": {
    "colab": {
     "base_uri": "https://localhost:8080/"
    },
    "executionInfo": {
     "elapsed": 3,
     "status": "ok",
     "timestamp": 1627999656614,
     "user": {
      "displayName": "김찬준",
      "photoUrl": "",
      "userId": "01130487808933653943"
     },
     "user_tz": -540
    },
    "id": "f3ANsdw7xHgx",
    "outputId": "9e6ca3fd-d2e4-4a03-938b-ff0459a24729"
   },
   "outputs": [
    {
     "name": "stdout",
     "output_type": "stream",
     "text": [
      "Model: \"model_3\"\n",
      "_________________________________________________________________\n",
      "Layer (type)                 Output Shape              Param #   \n",
      "=================================================================\n",
      "encoder_input (InputLayer)   [(None, 28, 28, 1)]       0         \n",
      "_________________________________________________________________\n",
      "encoder_conv_0 (Conv2D)      (None, 28, 28, 32)        320       \n",
      "_________________________________________________________________\n",
      "leaky_re_lu_5 (LeakyReLU)    (None, 28, 28, 32)        0         \n",
      "_________________________________________________________________\n",
      "encoder_conv_1 (Conv2D)      (None, 14, 14, 64)        18496     \n",
      "_________________________________________________________________\n",
      "leaky_re_lu_6 (LeakyReLU)    (None, 14, 14, 64)        0         \n",
      "_________________________________________________________________\n",
      "encoder_conv_2 (Conv2D)      (None, 7, 7, 128)         73856     \n",
      "_________________________________________________________________\n",
      "leaky_re_lu_7 (LeakyReLU)    (None, 7, 7, 128)         0         \n",
      "_________________________________________________________________\n",
      "decoder_conv_t_0 (Conv2DTran (None, 14, 14, 64)        73792     \n",
      "_________________________________________________________________\n",
      "leaky_re_lu_8 (LeakyReLU)    (None, 14, 14, 64)        0         \n",
      "_________________________________________________________________\n",
      "decoder_conv_t_1 (Conv2DTran (None, 28, 28, 32)        18464     \n",
      "_________________________________________________________________\n",
      "leaky_re_lu_9 (LeakyReLU)    (None, 28, 28, 32)        0         \n",
      "_________________________________________________________________\n",
      "decoder_conv_t_2 (Conv2DTran (None, 28, 28, 1)         289       \n",
      "_________________________________________________________________\n",
      "activation_1 (Activation)    (None, 28, 28, 1)         0         \n",
      "=================================================================\n",
      "Total params: 185,217\n",
      "Trainable params: 185,217\n",
      "Non-trainable params: 0\n",
      "_________________________________________________________________\n"
     ]
    }
   ],
   "source": [
    "DAE_V2.model.summary()"
   ]
  },
  {
   "cell_type": "code",
   "execution_count": null,
   "metadata": {
    "id": "AJZ8PLFzxHgz"
   },
   "outputs": [],
   "source": [
    "DAE_V2.compile(0.0005)"
   ]
  },
  {
   "cell_type": "code",
   "execution_count": null,
   "metadata": {
    "colab": {
     "base_uri": "https://localhost:8080/"
    },
    "executionInfo": {
     "elapsed": 585738,
     "status": "ok",
     "timestamp": 1628000276948,
     "user": {
      "displayName": "김찬준",
      "photoUrl": "",
      "userId": "01130487808933653943"
     },
     "user_tz": -540
    },
    "id": "U_6WxD03FH9y",
    "outputId": "d46c9b2d-f1d6-416c-fa44-1477b1bbc3ad"
   },
   "outputs": [
    {
     "name": "stdout",
     "output_type": "stream",
     "text": [
      "Epoch 1/100\n",
      "469/469 [==============================] - 6s 13ms/step - loss: 0.0975\n",
      "Epoch 2/100\n",
      "469/469 [==============================] - 6s 13ms/step - loss: 0.0968\n",
      "Epoch 3/100\n",
      "469/469 [==============================] - 6s 12ms/step - loss: 0.0963\n",
      "Epoch 4/100\n",
      "469/469 [==============================] - 6s 12ms/step - loss: 0.0958\n",
      "Epoch 5/100\n",
      "469/469 [==============================] - 6s 12ms/step - loss: 0.0955\n",
      "Epoch 6/100\n",
      "469/469 [==============================] - 6s 12ms/step - loss: 0.0952\n",
      "Epoch 7/100\n",
      "469/469 [==============================] - 6s 12ms/step - loss: 0.0949\n",
      "Epoch 8/100\n",
      "469/469 [==============================] - 6s 12ms/step - loss: 0.0947\n",
      "Epoch 9/100\n",
      "469/469 [==============================] - 6s 12ms/step - loss: 0.0945\n",
      "Epoch 10/100\n",
      "469/469 [==============================] - 6s 12ms/step - loss: 0.0943\n",
      "Epoch 11/100\n",
      "469/469 [==============================] - 6s 13ms/step - loss: 0.0942\n",
      "Epoch 12/100\n",
      "469/469 [==============================] - 6s 13ms/step - loss: 0.0940\n",
      "Epoch 13/100\n",
      "469/469 [==============================] - 6s 13ms/step - loss: 0.0938\n",
      "Epoch 14/100\n",
      "469/469 [==============================] - 6s 13ms/step - loss: 0.0937\n",
      "Epoch 15/100\n",
      "469/469 [==============================] - 6s 12ms/step - loss: 0.0936\n",
      "Epoch 16/100\n",
      "469/469 [==============================] - 6s 12ms/step - loss: 0.0934\n",
      "Epoch 17/100\n",
      "469/469 [==============================] - 6s 12ms/step - loss: 0.0933\n",
      "Epoch 18/100\n",
      "469/469 [==============================] - 6s 13ms/step - loss: 0.0932\n",
      "Epoch 19/100\n",
      "469/469 [==============================] - 6s 12ms/step - loss: 0.0931\n",
      "Epoch 20/100\n",
      "469/469 [==============================] - 6s 12ms/step - loss: 0.0930\n",
      "Epoch 21/100\n",
      "469/469 [==============================] - 6s 12ms/step - loss: 0.0929\n",
      "Epoch 22/100\n",
      "469/469 [==============================] - 6s 12ms/step - loss: 0.0928\n",
      "Epoch 23/100\n",
      "469/469 [==============================] - 6s 12ms/step - loss: 0.0927\n",
      "Epoch 24/100\n",
      "469/469 [==============================] - 6s 12ms/step - loss: 0.0927\n",
      "Epoch 25/100\n",
      "469/469 [==============================] - 6s 12ms/step - loss: 0.0925\n",
      "Epoch 26/100\n",
      "469/469 [==============================] - 6s 12ms/step - loss: 0.0924\n",
      "Epoch 27/100\n",
      "469/469 [==============================] - 6s 12ms/step - loss: 0.0924\n",
      "Epoch 28/100\n",
      "469/469 [==============================] - 6s 12ms/step - loss: 0.0924\n",
      "Epoch 29/100\n",
      "469/469 [==============================] - 6s 12ms/step - loss: 0.0923\n",
      "Epoch 30/100\n",
      "469/469 [==============================] - 6s 12ms/step - loss: 0.0922\n",
      "Epoch 31/100\n",
      "469/469 [==============================] - 6s 12ms/step - loss: 0.0921\n",
      "Epoch 32/100\n",
      "469/469 [==============================] - 6s 12ms/step - loss: 0.0921\n",
      "Epoch 33/100\n",
      "469/469 [==============================] - 6s 13ms/step - loss: 0.0920\n",
      "Epoch 34/100\n",
      "469/469 [==============================] - 6s 13ms/step - loss: 0.0919\n",
      "Epoch 35/100\n",
      "469/469 [==============================] - 6s 13ms/step - loss: 0.0918\n",
      "Epoch 36/100\n",
      "469/469 [==============================] - 6s 13ms/step - loss: 0.0918\n",
      "Epoch 37/100\n",
      "469/469 [==============================] - 6s 13ms/step - loss: 0.0918\n",
      "Epoch 38/100\n",
      "469/469 [==============================] - 6s 12ms/step - loss: 0.0917\n",
      "Epoch 39/100\n",
      "469/469 [==============================] - 6s 12ms/step - loss: 0.0917\n",
      "Epoch 40/100\n",
      "469/469 [==============================] - 6s 12ms/step - loss: 0.0916\n",
      "Epoch 41/100\n",
      "469/469 [==============================] - 6s 12ms/step - loss: 0.0915\n",
      "Epoch 42/100\n",
      "469/469 [==============================] - 6s 12ms/step - loss: 0.0915\n",
      "Epoch 43/100\n",
      "469/469 [==============================] - 6s 12ms/step - loss: 0.0915\n",
      "Epoch 44/100\n",
      "469/469 [==============================] - 6s 13ms/step - loss: 0.0914\n",
      "Epoch 45/100\n",
      "469/469 [==============================] - 6s 13ms/step - loss: 0.0914\n",
      "Epoch 46/100\n",
      "469/469 [==============================] - 6s 13ms/step - loss: 0.0913\n",
      "Epoch 47/100\n",
      "469/469 [==============================] - 6s 13ms/step - loss: 0.0913\n",
      "Epoch 48/100\n",
      "469/469 [==============================] - 6s 12ms/step - loss: 0.0912\n",
      "Epoch 49/100\n",
      "469/469 [==============================] - 6s 12ms/step - loss: 0.0912\n",
      "Epoch 50/100\n",
      "469/469 [==============================] - 6s 12ms/step - loss: 0.0912\n",
      "Epoch 51/100\n",
      "469/469 [==============================] - 6s 12ms/step - loss: 0.0911\n",
      "Epoch 52/100\n",
      "469/469 [==============================] - 6s 12ms/step - loss: 0.0911\n",
      "Epoch 53/100\n",
      "469/469 [==============================] - 6s 12ms/step - loss: 0.0911\n",
      "Epoch 54/100\n",
      "469/469 [==============================] - 6s 12ms/step - loss: 0.0910\n",
      "Epoch 55/100\n",
      "469/469 [==============================] - 6s 12ms/step - loss: 0.0909\n",
      "Epoch 56/100\n",
      "469/469 [==============================] - 6s 13ms/step - loss: 0.0910\n",
      "Epoch 57/100\n",
      "469/469 [==============================] - 6s 13ms/step - loss: 0.0909\n",
      "Epoch 58/100\n",
      "469/469 [==============================] - 6s 12ms/step - loss: 0.0908\n",
      "Epoch 59/100\n",
      "469/469 [==============================] - 6s 12ms/step - loss: 0.0908\n",
      "Epoch 60/100\n",
      "469/469 [==============================] - 6s 12ms/step - loss: 0.0908\n",
      "Epoch 61/100\n",
      "469/469 [==============================] - 6s 13ms/step - loss: 0.0908\n",
      "Epoch 62/100\n",
      "469/469 [==============================] - 6s 13ms/step - loss: 0.0908\n",
      "Epoch 63/100\n",
      "469/469 [==============================] - 6s 13ms/step - loss: 0.0907\n",
      "Epoch 64/100\n",
      "469/469 [==============================] - 6s 13ms/step - loss: 0.0907\n",
      "Epoch 65/100\n",
      "469/469 [==============================] - 6s 12ms/step - loss: 0.0906\n",
      "Epoch 66/100\n",
      "469/469 [==============================] - 6s 12ms/step - loss: 0.0906\n",
      "Epoch 67/100\n",
      "469/469 [==============================] - 6s 12ms/step - loss: 0.0906\n",
      "Epoch 68/100\n",
      "469/469 [==============================] - 6s 12ms/step - loss: 0.0906\n",
      "Epoch 69/100\n",
      "469/469 [==============================] - 6s 12ms/step - loss: 0.0905\n",
      "Epoch 70/100\n",
      "469/469 [==============================] - 6s 12ms/step - loss: 0.0905\n",
      "Epoch 71/100\n",
      "469/469 [==============================] - 6s 12ms/step - loss: 0.0905\n",
      "Epoch 72/100\n",
      "469/469 [==============================] - 6s 13ms/step - loss: 0.0904\n",
      "Epoch 73/100\n",
      "469/469 [==============================] - 6s 13ms/step - loss: 0.0904\n",
      "Epoch 74/100\n",
      "469/469 [==============================] - 6s 13ms/step - loss: 0.0904\n",
      "Epoch 75/100\n",
      "469/469 [==============================] - 6s 13ms/step - loss: 0.0904\n",
      "Epoch 76/100\n",
      "469/469 [==============================] - 6s 13ms/step - loss: 0.0903\n",
      "Epoch 77/100\n",
      "469/469 [==============================] - 6s 12ms/step - loss: 0.0903\n",
      "Epoch 78/100\n",
      "469/469 [==============================] - 6s 12ms/step - loss: 0.0903\n",
      "Epoch 79/100\n",
      "469/469 [==============================] - 6s 12ms/step - loss: 0.0903\n",
      "Epoch 80/100\n",
      "469/469 [==============================] - 6s 12ms/step - loss: 0.0902\n",
      "Epoch 81/100\n",
      "469/469 [==============================] - 6s 12ms/step - loss: 0.0902\n",
      "Epoch 82/100\n",
      "469/469 [==============================] - 6s 12ms/step - loss: 0.0902\n",
      "Epoch 83/100\n",
      "469/469 [==============================] - 6s 13ms/step - loss: 0.0902\n",
      "Epoch 84/100\n",
      "469/469 [==============================] - 6s 13ms/step - loss: 0.0901\n",
      "Epoch 85/100\n",
      "469/469 [==============================] - 6s 13ms/step - loss: 0.0901\n",
      "Epoch 86/100\n",
      "469/469 [==============================] - 6s 13ms/step - loss: 0.0901\n",
      "Epoch 87/100\n",
      "469/469 [==============================] - 6s 13ms/step - loss: 0.0901\n",
      "Epoch 88/100\n",
      "469/469 [==============================] - 6s 12ms/step - loss: 0.0900\n",
      "Epoch 89/100\n",
      "469/469 [==============================] - 6s 12ms/step - loss: 0.0900\n",
      "Epoch 90/100\n",
      "469/469 [==============================] - 6s 12ms/step - loss: 0.0900\n",
      "Epoch 91/100\n",
      "469/469 [==============================] - 6s 12ms/step - loss: 0.0899\n",
      "Epoch 92/100\n",
      "469/469 [==============================] - 6s 12ms/step - loss: 0.0900\n",
      "Epoch 93/100\n",
      "469/469 [==============================] - 6s 12ms/step - loss: 0.0899\n",
      "Epoch 94/100\n",
      "469/469 [==============================] - 6s 13ms/step - loss: 0.0899\n",
      "Epoch 95/100\n",
      "469/469 [==============================] - 6s 13ms/step - loss: 0.0899\n",
      "Epoch 96/100\n",
      "469/469 [==============================] - 6s 13ms/step - loss: 0.0899\n",
      "Epoch 97/100\n",
      "469/469 [==============================] - 6s 13ms/step - loss: 0.0898\n",
      "Epoch 98/100\n",
      "469/469 [==============================] - 6s 13ms/step - loss: 0.0898\n",
      "Epoch 99/100\n",
      "469/469 [==============================] - 6s 13ms/step - loss: 0.0898\n",
      "Epoch 100/100\n",
      "469/469 [==============================] - 6s 13ms/step - loss: 0.0898\n"
     ]
    }
   ],
   "source": [
    "DAE_V2.train(x_train_noisy, x_train, batch_size = 128, epochs = 100)"
   ]
  },
  {
   "cell_type": "code",
   "execution_count": null,
   "metadata": {
    "colab": {
     "base_uri": "https://localhost:8080/",
     "height": 145
    },
    "executionInfo": {
     "elapsed": 554,
     "status": "ok",
     "timestamp": 1628000335858,
     "user": {
      "displayName": "김찬준",
      "photoUrl": "",
      "userId": "01130487808933653943"
     },
     "user_tz": -540
    },
    "id": "E_C-VseaYSD2",
    "outputId": "6ba01f53-456d-4f4c-b960-6d7f89624429"
   },
   "outputs": [
    {
     "data": {
      "image/png": "[encoded data removed]",
      "text/plain": [
       "<Figure size 1440x288 with 10 Axes>"
      ]
     },
     "metadata": {
      "needs_background": "light",
      "tags": []
     },
     "output_type": "display_data"
    }
   ],
   "source": [
    "n = 10\n",
    "plt.figure(figsize=(20, 4))\n",
    "for i in range(n):\n",
    "    # display original\n",
    "    ax = plt.subplot(2, n, i + 1)\n",
    "    plt.imshow(np.reshape(x_test_noisy[i], (28, 28)))\n",
    "    plt.title(y_test[i])\n",
    "    plt.gray()\n",
    "    ax.get_xaxis().set_visible(False)\n",
    "    ax.get_yaxis().set_visible(False)\n",
    "plt.show()"
   ]
  },
  {
   "cell_type": "code",
   "execution_count": null,
   "metadata": {
    "colab": {
     "base_uri": "https://localhost:8080/",
     "height": 145
    },
    "executionInfo": {
     "elapsed": 756,
     "status": "ok",
     "timestamp": 1628000342406,
     "user": {
      "displayName": "김찬준",
      "photoUrl": "",
      "userId": "01130487808933653943"
     },
     "user_tz": -540
    },
    "id": "fLp8y-29YW6-",
    "outputId": "16296a02-7f40-4800-f67e-85264e1a5512"
   },
   "outputs": [
    {
     "data": {
      "image/png": "[encoded data removed]",
      "text/plain": [
       "<Figure size 1440x288 with 10 Axes>"
      ]
     },
     "metadata": {
      "needs_background": "light",
      "tags": []
     },
     "output_type": "display_data"
    }
   ],
   "source": [
    "n = 10\n",
    "plt.figure(figsize=(20, 4))\n",
    "for i in range(n):\n",
    "    # display original\n",
    "    ax = plt.subplot(2, n, i + 1)\n",
    "    plt.imshow(np.reshape(x_test[i], (28, 28)))\n",
    "    plt.title(y_test[i])\n",
    "    plt.gray()\n",
    "    ax.get_xaxis().set_visible(False)\n",
    "    ax.get_yaxis().set_visible(False)\n",
    "plt.show()"
   ]
  },
  {
   "cell_type": "code",
   "execution_count": null,
   "metadata": {
    "colab": {
     "base_uri": "https://localhost:8080/",
     "height": 145
    },
    "executionInfo": {
     "elapsed": 2150,
     "status": "ok",
     "timestamp": 1628000285788,
     "user": {
      "displayName": "김찬준",
      "photoUrl": "",
      "userId": "01130487808933653943"
     },
     "user_tz": -540
    },
    "id": "Nl9tBnJjI_Dj",
    "outputId": "c09d29a6-3096-483f-bd62-3163779d86ee"
   },
   "outputs": [
    {
     "data": {
      "image/png": "[encoded data removed]",
      "text/plain": [
       "<Figure size 1440x288 with 10 Axes>"
      ]
     },
     "metadata": {
      "needs_background": "light",
      "tags": []
     },
     "output_type": "display_data"
    }
   ],
   "source": [
    "dae_predict = DAE_V2.model.predict(x_test_noisy)\n",
    "\n",
    "n = 10\n",
    "plt.figure(figsize=(20, 4))\n",
    "for i in range(n):\n",
    "    # display original\n",
    "    ax = plt.subplot(2, n, i + 1)\n",
    "    plt.imshow(np.reshape(dae_predict[i], (28, 28)))\n",
    "    plt.title(y_test[i])\n",
    "    plt.gray()\n",
    "    ax.get_xaxis().set_visible(False)\n",
    "    ax.get_yaxis().set_visible(False)\n",
    "plt.show()"
   ]
  },
  {
   "cell_type": "code",
   "execution_count": null,
   "metadata": {
    "id": "PfeCA1_Ne9iy"
   },
   "outputs": [],
   "source": [
    "DAE_V2_MSE = Denoising_Autoencoder_V2(\n",
    "    input_dim = (28,28,1)\n",
    "    , encoder_conv_filters = [32,64,128]\n",
    "    , encoder_conv_kernel_size = [3,3,3,3]\n",
    "    , encoder_conv_strides = [1,2,2]\n",
    "    , decoder_conv_t_filters = [64,32,1]\n",
    "    , decoder_conv_t_kernel_size = [3,3,3,3]\n",
    "    , decoder_conv_t_strides = [2,2,1]\n",
    "    , z_dim = 256\n",
    ")"
   ]
  },
  {
   "cell_type": "code",
   "execution_count": null,
   "metadata": {
    "id": "Iw7uwbzjfGlP"
   },
   "outputs": [],
   "source": [
    "DAE_V2_MSE.compile(0.0005, loss_func = \"mse\")"
   ]
  },
  {
   "cell_type": "code",
   "execution_count": null,
   "metadata": {
    "colab": {
     "base_uri": "https://localhost:8080/"
    },
    "executionInfo": {
     "elapsed": 82916,
     "status": "ok",
     "timestamp": 1628002383638,
     "user": {
      "displayName": "김찬준",
      "photoUrl": "",
      "userId": "01130487808933653943"
     },
     "user_tz": -540
    },
    "id": "uQUV7-4KfKAd",
    "outputId": "2c241894-3bc2-47d6-c886-45eae73aca26"
   },
   "outputs": [
    {
     "name": "stdout",
     "output_type": "stream",
     "text": [
      "Epoch 1/10\n",
      "469/469 [==============================] - 6s 13ms/step - loss: 0.1153\n",
      "Epoch 2/10\n",
      "469/469 [==============================] - 6s 12ms/step - loss: 0.1120\n",
      "Epoch 3/10\n",
      "469/469 [==============================] - 6s 12ms/step - loss: 0.1120\n",
      "Epoch 4/10\n",
      "469/469 [==============================] - 6s 13ms/step - loss: 0.1120\n",
      "Epoch 5/10\n",
      "469/469 [==============================] - 6s 13ms/step - loss: 0.1120\n",
      "Epoch 6/10\n",
      "469/469 [==============================] - 6s 13ms/step - loss: 0.1120\n",
      "Epoch 7/10\n",
      "469/469 [==============================] - 6s 13ms/step - loss: 0.1120\n",
      "Epoch 8/10\n",
      "469/469 [==============================] - 6s 13ms/step - loss: 0.1120\n",
      "Epoch 9/10\n",
      "469/469 [==============================] - 6s 12ms/step - loss: 0.1120\n",
      "Epoch 10/10\n",
      "469/469 [==============================] - 6s 12ms/step - loss: 0.1120\n"
     ]
    }
   ],
   "source": [
    "DAE_V2_MSE.train(x_train_noisy, x_train, batch_size = 128, epochs = 10)"
   ]
  },
  {
   "cell_type": "markdown",
   "metadata": {
    "id": "A1dP9udTdOnr"
   },
   "source": [
    "- #### **결론 :**\n",
    "    - **오토인코더를 왜 쓰는가?**\n",
    "        - 인코더를 거치면 일종의 차원축소처럼 보이게되는데 이 때 확실한 영역을 구분하게 된다면, 그 주변의 좌표들을 통하여 비슷한 이미지를 생성하는데 기여할 수 있습니다.\n",
    "    - **오터인코더의 한계?**\n",
    "        - 모든 데이터가 인코더를 거치며 정확히 구분되지 않을 뿐 아니라 잠재 공간 모두에 분포하지 않습니다. 즉, 잠재공간이 존재하지만 엉뚱한 곳을 찍었을 때는 전혀 다른 데이터를 생성할 수 있습니다."
   ]
  },
  {
   "cell_type": "markdown",
   "metadata": {
    "id": "sFxcbBrNmv4f"
   },
   "source": [
    "---\n",
    "\n",
    "code : https://github.com/Chanjun-kim/Chanjun-kim.github.io/blob/main/_ipynb/2021-07-25-AE1_AutoEncoder.ipynb"
   ]
  },
  {
   "cell_type": "markdown",
   "metadata": {
    "id": "OvWAWUs7mv4e"
   },
   "source": [
    "> 참고자료 : [https://www.tensorflow.org/tutorials/generative/autoencoder?hl=ko](https://www.tensorflow.org/tutorials/generative/autoencoder?hl=ko)<br>\n",
    "> 참고자료 : [https://github.com/davidADSP/GDL_code](https://github.com/davidADSP/GDL_code)<br>"
   ]
  }
 ],
 "metadata": {
  "accelerator": "GPU",
  "colab": {
   "collapsed_sections": [
    "ZCQ4MIS2mv4N"
   ],
   "name": "2021-07-27-AE3_DenoisingAE.ipynb",
   "provenance": []
  },
  "kernelspec": {
   "display_name": "Python 3",
   "language": "python",
   "name": "python3"
  },
  "language_info": {
   "codemirror_mode": {
    "name": "ipython",
    "version": 3
   },
   "file_extension": ".py",
   "mimetype": "text/x-python",
   "name": "python",
   "nbconvert_exporter": "python",
   "pygments_lexer": "ipython3",
   "version": "3.8.5"
  }
 },
 "nbformat": 4,
 "nbformat_minor": 4
}
