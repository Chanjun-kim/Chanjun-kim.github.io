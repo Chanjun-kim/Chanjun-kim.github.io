{
 "cells": [
  {
   "cell_type": "markdown",
   "metadata": {},
   "source": [
    "---\n",
    "layout: post\n",
    "title: \"CNN에 관하여\"\n",
    "author: \"Chanjun Kim\"\n",
    "categories: Data분석\n",
    "tags: [DeepLearning, DL, CNN, 이미지, 영상]\n",
    "image: 03_entropy_gini.png\n",
    "---"
   ]
  },
  {
   "cell_type": "markdown",
   "metadata": {},
   "source": [
    "## **학습목적**\n",
    "이미지 데이터를 처리하고 학습하는 딥러닝 모델 중 CNN을 공부하고 오픈 이미지 데이터를 가지고 한 스텝 한 스텝 따라가본다.<br>"
   ]
  },
  {
   "cell_type": "markdown",
   "metadata": {},
   "source": [
    "## **CNN이란?**\n",
    "Convolutional Neural Network의 약자로 주로 이미지나 영상 데이터를 처리하기 위한 딥러닝 알고리즘 중 하나이다. <br>\n",
    "Flatten한 데이터를 처리하는 Fully Connected Neural Network와 다르게 이미지의 공간 정보 데이터를 유지하여 이미지를 인식할 수 있도록 만든다.<br>\n",
    "이를 위해서 Filter, Pooling, Padding, Stride 등의 개념들이 사용되며, 천천히 알아가보도록 하겠습니다.\n",
    "\n",
    "> 출처/참고자료 : http://taewan.kim/post/cnn/"
   ]
  },
  {
   "cell_type": "markdown",
   "metadata": {},
   "source": [
    "간단한 이미지를 참고해서 가져오겠습니다. 출처는 [http://taewan.kim/post/cnn/](http://taewan.kim/post/cnn/) 입니다.<br>\n",
    "사람은 간단하게 2라고 보이는 것을 알 수 있지만, 컴퓨터 혹은 딥러닝으로 학습시키기에는 이렇게만 정보가 있어서는 안됩니다.<br>\n",
    "<img src = \"https://blog.kakaocdn.net/dn/cJXmju/btqvGBJVMH0/WdMzvcKhEiMvaIAZuoYQfk/img.png\" alt = \"Oops\" width = \"300\"/>\n",
    "<br>\n",
    "\n",
    "그래서 위와 같이 숫자로 이루어진 바둑판 모양으로 변환을 하게됩니다.<br>\n",
    "<img src = \"https://blog.kakaocdn.net/dn/bBoEcG/btqvGDucYov/thqHXwKvveVJmsbXJkHns0/img.png\" alt = \"Oops\" width = \"300\"/>\n",
    "<br>\n",
    "\n",
    "그리고 각 위치별 특성을 보기 위하여 filter라는 어떠한 판을 만들어 그것을 곱하여 특성으로 사용되게 됩니다.<br>\n",
    "<img src = \"https://blog.kakaocdn.net/dn/Qa6UF/btqvFXmb9XY/nAMjiM4QwUgZ1K7egHWvsk/img.png\" alt = \"Oops\" width = \"600\"/>\n",
    "\n",
    "참고 그림이 잠깐 달라지지만, 결국 아래와 같은 Feature map을 만들 수 있습니다.<br>\n",
    "여기서는 [[1, 0, 1], [0, 1, 0], [1, 0, 1]] 이렇게 생긴 filter를 사용했네요.<br>\n",
    "<img src = \"http://deeplearning.stanford.edu/wiki/images/6/6c/Convolution_schematic.gif\" alt = \"Oops\" width = \"600\"/>\n",
    "<br>\n",
    "\n",
    "Filter에 대한 값은 [Keras layer initializers](https://keras.io/api/layers/initializers/)에서 확인하실 수 있습니다.<br>\n",
    "다양하게 초기화시킬 수 있지만, 이 파라미터를 크게 바꾸는 경우나 바꿔서 크게 성능이 좋아지는 경우는 아직 확인하지 못했습니다.<br>\n",
    "<br>\n",
    "\n",
    "이러한 Convolution과 filter의 개념을 사용하여 아래와 같은 그림으로 CNN이 이루어지게 됩니다.<br>\n",
    "<img src = \"https://blog.kakaocdn.net/dn/NWDaW/btqvHgZ2d0Z/sEV8R4ANc3HltM2eKvmhvk/img.jpg\" alt = \"Oops\" width = \"800\"/>\n",
    "\n",
    "> 출처/참고자료 : http://taewan.kim/post/cnn/<br>\n",
    "> 출처/참고자료 : https://youngq.tistory.com/40"
   ]
  },
  {
   "cell_type": "markdown",
   "metadata": {},
   "source": [
    "그럼 이제 위에서 나오는 channel, Pooling, padding, Stride 등의 용어에 대해서 정리해보겠습니다.\n",
    "\n",
    "- Channel\n",
    "    - 채널은 이미지의 차원?이라고 생각하시면 될 것 같습니다. 흑백(Grey scale) 이미지에서는 1개의 채널을 갖지만 보통 우리가 많이 보는 색상이 있는 이미지라면 RGB라는 총 3개의 채널을 갖게 됩니다. ~~(투명도(alpha) 채널이 추가되는 경우도 있다고 합니다.)~~\n",
    "    - 처음 이미지 채널을 시작으로 Convolution Layer의 채널 수를 늘려가면서 Hidden 층을 깊게 만들어 계산하게 됩니다.\n",
    "    - Pooling 과정을 거치며 이미지 사이즈는 줄어들지만, Channel 수가 늘어나면서 연산량이 늘어나게 됩니다.\n",
    "- Filter\n",
    "    - Filter는 위에서 말씀드렸듯이 어떠한 Channel에 곱해지는 하나의 랜덤한 판입니다. 연산을 하는 과정에서 Back propagation(역전파)를 통하여 이 filter의 값을 업데이트하면서 최적해를 찾아가게 됩니다.\n",
    "- Pooling\n",
    "    - Pooling은 계속 연산량만 늘어나는 것을 방지하기 위해서 feature map 상에서 원하는 정보를 추출할 수 있도록 해주는 장치입니다.\n",
    "    - 보통 feature map 상에서 가장 두들어진 부분을 뽑아내기 위하여 max pooling이라는 기법을 활용하고, 상황에 따라 전체적인 부분을 보기 위해서 average pooling과 같은 기법도 사용한다고 합니다. ~~보통 max pooling을 사용합니다.~~\n",
    "    \n",
    "---\n",
    "\n",
    "### **이 외에도 loss function, Optimizer, Activate function 등 아직 배워야할 것이 많기 때문에 슬 코드로 시작해보도록 하겠습니다.**"
   ]
  },
  {
   "cell_type": "code",
   "execution_count": 10,
   "metadata": {},
   "outputs": [],
   "source": [
    "import os\n",
    "import sys\n",
    "import warnings\n",
    "from glob import glob\n",
    "\n",
    "import numpy as np\n",
    "import pandas as pd\n",
    "\n",
    "import tensorflow as tf\n",
    "\n",
    "# import cv2"
   ]
  },
  {
   "cell_type": "code",
   "execution_count": 8,
   "metadata": {},
   "outputs": [
    {
     "name": "stderr",
     "output_type": "stream",
     "text": [
      "Python 3.6.13 :: Anaconda, Inc.\n"
     ]
    }
   ],
   "source": [
    "!python --version"
   ]
  },
  {
   "cell_type": "code",
   "execution_count": 9,
   "metadata": {},
   "outputs": [
    {
     "data": {
      "text/plain": [
       "'2.5.0'"
      ]
     },
     "execution_count": 9,
     "metadata": {},
     "output_type": "execute_result"
    }
   ],
   "source": [
    "tf.__version__"
   ]
  },
  {
   "cell_type": "markdown",
   "metadata": {},
   "source": [
    "오픈 데이터셋을 제공해주는 AI HUB에서 한국 음식 데이터를 받아서 실습을 해보겠습니다. [https://aihub.or.kr/aidata/13594](https://aihub.or.kr/aidata/13594) <br>\n",
    "많은 종류가 있지만 제 취향 상 구이 카테고리를 분류해보도록 하겠습니다."
   ]
  },
  {
   "cell_type": "code",
   "execution_count": 29,
   "metadata": {},
   "outputs": [
    {
     "data": {
      "text/html": [
       "<div>\n",
       "<style scoped>\n",
       "    .dataframe tbody tr th:only-of-type {\n",
       "        vertical-align: middle;\n",
       "    }\n",
       "\n",
       "    .dataframe tbody tr th {\n",
       "        vertical-align: top;\n",
       "    }\n",
       "\n",
       "    .dataframe thead th {\n",
       "        text-align: right;\n",
       "    }\n",
       "</style>\n",
       "<table border=\"1\" class=\"dataframe\">\n",
       "  <thead>\n",
       "    <tr style=\"text-align: right;\">\n",
       "      <th></th>\n",
       "      <th>dir_name</th>\n",
       "    </tr>\n",
       "  </thead>\n",
       "  <tbody>\n",
       "    <tr>\n",
       "      <th>0</th>\n",
       "      <td>data/kfood/구이\\갈비구이\\crop_area.properties</td>\n",
       "    </tr>\n",
       "    <tr>\n",
       "      <th>1</th>\n",
       "      <td>data/kfood/구이\\갈비구이\\Img_000_0000.jpg</td>\n",
       "    </tr>\n",
       "    <tr>\n",
       "      <th>2</th>\n",
       "      <td>data/kfood/구이\\갈비구이\\Img_000_0001.jpg</td>\n",
       "    </tr>\n",
       "    <tr>\n",
       "      <th>3</th>\n",
       "      <td>data/kfood/구이\\갈비구이\\Img_000_0002.jpg</td>\n",
       "    </tr>\n",
       "    <tr>\n",
       "      <th>4</th>\n",
       "      <td>data/kfood/구이\\갈비구이\\Img_000_0003.jpg</td>\n",
       "    </tr>\n",
       "    <tr>\n",
       "      <th>...</th>\n",
       "      <td>...</td>\n",
       "    </tr>\n",
       "    <tr>\n",
       "      <th>14024</th>\n",
       "      <td>data/kfood/구이\\훈제오리\\Img_013_0997.jpg</td>\n",
       "    </tr>\n",
       "    <tr>\n",
       "      <th>14025</th>\n",
       "      <td>data/kfood/구이\\훈제오리\\Img_013_0998.jpg</td>\n",
       "    </tr>\n",
       "    <tr>\n",
       "      <th>14026</th>\n",
       "      <td>data/kfood/구이\\훈제오리\\Img_013_0999.jpg</td>\n",
       "    </tr>\n",
       "    <tr>\n",
       "      <th>14027</th>\n",
       "      <td>data/kfood/구이\\훈제오리\\Img_013_1000.jpg</td>\n",
       "    </tr>\n",
       "    <tr>\n",
       "      <th>14028</th>\n",
       "      <td>data/kfood/구이\\훈제오리\\org_url.csv</td>\n",
       "    </tr>\n",
       "  </tbody>\n",
       "</table>\n",
       "<p>14029 rows × 1 columns</p>\n",
       "</div>"
      ],
      "text/plain": [
       "                                      dir_name\n",
       "0      data/kfood/구이\\갈비구이\\crop_area.properties\n",
       "1          data/kfood/구이\\갈비구이\\Img_000_0000.jpg\n",
       "2          data/kfood/구이\\갈비구이\\Img_000_0001.jpg\n",
       "3          data/kfood/구이\\갈비구이\\Img_000_0002.jpg\n",
       "4          data/kfood/구이\\갈비구이\\Img_000_0003.jpg\n",
       "...                                        ...\n",
       "14024      data/kfood/구이\\훈제오리\\Img_013_0997.jpg\n",
       "14025      data/kfood/구이\\훈제오리\\Img_013_0998.jpg\n",
       "14026      data/kfood/구이\\훈제오리\\Img_013_0999.jpg\n",
       "14027      data/kfood/구이\\훈제오리\\Img_013_1000.jpg\n",
       "14028           data/kfood/구이\\훈제오리\\org_url.csv\n",
       "\n",
       "[14029 rows x 1 columns]"
      ]
     },
     "execution_count": 29,
     "metadata": {},
     "output_type": "execute_result"
    }
   ],
   "source": [
    "file_list = pd.DataFrame(glob(\"data/kfood/구이/*/*\"), columns = [\"dir_name\"])\n",
    "file_list"
   ]
  },
  {
   "cell_type": "code",
   "execution_count": 39,
   "metadata": {},
   "outputs": [
    {
     "data": {
      "text/html": [
       "<div>\n",
       "<style scoped>\n",
       "    .dataframe tbody tr th:only-of-type {\n",
       "        vertical-align: middle;\n",
       "    }\n",
       "\n",
       "    .dataframe tbody tr th {\n",
       "        vertical-align: top;\n",
       "    }\n",
       "\n",
       "    .dataframe thead th {\n",
       "        text-align: right;\n",
       "    }\n",
       "</style>\n",
       "<table border=\"1\" class=\"dataframe\">\n",
       "  <thead>\n",
       "    <tr style=\"text-align: right;\">\n",
       "      <th></th>\n",
       "      <th>dir_name</th>\n",
       "      <th>category</th>\n",
       "      <th>file_name</th>\n",
       "      <th>ext_name</th>\n",
       "    </tr>\n",
       "  </thead>\n",
       "  <tbody>\n",
       "    <tr>\n",
       "      <th>1</th>\n",
       "      <td>data/kfood/구이/갈비구이/Img_000_0000.jpg</td>\n",
       "      <td>갈비구이</td>\n",
       "      <td>Img_000_0000.jpg</td>\n",
       "      <td>jpg</td>\n",
       "    </tr>\n",
       "    <tr>\n",
       "      <th>2</th>\n",
       "      <td>data/kfood/구이/갈비구이/Img_000_0001.jpg</td>\n",
       "      <td>갈비구이</td>\n",
       "      <td>Img_000_0001.jpg</td>\n",
       "      <td>jpg</td>\n",
       "    </tr>\n",
       "    <tr>\n",
       "      <th>3</th>\n",
       "      <td>data/kfood/구이/갈비구이/Img_000_0002.jpg</td>\n",
       "      <td>갈비구이</td>\n",
       "      <td>Img_000_0002.jpg</td>\n",
       "      <td>jpg</td>\n",
       "    </tr>\n",
       "    <tr>\n",
       "      <th>4</th>\n",
       "      <td>data/kfood/구이/갈비구이/Img_000_0003.jpg</td>\n",
       "      <td>갈비구이</td>\n",
       "      <td>Img_000_0003.jpg</td>\n",
       "      <td>jpg</td>\n",
       "    </tr>\n",
       "    <tr>\n",
       "      <th>5</th>\n",
       "      <td>data/kfood/구이/갈비구이/Img_000_0004.jpg</td>\n",
       "      <td>갈비구이</td>\n",
       "      <td>Img_000_0004.jpg</td>\n",
       "      <td>jpg</td>\n",
       "    </tr>\n",
       "    <tr>\n",
       "      <th>...</th>\n",
       "      <td>...</td>\n",
       "      <td>...</td>\n",
       "      <td>...</td>\n",
       "      <td>...</td>\n",
       "    </tr>\n",
       "    <tr>\n",
       "      <th>14023</th>\n",
       "      <td>data/kfood/구이/훈제오리/Img_013_0996.jpg</td>\n",
       "      <td>훈제오리</td>\n",
       "      <td>Img_013_0996.jpg</td>\n",
       "      <td>jpg</td>\n",
       "    </tr>\n",
       "    <tr>\n",
       "      <th>14024</th>\n",
       "      <td>data/kfood/구이/훈제오리/Img_013_0997.jpg</td>\n",
       "      <td>훈제오리</td>\n",
       "      <td>Img_013_0997.jpg</td>\n",
       "      <td>jpg</td>\n",
       "    </tr>\n",
       "    <tr>\n",
       "      <th>14025</th>\n",
       "      <td>data/kfood/구이/훈제오리/Img_013_0998.jpg</td>\n",
       "      <td>훈제오리</td>\n",
       "      <td>Img_013_0998.jpg</td>\n",
       "      <td>jpg</td>\n",
       "    </tr>\n",
       "    <tr>\n",
       "      <th>14026</th>\n",
       "      <td>data/kfood/구이/훈제오리/Img_013_0999.jpg</td>\n",
       "      <td>훈제오리</td>\n",
       "      <td>Img_013_0999.jpg</td>\n",
       "      <td>jpg</td>\n",
       "    </tr>\n",
       "    <tr>\n",
       "      <th>14027</th>\n",
       "      <td>data/kfood/구이/훈제오리/Img_013_1000.jpg</td>\n",
       "      <td>훈제오리</td>\n",
       "      <td>Img_013_1000.jpg</td>\n",
       "      <td>jpg</td>\n",
       "    </tr>\n",
       "  </tbody>\n",
       "</table>\n",
       "<p>13964 rows × 4 columns</p>\n",
       "</div>"
      ],
      "text/plain": [
       "                                  dir_name category         file_name ext_name\n",
       "1      data/kfood/구이/갈비구이/Img_000_0000.jpg     갈비구이  Img_000_0000.jpg      jpg\n",
       "2      data/kfood/구이/갈비구이/Img_000_0001.jpg     갈비구이  Img_000_0001.jpg      jpg\n",
       "3      data/kfood/구이/갈비구이/Img_000_0002.jpg     갈비구이  Img_000_0002.jpg      jpg\n",
       "4      data/kfood/구이/갈비구이/Img_000_0003.jpg     갈비구이  Img_000_0003.jpg      jpg\n",
       "5      data/kfood/구이/갈비구이/Img_000_0004.jpg     갈비구이  Img_000_0004.jpg      jpg\n",
       "...                                    ...      ...               ...      ...\n",
       "14023  data/kfood/구이/훈제오리/Img_013_0996.jpg     훈제오리  Img_013_0996.jpg      jpg\n",
       "14024  data/kfood/구이/훈제오리/Img_013_0997.jpg     훈제오리  Img_013_0997.jpg      jpg\n",
       "14025  data/kfood/구이/훈제오리/Img_013_0998.jpg     훈제오리  Img_013_0998.jpg      jpg\n",
       "14026  data/kfood/구이/훈제오리/Img_013_0999.jpg     훈제오리  Img_013_0999.jpg      jpg\n",
       "14027  data/kfood/구이/훈제오리/Img_013_1000.jpg     훈제오리  Img_013_1000.jpg      jpg\n",
       "\n",
       "[13964 rows x 4 columns]"
      ]
     },
     "execution_count": 39,
     "metadata": {},
     "output_type": "execute_result"
    }
   ],
   "source": [
    "file_list.dir_name = file_list.dir_name.str.replace(pat = \"\\\\\", repl = \"/\")\n",
    "file_list[\"category\"] = file_list.dir_name.str.replace(pat = \".*/.*/.*/(.*)/(.*)(\\.*)\", repl = \"\\\\1\")\n",
    "file_list[\"file_name\"] = file_list.dir_name.str.replace(pat = \".*/.*/.*/(.*)/(.*)(\\.*)\", repl = \"\\\\2\")\n",
    "file_list[\"ext_name\"] = file_list.dir_name.str.replace(pat = \".*/.*/.*/(.*)/(.*)\\.(.*)\", repl = \"\\\\3\")\n",
    "file_list = file_list[file_list.ext_name.isin([\"JPG\", \"jpg\"])]\n",
    "file_list"
   ]
  },
  {
   "cell_type": "markdown",
   "metadata": {},
   "source": [
    "파일들은 거의 1000개씩 고루고루 있으므로 이번에도 제 취향대로 [삼겹살, 갈비구이, 곱창구이, 장어구이, 불고기, 조개구이] 정도를 선택하도록 하겠습니다."
   ]
  },
  {
   "cell_type": "code",
   "execution_count": 41,
   "metadata": {},
   "outputs": [
    {
     "data": {
      "text/plain": [
       "category\n",
       "갈비구이      998\n",
       "갈치구이      998\n",
       "고등어구이    1000\n",
       "곱창구이     1000\n",
       "닭갈비       996\n",
       "더덕구이     1000\n",
       "떡갈비       997\n",
       "불고기       997\n",
       "삼겹살       992\n",
       "장어구이      997\n",
       "조개구이     1000\n",
       "조기구이     1000\n",
       "황태구이      997\n",
       "훈제오리      992\n",
       "Name: file_name, dtype: int64"
      ]
     },
     "execution_count": 41,
     "metadata": {},
     "output_type": "execute_result"
    }
   ],
   "source": [
    "file_list.reset_index(drop = True, inplace = True)\n",
    "file_list.groupby(\"category\").file_name.count()"
   ]
  },
  {
   "cell_type": "code",
   "execution_count": 43,
   "metadata": {},
   "outputs": [
    {
     "name": "stdout",
     "output_type": "stream",
     "text": [
      "5984\n",
      "['갈비구이' '곱창구이' '불고기' '삼겹살' '장어구이' '조개구이']\n"
     ]
    }
   ],
   "source": [
    "file_list = file_list[file_list.category.isin([\"삼겹살\", \"갈비구이\", \"곱창구이\", \"장어구이\", \"불고기\", \"조개구이\"])]\n",
    "print(len(file_list))\n",
    "print(file_list.category.unique())"
   ]
  },
  {
   "cell_type": "code",
   "execution_count": null,
   "metadata": {},
   "outputs": [],
   "source": []
  },
  {
   "cell_type": "markdown",
   "metadata": {},
   "source": [
    "---\n",
    "\n",
    "참고 자료 :\n",
    "- https://youngq.tistory.com/40"
   ]
  },
  {
   "cell_type": "code",
   "execution_count": null,
   "metadata": {},
   "outputs": [],
   "source": [
    "file_list = pd.DataFrame(glob(\"data/kfood/구이/*/*\"), columns = \"file_name\")"
   ]
  }
 ],
 "metadata": {
  "kernelspec": {
   "display_name": "Python 3",
   "language": "python",
   "name": "python3"
  },
  "language_info": {
   "codemirror_mode": {
    "name": "ipython",
    "version": 3
   },
   "file_extension": ".py",
   "mimetype": "text/x-python",
   "name": "python",
   "nbconvert_exporter": "python",
   "pygments_lexer": "ipython3",
   "version": "3.6.13"
  }
 },
 "nbformat": 4,
 "nbformat_minor": 4
}
