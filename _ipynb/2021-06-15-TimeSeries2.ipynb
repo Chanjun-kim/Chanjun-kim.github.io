{
 "cells": [
  {
   "cell_type": "markdown",
   "metadata": {},
   "source": [
    "---\n",
    "layout: post\n",
    "title: \"시계열 데이터 - LSTM\"\n",
    "author: \"Chanjun Kim\"\n",
    "categories: Data분석\n",
    "tags: [Data, TimeSeries, ARIMA, LSTM, BOOSTING, REGRESSION, 시계열데이터, 시계열분석]\n",
    "image: 05_timeseries.png\n",
    "---"
   ]
  },
  {
   "cell_type": "markdown",
   "metadata": {},
   "source": [
    "## **학습목적**\n",
    "시계열 데이터를 다루는 법과 시계열 예측을 하기 위한 여러가지 모델을 사용해보고 특성을 이해한다.<br>\n",
    "이 포스팅에선 시계열 데이터의 대표적인 딥러닝 기법인 LSTM에 대해서 설명한다.\n",
    "> 이 글은 LSTM에 대한 글이므로 EDA에 대한 글은 따로 포스팅하겠습니다."
   ]
  },
  {
   "cell_type": "code",
   "execution_count": 32,
   "metadata": {},
   "outputs": [],
   "source": [
    "import os\n",
    "import sys\n",
    "import warnings\n",
    "from tqdm import tqdm\n",
    "\n",
    "import itertools\n",
    "import numpy as np\n",
    "import pandas as pd\n",
    "\n",
    "import matplotlib as mpl\n",
    "import matplotlib.pyplot as plt\n",
    "import plotnine as p9\n",
    "import seaborn as sns\n",
    "\n",
    "import scipy\n",
    "import stats\n",
    "from statsmodels.tsa.arima.model import ARIMA\n",
    "from statsmodels.graphics.tsaplots import plot_acf, plot_pacf\n",
    "from sklearn.metrics import mean_absolute_error\n",
    "\n",
    "import tensorflow as tf\n",
    "from tensorflow import keras\n",
    "from tensorflow.keras.models import Sequential, Model\n",
    "from tensorflow.keras.layers import Dense, LSTM, GRU, RNN, Reshape"
   ]
  },
  {
   "cell_type": "code",
   "execution_count": 3,
   "metadata": {},
   "outputs": [],
   "source": [
    "%matplotlib inline\n",
    "warnings.filterwarnings(\"ignore\")"
   ]
  },
  {
   "cell_type": "code",
   "execution_count": 4,
   "metadata": {},
   "outputs": [],
   "source": [
    "mpl.rcParams['axes.unicode_minus'] = False\n",
    "# fm._rebuild()\n",
    "plt.rcParams[\"font.family\"] = 'NanumMyeongjo'\n",
    "plt.rcParams[\"figure.figsize\"] = (10,10)"
   ]
  },
  {
   "cell_type": "code",
   "execution_count": 8,
   "metadata": {},
   "outputs": [
    {
     "data": {
      "text/html": [
       "<div>\n",
       "<style scoped>\n",
       "    .dataframe tbody tr th:only-of-type {\n",
       "        vertical-align: middle;\n",
       "    }\n",
       "\n",
       "    .dataframe tbody tr th {\n",
       "        vertical-align: top;\n",
       "    }\n",
       "\n",
       "    .dataframe thead th {\n",
       "        text-align: right;\n",
       "    }\n",
       "</style>\n",
       "<table border=\"1\" class=\"dataframe\">\n",
       "  <thead>\n",
       "    <tr style=\"text-align: right;\">\n",
       "      <th></th>\n",
       "      <th>num</th>\n",
       "      <th>date_time</th>\n",
       "      <th>전력사용량(kWh)</th>\n",
       "      <th>기온(°C)</th>\n",
       "      <th>풍속(m/s)</th>\n",
       "      <th>습도(%)</th>\n",
       "      <th>강수량(mm)</th>\n",
       "      <th>일조(hr)</th>\n",
       "      <th>비전기냉방설비운영</th>\n",
       "      <th>태양광보유</th>\n",
       "    </tr>\n",
       "  </thead>\n",
       "  <tbody>\n",
       "    <tr>\n",
       "      <th>0</th>\n",
       "      <td>1</td>\n",
       "      <td>2020-06-01 00</td>\n",
       "      <td>8179.056</td>\n",
       "      <td>17.6</td>\n",
       "      <td>2.5</td>\n",
       "      <td>92.0</td>\n",
       "      <td>0.8</td>\n",
       "      <td>0.0</td>\n",
       "      <td>0.0</td>\n",
       "      <td>0.0</td>\n",
       "    </tr>\n",
       "    <tr>\n",
       "      <th>1</th>\n",
       "      <td>1</td>\n",
       "      <td>2020-06-01 01</td>\n",
       "      <td>8135.640</td>\n",
       "      <td>17.7</td>\n",
       "      <td>2.9</td>\n",
       "      <td>91.0</td>\n",
       "      <td>0.3</td>\n",
       "      <td>0.0</td>\n",
       "      <td>0.0</td>\n",
       "      <td>0.0</td>\n",
       "    </tr>\n",
       "    <tr>\n",
       "      <th>2</th>\n",
       "      <td>1</td>\n",
       "      <td>2020-06-01 02</td>\n",
       "      <td>8107.128</td>\n",
       "      <td>17.5</td>\n",
       "      <td>3.2</td>\n",
       "      <td>91.0</td>\n",
       "      <td>0.0</td>\n",
       "      <td>0.0</td>\n",
       "      <td>0.0</td>\n",
       "      <td>0.0</td>\n",
       "    </tr>\n",
       "    <tr>\n",
       "      <th>3</th>\n",
       "      <td>1</td>\n",
       "      <td>2020-06-01 03</td>\n",
       "      <td>8048.808</td>\n",
       "      <td>17.1</td>\n",
       "      <td>3.2</td>\n",
       "      <td>91.0</td>\n",
       "      <td>0.0</td>\n",
       "      <td>0.0</td>\n",
       "      <td>0.0</td>\n",
       "      <td>0.0</td>\n",
       "    </tr>\n",
       "    <tr>\n",
       "      <th>4</th>\n",
       "      <td>1</td>\n",
       "      <td>2020-06-01 04</td>\n",
       "      <td>8043.624</td>\n",
       "      <td>17.0</td>\n",
       "      <td>3.3</td>\n",
       "      <td>92.0</td>\n",
       "      <td>0.0</td>\n",
       "      <td>0.0</td>\n",
       "      <td>0.0</td>\n",
       "      <td>0.0</td>\n",
       "    </tr>\n",
       "  </tbody>\n",
       "</table>\n",
       "</div>"
      ],
      "text/plain": [
       "   num      date_time  전력사용량(kWh)  기온(°C)  풍속(m/s)  습도(%)  강수량(mm)  일조(hr)  \\\n",
       "0    1  2020-06-01 00    8179.056    17.6      2.5   92.0      0.8     0.0   \n",
       "1    1  2020-06-01 01    8135.640    17.7      2.9   91.0      0.3     0.0   \n",
       "2    1  2020-06-01 02    8107.128    17.5      3.2   91.0      0.0     0.0   \n",
       "3    1  2020-06-01 03    8048.808    17.1      3.2   91.0      0.0     0.0   \n",
       "4    1  2020-06-01 04    8043.624    17.0      3.3   92.0      0.0     0.0   \n",
       "\n",
       "   비전기냉방설비운영  태양광보유  \n",
       "0        0.0    0.0  \n",
       "1        0.0    0.0  \n",
       "2        0.0    0.0  \n",
       "3        0.0    0.0  \n",
       "4        0.0    0.0  "
      ]
     },
     "execution_count": 8,
     "metadata": {},
     "output_type": "execute_result"
    }
   ],
   "source": [
    "train = pd.read_csv(\"data/dacon/energy/train.csv\", encoding = \"cp949\")\n",
    "train.head()"
   ]
  },
  {
   "cell_type": "code",
   "execution_count": 9,
   "metadata": {},
   "outputs": [
    {
     "name": "stdout",
     "output_type": "stream",
     "text": [
      "<class 'pandas.core.frame.DataFrame'>\n",
      "RangeIndex: 122400 entries, 0 to 122399\n",
      "Data columns (total 10 columns):\n",
      " #   Column      Non-Null Count   Dtype  \n",
      "---  ------      --------------   -----  \n",
      " 0   num         122400 non-null  int64  \n",
      " 1   date_time   122400 non-null  object \n",
      " 2   전력사용량(kWh)  122400 non-null  float64\n",
      " 3   기온(°C)      122400 non-null  float64\n",
      " 4   풍속(m/s)     122400 non-null  float64\n",
      " 5   습도(%)       122400 non-null  float64\n",
      " 6   강수량(mm)     122400 non-null  float64\n",
      " 7   일조(hr)      122400 non-null  float64\n",
      " 8   비전기냉방설비운영   122400 non-null  float64\n",
      " 9   태양광보유       122400 non-null  float64\n",
      "dtypes: float64(8), int64(1), object(1)\n",
      "memory usage: 9.3+ MB\n"
     ]
    }
   ],
   "source": [
    "train.info()"
   ]
  },
  {
   "cell_type": "code",
   "execution_count": 10,
   "metadata": {},
   "outputs": [
    {
     "data": {
      "text/html": [
       "<div>\n",
       "<style scoped>\n",
       "    .dataframe tbody tr th:only-of-type {\n",
       "        vertical-align: middle;\n",
       "    }\n",
       "\n",
       "    .dataframe tbody tr th {\n",
       "        vertical-align: top;\n",
       "    }\n",
       "\n",
       "    .dataframe thead th {\n",
       "        text-align: right;\n",
       "    }\n",
       "</style>\n",
       "<table border=\"1\" class=\"dataframe\">\n",
       "  <thead>\n",
       "    <tr style=\"text-align: right;\">\n",
       "      <th></th>\n",
       "      <th>num</th>\n",
       "      <th>date_time</th>\n",
       "      <th>기온(°C)</th>\n",
       "      <th>풍속(m/s)</th>\n",
       "      <th>습도(%)</th>\n",
       "      <th>강수량(mm, 6시간)</th>\n",
       "      <th>일조(hr, 3시간)</th>\n",
       "      <th>비전기냉방설비운영</th>\n",
       "      <th>태양광보유</th>\n",
       "    </tr>\n",
       "  </thead>\n",
       "  <tbody>\n",
       "    <tr>\n",
       "      <th>0</th>\n",
       "      <td>1</td>\n",
       "      <td>2020-08-25 00</td>\n",
       "      <td>27.8</td>\n",
       "      <td>1.5</td>\n",
       "      <td>74.0</td>\n",
       "      <td>0.0</td>\n",
       "      <td>0.0</td>\n",
       "      <td>NaN</td>\n",
       "      <td>NaN</td>\n",
       "    </tr>\n",
       "    <tr>\n",
       "      <th>1</th>\n",
       "      <td>1</td>\n",
       "      <td>2020-08-25 01</td>\n",
       "      <td>NaN</td>\n",
       "      <td>NaN</td>\n",
       "      <td>NaN</td>\n",
       "      <td>NaN</td>\n",
       "      <td>NaN</td>\n",
       "      <td>NaN</td>\n",
       "      <td>NaN</td>\n",
       "    </tr>\n",
       "    <tr>\n",
       "      <th>2</th>\n",
       "      <td>1</td>\n",
       "      <td>2020-08-25 02</td>\n",
       "      <td>NaN</td>\n",
       "      <td>NaN</td>\n",
       "      <td>NaN</td>\n",
       "      <td>NaN</td>\n",
       "      <td>NaN</td>\n",
       "      <td>NaN</td>\n",
       "      <td>NaN</td>\n",
       "    </tr>\n",
       "    <tr>\n",
       "      <th>3</th>\n",
       "      <td>1</td>\n",
       "      <td>2020-08-25 03</td>\n",
       "      <td>27.3</td>\n",
       "      <td>1.1</td>\n",
       "      <td>78.0</td>\n",
       "      <td>NaN</td>\n",
       "      <td>0.0</td>\n",
       "      <td>NaN</td>\n",
       "      <td>NaN</td>\n",
       "    </tr>\n",
       "    <tr>\n",
       "      <th>4</th>\n",
       "      <td>1</td>\n",
       "      <td>2020-08-25 04</td>\n",
       "      <td>NaN</td>\n",
       "      <td>NaN</td>\n",
       "      <td>NaN</td>\n",
       "      <td>NaN</td>\n",
       "      <td>NaN</td>\n",
       "      <td>NaN</td>\n",
       "      <td>NaN</td>\n",
       "    </tr>\n",
       "  </tbody>\n",
       "</table>\n",
       "</div>"
      ],
      "text/plain": [
       "   num      date_time  기온(°C)  풍속(m/s)  습도(%)  강수량(mm, 6시간)  일조(hr, 3시간)  \\\n",
       "0    1  2020-08-25 00    27.8      1.5   74.0           0.0          0.0   \n",
       "1    1  2020-08-25 01     NaN      NaN    NaN           NaN          NaN   \n",
       "2    1  2020-08-25 02     NaN      NaN    NaN           NaN          NaN   \n",
       "3    1  2020-08-25 03    27.3      1.1   78.0           NaN          0.0   \n",
       "4    1  2020-08-25 04     NaN      NaN    NaN           NaN          NaN   \n",
       "\n",
       "   비전기냉방설비운영  태양광보유  \n",
       "0        NaN    NaN  \n",
       "1        NaN    NaN  \n",
       "2        NaN    NaN  \n",
       "3        NaN    NaN  \n",
       "4        NaN    NaN  "
      ]
     },
     "execution_count": 10,
     "metadata": {},
     "output_type": "execute_result"
    }
   ],
   "source": [
    "test = pd.read_csv(\"data/dacon/energy/test.csv\", encoding = \"cp949\")\n",
    "test.head()"
   ]
  },
  {
   "cell_type": "code",
   "execution_count": 11,
   "metadata": {},
   "outputs": [
    {
     "name": "stdout",
     "output_type": "stream",
     "text": [
      "<class 'pandas.core.frame.DataFrame'>\n",
      "RangeIndex: 10080 entries, 0 to 10079\n",
      "Data columns (total 9 columns):\n",
      " #   Column        Non-Null Count  Dtype  \n",
      "---  ------        --------------  -----  \n",
      " 0   num           10080 non-null  int64  \n",
      " 1   date_time     10080 non-null  object \n",
      " 2   기온(°C)        3360 non-null   float64\n",
      " 3   풍속(m/s)       3360 non-null   float64\n",
      " 4   습도(%)         3360 non-null   float64\n",
      " 5   강수량(mm, 6시간)  1680 non-null   float64\n",
      " 6   일조(hr, 3시간)   3360 non-null   float64\n",
      " 7   비전기냉방설비운영     2296 non-null   float64\n",
      " 8   태양광보유         1624 non-null   float64\n",
      "dtypes: float64(7), int64(1), object(1)\n",
      "memory usage: 708.9+ KB\n"
     ]
    }
   ],
   "source": [
    "test.info()"
   ]
  },
  {
   "cell_type": "code",
   "execution_count": 12,
   "metadata": {},
   "outputs": [
    {
     "name": "stdout",
     "output_type": "stream",
     "text": [
      "60\n",
      "60\n",
      "    num  num\n",
      "1  2040  168\n",
      "2  2040  168\n",
      "3  2040  168\n",
      "4  2040  168\n",
      "5  2040  168\n"
     ]
    }
   ],
   "source": [
    "print(train.num.nunique())\n",
    "print(test.num.nunique())\n",
    "print(pd.concat([train.num.value_counts().sort_index(), test.num.value_counts()], axis = 1).head())"
   ]
  },
  {
   "cell_type": "code",
   "execution_count": 14,
   "metadata": {},
   "outputs": [],
   "source": [
    "input_window =996 #임의의 수\n",
    "output_window = 24 #168 7일 24시간\n",
    "window = 12 #window는 12시간 마다는 12시간 마다\n",
    "num_features = 1 #베이스라인은 feature를 하나만 사용했습니다.\n",
    "num_power = 60\n",
    "end_=168\n",
    "lstm_units=32\n",
    "dropout=0.2\n",
    "EPOCH=30\n",
    "BATCH_SIZE=128"
   ]
  },
  {
   "cell_type": "code",
   "execution_count": 69,
   "metadata": {},
   "outputs": [],
   "source": [
    "from tensorflow.keras.preprocessing import timeseries_dataset_from_array"
   ]
  },
  {
   "cell_type": "code",
   "execution_count": 215,
   "metadata": {},
   "outputs": [],
   "source": [
    "from keras.preprocessing.sequence import TimeseriesGenerator\n",
    "import numpy as np\n",
    "data = np.array([[i] for i in range(50)])\n",
    "targets = np.array([[i] for i in range(50)])\n",
    "data_gen = TimeseriesGenerator(data, targets,\n",
    "                               length=10, sampling_rate=1,\n",
    "                               batch_size=2, stride = 5)"
   ]
  },
  {
   "cell_type": "code",
   "execution_count": 216,
   "metadata": {},
   "outputs": [
    {
     "data": {
      "text/plain": [
       "'{\"class_name\": \"TimeseriesGenerator\", \"config\": {\"data\": \"[[0], [1], [2], [3], [4], [5], [6], [7], [8], [9], [10], [11], [12], [13], [14], [15], [16], [17], [18], [19], [20], [21], [22], [23], [24], [25], [26], [27], [28], [29], [30], [31], [32], [33], [34], [35], [36], [37], [38], [39], [40], [41], [42], [43], [44], [45], [46], [47], [48], [49]]\", \"targets\": \"[[0], [1], [2], [3], [4], [5], [6], [7], [8], [9], [10], [11], [12], [13], [14], [15], [16], [17], [18], [19], [20], [21], [22], [23], [24], [25], [26], [27], [28], [29], [30], [31], [32], [33], [34], [35], [36], [37], [38], [39], [40], [41], [42], [43], [44], [45], [46], [47], [48], [49]]\", \"length\": 10, \"sampling_rate\": 1, \"stride\": 5, \"start_index\": 10, \"end_index\": 49, \"shuffle\": false, \"reverse\": false, \"batch_size\": 2}}'"
      ]
     },
     "execution_count": 216,
     "metadata": {},
     "output_type": "execute_result"
    }
   ],
   "source": [
    "data_gen.to_json()"
   ]
  },
  {
   "cell_type": "code",
   "execution_count": 187,
   "metadata": {},
   "outputs": [
    {
     "name": "stdout",
     "output_type": "stream",
     "text": [
      "[[[ 0]\n",
      "  [ 1]\n",
      "  [ 2]\n",
      "  [ 3]\n",
      "  [ 4]\n",
      "  [ 5]\n",
      "  [ 6]\n",
      "  [ 7]\n",
      "  [ 8]\n",
      "  [ 9]]\n",
      "\n",
      " [[ 5]\n",
      "  [ 6]\n",
      "  [ 7]\n",
      "  [ 8]\n",
      "  [ 9]\n",
      "  [10]\n",
      "  [11]\n",
      "  [12]\n",
      "  [13]\n",
      "  [14]]]\n",
      "[[10]\n",
      " [15]]\n"
     ]
    }
   ],
   "source": [
    "print(data_gen[0][0])\n",
    "print(data_gen[0][1])"
   ]
  },
  {
   "cell_type": "code",
   "execution_count": 188,
   "metadata": {},
   "outputs": [
    {
     "name": "stdout",
     "output_type": "stream",
     "text": [
      "[[[10]\n",
      "  [11]\n",
      "  [12]\n",
      "  [13]\n",
      "  [14]\n",
      "  [15]\n",
      "  [16]\n",
      "  [17]\n",
      "  [18]\n",
      "  [19]]\n",
      "\n",
      " [[15]\n",
      "  [16]\n",
      "  [17]\n",
      "  [18]\n",
      "  [19]\n",
      "  [20]\n",
      "  [21]\n",
      "  [22]\n",
      "  [23]\n",
      "  [24]]]\n",
      "[[20]\n",
      " [25]]\n"
     ]
    }
   ],
   "source": [
    "print(data_gen[1][0])\n",
    "print(data_gen[1][1])"
   ]
  },
  {
   "cell_type": "code",
   "execution_count": 307,
   "metadata": {},
   "outputs": [],
   "source": [
    "from keras.preprocessing.sequence import TimeseriesGenerator\n",
    "import numpy as np\n",
    "data = np.array(train.loc[train.num == 1].iloc[ : , [0, 2]].reset_index(drop = True))\n",
    "targets = np.array(train.loc[train.num == 1].iloc[ : , [2]].reset_index(drop = True))\n",
    "data_gen = TimeseriesGenerator(data, targets,\n",
    "                               length=10,\n",
    "                               batch_size=2)"
   ]
  },
  {
   "cell_type": "code",
   "execution_count": 361,
   "metadata": {},
   "outputs": [],
   "source": [
    "x = 1\n",
    "data = np.array(train.loc[train.num == x].iloc[ : , [0, 2]].reset_index(drop = True))\n",
    "targets = np.array(train.loc[train.num == x].iloc[ : , [2]].reset_index(drop = True))\n",
    "data_gen = TimeseriesGenerator(data, targets, length=10, batch_size = 2030)\n",
    "    "
   ]
  },
  {
   "cell_type": "code",
   "execution_count": 366,
   "metadata": {},
   "outputs": [
    {
     "data": {
      "text/plain": [
       "(array([[[1.000000e+00, 8.179056e+03],\n",
       "         [1.000000e+00, 8.135640e+03],\n",
       "         [1.000000e+00, 8.107128e+03],\n",
       "         ...,\n",
       "         [1.000000e+00, 8.019000e+03],\n",
       "         [1.000000e+00, 8.020944e+03],\n",
       "         [1.000000e+00, 8.083152e+03]],\n",
       " \n",
       "        [[1.000000e+00, 8.135640e+03],\n",
       "         [1.000000e+00, 8.107128e+03],\n",
       "         [1.000000e+00, 8.048808e+03],\n",
       "         ...,\n",
       "         [1.000000e+00, 8.020944e+03],\n",
       "         [1.000000e+00, 8.083152e+03],\n",
       "         [1.000000e+00, 8.116200e+03]],\n",
       " \n",
       "        [[1.000000e+00, 8.107128e+03],\n",
       "         [1.000000e+00, 8.048808e+03],\n",
       "         [1.000000e+00, 8.043624e+03],\n",
       "         ...,\n",
       "         [1.000000e+00, 8.083152e+03],\n",
       "         [1.000000e+00, 8.116200e+03],\n",
       "         [1.000000e+00, 8.104536e+03]],\n",
       " \n",
       "        ...,\n",
       " \n",
       "        [[1.000000e+00, 8.714952e+03],\n",
       "         [1.000000e+00, 8.717544e+03],\n",
       "         [1.000000e+00, 8.727912e+03],\n",
       "         ...,\n",
       "         [1.000000e+00, 8.747352e+03],\n",
       "         [1.000000e+00, 8.714952e+03],\n",
       "         [1.000000e+00, 8.740224e+03]],\n",
       " \n",
       "        [[1.000000e+00, 8.717544e+03],\n",
       "         [1.000000e+00, 8.727912e+03],\n",
       "         [1.000000e+00, 8.782344e+03],\n",
       "         ...,\n",
       "         [1.000000e+00, 8.714952e+03],\n",
       "         [1.000000e+00, 8.740224e+03],\n",
       "         [1.000000e+00, 8.730504e+03]],\n",
       " \n",
       "        [[1.000000e+00, 8.727912e+03],\n",
       "         [1.000000e+00, 8.782344e+03],\n",
       "         [1.000000e+00, 8.782344e+03],\n",
       "         ...,\n",
       "         [1.000000e+00, 8.740224e+03],\n",
       "         [1.000000e+00, 8.730504e+03],\n",
       "         [1.000000e+00, 8.725968e+03]]]),\n",
       " array([[8116.2  ],\n",
       "        [8104.536],\n",
       "        [8088.984],\n",
       "        ...,\n",
       "        [8730.504],\n",
       "        [8725.968],\n",
       "        [8705.232]]))"
      ]
     },
     "execution_count": 366,
     "metadata": {},
     "output_type": "execute_result"
    }
   ],
   "source": [
    "data_gen[0]"
   ]
  },
  {
   "cell_type": "code",
   "execution_count": 346,
   "metadata": {},
   "outputs": [
    {
     "data": {
      "text/plain": [
       "1015"
      ]
     },
     "execution_count": 346,
     "metadata": {},
     "output_type": "execute_result"
    }
   ],
   "source": [
    "len(data_gen)"
   ]
  },
  {
   "cell_type": "code",
   "execution_count": 322,
   "metadata": {},
   "outputs": [
    {
     "data": {
      "text/plain": [
       "array([[[1.000000e+00, 8.179056e+03],\n",
       "        [1.000000e+00, 8.135640e+03],\n",
       "        [1.000000e+00, 8.107128e+03],\n",
       "        [1.000000e+00, 8.048808e+03],\n",
       "        [1.000000e+00, 8.043624e+03],\n",
       "        [1.000000e+00, 8.010576e+03],\n",
       "        [1.000000e+00, 7.978176e+03],\n",
       "        [1.000000e+00, 8.019000e+03],\n",
       "        [1.000000e+00, 8.020944e+03],\n",
       "        [1.000000e+00, 8.083152e+03]],\n",
       "\n",
       "       [[1.000000e+00, 8.135640e+03],\n",
       "        [1.000000e+00, 8.107128e+03],\n",
       "        [1.000000e+00, 8.048808e+03],\n",
       "        [1.000000e+00, 8.043624e+03],\n",
       "        [1.000000e+00, 8.010576e+03],\n",
       "        [1.000000e+00, 7.978176e+03],\n",
       "        [1.000000e+00, 8.019000e+03],\n",
       "        [1.000000e+00, 8.020944e+03],\n",
       "        [1.000000e+00, 8.083152e+03],\n",
       "        [1.000000e+00, 8.116200e+03]]])"
      ]
     },
     "execution_count": 322,
     "metadata": {},
     "output_type": "execute_result"
    }
   ],
   "source": [
    "data_gen[0][0]"
   ]
  },
  {
   "cell_type": "code",
   "execution_count": 324,
   "metadata": {},
   "outputs": [
    {
     "data": {
      "text/plain": [
       "array([[8116.2  ],\n",
       "       [8104.536]])"
      ]
     },
     "execution_count": 324,
     "metadata": {},
     "output_type": "execute_result"
    }
   ],
   "source": [
    "data_gen[0][1]"
   ]
  },
  {
   "cell_type": "code",
   "execution_count": 296,
   "metadata": {},
   "outputs": [],
   "source": [
    "import json"
   ]
  },
  {
   "cell_type": "code",
   "execution_count": 337,
   "metadata": {
    "scrolled": true,
    "tags": []
   },
   "outputs": [
    {
     "data": {
      "text/plain": [
       "(2040, 2)"
      ]
     },
     "execution_count": 337,
     "metadata": {},
     "output_type": "execute_result"
    }
   ],
   "source": [
    "np.array(json.loads(json.loads(data_gen.to_json())[\"config\"][\"data\"])).shape"
   ]
  },
  {
   "cell_type": "code",
   "execution_count": 344,
   "metadata": {
    "scrolled": true,
    "tags": []
   },
   "outputs": [
    {
     "name": "stdout",
     "output_type": "stream",
     "text": [
      "(array([[[1.000000e+00, 8.179056e+03],\n",
      "        [1.000000e+00, 8.135640e+03],\n",
      "        [1.000000e+00, 8.107128e+03],\n",
      "        [1.000000e+00, 8.048808e+03],\n",
      "        [1.000000e+00, 8.043624e+03],\n",
      "        [1.000000e+00, 8.010576e+03],\n",
      "        [1.000000e+00, 7.978176e+03],\n",
      "        [1.000000e+00, 8.019000e+03],\n",
      "        [1.000000e+00, 8.020944e+03],\n",
      "        [1.000000e+00, 8.083152e+03]],\n",
      "\n",
      "       [[1.000000e+00, 8.135640e+03],\n",
      "        [1.000000e+00, 8.107128e+03],\n",
      "        [1.000000e+00, 8.048808e+03],\n",
      "        [1.000000e+00, 8.043624e+03],\n",
      "        [1.000000e+00, 8.010576e+03],\n",
      "        [1.000000e+00, 7.978176e+03],\n",
      "        [1.000000e+00, 8.019000e+03],\n",
      "        [1.000000e+00, 8.020944e+03],\n",
      "        [1.000000e+00, 8.083152e+03],\n",
      "        [1.000000e+00, 8.116200e+03]]]), array([[8116.2  ],\n",
      "       [8104.536]]))\n",
      "(array([[[1.000000e+00, 8.107128e+03],\n",
      "        [1.000000e+00, 8.048808e+03],\n",
      "        [1.000000e+00, 8.043624e+03],\n",
      "        [1.000000e+00, 8.010576e+03],\n",
      "        [1.000000e+00, 7.978176e+03],\n",
      "        [1.000000e+00, 8.019000e+03],\n",
      "        [1.000000e+00, 8.020944e+03],\n",
      "        [1.000000e+00, 8.083152e+03],\n",
      "        [1.000000e+00, 8.116200e+03],\n",
      "        [1.000000e+00, 8.104536e+03]],\n",
      "\n",
      "       [[1.000000e+00, 8.048808e+03],\n",
      "        [1.000000e+00, 8.043624e+03],\n",
      "        [1.000000e+00, 8.010576e+03],\n",
      "        [1.000000e+00, 7.978176e+03],\n",
      "        [1.000000e+00, 8.019000e+03],\n",
      "        [1.000000e+00, 8.020944e+03],\n",
      "        [1.000000e+00, 8.083152e+03],\n",
      "        [1.000000e+00, 8.116200e+03],\n",
      "        [1.000000e+00, 8.104536e+03],\n",
      "        [1.000000e+00, 8.088984e+03]]]), array([[8088.984],\n",
      "       [8102.592]]))\n",
      "(array([[[1.000000e+00, 8.043624e+03],\n",
      "        [1.000000e+00, 8.010576e+03],\n",
      "        [1.000000e+00, 7.978176e+03],\n",
      "        [1.000000e+00, 8.019000e+03],\n",
      "        [1.000000e+00, 8.020944e+03],\n",
      "        [1.000000e+00, 8.083152e+03],\n",
      "        [1.000000e+00, 8.116200e+03],\n",
      "        [1.000000e+00, 8.104536e+03],\n",
      "        [1.000000e+00, 8.088984e+03],\n",
      "        [1.000000e+00, 8.102592e+03]],\n",
      "\n",
      "       [[1.000000e+00, 8.010576e+03],\n",
      "        [1.000000e+00, 7.978176e+03],\n",
      "        [1.000000e+00, 8.019000e+03],\n",
      "        [1.000000e+00, 8.020944e+03],\n",
      "        [1.000000e+00, 8.083152e+03],\n",
      "        [1.000000e+00, 8.116200e+03],\n",
      "        [1.000000e+00, 8.104536e+03],\n",
      "        [1.000000e+00, 8.088984e+03],\n",
      "        [1.000000e+00, 8.102592e+03],\n",
      "        [1.000000e+00, 8.088336e+03]]]), array([[8088.336],\n",
      "       [8076.672]]))\n",
      "(array([[[1.000000e+00, 7.978176e+03],\n",
      "        [1.000000e+00, 8.019000e+03],\n",
      "        [1.000000e+00, 8.020944e+03],\n",
      "        [1.000000e+00, 8.083152e+03],\n",
      "        [1.000000e+00, 8.116200e+03],\n",
      "        [1.000000e+00, 8.104536e+03],\n",
      "        [1.000000e+00, 8.088984e+03],\n",
      "        [1.000000e+00, 8.102592e+03],\n",
      "        [1.000000e+00, 8.088336e+03],\n",
      "        [1.000000e+00, 8.076672e+03]],\n",
      "\n",
      "       [[1.000000e+00, 8.019000e+03],\n",
      "        [1.000000e+00, 8.020944e+03],\n",
      "        [1.000000e+00, 8.083152e+03],\n",
      "        [1.000000e+00, 8.116200e+03],\n",
      "        [1.000000e+00, 8.104536e+03],\n",
      "        [1.000000e+00, 8.088984e+03],\n",
      "        [1.000000e+00, 8.102592e+03],\n",
      "        [1.000000e+00, 8.088336e+03],\n",
      "        [1.000000e+00, 8.076672e+03],\n",
      "        [1.000000e+00, 8.032608e+03]]]), array([[8032.608],\n",
      "       [8013.816]]))\n",
      "(array([[[1.000000e+00, 8.020944e+03],\n",
      "        [1.000000e+00, 8.083152e+03],\n",
      "        [1.000000e+00, 8.116200e+03],\n",
      "        [1.000000e+00, 8.104536e+03],\n",
      "        [1.000000e+00, 8.088984e+03],\n",
      "        [1.000000e+00, 8.102592e+03],\n",
      "        [1.000000e+00, 8.088336e+03],\n",
      "        [1.000000e+00, 8.076672e+03],\n",
      "        [1.000000e+00, 8.032608e+03],\n",
      "        [1.000000e+00, 8.013816e+03]],\n",
      "\n",
      "       [[1.000000e+00, 8.083152e+03],\n",
      "        [1.000000e+00, 8.116200e+03],\n",
      "        [1.000000e+00, 8.104536e+03],\n",
      "        [1.000000e+00, 8.088984e+03],\n",
      "        [1.000000e+00, 8.102592e+03],\n",
      "        [1.000000e+00, 8.088336e+03],\n",
      "        [1.000000e+00, 8.076672e+03],\n",
      "        [1.000000e+00, 8.032608e+03],\n",
      "        [1.000000e+00, 8.013816e+03],\n",
      "        [1.000000e+00, 8.029368e+03]]]), array([[8029.368],\n",
      "       [8028.072]]))\n",
      "(array([[[1.000000e+00, 8.116200e+03],\n",
      "        [1.000000e+00, 8.104536e+03],\n",
      "        [1.000000e+00, 8.088984e+03],\n",
      "        [1.000000e+00, 8.102592e+03],\n",
      "        [1.000000e+00, 8.088336e+03],\n",
      "        [1.000000e+00, 8.076672e+03],\n",
      "        [1.000000e+00, 8.032608e+03],\n",
      "        [1.000000e+00, 8.013816e+03],\n",
      "        [1.000000e+00, 8.029368e+03],\n",
      "        [1.000000e+00, 8.028072e+03]],\n",
      "\n",
      "       [[1.000000e+00, 8.104536e+03],\n",
      "        [1.000000e+00, 8.088984e+03],\n",
      "        [1.000000e+00, 8.102592e+03],\n",
      "        [1.000000e+00, 8.088336e+03],\n",
      "        [1.000000e+00, 8.076672e+03],\n",
      "        [1.000000e+00, 8.032608e+03],\n",
      "        [1.000000e+00, 8.013816e+03],\n",
      "        [1.000000e+00, 8.029368e+03],\n",
      "        [1.000000e+00, 8.028072e+03],\n",
      "        [1.000000e+00, 7.994376e+03]]]), array([[7994.376],\n",
      "       [7974.936]]))\n",
      "(array([[[1.000000e+00, 8.088984e+03],\n",
      "        [1.000000e+00, 8.102592e+03],\n",
      "        [1.000000e+00, 8.088336e+03],\n",
      "        [1.000000e+00, 8.076672e+03],\n",
      "        [1.000000e+00, 8.032608e+03],\n",
      "        [1.000000e+00, 8.013816e+03],\n",
      "        [1.000000e+00, 8.029368e+03],\n",
      "        [1.000000e+00, 8.028072e+03],\n",
      "        [1.000000e+00, 7.994376e+03],\n",
      "        [1.000000e+00, 7.974936e+03]],\n",
      "\n",
      "       [[1.000000e+00, 8.102592e+03],\n",
      "        [1.000000e+00, 8.088336e+03],\n",
      "        [1.000000e+00, 8.076672e+03],\n",
      "        [1.000000e+00, 8.032608e+03],\n",
      "        [1.000000e+00, 8.013816e+03],\n",
      "        [1.000000e+00, 8.029368e+03],\n",
      "        [1.000000e+00, 8.028072e+03],\n",
      "        [1.000000e+00, 7.994376e+03],\n",
      "        [1.000000e+00, 7.974936e+03],\n",
      "        [1.000000e+00, 7.972992e+03]]]), array([[7972.992],\n",
      "       [7945.128]]))\n",
      "(array([[[1.000000e+00, 8.088336e+03],\n",
      "        [1.000000e+00, 8.076672e+03],\n",
      "        [1.000000e+00, 8.032608e+03],\n",
      "        [1.000000e+00, 8.013816e+03],\n",
      "        [1.000000e+00, 8.029368e+03],\n",
      "        [1.000000e+00, 8.028072e+03],\n",
      "        [1.000000e+00, 7.994376e+03],\n",
      "        [1.000000e+00, 7.974936e+03],\n",
      "        [1.000000e+00, 7.972992e+03],\n",
      "        [1.000000e+00, 7.945128e+03]],\n",
      "\n",
      "       [[1.000000e+00, 8.076672e+03],\n",
      "        [1.000000e+00, 8.032608e+03],\n",
      "        [1.000000e+00, 8.013816e+03],\n",
      "        [1.000000e+00, 8.029368e+03],\n",
      "        [1.000000e+00, 8.028072e+03],\n",
      "        [1.000000e+00, 7.994376e+03],\n",
      "        [1.000000e+00, 7.974936e+03],\n",
      "        [1.000000e+00, 7.972992e+03],\n",
      "        [1.000000e+00, 7.945128e+03],\n",
      "        [1.000000e+00, 7.920504e+03]]]), array([[7920.504],\n",
      "       [7890.048]]))\n",
      "(array([[[1.000000e+00, 8.032608e+03],\n",
      "        [1.000000e+00, 8.013816e+03],\n",
      "        [1.000000e+00, 8.029368e+03],\n",
      "        [1.000000e+00, 8.028072e+03],\n",
      "        [1.000000e+00, 7.994376e+03],\n",
      "        [1.000000e+00, 7.974936e+03],\n",
      "        [1.000000e+00, 7.972992e+03],\n",
      "        [1.000000e+00, 7.945128e+03],\n",
      "        [1.000000e+00, 7.920504e+03],\n",
      "        [1.000000e+00, 7.890048e+03]],\n",
      "\n",
      "       [[1.000000e+00, 8.013816e+03],\n",
      "        [1.000000e+00, 8.029368e+03],\n",
      "        [1.000000e+00, 8.028072e+03],\n",
      "        [1.000000e+00, 7.994376e+03],\n",
      "        [1.000000e+00, 7.974936e+03],\n",
      "        [1.000000e+00, 7.972992e+03],\n",
      "        [1.000000e+00, 7.945128e+03],\n",
      "        [1.000000e+00, 7.920504e+03],\n",
      "        [1.000000e+00, 7.890048e+03],\n",
      "        [1.000000e+00, 7.868016e+03]]]), array([[7868.016],\n",
      "       [7847.28 ]]))\n",
      "(array([[[1.000000e+00, 8.029368e+03],\n",
      "        [1.000000e+00, 8.028072e+03],\n",
      "        [1.000000e+00, 7.994376e+03],\n",
      "        [1.000000e+00, 7.974936e+03],\n",
      "        [1.000000e+00, 7.972992e+03],\n",
      "        [1.000000e+00, 7.945128e+03],\n",
      "        [1.000000e+00, 7.920504e+03],\n",
      "        [1.000000e+00, 7.890048e+03],\n",
      "        [1.000000e+00, 7.868016e+03],\n",
      "        [1.000000e+00, 7.847280e+03]],\n",
      "\n",
      "       [[1.000000e+00, 8.028072e+03],\n",
      "        [1.000000e+00, 7.994376e+03],\n",
      "        [1.000000e+00, 7.974936e+03],\n",
      "        [1.000000e+00, 7.972992e+03],\n",
      "        [1.000000e+00, 7.945128e+03],\n",
      "        [1.000000e+00, 7.920504e+03],\n",
      "        [1.000000e+00, 7.890048e+03],\n",
      "        [1.000000e+00, 7.868016e+03],\n",
      "        [1.000000e+00, 7.847280e+03],\n",
      "        [1.000000e+00, 7.799328e+03]]]), array([[7799.328],\n",
      "       [7801.92 ]]))\n",
      "(array([[[1.000000e+00, 7.994376e+03],\n",
      "        [1.000000e+00, 7.974936e+03],\n",
      "        [1.000000e+00, 7.972992e+03],\n",
      "        [1.000000e+00, 7.945128e+03],\n",
      "        [1.000000e+00, 7.920504e+03],\n",
      "        [1.000000e+00, 7.890048e+03],\n",
      "        [1.000000e+00, 7.868016e+03],\n",
      "        [1.000000e+00, 7.847280e+03],\n",
      "        [1.000000e+00, 7.799328e+03],\n",
      "        [1.000000e+00, 7.801920e+03]],\n",
      "\n",
      "       [[1.000000e+00, 7.974936e+03],\n",
      "        [1.000000e+00, 7.972992e+03],\n",
      "        [1.000000e+00, 7.945128e+03],\n",
      "        [1.000000e+00, 7.920504e+03],\n",
      "        [1.000000e+00, 7.890048e+03],\n",
      "        [1.000000e+00, 7.868016e+03],\n",
      "        [1.000000e+00, 7.847280e+03],\n",
      "        [1.000000e+00, 7.799328e+03],\n",
      "        [1.000000e+00, 7.801920e+03],\n",
      "        [1.000000e+00, 7.784424e+03]]]), array([[7784.424],\n",
      "       [7836.912]]))\n"
     ]
    }
   ],
   "source": [
    "for i, x in enumerate(data_gen.__iter__()) :\n",
    "    for x_ in x :\n",
    "        "
   ]
  },
  {
   "cell_type": "code",
   "execution_count": 327,
   "metadata": {
    "tags": []
   },
   "outputs": [
    {
     "data": {
      "text/plain": [
       "(204, 10, 2)"
      ]
     },
     "execution_count": 327,
     "metadata": {},
     "output_type": "execute_result"
    }
   ],
   "source": [
    "np.reshape(np.array(json.loads(json.loads(data_gen.to_json())[\"config\"][\"data\"])), (-1, 10, 2)).shape"
   ]
  },
  {
   "cell_type": "code",
   "execution_count": 320,
   "metadata": {},
   "outputs": [
    {
     "data": {
      "text/plain": [
       "(2040, 1)"
      ]
     },
     "execution_count": 320,
     "metadata": {},
     "output_type": "execute_result"
    }
   ],
   "source": [
    "np.array(json.loads(json.loads(data_gen.to_json())[\"config\"][\"targets\"])).shape"
   ]
  },
  {
   "cell_type": "code",
   "execution_count": 202,
   "metadata": {},
   "outputs": [
    {
     "data": {
      "text/plain": [
       "array([[[1.000000e+00, 8.725968e+03],\n",
       "        [1.000000e+00, 8.705232e+03],\n",
       "        [2.000000e+00, 9.771840e+02],\n",
       "        [2.000000e+00, 9.661680e+02],\n",
       "        [2.000000e+00, 9.729720e+02],\n",
       "        [2.000000e+00, 9.658440e+02],\n",
       "        [2.000000e+00, 9.716760e+02],\n",
       "        [2.000000e+00, 9.726480e+02],\n",
       "        [2.000000e+00, 1.041336e+03],\n",
       "        [2.000000e+00, 1.187136e+03]],\n",
       "\n",
       "       [[1.000000e+00, 8.705232e+03],\n",
       "        [2.000000e+00, 9.771840e+02],\n",
       "        [2.000000e+00, 9.661680e+02],\n",
       "        [2.000000e+00, 9.729720e+02],\n",
       "        [2.000000e+00, 9.658440e+02],\n",
       "        [2.000000e+00, 9.716760e+02],\n",
       "        [2.000000e+00, 9.726480e+02],\n",
       "        [2.000000e+00, 1.041336e+03],\n",
       "        [2.000000e+00, 1.187136e+03],\n",
       "        [2.000000e+00, 1.394820e+03]]])"
      ]
     },
     "execution_count": 202,
     "metadata": {},
     "output_type": "execute_result"
    }
   ],
   "source": [
    "data_gen[1019][0]"
   ]
  },
  {
   "cell_type": "code",
   "execution_count": 158,
   "metadata": {},
   "outputs": [
    {
     "data": {
      "text/plain": [
       "array([8116.2  , 1500.444])"
      ]
     },
     "execution_count": 158,
     "metadata": {},
     "output_type": "execute_result"
    }
   ],
   "source": [
    "data_gen[0][1]"
   ]
  },
  {
   "cell_type": "code",
   "execution_count": 15,
   "metadata": {},
   "outputs": [],
   "source": [
    "train_x=tf.reshape(train.iloc[:,2].values, [num_power, 24*85, num_features])"
   ]
  },
  {
   "cell_type": "code",
   "execution_count": 18,
   "metadata": {
    "scrolled": true,
    "tags": []
   },
   "outputs": [
    {
     "data": {
      "text/plain": [
       "TensorShape([60, 2040, 1])"
      ]
     },
     "execution_count": 18,
     "metadata": {},
     "output_type": "execute_result"
    }
   ],
   "source": [
    "train_x.shape"
   ]
  },
  {
   "cell_type": "code",
   "execution_count": 17,
   "metadata": {},
   "outputs": [
    {
     "name": "stdout",
     "output_type": "stream",
     "text": [
      "train_window_x.shape:(60, 85, 996, 1)\n",
      "train_window_y.shape:(60, 85, 24, 1)\n"
     ]
    }
   ],
   "source": [
    "train_window_x= np.zeros(( train_x.shape[0], (train_x.shape[1]-(input_window + output_window))//window, input_window, num_features)) \n",
    "train_window_y= np.zeros(( train_x.shape[0], (train_x.shape[1]-(input_window + output_window))//window, output_window, num_features))\n",
    "print(f'train_window_x.shape:{train_window_x.shape}')\n",
    "print(f'train_window_y.shape:{train_window_y.shape}')"
   ]
  },
  {
   "cell_type": "code",
   "execution_count": 20,
   "metadata": {},
   "outputs": [],
   "source": [
    "for example in range(train_x.shape[0]):\n",
    "    \n",
    "    for start in range(0, train_x.shape[1]-(input_window+output_window), window):\n",
    "        end=start+input_window\n",
    "        train_window_x[example, start//window, :] = train_x[example, start: end               , :]\n",
    "        train_window_y[example, start//window, :] = train_x[example, end  : end+ output_window, :]"
   ]
  },
  {
   "cell_type": "code",
   "execution_count": 24,
   "metadata": {},
   "outputs": [
    {
     "data": {
      "text/plain": [
       "84660"
      ]
     },
     "execution_count": 24,
     "metadata": {},
     "output_type": "execute_result"
    }
   ],
   "source": [
    "85*996"
   ]
  },
  {
   "cell_type": "code",
   "execution_count": 22,
   "metadata": {
    "scrolled": true,
    "tags": []
   },
   "outputs": [
    {
     "data": {
      "text/plain": [
       "<tf.Tensor: shape=(60, 2040, 1), dtype=float64, numpy=\n",
       "array([[[8179.056   ],\n",
       "        [8135.64    ],\n",
       "        [8107.128   ],\n",
       "        ...,\n",
       "        [8730.504   ],\n",
       "        [8725.968   ],\n",
       "        [8705.232   ]],\n",
       "\n",
       "       [[ 977.184   ],\n",
       "        [ 966.168   ],\n",
       "        [ 972.972   ],\n",
       "        ...,\n",
       "        [1214.028   ],\n",
       "        [1126.224   ],\n",
       "        [1107.432   ]],\n",
       "\n",
       "       [[3183.624   ],\n",
       "        [3171.636   ],\n",
       "        [3175.74    ],\n",
       "        ...,\n",
       "        [3569.301794],\n",
       "        [3549.66049 ],\n",
       "        [3465.782444]],\n",
       "\n",
       "       ...,\n",
       "\n",
       "       [[ 580.608   ],\n",
       "        [ 538.164   ],\n",
       "        [ 529.254   ],\n",
       "        ...,\n",
       "        [ 915.3     ],\n",
       "        [ 691.578   ],\n",
       "        [ 690.444   ]],\n",
       "\n",
       "       [[ 572.184   ],\n",
       "        [ 574.128   ],\n",
       "        [ 910.44    ],\n",
       "        ...,\n",
       "        [1003.104   ],\n",
       "        [1110.672   ],\n",
       "        [ 985.284   ]],\n",
       "\n",
       "       [[2528.496   ],\n",
       "        [2243.808   ],\n",
       "        [2284.848   ],\n",
       "        ...,\n",
       "        [3572.208   ],\n",
       "        [3299.184   ],\n",
       "        [3204.576   ]]])>"
      ]
     },
     "execution_count": 22,
     "metadata": {},
     "output_type": "execute_result"
    }
   ],
   "source": [
    "train_x"
   ]
  },
  {
   "cell_type": "code",
   "execution_count": 23,
   "metadata": {
    "scrolled": true,
    "tags": []
   },
   "outputs": [
    {
     "name": "stdout",
     "output_type": "stream",
     "text": [
      "(60, 85, 996, 1)\n"
     ]
    },
    {
     "data": {
      "text/plain": [
       "array([[[[8179.056    ],\n",
       "         [8135.64     ],\n",
       "         [8107.128    ],\n",
       "         ...,\n",
       "         [8438.904    ],\n",
       "         [8430.48     ],\n",
       "         [8449.272    ]],\n",
       "\n",
       "        [[8088.984    ],\n",
       "         [8102.592    ],\n",
       "         [8088.336    ],\n",
       "         ...,\n",
       "         [8458.992    ],\n",
       "         [8468.712    ],\n",
       "         [8451.216    ]],\n",
       "\n",
       "        [[7920.504    ],\n",
       "         [7890.048    ],\n",
       "         [7868.016    ],\n",
       "         ...,\n",
       "         [8479.08     ],\n",
       "         [8493.984    ],\n",
       "         [8487.504    ]],\n",
       "\n",
       "        ...,\n",
       "\n",
       "        [[8494.632    ],\n",
       "         [8482.32     ],\n",
       "         [8477.784    ],\n",
       "         ...,\n",
       "         [8598.96     ],\n",
       "         [8635.896    ],\n",
       "         [8685.144    ]],\n",
       "\n",
       "        [[8457.696    ],\n",
       "         [8462.88     ],\n",
       "         [8467.416    ],\n",
       "         ...,\n",
       "         [8568.504    ],\n",
       "         [8565.912    ],\n",
       "         [8566.56     ]],\n",
       "\n",
       "        [[8447.976    ],\n",
       "         [8436.96     ],\n",
       "         [8415.576    ],\n",
       "         ...,\n",
       "         [8538.696    ],\n",
       "         [8532.864    ],\n",
       "         [8563.968    ]]],\n",
       "\n",
       "\n",
       "       [[[ 977.184    ],\n",
       "         [ 966.168    ],\n",
       "         [ 972.972    ],\n",
       "         ...,\n",
       "         [1064.34     ],\n",
       "         [1061.748    ],\n",
       "         [1072.764    ]],\n",
       "\n",
       "        [[1566.864    ],\n",
       "         [1575.936    ],\n",
       "         [1573.02     ],\n",
       "         ...,\n",
       "         [1010.88     ],\n",
       "         [ 998.892    ],\n",
       "         [ 988.524    ]],\n",
       "\n",
       "        [[ 992.088    ],\n",
       "         [ 961.956    ],\n",
       "         [ 969.084    ],\n",
       "         ...,\n",
       "         [1642.68     ],\n",
       "         [1609.632    ],\n",
       "         [1611.252    ]],\n",
       "\n",
       "        ...,\n",
       "\n",
       "        [[ 972.324    ],\n",
       "         [ 960.012    ],\n",
       "         [ 959.688    ],\n",
       "         ...,\n",
       "         [1260.36     ],\n",
       "         [1228.932    ],\n",
       "         [1231.848    ]],\n",
       "\n",
       "        [[1087.02     ],\n",
       "         [1074.06     ],\n",
       "         [1068.228    ],\n",
       "         ...,\n",
       "         [1058.184    ],\n",
       "         [1025.46     ],\n",
       "         [1021.896    ]],\n",
       "\n",
       "        [[ 984.636    ],\n",
       "         [ 977.508    ],\n",
       "         [ 978.48     ],\n",
       "         ...,\n",
       "         [1130.112    ],\n",
       "         [1136.916    ],\n",
       "         [1118.772    ]]],\n",
       "\n",
       "\n",
       "       [[[3183.624    ],\n",
       "         [3171.636    ],\n",
       "         [3175.74     ],\n",
       "         ...,\n",
       "         [3264.084    ],\n",
       "         [3261.276    ],\n",
       "         [3260.304    ]],\n",
       "\n",
       "        [[3287.088    ],\n",
       "         [3311.496    ],\n",
       "         [3309.66     ],\n",
       "         ...,\n",
       "         [3257.388    ],\n",
       "         [3259.224    ],\n",
       "         [3257.712    ]],\n",
       "\n",
       "        [[3212.352    ],\n",
       "         [3185.46     ],\n",
       "         [3178.224    ],\n",
       "         ...,\n",
       "         [3394.332    ],\n",
       "         [3381.588    ],\n",
       "         [3387.096    ]],\n",
       "\n",
       "        ...,\n",
       "\n",
       "        [[3261.816    ],\n",
       "         [3247.884    ],\n",
       "         [3233.736    ],\n",
       "         ...,\n",
       "         [3420.7776   ],\n",
       "         [3462.047568 ],\n",
       "         [3475.672724 ]],\n",
       "\n",
       "        [[3270.24     ],\n",
       "         [3273.48     ],\n",
       "         [3266.892    ],\n",
       "         ...,\n",
       "         [3405.456    ],\n",
       "         [3397.151314 ],\n",
       "         [3372.285706 ]],\n",
       "\n",
       "        [[3237.732    ],\n",
       "         [3240.648    ],\n",
       "         [3252.96     ],\n",
       "         ...,\n",
       "         [3356.424    ],\n",
       "         [3353.724    ],\n",
       "         [3364.632    ]]],\n",
       "\n",
       "\n",
       "       ...,\n",
       "\n",
       "\n",
       "       [[[ 580.608    ],\n",
       "         [ 538.164    ],\n",
       "         [ 529.254    ],\n",
       "         ...,\n",
       "         [ 895.86     ],\n",
       "         [ 946.242    ],\n",
       "         [ 908.172    ]],\n",
       "\n",
       "        [[1112.616    ],\n",
       "         [1110.834    ],\n",
       "         [1139.508    ],\n",
       "         ...,\n",
       "         [ 737.748    ],\n",
       "         [ 687.528    ],\n",
       "         [ 688.5      ]],\n",
       "\n",
       "        [[ 582.552    ],\n",
       "         [ 546.75     ],\n",
       "         [ 546.102    ],\n",
       "         ...,\n",
       "         [1175.31     ],\n",
       "         [1135.62     ],\n",
       "         [1182.762    ]],\n",
       "\n",
       "        ...,\n",
       "\n",
       "        [[ 646.056    ],\n",
       "         [ 587.736    ],\n",
       "         [ 609.444    ],\n",
       "         ...,\n",
       "         [ 984.474    ],\n",
       "         [ 998.568    ],\n",
       "         [ 976.698    ]],\n",
       "\n",
       "        [[ 969.408    ],\n",
       "         [ 915.138    ],\n",
       "         [ 961.146    ],\n",
       "         ...,\n",
       "         [ 772.254    ],\n",
       "         [ 630.504    ],\n",
       "         [ 609.282    ]],\n",
       "\n",
       "        [[ 645.408    ],\n",
       "         [ 572.508    ],\n",
       "         [ 555.66     ],\n",
       "         ...,\n",
       "         [ 847.26     ],\n",
       "         [ 895.374    ],\n",
       "         [ 866.052    ]]],\n",
       "\n",
       "\n",
       "       [[[ 572.184    ],\n",
       "         [ 574.128    ],\n",
       "         [ 910.44     ],\n",
       "         ...,\n",
       "         [1113.588    ],\n",
       "         [1432.728    ],\n",
       "         [1427.22     ]],\n",
       "\n",
       "        [[1304.424    ],\n",
       "         [1129.464    ],\n",
       "         [1159.596    ],\n",
       "         ...,\n",
       "         [ 869.616    ],\n",
       "         [ 883.872    ],\n",
       "         [ 675.864    ]],\n",
       "\n",
       "        [[ 781.812    ],\n",
       "         [ 765.612    ],\n",
       "         [ 646.056    ],\n",
       "         ...,\n",
       "         [ 944.9438044],\n",
       "         [ 993.0059182],\n",
       "         [1127.218371 ]],\n",
       "\n",
       "        ...,\n",
       "\n",
       "        [[ 703.728    ],\n",
       "         [ 947.052    ],\n",
       "         [ 916.272    ],\n",
       "         ...,\n",
       "         [1561.032    ],\n",
       "         [1741.824    ],\n",
       "         [1860.732    ]],\n",
       "\n",
       "        [[1171.908    ],\n",
       "         [1273.968    ],\n",
       "         [1045.872    ],\n",
       "         ...,\n",
       "         [1134.324    ],\n",
       "         [1302.48     ],\n",
       "         [ 927.288    ]],\n",
       "\n",
       "        [[ 864.432    ],\n",
       "         [ 907.2      ],\n",
       "         [ 769.5      ],\n",
       "         ...,\n",
       "         [1892.808    ],\n",
       "         [1584.684    ],\n",
       "         [1819.908    ]]],\n",
       "\n",
       "\n",
       "       [[[2528.496    ],\n",
       "         [2243.808    ],\n",
       "         [2284.848    ],\n",
       "         ...,\n",
       "         [3669.84     ],\n",
       "         [3732.912    ],\n",
       "         [3688.416    ]],\n",
       "\n",
       "        [[2909.52     ],\n",
       "         [2884.896    ],\n",
       "         [3018.816    ],\n",
       "         ...,\n",
       "         [3329.424    ],\n",
       "         [3110.832    ],\n",
       "         [2929.392    ]],\n",
       "\n",
       "        [[2680.56     ],\n",
       "         [2363.04     ],\n",
       "         [2247.696    ],\n",
       "         ...,\n",
       "         [3429.216    ],\n",
       "         [3495.312    ],\n",
       "         [3493.584    ]],\n",
       "\n",
       "        ...,\n",
       "\n",
       "        [[2967.84     ],\n",
       "         [2923.344    ],\n",
       "         [2855.088    ],\n",
       "         ...,\n",
       "         [3625.344    ],\n",
       "         [3800.736    ],\n",
       "         [4434.48     ]],\n",
       "\n",
       "        [[3674.16     ],\n",
       "         [3721.248    ],\n",
       "         [3789.072    ],\n",
       "         ...,\n",
       "         [3695.76     ],\n",
       "         [3457.296    ],\n",
       "         [3224.016    ]],\n",
       "\n",
       "        [[2872.8      ],\n",
       "         [2832.192    ],\n",
       "         [2802.384    ],\n",
       "         ...,\n",
       "         [3621.456    ],\n",
       "         [3668.544    ],\n",
       "         [4138.992    ]]]])"
      ]
     },
     "execution_count": 23,
     "metadata": {},
     "output_type": "execute_result"
    }
   ],
   "source": [
    "print(train_window_x.shape)\n",
    "train_window_x"
   ]
  },
  {
   "cell_type": "code",
   "execution_count": 26,
   "metadata": {
    "scrolled": true,
    "tags": []
   },
   "outputs": [
    {
     "name": "stdout",
     "output_type": "stream",
     "text": [
      "(60, 85, 24, 1)\n"
     ]
    },
    {
     "data": {
      "text/plain": [
       "array([[[[8457.696    ],\n",
       "         [8462.88     ],\n",
       "         [8467.416    ],\n",
       "         ...,\n",
       "         [8479.08     ],\n",
       "         [8493.984    ],\n",
       "         [8487.504    ]],\n",
       "\n",
       "        [[8447.976    ],\n",
       "         [8436.96     ],\n",
       "         [8415.576    ],\n",
       "         ...,\n",
       "         [8481.024    ],\n",
       "         [8468.712    ],\n",
       "         [8466.768    ]],\n",
       "\n",
       "        [[8485.56     ],\n",
       "         [8474.544    ],\n",
       "         [8495.928    ],\n",
       "         ...,\n",
       "         [8425.944    ],\n",
       "         [8475.84     ],\n",
       "         [8481.024    ]],\n",
       "\n",
       "        ...,\n",
       "\n",
       "        [[8705.232    ],\n",
       "         [8652.096    ],\n",
       "         [8593.776    ],\n",
       "         ...,\n",
       "         [8538.696    ],\n",
       "         [8532.864    ],\n",
       "         [8563.968    ]],\n",
       "\n",
       "        [[8551.008    ],\n",
       "         [8519.256    ],\n",
       "         [8521.848    ],\n",
       "         ...,\n",
       "         [8595.072    ],\n",
       "         [8583.408    ],\n",
       "         [8566.56     ]],\n",
       "\n",
       "        [[8576.28     ],\n",
       "         [8563.968    ],\n",
       "         [8582.76     ],\n",
       "         ...,\n",
       "         [8624.88     ],\n",
       "         [8670.24     ],\n",
       "         [8714.952    ]]],\n",
       "\n",
       "\n",
       "       [[[1087.02     ],\n",
       "         [1074.06     ],\n",
       "         [1068.228    ],\n",
       "         ...,\n",
       "         [1642.68     ],\n",
       "         [1609.632    ],\n",
       "         [1611.252    ]],\n",
       "\n",
       "        [[ 984.636    ],\n",
       "         [ 977.508    ],\n",
       "         [ 978.48     ],\n",
       "         ...,\n",
       "         [1070.496    ],\n",
       "         [ 997.596    ],\n",
       "         [ 971.352    ]],\n",
       "\n",
       "        [[1665.684    ],\n",
       "         [1631.664    ],\n",
       "         [1619.028    ],\n",
       "         ...,\n",
       "         [1620.648    ],\n",
       "         [1610.928    ],\n",
       "         [1601.208    ]],\n",
       "\n",
       "        ...,\n",
       "\n",
       "        [[1243.188    ],\n",
       "         [1253.556    ],\n",
       "         [1261.656    ],\n",
       "         ...,\n",
       "         [1130.112    ],\n",
       "         [1136.916    ],\n",
       "         [1118.772    ]],\n",
       "\n",
       "        [[1010.232    ],\n",
       "         [1003.104    ],\n",
       "         [ 995.976    ],\n",
       "         ...,\n",
       "         [1080.54     ],\n",
       "         [1066.608    ],\n",
       "         [1070.82     ]],\n",
       "\n",
       "        [[1133.676    ],\n",
       "         [1152.468    ],\n",
       "         [1178.388    ],\n",
       "         ...,\n",
       "         [2036.34     ],\n",
       "         [2022.408    ],\n",
       "         [2027.592    ]]],\n",
       "\n",
       "\n",
       "       [[[3270.24     ],\n",
       "         [3273.48     ],\n",
       "         [3266.892    ],\n",
       "         ...,\n",
       "         [3394.332    ],\n",
       "         [3381.588    ],\n",
       "         [3387.096    ]],\n",
       "\n",
       "        [[3237.732    ],\n",
       "         [3240.648    ],\n",
       "         [3252.96     ],\n",
       "         ...,\n",
       "         [3261.708    ],\n",
       "         [3256.2      ],\n",
       "         [3248.64     ]],\n",
       "\n",
       "        [[3365.496    ],\n",
       "         [3354.912    ],\n",
       "         [3378.672    ],\n",
       "         ...,\n",
       "         [3370.032    ],\n",
       "         [3383.532    ],\n",
       "         [3357.936    ]],\n",
       "\n",
       "        ...,\n",
       "\n",
       "        [[3488.609407 ],\n",
       "         [3487.099881 ],\n",
       "         [3477.329876 ],\n",
       "         ...,\n",
       "         [3356.424    ],\n",
       "         [3353.724    ],\n",
       "         [3364.632    ]],\n",
       "\n",
       "        [[3366.832235 ],\n",
       "         [3372.4944   ],\n",
       "         [3377.376    ],\n",
       "         ...,\n",
       "         [3386.88     ],\n",
       "         [3377.052    ],\n",
       "         [3357.891529 ]],\n",
       "\n",
       "        [[3370.68     ],\n",
       "         [3372.516    ],\n",
       "         [3388.932    ],\n",
       "         ...,\n",
       "         [3540.024    ],\n",
       "         [3569.076    ],\n",
       "         [3542.508    ]]],\n",
       "\n",
       "\n",
       "       ...,\n",
       "\n",
       "\n",
       "       [[[ 969.408    ],\n",
       "         [ 915.138    ],\n",
       "         [ 961.146    ],\n",
       "         ...,\n",
       "         [1175.31     ],\n",
       "         [1135.62     ],\n",
       "         [1182.762    ]],\n",
       "\n",
       "        [[ 645.408    ],\n",
       "         [ 572.508    ],\n",
       "         [ 555.66     ],\n",
       "         ...,\n",
       "         [ 891.162    ],\n",
       "         [ 697.248    ],\n",
       "         [ 649.458    ]],\n",
       "\n",
       "        [[1206.414    ],\n",
       "         [1213.866    ],\n",
       "         [1209.654    ],\n",
       "         ...,\n",
       "         [1166.238    ],\n",
       "         [1138.374    ],\n",
       "         [1159.11     ]],\n",
       "\n",
       "        ...,\n",
       "\n",
       "        [[1007.802    ],\n",
       "         [ 970.704    ],\n",
       "         [ 996.138    ],\n",
       "         ...,\n",
       "         [ 847.26     ],\n",
       "         [ 895.374    ],\n",
       "         [ 866.052    ]],\n",
       "\n",
       "        [[ 560.844    ],\n",
       "         [ 524.88     ],\n",
       "         [ 551.124    ],\n",
       "         ...,\n",
       "         [ 730.944    ],\n",
       "         [ 666.144    ],\n",
       "         [ 607.986    ]],\n",
       "\n",
       "        [[ 901.854    ],\n",
       "         [ 873.828    ],\n",
       "         [ 904.932    ],\n",
       "         ...,\n",
       "         [1089.45     ],\n",
       "         [1118.124    ],\n",
       "         [1139.022    ]]],\n",
       "\n",
       "\n",
       "       [[[1171.908    ],\n",
       "         [1273.968    ],\n",
       "         [1045.872    ],\n",
       "         ...,\n",
       "         [ 944.9438044],\n",
       "         [ 993.0059182],\n",
       "         [1127.218371 ]],\n",
       "\n",
       "        [[ 864.432    ],\n",
       "         [ 907.2      ],\n",
       "         [ 769.5      ],\n",
       "         ...,\n",
       "         [ 724.14     ],\n",
       "         [1045.548    ],\n",
       "         [ 704.052    ]],\n",
       "\n",
       "        [[1116.676007 ],\n",
       "         [1040.876917 ],\n",
       "         [1040.978527 ],\n",
       "         ...,\n",
       "         [1029.024    ],\n",
       "         [1005.696    ],\n",
       "         [1147.284    ]],\n",
       "\n",
       "        ...,\n",
       "\n",
       "        [[1631.016    ],\n",
       "         [1619.352    ],\n",
       "         [1647.216    ],\n",
       "         ...,\n",
       "         [1892.808    ],\n",
       "         [1584.684    ],\n",
       "         [1819.908    ]],\n",
       "\n",
       "        [[ 836.892    ],\n",
       "         [1114.884    ],\n",
       "         [ 768.528    ],\n",
       "         ...,\n",
       "         [ 799.956    ],\n",
       "         [ 901.368    ],\n",
       "         [ 930.852    ]],\n",
       "\n",
       "        [[1897.344    ],\n",
       "         [1564.596    ],\n",
       "         [1499.796    ],\n",
       "         ...,\n",
       "         [1377.       ],\n",
       "         [1697.112    ],\n",
       "         [1567.836    ]]],\n",
       "\n",
       "\n",
       "       [[[3674.16     ],\n",
       "         [3721.248    ],\n",
       "         [3789.072    ],\n",
       "         ...,\n",
       "         [3429.216    ],\n",
       "         [3495.312    ],\n",
       "         [3493.584    ]],\n",
       "\n",
       "        [[2872.8      ],\n",
       "         [2832.192    ],\n",
       "         [2802.384    ],\n",
       "         ...,\n",
       "         [3169.152    ],\n",
       "         [3030.48     ],\n",
       "         [2874.096    ]],\n",
       "\n",
       "        [[3407.184    ],\n",
       "         [3426.192    ],\n",
       "         [3480.192    ],\n",
       "         ...,\n",
       "         [3301.344    ],\n",
       "         [3409.344    ],\n",
       "         [3241.296    ]],\n",
       "\n",
       "        ...,\n",
       "\n",
       "        [[4233.168    ],\n",
       "         [4057.776    ],\n",
       "         [4016.736    ],\n",
       "         ...,\n",
       "         [3621.456    ],\n",
       "         [3668.544    ],\n",
       "         [4138.992    ]],\n",
       "\n",
       "        [[3166.56     ],\n",
       "         [2826.576    ],\n",
       "         [2839.104    ],\n",
       "         ...,\n",
       "         [3367.872    ],\n",
       "         [3254.688    ],\n",
       "         [3094.416    ]],\n",
       "\n",
       "        [[3853.008    ],\n",
       "         [3811.104    ],\n",
       "         [3897.504    ],\n",
       "         ...,\n",
       "         [3697.056    ],\n",
       "         [4008.528    ],\n",
       "         [4361.04     ]]]])"
      ]
     },
     "execution_count": 26,
     "metadata": {},
     "output_type": "execute_result"
    }
   ],
   "source": [
    "print(train_window_y.shape)\n",
    "train_window_y"
   ]
  },
  {
   "cell_type": "code",
   "execution_count": 42,
   "metadata": {},
   "outputs": [
    {
     "name": "stdout",
     "output_type": "stream",
     "text": [
      "new_train_x.shape:(5100, 996, 1)\n",
      "new_train_y.shape:(5100, 24, 1)\n"
     ]
    }
   ],
   "source": [
    "#new_train_x, reshape통해 lstm에 알맞은 형태로 집어넣기\n",
    "new_train_x=tf.reshape(train_window_x, [-1, input_window, num_features])\n",
    "new_train_y=tf.reshape(train_window_y, [-1, output_window,num_features])\n",
    "print(f'new_train_x.shape:{new_train_x.shape}')\n",
    "print(f'new_train_y.shape:{new_train_y.shape}')"
   ]
  },
  {
   "cell_type": "code",
   "execution_count": 33,
   "metadata": {},
   "outputs": [],
   "source": [
    "model=Sequential([\n",
    "LSTM(lstm_units, return_sequences=False, recurrent_dropout=dropout),\n",
    "Dense(output_window * num_features, kernel_initializer=tf.initializers.zeros()), \n",
    "Reshape([output_window, num_features])\n",
    "])"
   ]
  },
  {
   "cell_type": "code",
   "execution_count": 37,
   "metadata": {},
   "outputs": [],
   "source": [
    "model.compile(optimizer='adam', loss='mae', metrics=['mae'])\n",
    "# 에포크가 끝날 때마다 점(.)을 출력해 훈련 진행 과정을 표시합니다"
   ]
  },
  {
   "cell_type": "code",
   "execution_count": 39,
   "metadata": {},
   "outputs": [],
   "source": [
    "#가장 좋은 성능을 낸 val_loss가 적은 model만 남겨 놓았습니다.\n",
    "save_best_only=tf.keras.callbacks.ModelCheckpoint(filepath=\"lstm_model.h5\", monitor='val_loss', save_best_only=True)"
   ]
  },
  {
   "cell_type": "code",
   "execution_count": 40,
   "metadata": {},
   "outputs": [],
   "source": [
    "early_stop = tf.keras.callbacks.EarlyStopping(monitor='val_loss', patience=20)"
   ]
  },
  {
   "cell_type": "code",
   "execution_count": 46,
   "metadata": {},
   "outputs": [
    {
     "name": "stdout",
     "output_type": "stream",
     "text": [
      "Epoch 1/30\n",
      "32/32 [==============================] - 24s 761ms/step - loss: 2442.7881 - mae: 2442.7881 - val_loss: 2279.5603 - val_mae: 2279.5603\n",
      "Epoch 2/30\n",
      "32/32 [==============================] - 24s 755ms/step - loss: 2442.3999 - mae: 2442.3999 - val_loss: 2279.1816 - val_mae: 2279.1816\n",
      "Epoch 3/30\n",
      "32/32 [==============================] - 25s 783ms/step - loss: 2442.0132 - mae: 2442.0139 - val_loss: 2278.7268 - val_mae: 2278.7266\n",
      "Epoch 4/30\n",
      "32/32 [==============================] - 26s 816ms/step - loss: 2441.4370 - mae: 2441.4370 - val_loss: 2278.1553 - val_mae: 2278.1553\n",
      "Epoch 5/30\n",
      "32/32 [==============================] - 23s 735ms/step - loss: 2440.9600 - mae: 2440.9604 - val_loss: 2277.7056 - val_mae: 2277.7053\n",
      "Epoch 6/30\n",
      "32/32 [==============================] - 25s 785ms/step - loss: 2440.5103 - mae: 2440.5098 - val_loss: 2277.2554 - val_mae: 2277.2556\n",
      "Epoch 7/30\n",
      "32/32 [==============================] - 24s 756ms/step - loss: 2439.9854 - mae: 2439.9854 - val_loss: 2276.5989 - val_mae: 2276.5986\n",
      "Epoch 8/30\n",
      "32/32 [==============================] - 27s 857ms/step - loss: 2439.3882 - mae: 2439.3882 - val_loss: 2276.1155 - val_mae: 2276.1155\n",
      "Epoch 9/30\n",
      "32/32 [==============================] - 30s 928ms/step - loss: 2438.9058 - mae: 2438.9062 - val_loss: 2275.6338 - val_mae: 2275.6335\n",
      "Epoch 10/30\n",
      "32/32 [==============================] - 29s 900ms/step - loss: 2438.4243 - mae: 2438.4241 - val_loss: 2275.1523 - val_mae: 2275.1523\n",
      "Epoch 11/30\n",
      "32/32 [==============================] - 26s 803ms/step - loss: 2437.9429 - mae: 2437.9426 - val_loss: 2274.6709 - val_mae: 2274.6707\n",
      "Epoch 12/30\n",
      "32/32 [==============================] - 24s 764ms/step - loss: 2437.4609 - mae: 2437.4612 - val_loss: 2274.1892 - val_mae: 2274.1895\n",
      "Epoch 13/30\n",
      "32/32 [==============================] - 24s 753ms/step - loss: 2436.9795 - mae: 2436.9797 - val_loss: 2273.7083 - val_mae: 2273.7083\n",
      "Epoch 14/30\n",
      "32/32 [==============================] - 23s 732ms/step - loss: 2436.4983 - mae: 2436.4980 - val_loss: 2273.2266 - val_mae: 2273.2266\n",
      "Epoch 15/30\n",
      "32/32 [==============================] - 23s 719ms/step - loss: 2436.0168 - mae: 2436.0171 - val_loss: 2272.7451 - val_mae: 2272.7449\n",
      "Epoch 16/30\n",
      "32/32 [==============================] - 23s 728ms/step - loss: 2435.5354 - mae: 2435.5352 - val_loss: 2272.2634 - val_mae: 2272.2637\n",
      "Epoch 17/30\n",
      "32/32 [==============================] - 23s 716ms/step - loss: 2435.0540 - mae: 2435.0537 - val_loss: 2271.7820 - val_mae: 2271.7820\n",
      "Epoch 18/30\n",
      "32/32 [==============================] - 23s 727ms/step - loss: 2434.5723 - mae: 2434.5720 - val_loss: 2271.3008 - val_mae: 2271.3005\n",
      "Epoch 19/30\n",
      "32/32 [==============================] - 23s 716ms/step - loss: 2434.0903 - mae: 2434.0906 - val_loss: 2270.8191 - val_mae: 2270.8188\n",
      "Epoch 20/30\n",
      "32/32 [==============================] - 23s 707ms/step - loss: 2433.6094 - mae: 2433.6089 - val_loss: 2270.3379 - val_mae: 2270.3379\n",
      "Epoch 21/30\n",
      "32/32 [==============================] - 23s 711ms/step - loss: 2433.0911 - mae: 2433.0911 - val_loss: 2269.6860 - val_mae: 2269.6860\n",
      "Epoch 22/30\n",
      "32/32 [==============================] - 23s 715ms/step - loss: 2432.4714 - mae: 2432.4709 - val_loss: 2269.1960 - val_mae: 2269.1960\n",
      "Epoch 23/30\n",
      "32/32 [==============================] - 23s 709ms/step - loss: 2431.9810 - mae: 2431.9814 - val_loss: 2268.7073 - val_mae: 2268.7073\n",
      "Epoch 24/30\n",
      "32/32 [==============================] - 23s 716ms/step - loss: 2431.4922 - mae: 2431.4919 - val_loss: 2268.2183 - val_mae: 2268.2180\n",
      "Epoch 25/30\n",
      "32/32 [==============================] - 23s 724ms/step - loss: 2431.0027 - mae: 2431.0032 - val_loss: 2267.7290 - val_mae: 2267.7290\n",
      "Epoch 26/30\n",
      "32/32 [==============================] - 23s 711ms/step - loss: 2430.5137 - mae: 2430.5134 - val_loss: 2267.2397 - val_mae: 2267.2400\n",
      "Epoch 27/30\n",
      "32/32 [==============================] - 23s 722ms/step - loss: 2430.0237 - mae: 2430.0244 - val_loss: 2266.7502 - val_mae: 2266.7505\n",
      "Epoch 28/30\n",
      "32/32 [==============================] - 23s 704ms/step - loss: 2429.5349 - mae: 2429.5352 - val_loss: 2266.2615 - val_mae: 2266.2612\n",
      "Epoch 29/30\n",
      "32/32 [==============================] - 23s 708ms/step - loss: 2429.0454 - mae: 2429.0452 - val_loss: 2265.7725 - val_mae: 2265.7725\n",
      "Epoch 30/30\n",
      "32/32 [==============================] - 23s 709ms/step - loss: 2428.5562 - mae: 2428.5564 - val_loss: 2265.2832 - val_mae: 2265.2832\n"
     ]
    },
    {
     "data": {
      "text/plain": [
       "<tensorflow.python.keras.callbacks.History at 0x263aba800a0>"
      ]
     },
     "execution_count": 46,
     "metadata": {},
     "output_type": "execute_result"
    }
   ],
   "source": [
    "model.fit(new_train_x, new_train_y, epochs=EPOCH, batch_size=BATCH_SIZE, validation_split = 0.2, verbose=1,\n",
    "          callbacks=[early_stop, save_best_only , reduceLR])"
   ]
  },
  {
   "cell_type": "code",
   "execution_count": 47,
   "metadata": {},
   "outputs": [
    {
     "name": "stdout",
     "output_type": "stream",
     "text": [
      "Model: \"sequential\"\n",
      "_________________________________________________________________\n",
      "Layer (type)                 Output Shape              Param #   \n",
      "=================================================================\n",
      "lstm_1 (LSTM)                (None, 32)                4352      \n",
      "_________________________________________________________________\n",
      "dense_1 (Dense)              (None, 24)                792       \n",
      "_________________________________________________________________\n",
      "reshape (Reshape)            (None, 24, 1)             0         \n",
      "=================================================================\n",
      "Total params: 5,144\n",
      "Trainable params: 5,144\n",
      "Non-trainable params: 0\n",
      "_________________________________________________________________\n"
     ]
    }
   ],
   "source": [
    "model.summary()"
   ]
  },
  {
   "cell_type": "code",
   "execution_count": 49,
   "metadata": {},
   "outputs": [
    {
     "name": "stdout",
     "output_type": "stream",
     "text": [
      "(60, 2064, 1)\n",
      "(60, 2088, 1)\n",
      "(60, 2112, 1)\n",
      "(60, 2136, 1)\n",
      "(60, 2160, 1)\n",
      "(60, 2184, 1)\n",
      "(60, 2208, 1)\n"
     ]
    }
   ],
   "source": [
    "prediction=np.zeros((num_power, end_, num_features))\n",
    "new_test_x=train_x\n",
    "\n",
    "for i in range(end_//output_window):\n",
    "    start_=i*output_window\n",
    "    next_=model.predict(new_test_x[ : , -input_window:, :])\n",
    "    new_test_x = tf.concat([new_test_x, next_], axis=1)\n",
    "    print(new_test_x.shape)\n",
    "    prediction[:, start_: start_ + output_window, :]= next_\n",
    "prediction =prediction"
   ]
  },
  {
   "cell_type": "code",
   "execution_count": 51,
   "metadata": {},
   "outputs": [
    {
     "data": {
      "text/plain": [
       "(60, 168, 1)"
      ]
     },
     "execution_count": 51,
     "metadata": {},
     "output_type": "execute_result"
    }
   ],
   "source": [
    "prediction.shape"
   ]
  },
  {
   "cell_type": "code",
   "execution_count": 62,
   "metadata": {},
   "outputs": [
    {
     "data": {
      "text/plain": [
       "(10080, 9)"
      ]
     },
     "execution_count": 62,
     "metadata": {},
     "output_type": "execute_result"
    }
   ],
   "source": [
    "test.shape"
   ]
  },
  {
   "cell_type": "markdown",
   "metadata": {},
   "source": [
    "---\n",
    "\n",
    "참고 자료 : \n",
    "- https://dacon.io/competitions/official/235736/codeshare/2628?page=1&dtype=recent\n",
    "- https://byeongkijeong.github.io/ARIMA-with-Python/\n",
    "- https://otexts.com/fppkr/arima-estimation.html"
   ]
  }
 ],
 "metadata": {
  "kernelspec": {
   "display_name": "Python 3",
   "language": "python",
   "name": "python3"
  },
  "language_info": {
   "codemirror_mode": {
    "name": "ipython",
    "version": 3
   },
   "file_extension": ".py",
   "mimetype": "text/x-python",
   "name": "python",
   "nbconvert_exporter": "python",
   "pygments_lexer": "ipython3",
   "version": "3.8.10"
  }
 },
 "nbformat": 4,
 "nbformat_minor": 4
}
