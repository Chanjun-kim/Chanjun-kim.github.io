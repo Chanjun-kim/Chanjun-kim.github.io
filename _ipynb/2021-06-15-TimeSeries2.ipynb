{
 "cells": [
  {
   "cell_type": "markdown",
   "metadata": {},
   "source": [
    "---\n",
    "layout: post\n",
    "title: \"시계열 데이터 - LSTM\"\n",
    "author: \"Chanjun Kim\"\n",
    "categories: Data분석\n",
    "tags: [Data, TimeSeries, ARIMA, LSTM, BOOSTING, REGRESSION, 시계열데이터, 시계열분석]\n",
    "image: 05_timeseries.png\n",
    "---"
   ]
  },
  {
   "cell_type": "markdown",
   "metadata": {},
   "source": [
    "## **학습목적**\n",
    "시계열 데이터를 다루는 법과 시계열 예측을 하기 위한 여러가지 모델을 사용해보고 특성을 이해한다.<br>\n",
    "이 포스팅에선 시계열 데이터의 대표적인 딥러닝 기법인 LSTM에 대해서 설명한다.\n",
    "> 이 글은 LSTM에 대한 글이므로 EDA에 대한 글은 따로 포스팅하겠습니다."
   ]
  },
  {
   "cell_type": "code",
   "execution_count": 1,
   "metadata": {},
   "outputs": [],
   "source": [
    "import os\n",
    "import sys\n",
    "import warnings\n",
    "from tqdm import tqdm\n",
    "\n",
    "import itertools\n",
    "import numpy as np\n",
    "import pandas as pd\n",
    "\n",
    "import matplotlib as mpl\n",
    "import matplotlib.pyplot as plt\n",
    "import plotnine as p9\n",
    "import seaborn as sns\n",
    "\n",
    "import scipy\n",
    "import stats\n",
    "from statsmodels.tsa.arima.model import ARIMA\n",
    "from statsmodels.graphics.tsaplots import plot_acf, plot_pacf\n",
    "from sklearn.metrics import mean_absolute_error\n",
    "from sklearn.preprocessing import OneHotEncoder\n",
    "from sklearn.preprocessing import MinMaxScaler\n",
    "\n",
    "\n",
    "import tensorflow as tf\n",
    "from tensorflow import keras\n",
    "from tensorflow.keras.models import Sequential, Model\n",
    "from tensorflow.keras.layers import Dense, LSTM, GRU, RNN, Reshape\n",
    "from keras.preprocessing.sequence import TimeseriesGenerator"
   ]
  },
  {
   "cell_type": "code",
   "execution_count": 2,
   "metadata": {},
   "outputs": [],
   "source": [
    "%matplotlib inline\n",
    "warnings.filterwarnings(\"ignore\")"
   ]
  },
  {
   "cell_type": "code",
   "execution_count": 3,
   "metadata": {},
   "outputs": [],
   "source": [
    "mpl.rcParams['axes.unicode_minus'] = False\n",
    "# fm._rebuild()\n",
    "plt.rcParams[\"font.family\"] = 'NanumMyeongjo'\n",
    "plt.rcParams[\"figure.figsize\"] = (10,10)"
   ]
  },
  {
   "cell_type": "code",
   "execution_count": 4,
   "metadata": {},
   "outputs": [
    {
     "data": {
      "text/html": [
       "<div>\n",
       "<style scoped>\n",
       "    .dataframe tbody tr th:only-of-type {\n",
       "        vertical-align: middle;\n",
       "    }\n",
       "\n",
       "    .dataframe tbody tr th {\n",
       "        vertical-align: top;\n",
       "    }\n",
       "\n",
       "    .dataframe thead th {\n",
       "        text-align: right;\n",
       "    }\n",
       "</style>\n",
       "<table border=\"1\" class=\"dataframe\">\n",
       "  <thead>\n",
       "    <tr style=\"text-align: right;\">\n",
       "      <th></th>\n",
       "      <th>num</th>\n",
       "      <th>date_time</th>\n",
       "      <th>전력사용량(kWh)</th>\n",
       "      <th>기온(°C)</th>\n",
       "      <th>풍속(m/s)</th>\n",
       "      <th>습도(%)</th>\n",
       "      <th>강수량(mm)</th>\n",
       "      <th>일조(hr)</th>\n",
       "      <th>비전기냉방설비운영</th>\n",
       "      <th>태양광보유</th>\n",
       "    </tr>\n",
       "  </thead>\n",
       "  <tbody>\n",
       "    <tr>\n",
       "      <th>0</th>\n",
       "      <td>1</td>\n",
       "      <td>2020-06-01 00</td>\n",
       "      <td>8179.056</td>\n",
       "      <td>17.6</td>\n",
       "      <td>2.5</td>\n",
       "      <td>92.0</td>\n",
       "      <td>0.8</td>\n",
       "      <td>0.0</td>\n",
       "      <td>0.0</td>\n",
       "      <td>0.0</td>\n",
       "    </tr>\n",
       "    <tr>\n",
       "      <th>1</th>\n",
       "      <td>1</td>\n",
       "      <td>2020-06-01 01</td>\n",
       "      <td>8135.640</td>\n",
       "      <td>17.7</td>\n",
       "      <td>2.9</td>\n",
       "      <td>91.0</td>\n",
       "      <td>0.3</td>\n",
       "      <td>0.0</td>\n",
       "      <td>0.0</td>\n",
       "      <td>0.0</td>\n",
       "    </tr>\n",
       "    <tr>\n",
       "      <th>2</th>\n",
       "      <td>1</td>\n",
       "      <td>2020-06-01 02</td>\n",
       "      <td>8107.128</td>\n",
       "      <td>17.5</td>\n",
       "      <td>3.2</td>\n",
       "      <td>91.0</td>\n",
       "      <td>0.0</td>\n",
       "      <td>0.0</td>\n",
       "      <td>0.0</td>\n",
       "      <td>0.0</td>\n",
       "    </tr>\n",
       "    <tr>\n",
       "      <th>3</th>\n",
       "      <td>1</td>\n",
       "      <td>2020-06-01 03</td>\n",
       "      <td>8048.808</td>\n",
       "      <td>17.1</td>\n",
       "      <td>3.2</td>\n",
       "      <td>91.0</td>\n",
       "      <td>0.0</td>\n",
       "      <td>0.0</td>\n",
       "      <td>0.0</td>\n",
       "      <td>0.0</td>\n",
       "    </tr>\n",
       "    <tr>\n",
       "      <th>4</th>\n",
       "      <td>1</td>\n",
       "      <td>2020-06-01 04</td>\n",
       "      <td>8043.624</td>\n",
       "      <td>17.0</td>\n",
       "      <td>3.3</td>\n",
       "      <td>92.0</td>\n",
       "      <td>0.0</td>\n",
       "      <td>0.0</td>\n",
       "      <td>0.0</td>\n",
       "      <td>0.0</td>\n",
       "    </tr>\n",
       "  </tbody>\n",
       "</table>\n",
       "</div>"
      ],
      "text/plain": [
       "   num      date_time  전력사용량(kWh)  기온(°C)  풍속(m/s)  습도(%)  강수량(mm)  일조(hr)  \\\n",
       "0    1  2020-06-01 00    8179.056    17.6      2.5   92.0      0.8     0.0   \n",
       "1    1  2020-06-01 01    8135.640    17.7      2.9   91.0      0.3     0.0   \n",
       "2    1  2020-06-01 02    8107.128    17.5      3.2   91.0      0.0     0.0   \n",
       "3    1  2020-06-01 03    8048.808    17.1      3.2   91.0      0.0     0.0   \n",
       "4    1  2020-06-01 04    8043.624    17.0      3.3   92.0      0.0     0.0   \n",
       "\n",
       "   비전기냉방설비운영  태양광보유  \n",
       "0        0.0    0.0  \n",
       "1        0.0    0.0  \n",
       "2        0.0    0.0  \n",
       "3        0.0    0.0  \n",
       "4        0.0    0.0  "
      ]
     },
     "execution_count": 4,
     "metadata": {},
     "output_type": "execute_result"
    }
   ],
   "source": [
    "train = pd.read_csv(\"data/dacon/energy/train.csv\", encoding = \"cp949\")\n",
    "train.head()"
   ]
  },
  {
   "cell_type": "code",
   "execution_count": 5,
   "metadata": {},
   "outputs": [
    {
     "name": "stdout",
     "output_type": "stream",
     "text": [
      "<class 'pandas.core.frame.DataFrame'>\n",
      "RangeIndex: 122400 entries, 0 to 122399\n",
      "Data columns (total 10 columns):\n",
      " #   Column      Non-Null Count   Dtype  \n",
      "---  ------      --------------   -----  \n",
      " 0   num         122400 non-null  int64  \n",
      " 1   date_time   122400 non-null  object \n",
      " 2   전력사용량(kWh)  122400 non-null  float64\n",
      " 3   기온(°C)      122400 non-null  float64\n",
      " 4   풍속(m/s)     122400 non-null  float64\n",
      " 5   습도(%)       122400 non-null  float64\n",
      " 6   강수량(mm)     122400 non-null  float64\n",
      " 7   일조(hr)      122400 non-null  float64\n",
      " 8   비전기냉방설비운영   122400 non-null  float64\n",
      " 9   태양광보유       122400 non-null  float64\n",
      "dtypes: float64(8), int64(1), object(1)\n",
      "memory usage: 9.3+ MB\n"
     ]
    }
   ],
   "source": [
    "train.info()"
   ]
  },
  {
   "cell_type": "code",
   "execution_count": 6,
   "metadata": {},
   "outputs": [
    {
     "data": {
      "text/html": [
       "<div>\n",
       "<style scoped>\n",
       "    .dataframe tbody tr th:only-of-type {\n",
       "        vertical-align: middle;\n",
       "    }\n",
       "\n",
       "    .dataframe tbody tr th {\n",
       "        vertical-align: top;\n",
       "    }\n",
       "\n",
       "    .dataframe thead th {\n",
       "        text-align: right;\n",
       "    }\n",
       "</style>\n",
       "<table border=\"1\" class=\"dataframe\">\n",
       "  <thead>\n",
       "    <tr style=\"text-align: right;\">\n",
       "      <th></th>\n",
       "      <th>num</th>\n",
       "      <th>date_time</th>\n",
       "      <th>기온(°C)</th>\n",
       "      <th>풍속(m/s)</th>\n",
       "      <th>습도(%)</th>\n",
       "      <th>강수량(mm, 6시간)</th>\n",
       "      <th>일조(hr, 3시간)</th>\n",
       "      <th>비전기냉방설비운영</th>\n",
       "      <th>태양광보유</th>\n",
       "    </tr>\n",
       "  </thead>\n",
       "  <tbody>\n",
       "    <tr>\n",
       "      <th>0</th>\n",
       "      <td>1</td>\n",
       "      <td>2020-08-25 00</td>\n",
       "      <td>27.8</td>\n",
       "      <td>1.5</td>\n",
       "      <td>74.0</td>\n",
       "      <td>0.0</td>\n",
       "      <td>0.0</td>\n",
       "      <td>NaN</td>\n",
       "      <td>NaN</td>\n",
       "    </tr>\n",
       "    <tr>\n",
       "      <th>1</th>\n",
       "      <td>1</td>\n",
       "      <td>2020-08-25 01</td>\n",
       "      <td>NaN</td>\n",
       "      <td>NaN</td>\n",
       "      <td>NaN</td>\n",
       "      <td>NaN</td>\n",
       "      <td>NaN</td>\n",
       "      <td>NaN</td>\n",
       "      <td>NaN</td>\n",
       "    </tr>\n",
       "    <tr>\n",
       "      <th>2</th>\n",
       "      <td>1</td>\n",
       "      <td>2020-08-25 02</td>\n",
       "      <td>NaN</td>\n",
       "      <td>NaN</td>\n",
       "      <td>NaN</td>\n",
       "      <td>NaN</td>\n",
       "      <td>NaN</td>\n",
       "      <td>NaN</td>\n",
       "      <td>NaN</td>\n",
       "    </tr>\n",
       "    <tr>\n",
       "      <th>3</th>\n",
       "      <td>1</td>\n",
       "      <td>2020-08-25 03</td>\n",
       "      <td>27.3</td>\n",
       "      <td>1.1</td>\n",
       "      <td>78.0</td>\n",
       "      <td>NaN</td>\n",
       "      <td>0.0</td>\n",
       "      <td>NaN</td>\n",
       "      <td>NaN</td>\n",
       "    </tr>\n",
       "    <tr>\n",
       "      <th>4</th>\n",
       "      <td>1</td>\n",
       "      <td>2020-08-25 04</td>\n",
       "      <td>NaN</td>\n",
       "      <td>NaN</td>\n",
       "      <td>NaN</td>\n",
       "      <td>NaN</td>\n",
       "      <td>NaN</td>\n",
       "      <td>NaN</td>\n",
       "      <td>NaN</td>\n",
       "    </tr>\n",
       "  </tbody>\n",
       "</table>\n",
       "</div>"
      ],
      "text/plain": [
       "   num      date_time  기온(°C)  풍속(m/s)  습도(%)  강수량(mm, 6시간)  일조(hr, 3시간)  \\\n",
       "0    1  2020-08-25 00    27.8      1.5   74.0           0.0          0.0   \n",
       "1    1  2020-08-25 01     NaN      NaN    NaN           NaN          NaN   \n",
       "2    1  2020-08-25 02     NaN      NaN    NaN           NaN          NaN   \n",
       "3    1  2020-08-25 03    27.3      1.1   78.0           NaN          0.0   \n",
       "4    1  2020-08-25 04     NaN      NaN    NaN           NaN          NaN   \n",
       "\n",
       "   비전기냉방설비운영  태양광보유  \n",
       "0        NaN    NaN  \n",
       "1        NaN    NaN  \n",
       "2        NaN    NaN  \n",
       "3        NaN    NaN  \n",
       "4        NaN    NaN  "
      ]
     },
     "execution_count": 6,
     "metadata": {},
     "output_type": "execute_result"
    }
   ],
   "source": [
    "test = pd.read_csv(\"data/dacon/energy/test.csv\", encoding = \"cp949\")\n",
    "test.head()"
   ]
  },
  {
   "cell_type": "code",
   "execution_count": 7,
   "metadata": {},
   "outputs": [
    {
     "name": "stdout",
     "output_type": "stream",
     "text": [
      "<class 'pandas.core.frame.DataFrame'>\n",
      "RangeIndex: 10080 entries, 0 to 10079\n",
      "Data columns (total 9 columns):\n",
      " #   Column        Non-Null Count  Dtype  \n",
      "---  ------        --------------  -----  \n",
      " 0   num           10080 non-null  int64  \n",
      " 1   date_time     10080 non-null  object \n",
      " 2   기온(°C)        3360 non-null   float64\n",
      " 3   풍속(m/s)       3360 non-null   float64\n",
      " 4   습도(%)         3360 non-null   float64\n",
      " 5   강수량(mm, 6시간)  1680 non-null   float64\n",
      " 6   일조(hr, 3시간)   3360 non-null   float64\n",
      " 7   비전기냉방설비운영     2296 non-null   float64\n",
      " 8   태양광보유         1624 non-null   float64\n",
      "dtypes: float64(7), int64(1), object(1)\n",
      "memory usage: 708.9+ KB\n"
     ]
    }
   ],
   "source": [
    "test.info()"
   ]
  },
  {
   "cell_type": "code",
   "execution_count": 8,
   "metadata": {},
   "outputs": [
    {
     "name": "stdout",
     "output_type": "stream",
     "text": [
      "60\n",
      "60\n",
      "    num  num\n",
      "1  2040  168\n",
      "2  2040  168\n",
      "3  2040  168\n",
      "4  2040  168\n",
      "5  2040  168\n"
     ]
    }
   ],
   "source": [
    "print(train.num.nunique())\n",
    "print(test.num.nunique())\n",
    "print(pd.concat([train.num.value_counts().sort_index(), test.num.value_counts()], axis = 1).head())"
   ]
  },
  {
   "cell_type": "code",
   "execution_count": 9,
   "metadata": {},
   "outputs": [],
   "source": [
    "y_col = \"전력사용량(kWh)\"\n",
    "length = 24"
   ]
  },
  {
   "cell_type": "code",
   "execution_count": 10,
   "metadata": {},
   "outputs": [],
   "source": [
    "oh_encoder = OneHotEncoder()"
   ]
  },
  {
   "cell_type": "code",
   "execution_count": 38,
   "metadata": {},
   "outputs": [],
   "source": [
    "val = train[train.date_time >= \"2020-08-15\"]\n",
    "train = train[train.date_time < \"2020-08-15\"]"
   ]
  },
  {
   "cell_type": "code",
   "execution_count": 42,
   "metadata": {},
   "outputs": [
    {
     "data": {
      "text/html": [
       "<div>\n",
       "<style scoped>\n",
       "    .dataframe tbody tr th:only-of-type {\n",
       "        vertical-align: middle;\n",
       "    }\n",
       "\n",
       "    .dataframe tbody tr th {\n",
       "        vertical-align: top;\n",
       "    }\n",
       "\n",
       "    .dataframe thead th {\n",
       "        text-align: right;\n",
       "    }\n",
       "</style>\n",
       "<table border=\"1\" class=\"dataframe\">\n",
       "  <thead>\n",
       "    <tr style=\"text-align: right;\">\n",
       "      <th></th>\n",
       "      <th>num</th>\n",
       "      <th>date_time</th>\n",
       "      <th>전력사용량(kWh)</th>\n",
       "      <th>기온(°C)</th>\n",
       "      <th>풍속(m/s)</th>\n",
       "      <th>습도(%)</th>\n",
       "      <th>강수량(mm)</th>\n",
       "      <th>일조(hr)</th>\n",
       "      <th>비전기냉방설비운영</th>\n",
       "      <th>태양광보유</th>\n",
       "    </tr>\n",
       "  </thead>\n",
       "  <tbody>\n",
       "    <tr>\n",
       "      <th>0</th>\n",
       "      <td>1</td>\n",
       "      <td>2020-06-01 00</td>\n",
       "      <td>8179.056</td>\n",
       "      <td>17.6</td>\n",
       "      <td>2.5</td>\n",
       "      <td>92.0</td>\n",
       "      <td>0.8</td>\n",
       "      <td>0.0</td>\n",
       "      <td>0.0</td>\n",
       "      <td>0.0</td>\n",
       "    </tr>\n",
       "    <tr>\n",
       "      <th>1</th>\n",
       "      <td>1</td>\n",
       "      <td>2020-06-01 01</td>\n",
       "      <td>8135.640</td>\n",
       "      <td>17.7</td>\n",
       "      <td>2.9</td>\n",
       "      <td>91.0</td>\n",
       "      <td>0.3</td>\n",
       "      <td>0.0</td>\n",
       "      <td>0.0</td>\n",
       "      <td>0.0</td>\n",
       "    </tr>\n",
       "    <tr>\n",
       "      <th>2</th>\n",
       "      <td>1</td>\n",
       "      <td>2020-06-01 02</td>\n",
       "      <td>8107.128</td>\n",
       "      <td>17.5</td>\n",
       "      <td>3.2</td>\n",
       "      <td>91.0</td>\n",
       "      <td>0.0</td>\n",
       "      <td>0.0</td>\n",
       "      <td>0.0</td>\n",
       "      <td>0.0</td>\n",
       "    </tr>\n",
       "    <tr>\n",
       "      <th>3</th>\n",
       "      <td>1</td>\n",
       "      <td>2020-06-01 03</td>\n",
       "      <td>8048.808</td>\n",
       "      <td>17.1</td>\n",
       "      <td>3.2</td>\n",
       "      <td>91.0</td>\n",
       "      <td>0.0</td>\n",
       "      <td>0.0</td>\n",
       "      <td>0.0</td>\n",
       "      <td>0.0</td>\n",
       "    </tr>\n",
       "    <tr>\n",
       "      <th>4</th>\n",
       "      <td>1</td>\n",
       "      <td>2020-06-01 04</td>\n",
       "      <td>8043.624</td>\n",
       "      <td>17.0</td>\n",
       "      <td>3.3</td>\n",
       "      <td>92.0</td>\n",
       "      <td>0.0</td>\n",
       "      <td>0.0</td>\n",
       "      <td>0.0</td>\n",
       "      <td>0.0</td>\n",
       "    </tr>\n",
       "    <tr>\n",
       "      <th>...</th>\n",
       "      <td>...</td>\n",
       "      <td>...</td>\n",
       "      <td>...</td>\n",
       "      <td>...</td>\n",
       "      <td>...</td>\n",
       "      <td>...</td>\n",
       "      <td>...</td>\n",
       "      <td>...</td>\n",
       "      <td>...</td>\n",
       "      <td>...</td>\n",
       "    </tr>\n",
       "    <tr>\n",
       "      <th>122155</th>\n",
       "      <td>60</td>\n",
       "      <td>2020-08-14 19</td>\n",
       "      <td>3938.976</td>\n",
       "      <td>25.7</td>\n",
       "      <td>3.1</td>\n",
       "      <td>89.0</td>\n",
       "      <td>0.0</td>\n",
       "      <td>0.0</td>\n",
       "      <td>1.0</td>\n",
       "      <td>1.0</td>\n",
       "    </tr>\n",
       "    <tr>\n",
       "      <th>122156</th>\n",
       "      <td>60</td>\n",
       "      <td>2020-08-14 20</td>\n",
       "      <td>3851.712</td>\n",
       "      <td>25.3</td>\n",
       "      <td>2.6</td>\n",
       "      <td>91.0</td>\n",
       "      <td>0.0</td>\n",
       "      <td>0.0</td>\n",
       "      <td>1.0</td>\n",
       "      <td>1.0</td>\n",
       "    </tr>\n",
       "    <tr>\n",
       "      <th>122157</th>\n",
       "      <td>60</td>\n",
       "      <td>2020-08-14 21</td>\n",
       "      <td>3368.304</td>\n",
       "      <td>25.6</td>\n",
       "      <td>2.4</td>\n",
       "      <td>91.0</td>\n",
       "      <td>0.0</td>\n",
       "      <td>0.0</td>\n",
       "      <td>1.0</td>\n",
       "      <td>1.0</td>\n",
       "    </tr>\n",
       "    <tr>\n",
       "      <th>122158</th>\n",
       "      <td>60</td>\n",
       "      <td>2020-08-14 22</td>\n",
       "      <td>3377.808</td>\n",
       "      <td>25.5</td>\n",
       "      <td>1.8</td>\n",
       "      <td>91.0</td>\n",
       "      <td>0.0</td>\n",
       "      <td>0.0</td>\n",
       "      <td>1.0</td>\n",
       "      <td>1.0</td>\n",
       "    </tr>\n",
       "    <tr>\n",
       "      <th>122159</th>\n",
       "      <td>60</td>\n",
       "      <td>2020-08-14 23</td>\n",
       "      <td>3256.416</td>\n",
       "      <td>25.6</td>\n",
       "      <td>2.8</td>\n",
       "      <td>92.0</td>\n",
       "      <td>0.0</td>\n",
       "      <td>0.0</td>\n",
       "      <td>1.0</td>\n",
       "      <td>1.0</td>\n",
       "    </tr>\n",
       "  </tbody>\n",
       "</table>\n",
       "<p>108000 rows × 10 columns</p>\n",
       "</div>"
      ],
      "text/plain": [
       "        num      date_time  전력사용량(kWh)  기온(°C)  풍속(m/s)  습도(%)  강수량(mm)  \\\n",
       "0         1  2020-06-01 00    8179.056    17.6      2.5   92.0      0.8   \n",
       "1         1  2020-06-01 01    8135.640    17.7      2.9   91.0      0.3   \n",
       "2         1  2020-06-01 02    8107.128    17.5      3.2   91.0      0.0   \n",
       "3         1  2020-06-01 03    8048.808    17.1      3.2   91.0      0.0   \n",
       "4         1  2020-06-01 04    8043.624    17.0      3.3   92.0      0.0   \n",
       "...     ...            ...         ...     ...      ...    ...      ...   \n",
       "122155   60  2020-08-14 19    3938.976    25.7      3.1   89.0      0.0   \n",
       "122156   60  2020-08-14 20    3851.712    25.3      2.6   91.0      0.0   \n",
       "122157   60  2020-08-14 21    3368.304    25.6      2.4   91.0      0.0   \n",
       "122158   60  2020-08-14 22    3377.808    25.5      1.8   91.0      0.0   \n",
       "122159   60  2020-08-14 23    3256.416    25.6      2.8   92.0      0.0   \n",
       "\n",
       "        일조(hr)  비전기냉방설비운영  태양광보유  \n",
       "0          0.0        0.0    0.0  \n",
       "1          0.0        0.0    0.0  \n",
       "2          0.0        0.0    0.0  \n",
       "3          0.0        0.0    0.0  \n",
       "4          0.0        0.0    0.0  \n",
       "...        ...        ...    ...  \n",
       "122155     0.0        1.0    1.0  \n",
       "122156     0.0        1.0    1.0  \n",
       "122157     0.0        1.0    1.0  \n",
       "122158     0.0        1.0    1.0  \n",
       "122159     0.0        1.0    1.0  \n",
       "\n",
       "[108000 rows x 10 columns]"
      ]
     },
     "execution_count": 42,
     "metadata": {},
     "output_type": "execute_result"
    }
   ],
   "source": [
    "train"
   ]
  },
  {
   "cell_type": "code",
   "execution_count": 67,
   "metadata": {},
   "outputs": [],
   "source": [
    "tf_train = pd.concat([\n",
    "    train[\"num\"].reset_index(drop = True),\n",
    "    pd.DataFrame(oh_encoder.fit_transform(train[[\"num\"]]).toarray()).add_prefix(\"num\"), \n",
    "    train[[y_col]].reset_index(drop = True)], \n",
    "    axis = 1)"
   ]
  },
  {
   "cell_type": "code",
   "execution_count": 80,
   "metadata": {},
   "outputs": [],
   "source": [
    "tf_val = pd.concat([\n",
    "    val[\"num\"].reset_index(drop = True),\n",
    "    pd.DataFrame(oh_encoder.transform(val[[\"num\"]]).toarray()).add_prefix(\"num\"), \n",
    "    val[y_col].reset_index(drop = True)], \n",
    "    axis = 1)"
   ]
  },
  {
   "cell_type": "code",
   "execution_count": 76,
   "metadata": {},
   "outputs": [],
   "source": [
    "minmax_value = tf_train.groupby(\"num\").agg({y_col : [max, min]}).reset_index().droplevel(axis = 1, level = 0)\n",
    "minmax_value.columns = [\"num\", \"max\", \"min\"]"
   ]
  },
  {
   "cell_type": "code",
   "execution_count": 77,
   "metadata": {},
   "outputs": [],
   "source": [
    "tf_train[y_col] = tf_train.groupby(\"num\").apply(lambda x : (x[y_col]-min(x[y_col]))/(max(x[y_col])-min(x[y_col]))).values"
   ]
  },
  {
   "cell_type": "code",
   "execution_count": 81,
   "metadata": {},
   "outputs": [],
   "source": [
    "tf_val = pd.merge(tf_val, minmax_value, on = \"num\")\n",
    "tf_val[y_col]  = tf_val.apply(lambda x : (x[y_col] - x[\"min\"]) / (x[\"max\"] - x[\"min\"]), axis = 1)\n",
    "tf_val.drop(columns = [\"max\", \"min\"], inplace = True)"
   ]
  },
  {
   "cell_type": "code",
   "execution_count": 83,
   "metadata": {},
   "outputs": [
    {
     "name": "stderr",
     "output_type": "stream",
     "text": [
      "60it [00:14,  4.24it/s]\n"
     ]
    }
   ],
   "source": [
    "for i, x in tqdm(enumerate(train.num.unique())):\n",
    "    X = tf_train.loc[tf_train.num == x].iloc[ : , 1:].reset_index(drop = True)\n",
    "    Y = tf_train.loc[tf_train.num == x][[y_col]].reset_index(drop = True)\n",
    "    data = np.array(X)\n",
    "    targets = np.array(Y)\n",
    "    data_gen = TimeseriesGenerator(data, targets, length=length, batch_size = len(X) - length)\n",
    "    \n",
    "    if i == 0 :\n",
    "        Xs = data_gen[0][0]\n",
    "        Ys = data_gen[0][1]\n",
    "    else :\n",
    "        Xs = np.concatenate((Xs, data_gen[0][0]))\n",
    "        Ys = np.concatenate((Ys, data_gen[0][1]))"
   ]
  },
  {
   "cell_type": "code",
   "execution_count": 85,
   "metadata": {},
   "outputs": [
    {
     "name": "stderr",
     "output_type": "stream",
     "text": [
      "60it [00:13,  4.31it/s]\n"
     ]
    }
   ],
   "source": [
    "for i, x in tqdm(enumerate(train.num.unique())):\n",
    "    X = tf_train.loc[tf_train.num == x].iloc[ : , 1:].reset_index(drop = True)\n",
    "    Y = tf_train.loc[tf_train.num == x][[y_col]].reset_index(drop = True)\n",
    "    data = np.array(X)\n",
    "    targets = np.array(Y)\n",
    "    data_gen = TimeseriesGenerator(data, targets, length=length, batch_size = len(X) - length)\n",
    "    \n",
    "    if i == 0 :\n",
    "        val_Xs = data_gen[0][0]\n",
    "        val_Ys = data_gen[0][1]\n",
    "    else :\n",
    "        val_Xs = np.concatenate((val_Xs, data_gen[0][0]))\n",
    "        val_Ys = np.concatenate((val_Ys, data_gen[0][1]))"
   ]
  },
  {
   "cell_type": "code",
   "execution_count": 86,
   "metadata": {},
   "outputs": [],
   "source": [
    "lstm_units=32\n",
    "dropout=0.2\n",
    "EPOCH=30\n",
    "BATCH_SIZE=128"
   ]
  },
  {
   "cell_type": "code",
   "execution_count": 87,
   "metadata": {},
   "outputs": [],
   "source": [
    "model=Sequential([\n",
    "    LSTM(lstm_units, return_sequences=False, recurrent_dropout=dropout),\n",
    "    Dense(1, kernel_initializer=tf.initializers.zeros())\n",
    "])"
   ]
  },
  {
   "cell_type": "code",
   "execution_count": 88,
   "metadata": {},
   "outputs": [],
   "source": [
    "model.compile(optimizer='adam', loss='mae', metrics=['mse'])\n",
    "# 에포크가 끝날 때마다 점(.)을 출력해 훈련 진행 과정을 표시합니다"
   ]
  },
  {
   "cell_type": "code",
   "execution_count": 89,
   "metadata": {},
   "outputs": [],
   "source": [
    "#가장 좋은 성능을 낸 val_loss가 적은 model만 남겨 놓았습니다.\n",
    "save_best_only=tf.keras.callbacks.ModelCheckpoint(filepath=\"lstm_model.h5\", monitor='val_loss', save_best_only=True)"
   ]
  },
  {
   "cell_type": "code",
   "execution_count": 90,
   "metadata": {},
   "outputs": [],
   "source": [
    "early_stop = tf.keras.callbacks.EarlyStopping(monitor='val_loss', patience=20)"
   ]
  },
  {
   "cell_type": "code",
   "execution_count": 91,
   "metadata": {},
   "outputs": [
    {
     "name": "stdout",
     "output_type": "stream",
     "text": [
      "(106560, 24, 61)\n",
      "(106560, 1)\n"
     ]
    }
   ],
   "source": [
    "print(Xs.shape)\n",
    "print(Ys.shape)"
   ]
  },
  {
   "cell_type": "code",
   "execution_count": 92,
   "metadata": {},
   "outputs": [
    {
     "name": "stdout",
     "output_type": "stream",
     "text": [
      "(106560, 24, 61)\n",
      "(106560, 1)\n"
     ]
    }
   ],
   "source": [
    "print(val_Xs.shape)\n",
    "print(val_Ys.shape)"
   ]
  },
  {
   "cell_type": "code",
   "execution_count": 93,
   "metadata": {
    "scrolled": true,
    "tags": []
   },
   "outputs": [
    {
     "name": "stdout",
     "output_type": "stream",
     "text": [
      "Epoch 1/30\n",
      "833/833 [==============================] - 19s 20ms/step - loss: 0.0945 - mse: 0.0228 - accuracy: 9.5721e-04 - val_loss: 0.0453 - val_mse: 0.0056 - val_accuracy: 0.0010\n",
      "Epoch 2/30\n",
      "833/833 [==============================] - 16s 19ms/step - loss: 0.0470 - mse: 0.0055 - accuracy: 0.0010 - val_loss: 0.0396 - val_mse: 0.0045 - val_accuracy: 0.0010\n",
      "Epoch 3/30\n",
      "833/833 [==============================] - 16s 19ms/step - loss: 0.0420 - mse: 0.0048 - accuracy: 0.0010 - val_loss: 0.0379 - val_mse: 0.0042 - val_accuracy: 0.0010\n",
      "Epoch 4/30\n",
      "833/833 [==============================] - 16s 19ms/step - loss: 0.0398 - mse: 0.0044 - accuracy: 0.0010 - val_loss: 0.0364 - val_mse: 0.0039 - val_accuracy: 0.0010\n",
      "Epoch 5/30\n",
      "833/833 [==============================] - 16s 19ms/step - loss: 0.0386 - mse: 0.0041 - accuracy: 0.0010 - val_loss: 0.0360 - val_mse: 0.0038 - val_accuracy: 0.0010\n",
      "Epoch 6/30\n",
      "833/833 [==============================] - 16s 19ms/step - loss: 0.0372 - mse: 0.0039 - accuracy: 0.0010 - val_loss: 0.0351 - val_mse: 0.0037 - val_accuracy: 0.0010\n",
      "Epoch 7/30\n",
      "833/833 [==============================] - 16s 19ms/step - loss: 0.0363 - mse: 0.0037 - accuracy: 0.0010 - val_loss: 0.0338 - val_mse: 0.0035 - val_accuracy: 0.0010\n",
      "Epoch 8/30\n",
      "833/833 [==============================] - 16s 19ms/step - loss: 0.0354 - mse: 0.0036 - accuracy: 0.0010 - val_loss: 0.0331 - val_mse: 0.0032 - val_accuracy: 0.0010\n",
      "Epoch 9/30\n",
      "833/833 [==============================] - 16s 19ms/step - loss: 0.0349 - mse: 0.0035 - accuracy: 0.0010 - val_loss: 0.0328 - val_mse: 0.0032 - val_accuracy: 0.0010\n",
      "Epoch 10/30\n",
      "833/833 [==============================] - 16s 19ms/step - loss: 0.0345 - mse: 0.0034 - accuracy: 0.0010 - val_loss: 0.0322 - val_mse: 0.0031 - val_accuracy: 0.0010\n",
      "Epoch 11/30\n",
      "833/833 [==============================] - 16s 19ms/step - loss: 0.0341 - mse: 0.0033 - accuracy: 0.0010 - val_loss: 0.0325 - val_mse: 0.0030 - val_accuracy: 0.0010\n",
      "Epoch 12/30\n",
      "833/833 [==============================] - 16s 19ms/step - loss: 0.0338 - mse: 0.0033 - accuracy: 0.0010 - val_loss: 0.0321 - val_mse: 0.0030 - val_accuracy: 0.0010\n",
      "Epoch 13/30\n",
      "833/833 [==============================] - 16s 19ms/step - loss: 0.0334 - mse: 0.0032 - accuracy: 0.0010 - val_loss: 0.0322 - val_mse: 0.0030 - val_accuracy: 0.0010\n",
      "Epoch 14/30\n",
      "833/833 [==============================] - 16s 19ms/step - loss: 0.0331 - mse: 0.0031 - accuracy: 0.0010 - val_loss: 0.0341 - val_mse: 0.0031 - val_accuracy: 0.0010\n",
      "Epoch 15/30\n",
      "833/833 [==============================] - 17s 20ms/step - loss: 0.0330 - mse: 0.0031 - accuracy: 0.0010 - val_loss: 0.0318 - val_mse: 0.0029 - val_accuracy: 0.0010\n",
      "Epoch 16/30\n",
      "833/833 [==============================] - 18s 21ms/step - loss: 0.0326 - mse: 0.0030 - accuracy: 0.0010 - val_loss: 0.0304 - val_mse: 0.0028 - val_accuracy: 0.0010\n",
      "Epoch 17/30\n",
      "833/833 [==============================] - 17s 21ms/step - loss: 0.0324 - mse: 0.0030 - accuracy: 0.0010 - val_loss: 0.0304 - val_mse: 0.0028 - val_accuracy: 0.0010\n",
      "Epoch 18/30\n",
      "833/833 [==============================] - 17s 20ms/step - loss: 0.0322 - mse: 0.0030 - accuracy: 0.0010 - val_loss: 0.0307 - val_mse: 0.0028 - val_accuracy: 0.0010\n",
      "Epoch 19/30\n",
      "833/833 [==============================] - 17s 20ms/step - loss: 0.0321 - mse: 0.0029 - accuracy: 0.0010 - val_loss: 0.0308 - val_mse: 0.0028 - val_accuracy: 0.0010\n",
      "Epoch 20/30\n",
      "833/833 [==============================] - 17s 21ms/step - loss: 0.0320 - mse: 0.0029 - accuracy: 0.0010 - val_loss: 0.0304 - val_mse: 0.0027 - val_accuracy: 0.0010\n",
      "Epoch 21/30\n",
      "833/833 [==============================] - 16s 20ms/step - loss: 0.0316 - mse: 0.0029 - accuracy: 0.0010 - val_loss: 0.0297 - val_mse: 0.0027 - val_accuracy: 0.0010\n",
      "Epoch 22/30\n",
      "833/833 [==============================] - 16s 19ms/step - loss: 0.0315 - mse: 0.0028 - accuracy: 0.0010 - val_loss: 0.0296 - val_mse: 0.0026 - val_accuracy: 0.0010\n",
      "Epoch 23/30\n",
      "833/833 [==============================] - 16s 19ms/step - loss: 0.0313 - mse: 0.0028 - accuracy: 0.0010 - val_loss: 0.0299 - val_mse: 0.0026 - val_accuracy: 0.0010\n",
      "Epoch 24/30\n",
      "833/833 [==============================] - 16s 19ms/step - loss: 0.0312 - mse: 0.0028 - accuracy: 0.0010 - val_loss: 0.0297 - val_mse: 0.0026 - val_accuracy: 0.0010\n",
      "Epoch 25/30\n",
      "833/833 [==============================] - 16s 19ms/step - loss: 0.0310 - mse: 0.0028 - accuracy: 0.0010 - val_loss: 0.0295 - val_mse: 0.0026 - val_accuracy: 0.0010\n",
      "Epoch 26/30\n",
      "833/833 [==============================] - 16s 19ms/step - loss: 0.0308 - mse: 0.0027 - accuracy: 0.0010 - val_loss: 0.0293 - val_mse: 0.0026 - val_accuracy: 0.0010\n",
      "Epoch 27/30\n",
      "833/833 [==============================] - 17s 20ms/step - loss: 0.0308 - mse: 0.0027 - accuracy: 0.0010 - val_loss: 0.0291 - val_mse: 0.0025 - val_accuracy: 0.0010\n",
      "Epoch 28/30\n",
      "833/833 [==============================] - 17s 20ms/step - loss: 0.0306 - mse: 0.0027 - accuracy: 0.0010 - val_loss: 0.0289 - val_mse: 0.0025 - val_accuracy: 0.0010\n",
      "Epoch 29/30\n",
      "833/833 [==============================] - 17s 21ms/step - loss: 0.0305 - mse: 0.0027 - accuracy: 0.0010 - val_loss: 0.0290 - val_mse: 0.0025 - val_accuracy: 0.0010\n",
      "Epoch 30/30\n",
      "833/833 [==============================] - 17s 21ms/step - loss: 0.0304 - mse: 0.0027 - accuracy: 0.0010 - val_loss: 0.0287 - val_mse: 0.0025 - val_accuracy: 0.0010\n",
      "Wall time: 8min 11s\n"
     ]
    }
   ],
   "source": [
    "%%time\n",
    "history = model.fit(Xs, Ys, validation_data = (val_Xs, val_Ys), epochs=EPOCH, batch_size=BATCH_SIZE, verbose=1,\n",
    "          callbacks=[early_stop, save_best_only])"
   ]
  },
  {
   "cell_type": "code",
   "execution_count": 94,
   "metadata": {},
   "outputs": [
    {
     "name": "stdout",
     "output_type": "stream",
     "text": [
      "Model: \"sequential_1\"\n",
      "_________________________________________________________________\n",
      "Layer (type)                 Output Shape              Param #   \n",
      "=================================================================\n",
      "lstm_1 (LSTM)                (None, 32)                12032     \n",
      "_________________________________________________________________\n",
      "dense_1 (Dense)              (None, 1)                 33        \n",
      "=================================================================\n",
      "Total params: 12,065\n",
      "Trainable params: 12,065\n",
      "Non-trainable params: 0\n",
      "_________________________________________________________________\n"
     ]
    }
   ],
   "source": [
    "model.summary()"
   ]
  },
  {
   "cell_type": "code",
   "execution_count": 102,
   "metadata": {},
   "outputs": [
    {
     "data": {
      "image/png": "[encoded data removed]",
      "text/plain": [
       "<Figure size 720x720 with 2 Axes>"
      ]
     },
     "metadata": {
      "needs_background": "light"
     },
     "output_type": "display_data"
    }
   ],
   "source": [
    "fig, loss_ax = plt.subplots()\n",
    "acc_ax = loss_ax.twinx()\n",
    "\n",
    "loss_ax.plot(history.history['loss'], 'y', label='train loss')\n",
    "loss_ax.plot(history.history['val_loss'], 'r', label='val loss')\n",
    "loss_ax.set_xlabel('epoch')\n",
    "loss_ax.set_ylabel('loss')\n",
    "loss_ax.legend(loc='upper left')\n",
    "\n",
    "acc_ax.plot(history.history['mse'], 'b', label='train mse')\n",
    "acc_ax.plot(history.history['val_mse'], 'g', label='val mse')\n",
    "acc_ax.set_ylabel('mse')\n",
    "acc_ax.legend(loc='upper right')\n",
    "\n",
    "plt.show()"
   ]
  },
  {
   "cell_type": "code",
   "execution_count": 104,
   "metadata": {},
   "outputs": [],
   "source": [
    "test[y_col] = pd.NA"
   ]
  },
  {
   "cell_type": "code",
   "execution_count": 105,
   "metadata": {},
   "outputs": [],
   "source": [
    "predict_epch30 = test[[\"num\", y_col]]"
   ]
  },
  {
   "cell_type": "code",
   "execution_count": null,
   "metadata": {},
   "outputs": [
    {
     "name": "stderr",
     "output_type": "stream",
     "text": [
      " 57%|████████████████████████████▉                      | 34/60 [05:29<04:02,  9.34s/it]"
     ]
    }
   ],
   "source": [
    "%%time\n",
    "\n",
    "result = np.zeros(len(test))\n",
    "result_idx = 0\n",
    "\n",
    "for i in tqdm(test.num.unique()):\n",
    "    for n, m in enumerate(range(len(tf_val[tf_val.num == i]))) :\n",
    "        if n == 0 :\n",
    "            predict_data = np.array(tf_train.loc[tf_train.num == x].iloc[-24: , 1:])\n",
    "        else : \n",
    "            predict_data = predict_data[-24:]\n",
    "        next_= model.predict(np.reshape(predict_data, (1, Xs.shape[1], Xs.shape[2])))\n",
    "        onehot_value = tf_train.loc[tf_train.num == x].iloc[-1: , 1:-1]\n",
    "        predict_data = np.concatenate([predict_data, np.array([list(onehot_value.values[0]) + [next_[0][0]]])])\n",
    "        result[result_idx] = next_\n",
    "        result_idx += 1"
   ]
  },
  {
   "cell_type": "code",
   "execution_count": 156,
   "metadata": {},
   "outputs": [
    {
     "data": {
      "text/html": [
       "<div>\n",
       "<style scoped>\n",
       "    .dataframe tbody tr th:only-of-type {\n",
       "        vertical-align: middle;\n",
       "    }\n",
       "\n",
       "    .dataframe tbody tr th {\n",
       "        vertical-align: top;\n",
       "    }\n",
       "\n",
       "    .dataframe thead th {\n",
       "        text-align: right;\n",
       "    }\n",
       "</style>\n",
       "<table border=\"1\" class=\"dataframe\">\n",
       "  <thead>\n",
       "    <tr style=\"text-align: right;\">\n",
       "      <th></th>\n",
       "      <th>num</th>\n",
       "      <th>전력사용량(kWh)</th>\n",
       "    </tr>\n",
       "  </thead>\n",
       "  <tbody>\n",
       "    <tr>\n",
       "      <th>0</th>\n",
       "      <td>1</td>\n",
       "      <td>0.519483</td>\n",
       "    </tr>\n",
       "    <tr>\n",
       "      <th>1</th>\n",
       "      <td>1</td>\n",
       "      <td>0.501995</td>\n",
       "    </tr>\n",
       "    <tr>\n",
       "      <th>2</th>\n",
       "      <td>1</td>\n",
       "      <td>0.497243</td>\n",
       "    </tr>\n",
       "    <tr>\n",
       "      <th>3</th>\n",
       "      <td>1</td>\n",
       "      <td>0.500846</td>\n",
       "    </tr>\n",
       "    <tr>\n",
       "      <th>4</th>\n",
       "      <td>1</td>\n",
       "      <td>0.511387</td>\n",
       "    </tr>\n",
       "    <tr>\n",
       "      <th>...</th>\n",
       "      <td>...</td>\n",
       "      <td>...</td>\n",
       "    </tr>\n",
       "    <tr>\n",
       "      <th>10075</th>\n",
       "      <td>60</td>\n",
       "      <td>0.686439</td>\n",
       "    </tr>\n",
       "    <tr>\n",
       "      <th>10076</th>\n",
       "      <td>60</td>\n",
       "      <td>0.660960</td>\n",
       "    </tr>\n",
       "    <tr>\n",
       "      <th>10077</th>\n",
       "      <td>60</td>\n",
       "      <td>0.609742</td>\n",
       "    </tr>\n",
       "    <tr>\n",
       "      <th>10078</th>\n",
       "      <td>60</td>\n",
       "      <td>0.539052</td>\n",
       "    </tr>\n",
       "    <tr>\n",
       "      <th>10079</th>\n",
       "      <td>60</td>\n",
       "      <td>0.489976</td>\n",
       "    </tr>\n",
       "  </tbody>\n",
       "</table>\n",
       "<p>10080 rows × 2 columns</p>\n",
       "</div>"
      ],
      "text/plain": [
       "       num  전력사용량(kWh)\n",
       "0        1    0.519483\n",
       "1        1    0.501995\n",
       "2        1    0.497243\n",
       "3        1    0.500846\n",
       "4        1    0.511387\n",
       "...    ...         ...\n",
       "10075   60    0.686439\n",
       "10076   60    0.660960\n",
       "10077   60    0.609742\n",
       "10078   60    0.539052\n",
       "10079   60    0.489976\n",
       "\n",
       "[10080 rows x 2 columns]"
      ]
     },
     "execution_count": 156,
     "metadata": {},
     "output_type": "execute_result"
    }
   ],
   "source": [
    "predict_epch30[y_col] = result\n",
    "predict_epch30"
   ]
  },
  {
   "cell_type": "code",
   "execution_count": 179,
   "metadata": {},
   "outputs": [],
   "source": [
    "val_result = pd.concat([tf_val[y_col], pd.Series([x[0] for x in val_Ys])], axis = 1).reset_index(drop= True).rename(columns = {0 : \"predict\"})"
   ]
  },
  {
   "cell_type": "code",
   "execution_count": 180,
   "metadata": {},
   "outputs": [
    {
     "data": {
      "image/png": "[encoded data removed]",
      "text/plain": [
       "<Figure size 640x480 with 1 Axes>"
      ]
     },
     "metadata": {},
     "output_type": "display_data"
    },
    {
     "data": {
      "text/plain": [
       "<ggplot: (186453789684)>"
      ]
     },
     "execution_count": 180,
     "metadata": {},
     "output_type": "execute_result"
    }
   ],
   "source": [
    "(\n",
    "    p9.ggplot() +\n",
    "    p9.geom_line(data = val_result.melt().reset_index(), \n",
    "                 mapping = p9.aes(x = \"index\", y = \"value\", color = \"variable\", group = \"variable\"), alpha = 0.6) +\n",
    "    p9.theme_bw()\n",
    ")"
   ]
  },
  {
   "cell_type": "markdown",
   "metadata": {},
   "source": [
    "---\n",
    "\n",
    "참고 자료 : \n",
    "- https://dacon.io/competitions/official/235736/codeshare/2628?page=1&dtype=recent\n",
    "- https://byeongkijeong.github.io/ARIMA-with-Python/\n",
    "- https://otexts.com/fppkr/arima-estimation.html"
   ]
  }
 ],
 "metadata": {
  "kernelspec": {
   "display_name": "Python 3",
   "language": "python",
   "name": "python3"
  },
  "language_info": {
   "codemirror_mode": {
    "name": "ipython",
    "version": 3
   },
   "file_extension": ".py",
   "mimetype": "text/x-python",
   "name": "python",
   "nbconvert_exporter": "python",
   "pygments_lexer": "ipython3",
   "version": "3.8.10"
  }
 },
 "nbformat": 4,
 "nbformat_minor": 4
}
