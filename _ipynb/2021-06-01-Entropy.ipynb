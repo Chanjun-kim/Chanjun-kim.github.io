{
 "cells": [
  {
   "cell_type": "markdown",
   "metadata": {},
   "source": [
    "---\n",
    "layout: post\n",
    "title: \"Entropy와 Gini계수\"\n",
    "author: \"Chanjun Kim\"\n",
    "categories: Data분석\n",
    "tags: [DecisionTree, 의사결정나무, 불순도, Entropy와, Gini, 엔트로피, 지니계수, InformationGain, information]\n",
    "image: 03_entropy_gini.png\n",
    "---"
   ]
  },
  {
   "cell_type": "markdown",
   "metadata": {},
   "source": [
    "## **목적**\n",
    "- 지난번 포스팅에 ensemble 모델에 관하여 이야기하면서 약한 모형으로 의사결정나무를 많이 사용하는 것을 알 수 있었습니다. 이번에는 의사결정 나무를 만들기 위하여 사용되는 Entropy와 gini index에 대해서 알아보도록 하겠습니다.\n",
    "<br/>\n",
    "<br/>\n"
   ]
  },
  {
   "cell_type": "markdown",
   "metadata": {},
   "source": [
    "### **트리 구축의 원칙**\n",
    "![Oops](https://mblogthumb-phinf.pstatic.net/MjAxODEyMDlfMjYz/MDAxNTQ0MzY1Njc0OTY4.hFiUNsT9cpXJORVg3QGSLdx1F78bgZbOktHa3e7emnwg.P0iA6eeREGDfir58hS-s8ZMOak_P5-qHPPaR_bJePhwg.PNG.ehdrndd/image.png?type=w800)\n",
    "> 출처 : https://m.blog.naver.com/PostView.naver?isHttpsRedirect=true&blogId=ehdrndd&logNo=221158124011\n",
    "- 결정 트리를 구축할 때는 Occamm의 면도날처럼 데이터의 특성을 가장 잘 반영하는 간단한 가설을 먼저 채택하도록 되어있습니다. 어떻게 간단하고 합리적인 트리를 만들 수 있을 지 알아보겠습니다.\n",
    "<br>\n",
    "<br>"
   ]
  },
  {
   "cell_type": "markdown",
   "metadata": {},
   "source": [
    "---\n",
    "\n",
    "### **1. 결정 트리**\n",
    "의사결정나무를 효율적으로 만들기 위해서는 변수의 기준에 따라 불순도/불확실성을 낮추는 방식으로 선택하여 만들게 됩니다.<br>\n",
    "이에 불순도(Impurity) / 불확실성(Uncertainty)를 감소하는 것을 Information gain이라고 하며 이것을 최소화시키기 위하여 Gini Index와 Entropy라는 개념을 사용하게 되고 의사결정 나무의 종류에 따라 다르게 쓰입니다.<br>\n",
    "sklearn에서 default로 쓰이는 건 gini계수이며 이는 CART(Classificatioin And Regression Tree)에 쓰입니다.<br>\n",
    "ID3 그리고 이것을 개선한 C4.5, C5.0에서는 Entropy를 계산한다고 합니다. <br>\n",
    "CART tree는 항상 2진 분류를 하는 방식으로 나타나며, Entropy 혹은 Entropy 기반으로 계산되는 Information gain으로 계산되며 다중 분리가 됩니다. <br>\n",
    "\n",
    "- Gini계수와 Entropy 모두 높을수록 불순도가 높아져 분류를 하기 어렵습니다. <br>\n",
    "![Oops](http://i.imgur.com/n3MVwHW.png)\n",
    "\n",
    "|비 고|ID3|C4.5, C5|CART|\n",
    "|:---:|:---:|:---:|:---:|\n",
    "|평가지수|Entropy|Information gain|Gini Index(범주), 분산의 차이(수치)|\n",
    "|분리방식|다지분리|다지분리(범주) 및 이진분리(수치)|항상2진 분리|\n",
    "|비고|수치형 데이터 못 다룸|||\n",
    "\n",
    "<br>\n",
    "<br>\n",
    "> 출처/참고자료 : https://ko.wikipedia.org/wiki/%EA%B2%B0%EC%A0%95_%ED%8A%B8%EB%A6%AC_%ED%95%99%EC%8A%B5%EB%B2%95 <br>\n",
    "> 출처/참고자료 : https://m.blog.naver.com/PostView.naver?isHttpsRedirect=true&blogId=trashx&logNo=60099037740 <br>\n",
    "> 출처/참고자료 : https://ratsgo.github.io/machine%20learning/2017/03/26/tree/"
   ]
  },
  {
   "cell_type": "markdown",
   "metadata": {},
   "source": [
    "---\n",
    "\n",
    "### **1. Gini Index**\n",
    "일단 sklearn의 DecisionTreeClassifier의 default 값인 Gini 계수에 대해서 먼저 설명하겠습니다. <br> "
   ]
  },
  {
   "cell_type": "markdown",
   "metadata": {},
   "source": [
    "우선 Gini index의 공식입니다. <br>\n",
    "\n",
    "- 영역의 데이터 비율을 제곱하여 더한 값을 1에서 빼주게 된다.<br>\n",
    "![Oops](https://blog.kakaocdn.net/dn/uwQUP/btquI1QZpzV/zg919kn8JXk2n0bWovsYkk/img.png) <br>\n",
    "<br>\n",
    "- 두개 영역 이상이 되면 비율의 제곱의 비율을 곱하여 1에서 빼주게 된다.<br>\n",
    "![Oops](https://blog.kakaocdn.net/dn/cfpPHK/btquKIXbRpq/5WF8UDRqrRAG5itVMx1oW0/img.png)\n",
    "> 출처 : https://soobarkbar.tistory.com/17\n",
    "\n",
    "<br>\n",
    "\n",
    "- 최대값을 보게되면 1 - ( (1/2)^2 + (1/2)^2 ) = 0.5\n",
    "- 최소값을 보게되면 1 - ( 1^2 + 0^2 ) = 0"
   ]
  },
  {
   "cell_type": "code",
   "execution_count": 1,
   "metadata": {},
   "outputs": [],
   "source": [
    "import os\n",
    "import sys\n",
    "import warnings\n",
    "\n",
    "import math\n",
    "import random\n",
    "import numpy as np\n",
    "import pandas as pd\n",
    "import scipy\n",
    "\n",
    "from sklearn import tree\n",
    "from sklearn.tree import DecisionTreeClassifier\n",
    "\n",
    "import matplotlib as mpl\n",
    "from matplotlib import pyplot as plt\n",
    "from plotnine import *\n",
    "\n",
    "import graphviz\n",
    "from sklearn.preprocessing import OneHotEncoder\n",
    "\n",
    "%matplotlib inline\n",
    "warnings.filterwarnings(\"ignore\")"
   ]
  },
  {
   "cell_type": "code",
   "execution_count": 2,
   "metadata": {},
   "outputs": [
    {
     "data": {
      "text/html": [
       "<div>\n",
       "<style scoped>\n",
       "    .dataframe tbody tr th:only-of-type {\n",
       "        vertical-align: middle;\n",
       "    }\n",
       "\n",
       "    .dataframe tbody tr th {\n",
       "        vertical-align: top;\n",
       "    }\n",
       "\n",
       "    .dataframe thead th {\n",
       "        text-align: right;\n",
       "    }\n",
       "</style>\n",
       "<table border=\"1\" class=\"dataframe\">\n",
       "  <thead>\n",
       "    <tr style=\"text-align: right;\">\n",
       "      <th></th>\n",
       "      <th>Outlook</th>\n",
       "      <th>Temperature</th>\n",
       "      <th>Humidity</th>\n",
       "      <th>Wind</th>\n",
       "      <th>PlayTennis</th>\n",
       "    </tr>\n",
       "    <tr>\n",
       "      <th>Day</th>\n",
       "      <th></th>\n",
       "      <th></th>\n",
       "      <th></th>\n",
       "      <th></th>\n",
       "      <th></th>\n",
       "    </tr>\n",
       "  </thead>\n",
       "  <tbody>\n",
       "    <tr>\n",
       "      <th>D1</th>\n",
       "      <td>Sunny</td>\n",
       "      <td>Hot</td>\n",
       "      <td>High</td>\n",
       "      <td>Weak</td>\n",
       "      <td>No</td>\n",
       "    </tr>\n",
       "    <tr>\n",
       "      <th>D2</th>\n",
       "      <td>Sunny</td>\n",
       "      <td>Hot</td>\n",
       "      <td>High</td>\n",
       "      <td>Strong</td>\n",
       "      <td>No</td>\n",
       "    </tr>\n",
       "    <tr>\n",
       "      <th>D3</th>\n",
       "      <td>Overcast</td>\n",
       "      <td>Hot</td>\n",
       "      <td>High</td>\n",
       "      <td>Weak</td>\n",
       "      <td>Yes</td>\n",
       "    </tr>\n",
       "    <tr>\n",
       "      <th>D4</th>\n",
       "      <td>Rain</td>\n",
       "      <td>Mild</td>\n",
       "      <td>High</td>\n",
       "      <td>Weak</td>\n",
       "      <td>Yes</td>\n",
       "    </tr>\n",
       "    <tr>\n",
       "      <th>D5</th>\n",
       "      <td>Rain</td>\n",
       "      <td>Cool</td>\n",
       "      <td>Normal</td>\n",
       "      <td>Weak</td>\n",
       "      <td>Yes</td>\n",
       "    </tr>\n",
       "    <tr>\n",
       "      <th>D6</th>\n",
       "      <td>Rain</td>\n",
       "      <td>Cool</td>\n",
       "      <td>Normal</td>\n",
       "      <td>Strong</td>\n",
       "      <td>No</td>\n",
       "    </tr>\n",
       "    <tr>\n",
       "      <th>D7</th>\n",
       "      <td>Overcast</td>\n",
       "      <td>Cool</td>\n",
       "      <td>Normal</td>\n",
       "      <td>Strong</td>\n",
       "      <td>Yes</td>\n",
       "    </tr>\n",
       "    <tr>\n",
       "      <th>D8</th>\n",
       "      <td>Sunny</td>\n",
       "      <td>Mild</td>\n",
       "      <td>High</td>\n",
       "      <td>Weak</td>\n",
       "      <td>No</td>\n",
       "    </tr>\n",
       "    <tr>\n",
       "      <th>D9</th>\n",
       "      <td>Sunny</td>\n",
       "      <td>Cool</td>\n",
       "      <td>Normal</td>\n",
       "      <td>Weak</td>\n",
       "      <td>Yes</td>\n",
       "    </tr>\n",
       "    <tr>\n",
       "      <th>D10</th>\n",
       "      <td>Rain</td>\n",
       "      <td>Mild</td>\n",
       "      <td>Normal</td>\n",
       "      <td>Weak</td>\n",
       "      <td>Yes</td>\n",
       "    </tr>\n",
       "    <tr>\n",
       "      <th>D11</th>\n",
       "      <td>Sunny</td>\n",
       "      <td>Mild</td>\n",
       "      <td>Normal</td>\n",
       "      <td>Strong</td>\n",
       "      <td>Yes</td>\n",
       "    </tr>\n",
       "    <tr>\n",
       "      <th>D12</th>\n",
       "      <td>Overcast</td>\n",
       "      <td>Mild</td>\n",
       "      <td>High</td>\n",
       "      <td>Strong</td>\n",
       "      <td>Yes</td>\n",
       "    </tr>\n",
       "    <tr>\n",
       "      <th>D13</th>\n",
       "      <td>Overcast</td>\n",
       "      <td>Hot</td>\n",
       "      <td>Normal</td>\n",
       "      <td>Weak</td>\n",
       "      <td>Yes</td>\n",
       "    </tr>\n",
       "    <tr>\n",
       "      <th>D14</th>\n",
       "      <td>Rain</td>\n",
       "      <td>Mild</td>\n",
       "      <td>High</td>\n",
       "      <td>Strong</td>\n",
       "      <td>No</td>\n",
       "    </tr>\n",
       "  </tbody>\n",
       "</table>\n",
       "</div>"
      ],
      "text/plain": [
       "      Outlook Temperature Humidity    Wind PlayTennis\n",
       "Day                                                  \n",
       "D1      Sunny         Hot     High    Weak         No\n",
       "D2      Sunny         Hot     High  Strong         No\n",
       "D3   Overcast         Hot     High    Weak        Yes\n",
       "D4       Rain        Mild     High    Weak        Yes\n",
       "D5       Rain        Cool   Normal    Weak        Yes\n",
       "D6       Rain        Cool   Normal  Strong         No\n",
       "D7   Overcast        Cool   Normal  Strong        Yes\n",
       "D8      Sunny        Mild     High    Weak         No\n",
       "D9      Sunny        Cool   Normal    Weak        Yes\n",
       "D10      Rain        Mild   Normal    Weak        Yes\n",
       "D11     Sunny        Mild   Normal  Strong        Yes\n",
       "D12  Overcast        Mild     High  Strong        Yes\n",
       "D13  Overcast         Hot   Normal    Weak        Yes\n",
       "D14      Rain        Mild     High  Strong         No"
      ]
     },
     "execution_count": 2,
     "metadata": {},
     "output_type": "execute_result"
    }
   ],
   "source": [
    "tennis = pd.read_csv(\"data/tennis.csv\", index_col = \"Day\")\n",
    "tennis"
   ]
  },
  {
   "cell_type": "markdown",
   "metadata": {},
   "source": [
    "- 위와 같은 데이터가 있다고 할 때, 우리는 어떤 요인이 가장 확실한(불확실성이 적은) 변수일지 생각을 하고 트리를 만들어야합니다."
   ]
  },
  {
   "cell_type": "markdown",
   "metadata": {},
   "source": [
    "<br>\n",
    "<br>\n",
    "\n",
    "아무것도 나누지 않았을 때 gini계수를 구하는 함수를 만든 후 얼마인지 출력해보겠습니다"
   ]
  },
  {
   "cell_type": "code",
   "execution_count": 3,
   "metadata": {},
   "outputs": [],
   "source": [
    "def get_unique_dict(df) :\n",
    "    return {x : list(df[x].unique()) for x in [\"Outlook\", \"Temperature\", \"Humidity\", \"Wind\"]}"
   ]
  },
  {
   "cell_type": "code",
   "execution_count": 4,
   "metadata": {},
   "outputs": [],
   "source": [
    "def get_gini(df, y_col) :\n",
    "    Ys = df[y_col].value_counts()\n",
    "    total_row = len(df)\n",
    "    return 1 - np.sum([np.square(len(df[df[y_col] == y]) / total_row) for y in Ys.index])"
   ]
  },
  {
   "cell_type": "code",
   "execution_count": 5,
   "metadata": {},
   "outputs": [],
   "source": [
    "def gini_split(df, y_col, col, feature) :\n",
    "    r1 = len(df[df[col] == feature])\n",
    "    Y1 = dict(df[df[col] == feature][y_col].value_counts())\n",
    "    r2 = len(df[df[col] != feature])\n",
    "    Y2 = dict(df[df[col] != feature][y_col].value_counts())\n",
    "    \n",
    "    ratio = r1 / (r1 + r2)\n",
    "    gi1 = 1 - np.sum([np.square(len(df[(df[col] == feature) & (df[y_col] == x)]) / r1) for x, y in Y1.items()])\n",
    "    gi2 = 1 - np.sum([np.square(len(df[(df[col] != feature) & (df[y_col] == x)]) / r2) for x, y in Y2.items()])\n",
    "    \n",
    "    return (ratio * gi1) + ((1-ratio) * gi2)"
   ]
  },
  {
   "cell_type": "markdown",
   "metadata": {},
   "source": [
    "어떤 기준으로 나누었을 때 gini계수를 구하는 함수를 만들어 예시로 Outlook이 Sunny일 때 gini 계수를 구해보겠습니다."
   ]
  },
  {
   "cell_type": "code",
   "execution_count": 6,
   "metadata": {},
   "outputs": [
    {
     "data": {
      "text/plain": [
       "0.4591836734693877"
      ]
     },
     "execution_count": 6,
     "metadata": {},
     "output_type": "execute_result"
    }
   ],
   "source": [
    "get_gini(tennis, \"PlayTennis\")"
   ]
  },
  {
   "cell_type": "markdown",
   "metadata": {},
   "source": [
    "아무것도 나누지 않았을 때보다, Sunny로 나누었을 때 gini계수가 줄어드는 것을 볼 수 있습니다.<br>\n",
    "이 때 이 차이값을 Information gain(정보획득)이라고 합니다. 그리고 정보획득량이 많은 쪽을 선택하여 트리의 구조를 만들기 시작합니다."
   ]
  },
  {
   "cell_type": "code",
   "execution_count": 7,
   "metadata": {},
   "outputs": [
    {
     "name": "stdout",
     "output_type": "stream",
     "text": [
      "Outlook, Sunny 기준 split 후 gini 계수 : 0.3936507936507936\n",
      "information gain : 0.06553287981859413\n"
     ]
    }
   ],
   "source": [
    "split_point = [\"Outlook\", \"Sunny\"]\n",
    "print(\"{}, {} 기준 split 후 gini 계수 : {}\".format(*split_point, gini_split(tennis, \"PlayTennis\", *split_point)))\n",
    "print(\"information gain : {}\".format(get_gini(tennis, \"PlayTennis\") - gini_split(tennis, \"PlayTennis\", *split_point)))"
   ]
  },
  {
   "cell_type": "markdown",
   "metadata": {},
   "source": [
    "- 이제 모든 변수에 대해서 각각의 gini계수를 구하여 정보획득량이 많은, 즉 gini계수가 적은 변수를 선정하여 트리를 만들어갑니다."
   ]
  },
  {
   "cell_type": "code",
   "execution_count": 8,
   "metadata": {},
   "outputs": [
    {
     "data": {
      "text/plain": [
       "{'Outlook': ['Sunny', 'Overcast', 'Rain'],\n",
       " 'Temperature': ['Hot', 'Mild', 'Cool'],\n",
       " 'Humidity': ['High', 'Normal'],\n",
       " 'Wind': ['Weak', 'Strong']}"
      ]
     },
     "execution_count": 8,
     "metadata": {},
     "output_type": "execute_result"
    }
   ],
   "source": [
    "y_col = \"PlayTennis\"\n",
    "unique_dict = get_unique_dict(tennis)\n",
    "unique_dict"
   ]
  },
  {
   "cell_type": "code",
   "execution_count": 9,
   "metadata": {},
   "outputs": [
    {
     "data": {
      "text/plain": [
       "['col : Outlook, split_feature : Sunny : gini_index = 0.3936507936507936',\n",
       " 'col : Outlook, split_feature : Overcast : gini_index = 0.35714285714285715',\n",
       " 'col : Outlook, split_feature : Rain : gini_index = 0.4571428571428571',\n",
       " 'col : Temperature, split_feature : Hot : gini_index = 0.4428571428571429',\n",
       " 'col : Temperature, split_feature : Mild : gini_index = 0.4583333333333333',\n",
       " 'col : Temperature, split_feature : Cool : gini_index = 0.45',\n",
       " 'col : Humidity, split_feature : High : gini_index = 0.3673469387755103',\n",
       " 'col : Humidity, split_feature : Normal : gini_index = 0.3673469387755103',\n",
       " 'col : Wind, split_feature : Weak : gini_index = 0.4285714285714286',\n",
       " 'col : Wind, split_feature : Strong : gini_index = 0.42857142857142855']"
      ]
     },
     "execution_count": 9,
     "metadata": {},
     "output_type": "execute_result"
    }
   ],
   "source": [
    "[f\"col : {idx}, split_feature : {v} : gini_index = {gini_split(tennis, y_col, idx, v)}\" for idx, val in unique_dict.items() for v in val]"
   ]
  },
  {
   "cell_type": "code",
   "execution_count": 10,
   "metadata": {},
   "outputs": [],
   "source": [
    "gini_df = pd.DataFrame([[idx, v, gini_split(tennis, y_col, idx, v)] for idx, val in unique_dict.items() for v in val], columns = [\"cat1\", \"cat2\", \"gini\"])"
   ]
  },
  {
   "cell_type": "code",
   "execution_count": 11,
   "metadata": {},
   "outputs": [
    {
     "name": "stdout",
     "output_type": "stream",
     "text": [
      "cat1    Temperature\n",
      "cat2           Mild\n",
      "gini       0.458333\n",
      "Name: 4, dtype: object\n",
      "cat1     Outlook\n",
      "cat2    Overcast\n",
      "gini    0.357143\n",
      "Name: 1, dtype: object\n"
     ]
    }
   ],
   "source": [
    "print(gini_df.iloc[gini_df[\"gini\"].argmax()])\n",
    "print(gini_df.iloc[gini_df[\"gini\"].argmin()])"
   ]
  },
  {
   "cell_type": "markdown",
   "metadata": {},
   "source": [
    "---\n",
    "임의로 x, y좌표를 생성하여 정보들이 얼마나 흩어져있는지 확인해보겠습니다."
   ]
  },
  {
   "cell_type": "code",
   "execution_count": 12,
   "metadata": {},
   "outputs": [],
   "source": [
    "def generate_xy(df, split_col = None, split_value = None) :\n",
    "    if split_col == None :\n",
    "        return df.assign(x = [random.random() for _ in range(len(df))], y = [random.random() for _ in range(len(df))])\n",
    "    else :\n",
    "        tmp_ = df[df[split_col] == split_value]\n",
    "        tmp__ = df[df[split_col] != split_value]\n",
    "        return pd.concat([tmp_.assign(x = [random.random() / 2 for _ in range(len(tmp_))], y = [random.random() for _ in range(len(tmp_))]),\n",
    "                 tmp__.assign(x = [(random.random() / 2) + 0.5 for _ in range(len(tmp__))], y = [random.random() for _ in range(len(tmp__))])] )"
   ]
  },
  {
   "cell_type": "markdown",
   "metadata": {},
   "source": [
    "- 아무런 기준을 두지 않았을 때는 정보를 구분할 수 있는 정보가 없습니다."
   ]
  },
  {
   "cell_type": "code",
   "execution_count": 13,
   "metadata": {},
   "outputs": [],
   "source": [
    "p = (\n",
    "    ggplot(data = generate_xy(tennis), mapping = aes(x = \"x\", y = \"y\", color = y_col)) +\n",
    "    geom_point() +\n",
    "    theme_bw()\n",
    ")\n",
    "p.save(filename = \"../assets/img/2021-06-01-Entropy/1.jpg\")"
   ]
  },
  {
   "cell_type": "markdown",
   "metadata": {},
   "source": [
    "![Oops](../assets/img/2021-06-01-Entropy/1.jpg)"
   ]
  },
  {
   "cell_type": "markdown",
   "metadata": {},
   "source": [
    "- Outlook이 Overcast로 나누었을 때, Yes 4개가 확실히 구분되는 것을 볼 수 있습니다."
   ]
  },
  {
   "cell_type": "code",
   "execution_count": 14,
   "metadata": {},
   "outputs": [],
   "source": [
    "split_list = [\"Outlook\", \"Overcast\"]\n",
    "p = (\n",
    "    ggplot(data = generate_xy(tennis, *split_list), mapping = aes(x = \"x\", y = \"y\", color = y_col)) +\n",
    "    geom_point() +\n",
    "    geom_vline(xintercept = 0.5, color = \"red\", alpha = 0.7) +\n",
    "    theme_bw()\n",
    ")\n",
    "p.save(filename = \"../assets/img/2021-06-01-Entropy/2.jpg\")"
   ]
  },
  {
   "cell_type": "markdown",
   "metadata": {},
   "source": [
    "![Oops](../assets/img/2021-06-01-Entropy/2.jpg)"
   ]
  },
  {
   "cell_type": "markdown",
   "metadata": {},
   "source": [
    "- 정보획득량이 가장 큰 Temperature가 Mild로 나누었을 때입니다."
   ]
  },
  {
   "cell_type": "code",
   "execution_count": 15,
   "metadata": {},
   "outputs": [],
   "source": [
    "split_list = [\"Temperature\", \"Mild\"]\n",
    "p = (\n",
    "    ggplot(data = generate_xy(tennis, *split_list), mapping = aes(x = \"x\", y = \"y\", color = y_col)) +\n",
    "    geom_point() +\n",
    "    geom_vline(xintercept = 0.5, color = \"red\", alpha = 0.7) +\n",
    "    theme_bw()\n",
    ")\n",
    "p.save(filename = \"../assets/img/2021-06-01-Entropy/3.jpg\")"
   ]
  },
  {
   "cell_type": "markdown",
   "metadata": {},
   "source": [
    "![Oops](../assets/img/2021-06-01-Entropy/3.jpg)"
   ]
  },
  {
   "cell_type": "markdown",
   "metadata": {},
   "source": [
    "- Outlook이 Sunny, Rain으로 각각 나누었을 때입니다."
   ]
  },
  {
   "cell_type": "code",
   "execution_count": 16,
   "metadata": {},
   "outputs": [],
   "source": [
    "split_list = [\"Outlook\", \"Sunny\"]\n",
    "p = (\n",
    "    ggplot(data = generate_xy(tennis, *split_list), mapping = aes(x = \"x\", y = \"y\", color = y_col)) +\n",
    "    geom_point() +\n",
    "    geom_vline(xintercept = 0.5, color = \"red\", alpha = 0.7) +\n",
    "    theme_bw()\n",
    ")\n",
    "p.save(filename = \"../assets/img/2021-06-01-Entropy/4.jpg\")"
   ]
  },
  {
   "cell_type": "markdown",
   "metadata": {},
   "source": [
    "![Oops](../assets/img/2021-06-01-Entropy/4.jpg)"
   ]
  },
  {
   "cell_type": "code",
   "execution_count": 17,
   "metadata": {},
   "outputs": [],
   "source": [
    "split_list = [\"Outlook\", \"Rain\"]\n",
    "p = (\n",
    "    ggplot(data = generate_xy(tennis, *split_list), mapping = aes(x = \"x\", y = \"y\", color = y_col)) +\n",
    "    geom_point() +\n",
    "    geom_vline(xintercept = 0.5, color = \"red\", alpha = 0.7) +\n",
    "    theme_bw()\n",
    ")\n",
    "p.save(\"../assets/img/2021-06-01-Entropy/5.jpg\")"
   ]
  },
  {
   "cell_type": "markdown",
   "metadata": {},
   "source": [
    "![Oops](../assets/img/2021-06-01-Entropy/5.jpg)"
   ]
  },
  {
   "cell_type": "markdown",
   "metadata": {},
   "source": [
    "#### **실제 tree 모델과 비교하기 위하여 OneHotEncoding 후 트리모형을 돌려보도록 하겠습니다."
   ]
  },
  {
   "cell_type": "code",
   "execution_count": 18,
   "metadata": {},
   "outputs": [],
   "source": [
    "cols = [\"Outlook\", \"Temperature\", \"Humidity\", \"Wind\"]\n",
    "oe = OneHotEncoder()"
   ]
  },
  {
   "cell_type": "code",
   "execution_count": 19,
   "metadata": {},
   "outputs": [],
   "source": [
    "Xs = pd.get_dummies(tennis[cols])\n",
    "Ys = tennis[y_col]"
   ]
  },
  {
   "cell_type": "code",
   "execution_count": 20,
   "metadata": {},
   "outputs": [
    {
     "data": {
      "text/plain": [
       "DecisionTreeClassifier(ccp_alpha=0.0, class_weight=None, criterion='gini',\n",
       "                       max_depth=None, max_features=None, max_leaf_nodes=None,\n",
       "                       min_impurity_decrease=0.0, min_impurity_split=None,\n",
       "                       min_samples_leaf=1, min_samples_split=2,\n",
       "                       min_weight_fraction_leaf=0.0, presort='deprecated',\n",
       "                       random_state=None, splitter='best')"
      ]
     },
     "execution_count": 20,
     "metadata": {},
     "output_type": "execute_result"
    }
   ],
   "source": [
    "dt_gini = DecisionTreeClassifier(criterion=\"gini\")\n",
    "dt_gini.fit(Xs, Ys)"
   ]
  },
  {
   "cell_type": "code",
   "execution_count": 21,
   "metadata": {},
   "outputs": [],
   "source": [
    "def save_graphviz(grp, grp_num) :\n",
    "    p = graphviz.Source(grp)\n",
    "    p.save(filename = f\"../assets/img/2021-06-01-Entropy/{grp_num}\")\n",
    "    p.render(filename = f\"../assets/img/2021-06-01-Entropy/{grp_num}\", format = \"jpg\")"
   ]
  },
  {
   "cell_type": "code",
   "execution_count": 23,
   "metadata": {},
   "outputs": [],
   "source": [
    "grp = tree.export_graphviz(dt_gini, out_file = None, feature_names=Xs.columns,  \n",
    "                   class_names=Ys.unique(),\n",
    "                   filled=True)\n",
    "save_graphviz(grp, 6)"
   ]
  },
  {
   "cell_type": "markdown",
   "metadata": {},
   "source": [
    "![Oops](../assets/img/2021-06-01-Entropy/6.jpg)"
   ]
  },
  {
   "cell_type": "markdown",
   "metadata": {},
   "source": [
    "#### **실제로 이 순서가 맞는지 확인해보겠습니다**"
   ]
  },
  {
   "cell_type": "code",
   "execution_count": 24,
   "metadata": {},
   "outputs": [
    {
     "data": {
      "text/plain": [
       "0.4591836734693877"
      ]
     },
     "execution_count": 24,
     "metadata": {},
     "output_type": "execute_result"
    }
   ],
   "source": [
    "get_gini(tennis, \"PlayTennis\")"
   ]
  },
  {
   "cell_type": "code",
   "execution_count": 25,
   "metadata": {},
   "outputs": [
    {
     "data": {
      "text/plain": [
       "cat1     Outlook\n",
       "cat2    Overcast\n",
       "gini    0.357143\n",
       "Name: 1, dtype: object"
      ]
     },
     "execution_count": 25,
     "metadata": {},
     "output_type": "execute_result"
    }
   ],
   "source": [
    "gini_df.iloc[gini_df[\"gini\"].argmin()]"
   ]
  },
  {
   "cell_type": "code",
   "execution_count": 26,
   "metadata": {},
   "outputs": [
    {
     "name": "stdout",
     "output_type": "stream",
     "text": [
      "col : Outlook, split_feature : Sunny : gini_index = 0.48\n",
      "col : Outlook, split_feature : Rain : gini_index = 0.48\n",
      "col : Temperature, split_feature : Hot : gini_index = 0.375\n",
      "col : Temperature, split_feature : Mild : gini_index = 0.48\n",
      "col : Temperature, split_feature : Cool : gini_index = 0.4761904761904763\n",
      "col : Humidity, split_feature : High : gini_index = 0.31999999999999984\n",
      "col : Humidity, split_feature : Normal : gini_index = 0.31999999999999984\n",
      "col : Wind, split_feature : Weak : gini_index = 0.4166666666666667\n",
      "col : Wind, split_feature : Strong : gini_index = 0.4166666666666667\n",
      "\n",
      "gini index : 0.5\n",
      "cat1    Humidity\n",
      "cat2        High\n",
      "gini        0.32\n",
      "Name: 5, dtype: object\n"
     ]
    }
   ],
   "source": [
    "tennis_node1 = tennis[tennis[\"Outlook\"] != \"Overcast\"]\n",
    "[print(f\"col : {idx}, split_feature : {v} : gini_index = {gini_split(tennis_node1, y_col, idx, v)}\") for idx, val in get_unique_dict(tennis_node1).items() for v in val]\n",
    "gini_df = pd.DataFrame([[idx, v, gini_split(tennis_node1, y_col, idx, v)] for idx, val in get_unique_dict(tennis_node1).items() for v in val], columns = [\"cat1\", \"cat2\", \"gini\"])\n",
    "print(\"\")\n",
    "print(\"gini index : {}\".format(get_gini(tennis_node1, y_col)))\n",
    "print(gini_df.iloc[gini_df[\"gini\"].argmin()])"
   ]
  },
  {
   "cell_type": "code",
   "execution_count": 27,
   "metadata": {},
   "outputs": [
    {
     "name": "stdout",
     "output_type": "stream",
     "text": [
      "col : Outlook, split_feature : Sunny : gini_index = 0.2\n",
      "col : Outlook, split_feature : Rain : gini_index = 0.2\n",
      "col : Temperature, split_feature : Hot : gini_index = 0.26666666666666666\n",
      "col : Temperature, split_feature : Mild : gini_index = 0.26666666666666666\n",
      "col : Humidity, split_feature : High : gini_index = 0.31999999999999984\n",
      "col : Wind, split_feature : Weak : gini_index = 0.26666666666666666\n",
      "col : Wind, split_feature : Strong : gini_index = 0.26666666666666666\n",
      "\n",
      "gini index : 0.31999999999999984\n"
     ]
    },
    {
     "data": {
      "text/plain": [
       "cat1    Outlook\n",
       "cat2      Sunny\n",
       "gini        0.2\n",
       "Name: 0, dtype: object"
      ]
     },
     "execution_count": 27,
     "metadata": {},
     "output_type": "execute_result"
    }
   ],
   "source": [
    "tennis_node2 = tennis[(tennis[\"Outlook\"] != \"Overcast\") & (tennis[\"Humidity\"] == \"High\")]\n",
    "[print(f\"col : {idx}, split_feature : {v} : gini_index = {gini_split(tennis_node2, y_col, idx, v)}\") for idx, val in get_unique_dict(tennis_node2).items() for v in val]\n",
    "gini_df = pd.DataFrame([[idx, v, gini_split(tennis_node2, y_col, idx, v)] for idx, val in get_unique_dict(tennis_node2).items() for v in val], columns = [\"cat1\", \"cat2\", \"gini\"])\n",
    "print(\"\")\n",
    "print(\"gini index : {}\".format(get_gini(tennis_node2, y_col)))\n",
    "gini_df.iloc[gini_df[\"gini\"].argmin()]"
   ]
  },
  {
   "cell_type": "markdown",
   "metadata": {},
   "source": [
    "#### - gini계수가 0이면 가장 끝쪽에 있는 terminal node가 됩니다.(데이터가 많으면 overfitting을 막기위하여 가지치기 컨셉이 활용됩니다)"
   ]
  },
  {
   "cell_type": "code",
   "execution_count": 28,
   "metadata": {},
   "outputs": [
    {
     "name": "stdout",
     "output_type": "stream",
     "text": [
      "col : Outlook, split_feature : Overcast : gini_index = 0.0\n",
      "col : Temperature, split_feature : Hot : gini_index = 0.0\n",
      "col : Temperature, split_feature : Cool : gini_index = 0.0\n",
      "col : Temperature, split_feature : Mild : gini_index = 0.0\n",
      "col : Humidity, split_feature : High : gini_index = 0.0\n",
      "col : Humidity, split_feature : Normal : gini_index = 0.0\n",
      "col : Wind, split_feature : Weak : gini_index = 0.0\n",
      "col : Wind, split_feature : Strong : gini_index = 0.0\n"
     ]
    },
    {
     "data": {
      "text/plain": [
       "cat1     Outlook\n",
       "cat2    Overcast\n",
       "gini           0\n",
       "Name: 0, dtype: object"
      ]
     },
     "execution_count": 28,
     "metadata": {},
     "output_type": "execute_result"
    }
   ],
   "source": [
    "tennis_ter1 = tennis[tennis[\"Outlook\"] == \"Overcast\"]\n",
    "[print(f\"col : {idx}, split_feature : {v} : gini_index = {gini_split(tennis_ter1, y_col, idx, v)}\") for idx, val in get_unique_dict(tennis_ter1).items() for v in val]\n",
    "gini_df = pd.DataFrame([[idx, v, gini_split(tennis_ter1, y_col, idx, v)] for idx, val in get_unique_dict(tennis_ter1).items() for v in val], columns = [\"cat1\", \"cat2\", \"gini\"])\n",
    "gini_df.iloc[gini_df[\"gini\"].argmin()]"
   ]
  },
  {
   "cell_type": "markdown",
   "metadata": {},
   "source": [
    "---\n",
    "\n",
    "### **2. Entropy**\n",
    "다음은 ID3, C4.5 등 트리에서 정보획득량을 측정하기 위해 쓰이는 Entropy입니다.<br> "
   ]
  },
  {
   "cell_type": "markdown",
   "metadata": {},
   "source": [
    "우선 Entropy의 공식입니다. <br>\n",
    "\n",
    "- 영역의 데이터 비율을 제곱하여 더한 값을 1에서 빼주게 된다.<br>\n",
    "![Oops](https://wikimedia.org/api/rest_v1/media/math/render/svg/57a7ee6d08213c28f3f633229d26d1f82ea71ba6)\n",
    "<br>"
   ]
  },
  {
   "cell_type": "code",
   "execution_count": 29,
   "metadata": {},
   "outputs": [
    {
     "name": "stdout",
     "output_type": "stream",
     "text": [
      "Entropy의 최대값 : 1.0\n",
      "Entropy의 최대값 : -0.0\n"
     ]
    }
   ],
   "source": [
    "max_entropy = (-1 * ((0.5*np.log2(0.5)) + (0.5*np.log2(0.5))))\n",
    "min_entropy = (-1 * ((1*np.log2(1))))\n",
    "print(f\"Entropy의 최대값 : {max_entropy}\")\n",
    "print(f\"Entropy의 최대값 : {min_entropy}\")"
   ]
  },
  {
   "cell_type": "code",
   "execution_count": 30,
   "metadata": {},
   "outputs": [
    {
     "data": {
      "text/html": [
       "<div>\n",
       "<style scoped>\n",
       "    .dataframe tbody tr th:only-of-type {\n",
       "        vertical-align: middle;\n",
       "    }\n",
       "\n",
       "    .dataframe tbody tr th {\n",
       "        vertical-align: top;\n",
       "    }\n",
       "\n",
       "    .dataframe thead th {\n",
       "        text-align: right;\n",
       "    }\n",
       "</style>\n",
       "<table border=\"1\" class=\"dataframe\">\n",
       "  <thead>\n",
       "    <tr style=\"text-align: right;\">\n",
       "      <th></th>\n",
       "      <th>Outlook</th>\n",
       "      <th>Temperature</th>\n",
       "      <th>Humidity</th>\n",
       "      <th>Wind</th>\n",
       "      <th>PlayTennis</th>\n",
       "    </tr>\n",
       "    <tr>\n",
       "      <th>Day</th>\n",
       "      <th></th>\n",
       "      <th></th>\n",
       "      <th></th>\n",
       "      <th></th>\n",
       "      <th></th>\n",
       "    </tr>\n",
       "  </thead>\n",
       "  <tbody>\n",
       "    <tr>\n",
       "      <th>D1</th>\n",
       "      <td>Sunny</td>\n",
       "      <td>Hot</td>\n",
       "      <td>High</td>\n",
       "      <td>Weak</td>\n",
       "      <td>No</td>\n",
       "    </tr>\n",
       "    <tr>\n",
       "      <th>D2</th>\n",
       "      <td>Sunny</td>\n",
       "      <td>Hot</td>\n",
       "      <td>High</td>\n",
       "      <td>Strong</td>\n",
       "      <td>No</td>\n",
       "    </tr>\n",
       "    <tr>\n",
       "      <th>D3</th>\n",
       "      <td>Overcast</td>\n",
       "      <td>Hot</td>\n",
       "      <td>High</td>\n",
       "      <td>Weak</td>\n",
       "      <td>Yes</td>\n",
       "    </tr>\n",
       "    <tr>\n",
       "      <th>D4</th>\n",
       "      <td>Rain</td>\n",
       "      <td>Mild</td>\n",
       "      <td>High</td>\n",
       "      <td>Weak</td>\n",
       "      <td>Yes</td>\n",
       "    </tr>\n",
       "    <tr>\n",
       "      <th>D5</th>\n",
       "      <td>Rain</td>\n",
       "      <td>Cool</td>\n",
       "      <td>Normal</td>\n",
       "      <td>Weak</td>\n",
       "      <td>Yes</td>\n",
       "    </tr>\n",
       "    <tr>\n",
       "      <th>D6</th>\n",
       "      <td>Rain</td>\n",
       "      <td>Cool</td>\n",
       "      <td>Normal</td>\n",
       "      <td>Strong</td>\n",
       "      <td>No</td>\n",
       "    </tr>\n",
       "    <tr>\n",
       "      <th>D7</th>\n",
       "      <td>Overcast</td>\n",
       "      <td>Cool</td>\n",
       "      <td>Normal</td>\n",
       "      <td>Strong</td>\n",
       "      <td>Yes</td>\n",
       "    </tr>\n",
       "    <tr>\n",
       "      <th>D8</th>\n",
       "      <td>Sunny</td>\n",
       "      <td>Mild</td>\n",
       "      <td>High</td>\n",
       "      <td>Weak</td>\n",
       "      <td>No</td>\n",
       "    </tr>\n",
       "    <tr>\n",
       "      <th>D9</th>\n",
       "      <td>Sunny</td>\n",
       "      <td>Cool</td>\n",
       "      <td>Normal</td>\n",
       "      <td>Weak</td>\n",
       "      <td>Yes</td>\n",
       "    </tr>\n",
       "    <tr>\n",
       "      <th>D10</th>\n",
       "      <td>Rain</td>\n",
       "      <td>Mild</td>\n",
       "      <td>Normal</td>\n",
       "      <td>Weak</td>\n",
       "      <td>Yes</td>\n",
       "    </tr>\n",
       "    <tr>\n",
       "      <th>D11</th>\n",
       "      <td>Sunny</td>\n",
       "      <td>Mild</td>\n",
       "      <td>Normal</td>\n",
       "      <td>Strong</td>\n",
       "      <td>Yes</td>\n",
       "    </tr>\n",
       "    <tr>\n",
       "      <th>D12</th>\n",
       "      <td>Overcast</td>\n",
       "      <td>Mild</td>\n",
       "      <td>High</td>\n",
       "      <td>Strong</td>\n",
       "      <td>Yes</td>\n",
       "    </tr>\n",
       "    <tr>\n",
       "      <th>D13</th>\n",
       "      <td>Overcast</td>\n",
       "      <td>Hot</td>\n",
       "      <td>Normal</td>\n",
       "      <td>Weak</td>\n",
       "      <td>Yes</td>\n",
       "    </tr>\n",
       "    <tr>\n",
       "      <th>D14</th>\n",
       "      <td>Rain</td>\n",
       "      <td>Mild</td>\n",
       "      <td>High</td>\n",
       "      <td>Strong</td>\n",
       "      <td>No</td>\n",
       "    </tr>\n",
       "  </tbody>\n",
       "</table>\n",
       "</div>"
      ],
      "text/plain": [
       "      Outlook Temperature Humidity    Wind PlayTennis\n",
       "Day                                                  \n",
       "D1      Sunny         Hot     High    Weak         No\n",
       "D2      Sunny         Hot     High  Strong         No\n",
       "D3   Overcast         Hot     High    Weak        Yes\n",
       "D4       Rain        Mild     High    Weak        Yes\n",
       "D5       Rain        Cool   Normal    Weak        Yes\n",
       "D6       Rain        Cool   Normal  Strong         No\n",
       "D7   Overcast        Cool   Normal  Strong        Yes\n",
       "D8      Sunny        Mild     High    Weak         No\n",
       "D9      Sunny        Cool   Normal    Weak        Yes\n",
       "D10      Rain        Mild   Normal    Weak        Yes\n",
       "D11     Sunny        Mild   Normal  Strong        Yes\n",
       "D12  Overcast        Mild     High  Strong        Yes\n",
       "D13  Overcast         Hot   Normal    Weak        Yes\n",
       "D14      Rain        Mild     High  Strong         No"
      ]
     },
     "execution_count": 30,
     "metadata": {},
     "output_type": "execute_result"
    }
   ],
   "source": [
    "tennis"
   ]
  },
  {
   "cell_type": "code",
   "execution_count": 31,
   "metadata": {},
   "outputs": [],
   "source": [
    "def get_entropy(df, y_col) :\n",
    "    Ys = df[y_col].value_counts()\n",
    "    total_row = len(df)\n",
    "    (-1 * ((0.5*np.log2(0.5)) + (0.5*np.log2(0.5))))\n",
    "    return -1 *  np.sum([(len(df[df[y_col] == y]) / total_row) * np.log2(len(df[df[y_col] == y]) / total_row) for y in Ys.index])"
   ]
  },
  {
   "cell_type": "code",
   "execution_count": 32,
   "metadata": {},
   "outputs": [
    {
     "data": {
      "text/plain": [
       "0.9402859586706311"
      ]
     },
     "execution_count": 32,
     "metadata": {},
     "output_type": "execute_result"
    }
   ],
   "source": [
    "get_entropy(tennis, y_col)"
   ]
  },
  {
   "cell_type": "code",
   "execution_count": 33,
   "metadata": {},
   "outputs": [],
   "source": [
    "def entropy_split(df, y_col, col, feature) :\n",
    "    r1 = len(df[df[col] == feature])\n",
    "    Y1 = dict(df[df[col] == feature][y_col].value_counts())\n",
    "    r2 = len(df[df[col] != feature])\n",
    "    Y2 = dict(df[df[col] != feature][y_col].value_counts())\n",
    "    \n",
    "    ratio = r1 / (r1 + r2)\n",
    "    ent1 = np.sum([(len(df[(df[col] == feature) & (df[y_col] == x)]) / r1) * np.log2(len(df[(df[col] == feature) & (df[y_col] == x)]) / r1) for x, y in Y1.items()])\n",
    "    ent2 = np.sum([(len(df[(df[col] != feature) & (df[y_col] == x)]) / r2) * np.log2(len(df[(df[col] != feature) & (df[y_col] == x)]) / r2) for x, y in Y2.items()])\n",
    "    \n",
    "    return -1 * ((ratio * ent1) + ((1-ratio) * ent2))"
   ]
  },
  {
   "cell_type": "code",
   "execution_count": 34,
   "metadata": {},
   "outputs": [
    {
     "data": {
      "text/plain": [
       "0.8380423950607803"
      ]
     },
     "execution_count": 34,
     "metadata": {},
     "output_type": "execute_result"
    }
   ],
   "source": [
    "entropy_split(tennis, \"PlayTennis\", \"Outlook\", \"Sunny\")"
   ]
  },
  {
   "cell_type": "markdown",
   "metadata": {},
   "source": [
    "Entropy 역시 gini index와 똑같은 개념으로 아무것도 나누지 않았을 때보다, Sunny로 나누었을 때 줄어드는 것을 볼 수 있습니다.<br>\n",
    "이 때 차이값(Information gain)을 이용하여 트리를 만들면 ID3, C4.5 등의 트리 구조를 만들게 됩니다."
   ]
  },
  {
   "cell_type": "code",
   "execution_count": 35,
   "metadata": {},
   "outputs": [
    {
     "data": {
      "text/plain": [
       "['col : Outlook, split_feature : Sunny : Entropy = 0.8380423950607803',\n",
       " 'col : Outlook, split_feature : Overcast : Entropy = 0.7142857142857143',\n",
       " 'col : Outlook, split_feature : Rain : Entropy = 0.937101105625982',\n",
       " 'col : Temperature, split_feature : Hot : Entropy = 0.9152077851647805',\n",
       " 'col : Temperature, split_feature : Mild : Entropy = 0.9389462162661898',\n",
       " 'col : Temperature, split_feature : Cool : Entropy = 0.9253298887416583',\n",
       " 'col : Humidity, split_feature : High : Entropy = 0.7884504573082896',\n",
       " 'col : Humidity, split_feature : Normal : Entropy = 0.7884504573082896',\n",
       " 'col : Wind, split_feature : Weak : Entropy = 0.8921589282623617',\n",
       " 'col : Wind, split_feature : Strong : Entropy = 0.8921589282623617']"
      ]
     },
     "execution_count": 35,
     "metadata": {},
     "output_type": "execute_result"
    }
   ],
   "source": [
    "[f\"col : {idx}, split_feature : {v} : Entropy = {entropy_split(tennis, y_col, idx, v)}\" for idx, val in get_unique_dict(tennis).items() for v in val]"
   ]
  },
  {
   "cell_type": "code",
   "execution_count": 36,
   "metadata": {},
   "outputs": [],
   "source": [
    "entropy_df = pd.DataFrame([[idx, v, entropy_split(tennis, y_col, idx, v)] for idx, val in unique_dict.items() for v in val], columns = [\"cat1\", \"cat2\", \"entropy\"])"
   ]
  },
  {
   "cell_type": "code",
   "execution_count": 37,
   "metadata": {},
   "outputs": [
    {
     "name": "stdout",
     "output_type": "stream",
     "text": [
      "cat1        Outlook\n",
      "cat2       Overcast\n",
      "entropy    0.714286\n",
      "Name: 1, dtype: object\n",
      "cat1        Outlook\n",
      "cat2          Sunny\n",
      "entropy    0.838042\n",
      "Name: 0, dtype: object\n"
     ]
    }
   ],
   "source": [
    "print(entropy_df.iloc[entropy_df[\"entropy\"].argmin()])\n",
    "print(entropy_df.iloc[gini_df[\"gini\"].argmax()])"
   ]
  },
  {
   "cell_type": "markdown",
   "metadata": {},
   "source": [
    "#### **실제 tree 모델과 비교하기 위하여 OneHotEncoding 후 트리모형을 돌려보도록 하겠습니다.**"
   ]
  },
  {
   "cell_type": "code",
   "execution_count": 38,
   "metadata": {},
   "outputs": [
    {
     "data": {
      "text/plain": [
       "DecisionTreeClassifier(ccp_alpha=0.0, class_weight=None, criterion='entropy',\n",
       "                       max_depth=None, max_features=None, max_leaf_nodes=None,\n",
       "                       min_impurity_decrease=0.0, min_impurity_split=None,\n",
       "                       min_samples_leaf=1, min_samples_split=2,\n",
       "                       min_weight_fraction_leaf=0.0, presort='deprecated',\n",
       "                       random_state=None, splitter='best')"
      ]
     },
     "execution_count": 38,
     "metadata": {},
     "output_type": "execute_result"
    }
   ],
   "source": [
    "dt_entropy = DecisionTreeClassifier(criterion=\"entropy\")\n",
    "dt_entropy.fit(Xs, Ys)"
   ]
  },
  {
   "cell_type": "code",
   "execution_count": 39,
   "metadata": {},
   "outputs": [],
   "source": [
    "grp = tree.export_graphviz(dt_entropy, out_file = None, feature_names=Xs.columns,  \n",
    "                   class_names=Ys.unique(),\n",
    "                   filled=True)\n",
    "save_graphviz(grp, 7)"
   ]
  },
  {
   "cell_type": "markdown",
   "metadata": {},
   "source": [
    "![Oops](../assets/img/2021-06-01-Entropy/7.jpg)"
   ]
  },
  {
   "cell_type": "markdown",
   "metadata": {},
   "source": [
    "#### **실제로 이 순서가 맞는지 확인해보겠습니다**"
   ]
  },
  {
   "cell_type": "code",
   "execution_count": 40,
   "metadata": {},
   "outputs": [
    {
     "data": {
      "text/plain": [
       "0.9402859586706311"
      ]
     },
     "execution_count": 40,
     "metadata": {},
     "output_type": "execute_result"
    }
   ],
   "source": [
    "get_entropy(tennis, \"PlayTennis\")"
   ]
  },
  {
   "cell_type": "code",
   "execution_count": 41,
   "metadata": {},
   "outputs": [
    {
     "data": {
      "text/plain": [
       "cat1        Outlook\n",
       "cat2       Overcast\n",
       "entropy    0.714286\n",
       "Name: 1, dtype: object"
      ]
     },
     "execution_count": 41,
     "metadata": {},
     "output_type": "execute_result"
    }
   ],
   "source": [
    "entropy_df.iloc[entropy_df[\"entropy\"].argmin()]"
   ]
  },
  {
   "cell_type": "code",
   "execution_count": 42,
   "metadata": {},
   "outputs": [
    {
     "name": "stdout",
     "output_type": "stream",
     "text": [
      "col : Outlook, split_feature : Overcast : entropy = -0.0\n",
      "col : Temperature, split_feature : Hot : entropy = -0.0\n",
      "col : Temperature, split_feature : Cool : entropy = -0.0\n",
      "col : Temperature, split_feature : Mild : entropy = -0.0\n",
      "col : Humidity, split_feature : High : entropy = -0.0\n",
      "col : Humidity, split_feature : Normal : entropy = -0.0\n",
      "col : Wind, split_feature : Weak : entropy = -0.0\n",
      "col : Wind, split_feature : Strong : entropy = -0.0\n"
     ]
    },
    {
     "data": {
      "text/plain": [
       "cat1        Outlook\n",
       "cat2       Overcast\n",
       "entropy    0.714286\n",
       "Name: 0, dtype: object"
      ]
     },
     "execution_count": 42,
     "metadata": {},
     "output_type": "execute_result"
    }
   ],
   "source": [
    "tennis_ter1 = tennis[tennis[\"Outlook\"] == \"Overcast\"]\n",
    "[print(f\"col : {idx}, split_feature : {v} : entropy = {entropy_split(tennis_ter1, y_col, idx, v)}\") for idx, val in get_unique_dict(tennis_ter1).items() for v in val]\n",
    "entropy_df = pd.DataFrame([[idx, v, entropy_split(tennis, y_col, idx, v)] for idx, val in get_unique_dict(tennis_ter1).items() for v in val], columns = [\"cat1\", \"cat2\", \"entropy\"])\n",
    "entropy_df.iloc[entropy_df[\"entropy\"].argmin()]"
   ]
  },
  {
   "cell_type": "code",
   "execution_count": 43,
   "metadata": {},
   "outputs": [
    {
     "name": "stdout",
     "output_type": "stream",
     "text": [
      "col : Outlook, split_feature : Sunny : entropy = 0.9709505944546686\n",
      "col : Outlook, split_feature : Rain : entropy = 0.9709505944546686\n",
      "col : Temperature, split_feature : Hot : entropy = 0.7635472023399721\n",
      "col : Temperature, split_feature : Mild : entropy = 0.9709505944546686\n",
      "col : Temperature, split_feature : Cool : entropy = 0.965148445440323\n",
      "col : Humidity, split_feature : High : entropy = 0.7219280948873623\n",
      "col : Humidity, split_feature : Normal : entropy = 0.7219280948873623\n",
      "col : Wind, split_feature : Weak : entropy = 0.8754887502163469\n",
      "col : Wind, split_feature : Strong : entropy = 0.8754887502163469\n"
     ]
    },
    {
     "data": {
      "text/plain": [
       "cat1       Humidity\n",
       "cat2           High\n",
       "entropy     0.78845\n",
       "Name: 5, dtype: object"
      ]
     },
     "execution_count": 43,
     "metadata": {},
     "output_type": "execute_result"
    }
   ],
   "source": [
    "tennis_ter1 = tennis[tennis[\"Outlook\"] != \"Overcast\"]\n",
    "[print(f\"col : {idx}, split_feature : {v} : entropy = {entropy_split(tennis_ter1, y_col, idx, v)}\") for idx, val in get_unique_dict(tennis_ter1).items() for v in val]\n",
    "entropy_df = pd.DataFrame([[idx, v, entropy_split(tennis, y_col, idx, v)] for idx, val in get_unique_dict(tennis_ter1).items() for v in val], columns = [\"cat1\", \"cat2\", \"entropy\"])\n",
    "entropy_df.iloc[entropy_df[\"entropy\"].argmin()]"
   ]
  },
  {
   "cell_type": "markdown",
   "metadata": {},
   "source": [
    "---\n",
    "### **마지막으로 gini index와 entropy를 활용한 tree가 어떻게 노드가 나뉘었는지 보고 포스팅 마치겠습니다.**"
   ]
  },
  {
   "cell_type": "markdown",
   "metadata": {},
   "source": [
    "![Oops](../assets/img/2021-06-01-Entropy/6.jpg) ![Oops](../assets/img/2021-06-01-Entropy/7.jpg)"
   ]
  },
  {
   "cell_type": "markdown",
   "metadata": {},
   "source": [
    "<br>\n",
    "<br>\n",
    "\n",
    "---\n",
    "\n",
    "<br>\n",
    "\n",
    "- code : [https://github.com/Chanjun-kim/Chanjun-kim.github.io/blob/main/_ipynb/2021-06-01-Entropy.ipynb](https://github.com/Chanjun-kim/Chanjun-kim.github.io/blob/main/_ipynb/2021-06-01-Entropy.ipynb) <br>\n",
    "- 참고 자료 : [https://m.blog.naver.com/PostView.naver?isHttpsRedirect=true&blogId=ehdrndd&logNo=221158124011](https://m.blog.naver.com/PostView.naver?isHttpsRedirect=true&blogId=ehdrndd&logNo=221158124011)"
   ]
  }
 ],
 "metadata": {
  "kernelspec": {
   "display_name": "Python 3",
   "language": "python",
   "name": "python3"
  },
  "language_info": {
   "codemirror_mode": {
    "name": "ipython",
    "version": 3
   },
   "file_extension": ".py",
   "mimetype": "text/x-python",
   "name": "python",
   "nbconvert_exporter": "python",
   "pygments_lexer": "ipython3",
   "version": "3.7.3"
  }
 },
 "nbformat": 4,
 "nbformat_minor": 4
}
