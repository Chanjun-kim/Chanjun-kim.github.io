{
 "cells": [
  {
   "cell_type": "markdown",
   "metadata": {},
   "source": [
    "---\n",
    "layout: post\n",
    "title: \"Entropy와 Gini계수\"\n",
    "author: \"Chanjun Kim\"\n",
    "categories: Data분석\n",
    "tags: [DecisionTree, 의사결정나무, 불순도, Entropy와, Gini, 엔트로피, 지니계수, InformationGain, information]\n",
    "image: 03_entropy_gini.png\n",
    "---"
   ]
  },
  {
   "cell_type": "markdown",
   "metadata": {},
   "source": [
    "## **목적**\n",
    "- 지난번 포스팅에 ensemble 모델에 관하여 이야기하면서 약한 모형으로 의사결정나무를 많이 사용하는 것을 알 수 있었습니다. 이번에는 의사결정 나무를 만들기 위하여 사용되는 Entropy와 gini index에 대해서 알아보도록 하겠습니다.\n",
    "<br/>\n",
    "<br/>\n"
   ]
  },
  {
   "cell_type": "markdown",
   "metadata": {},
   "source": [
    "### **트리 구축의 원칙**\n",
    "![Oops](https://mblogthumb-phinf.pstatic.net/MjAxODEyMDlfMjYz/MDAxNTQ0MzY1Njc0OTY4.hFiUNsT9cpXJORVg3QGSLdx1F78bgZbOktHa3e7emnwg.P0iA6eeREGDfir58hS-s8ZMOak_P5-qHPPaR_bJePhwg.PNG.ehdrndd/image.png?type=w800)\n",
    "> 출처 : https://m.blog.naver.com/PostView.naver?isHttpsRedirect=true&blogId=ehdrndd&logNo=221158124011\n",
    "- 결정 트리를 구축할 때는 Occamm의 면도날처럼 데이터의 특성을 가장 잘 반영하는 간단한 가설을 먼저 채택하도록 되어있습니다. 어떻게 간단하고 합리적인 트리를 만들 수 있을 지 알아보겠습니다.\n",
    "<br>\n",
    "<br>"
   ]
  },
  {
   "cell_type": "markdown",
   "metadata": {},
   "source": [
    "---\n",
    "\n",
    "### **1. 결정 트리**\n",
    "의사결정나무를 효율적으로 만들기 위해서는 변수의 기준에 따라 불순도/불확실성을 낮추는 방식으로 선택하여 만들게 됩니다.<br>\n",
    "이에 불순도(Impurity) / 불확실성(Uncertainty)를 감소하는 것을 Information gain이라고 하며 이것을 최소화시키기 위하여 Gini Index와 Entropy라는 개념을 사용하게 되고 의사결정 나무의 종류에 따라 다르게 쓰입니다.<br>\n",
    "sklearn에서 default로 쓰이는 건 gini계수이며 이는 CART(Classificatioin And Regression Tree)에 쓰입니다.<br>\n",
    "ID3 그리고 이것을 개선한 C4.5, C5.0에서는 Entropy를 계산한다고 합니다. <br>\n",
    "CART tree는 항상 2진 분류를 하는 방식으로 나타나며, Entropy 혹은 Entropy 기반으로 계산되는 Information gain으로 계산되며 다중 분리가 됩니다. <br>\n",
    "\n",
    "- Gini계수와 Entropy 모두 높을수록 불순도가 높아져 분류를 하기 어렵습니다. <br>\n",
    "![Oops](http://i.imgur.com/n3MVwHW.png)\n",
    "\n",
    "|비 고|ID3|C4.5, C5|CART|\n",
    "|:---:|:---:|:---:|:---:|\n",
    "|평가지수|Entropy|Information gain|Gini Index(범주), 분산의 차이(수치)|\n",
    "|분리방식|다지분리|다지분리(범주) 및 이진분리(수치)|항상2진 분리|\n",
    "|비고|수치형 데이터 못 다룸|||\n",
    "\n",
    "<br>\n",
    "<br>\n",
    "> 출처/참고자료 : https://ko.wikipedia.org/wiki/%EA%B2%B0%EC%A0%95_%ED%8A%B8%EB%A6%AC_%ED%95%99%EC%8A%B5%EB%B2%95 <br>\n",
    "> 출처/참고자료 : https://m.blog.naver.com/PostView.naver?isHttpsRedirect=true&blogId=trashx&logNo=60099037740 <br>\n",
    "> 출처/참고자료 : https://ratsgo.github.io/machine%20learning/2017/03/26/tree/"
   ]
  },
  {
   "cell_type": "code",
   "execution_count": 265,
   "metadata": {},
   "outputs": [
    {
     "name": "stdout",
     "output_type": "stream",
     "text": [
      "list(range(0, 10, 2))\n",
      "list(range(0, 10, 2))\n",
      "list(range(0, 10, 2))\n",
      "list(range(0, 10, 2))\n",
      "list(range(0, 10, 2))\n"
     ]
    }
   ],
   "source": [
    "for i in range(0, 10, 2) :\n",
    "    print(_i)"
   ]
  },
  {
   "cell_type": "markdown",
   "metadata": {},
   "source": [
    "---\n",
    "\n",
    "### **1. Gini Index**\n",
    "일단 sklearn의 DecisionTreeClassifier의 default 값인 Gini 계수에 대해서 먼저 설명하겠습니다. <br> "
   ]
  },
  {
   "cell_type": "markdown",
   "metadata": {},
   "source": [
    "우선 Gini index의 공식입니다. <br>\n",
    "\n",
    "- 영역의 데이터 비율을 제곱하여 더한 값을 1에서 빼주게 된다.<br>\n",
    "![Oops](https://blog.kakaocdn.net/dn/uwQUP/btquI1QZpzV/zg919kn8JXk2n0bWovsYkk/img.png) <br>\n",
    "<br>\n",
    "- 두개 영역 이상이 되면 비율의 제곱의 비율을 곱하여 1에서 빼주게 된다.<br>\n",
    "![Oops](https://blog.kakaocdn.net/dn/cfpPHK/btquKIXbRpq/5WF8UDRqrRAG5itVMx1oW0/img.png)\n",
    "> 출처 : https://soobarkbar.tistory.com/17\n",
    "\n",
    "<br>\n",
    "\n",
    "- 최대값을 보게되면 1 - ( (1/2)^2 + (1/2)^2 ) = 0.5\n",
    "- 최소값을 보게되면 1 - ( 1^2 + 0^2 ) = 0"
   ]
  },
  {
   "cell_type": "code",
   "execution_count": 51,
   "metadata": {},
   "outputs": [],
   "source": [
    "import os\n",
    "import sys\n",
    "\n",
    "import math\n",
    "import random\n",
    "import numpy as np\n",
    "import pandas as pd\n",
    "import scipy\n",
    "\n",
    "from sklearn import tree\n",
    "from sklearn.tree import DecisionTreeClassifier\n",
    "\n",
    "import matplotlib as mpl\n",
    "from matplotlib import pyplot as plt\n",
    "from plotnine import *\n",
    "\n",
    "import graphviz\n",
    "from sklearn.preprocessing import OneHotEncoder\n",
    "\n",
    "%matplotlib inline"
   ]
  },
  {
   "cell_type": "code",
   "execution_count": 50,
   "metadata": {},
   "outputs": [
    {
     "data": {
      "text/html": [
       "<div>\n",
       "<style scoped>\n",
       "    .dataframe tbody tr th:only-of-type {\n",
       "        vertical-align: middle;\n",
       "    }\n",
       "\n",
       "    .dataframe tbody tr th {\n",
       "        vertical-align: top;\n",
       "    }\n",
       "\n",
       "    .dataframe thead th {\n",
       "        text-align: right;\n",
       "    }\n",
       "</style>\n",
       "<table border=\"1\" class=\"dataframe\">\n",
       "  <thead>\n",
       "    <tr style=\"text-align: right;\">\n",
       "      <th></th>\n",
       "      <th>Outlook</th>\n",
       "      <th>Temperature</th>\n",
       "      <th>Humidity</th>\n",
       "      <th>Wind</th>\n",
       "      <th>PlayTennis</th>\n",
       "    </tr>\n",
       "    <tr>\n",
       "      <th>Day</th>\n",
       "      <th></th>\n",
       "      <th></th>\n",
       "      <th></th>\n",
       "      <th></th>\n",
       "      <th></th>\n",
       "    </tr>\n",
       "  </thead>\n",
       "  <tbody>\n",
       "    <tr>\n",
       "      <th>D1</th>\n",
       "      <td>Sunny</td>\n",
       "      <td>Hot</td>\n",
       "      <td>High</td>\n",
       "      <td>Weak</td>\n",
       "      <td>No</td>\n",
       "    </tr>\n",
       "    <tr>\n",
       "      <th>D2</th>\n",
       "      <td>Sunny</td>\n",
       "      <td>Hot</td>\n",
       "      <td>High</td>\n",
       "      <td>Strong</td>\n",
       "      <td>No</td>\n",
       "    </tr>\n",
       "    <tr>\n",
       "      <th>D3</th>\n",
       "      <td>Overcast</td>\n",
       "      <td>Hot</td>\n",
       "      <td>High</td>\n",
       "      <td>Weak</td>\n",
       "      <td>Yes</td>\n",
       "    </tr>\n",
       "    <tr>\n",
       "      <th>D4</th>\n",
       "      <td>Rain</td>\n",
       "      <td>Mild</td>\n",
       "      <td>High</td>\n",
       "      <td>Weak</td>\n",
       "      <td>Yes</td>\n",
       "    </tr>\n",
       "    <tr>\n",
       "      <th>D5</th>\n",
       "      <td>Rain</td>\n",
       "      <td>Cool</td>\n",
       "      <td>Normal</td>\n",
       "      <td>Weak</td>\n",
       "      <td>Yes</td>\n",
       "    </tr>\n",
       "    <tr>\n",
       "      <th>D6</th>\n",
       "      <td>Rain</td>\n",
       "      <td>Cool</td>\n",
       "      <td>Normal</td>\n",
       "      <td>Strong</td>\n",
       "      <td>No</td>\n",
       "    </tr>\n",
       "    <tr>\n",
       "      <th>D7</th>\n",
       "      <td>Overcast</td>\n",
       "      <td>Cool</td>\n",
       "      <td>Normal</td>\n",
       "      <td>Strong</td>\n",
       "      <td>Yes</td>\n",
       "    </tr>\n",
       "    <tr>\n",
       "      <th>D8</th>\n",
       "      <td>Sunny</td>\n",
       "      <td>Mild</td>\n",
       "      <td>High</td>\n",
       "      <td>Weak</td>\n",
       "      <td>No</td>\n",
       "    </tr>\n",
       "    <tr>\n",
       "      <th>D9</th>\n",
       "      <td>Sunny</td>\n",
       "      <td>Cool</td>\n",
       "      <td>Normal</td>\n",
       "      <td>Weak</td>\n",
       "      <td>Yes</td>\n",
       "    </tr>\n",
       "    <tr>\n",
       "      <th>D10</th>\n",
       "      <td>Rain</td>\n",
       "      <td>Mild</td>\n",
       "      <td>Normal</td>\n",
       "      <td>Weak</td>\n",
       "      <td>Yes</td>\n",
       "    </tr>\n",
       "    <tr>\n",
       "      <th>D11</th>\n",
       "      <td>Sunny</td>\n",
       "      <td>Mild</td>\n",
       "      <td>Normal</td>\n",
       "      <td>Strong</td>\n",
       "      <td>Yes</td>\n",
       "    </tr>\n",
       "    <tr>\n",
       "      <th>D12</th>\n",
       "      <td>Overcast</td>\n",
       "      <td>Mild</td>\n",
       "      <td>High</td>\n",
       "      <td>Strong</td>\n",
       "      <td>Yes</td>\n",
       "    </tr>\n",
       "    <tr>\n",
       "      <th>D13</th>\n",
       "      <td>Overcast</td>\n",
       "      <td>Hot</td>\n",
       "      <td>Normal</td>\n",
       "      <td>Weak</td>\n",
       "      <td>Yes</td>\n",
       "    </tr>\n",
       "    <tr>\n",
       "      <th>D14</th>\n",
       "      <td>Rain</td>\n",
       "      <td>Mild</td>\n",
       "      <td>High</td>\n",
       "      <td>Strong</td>\n",
       "      <td>No</td>\n",
       "    </tr>\n",
       "  </tbody>\n",
       "</table>\n",
       "</div>"
      ],
      "text/plain": [
       "      Outlook Temperature Humidity    Wind PlayTennis\n",
       "Day                                                  \n",
       "D1      Sunny         Hot     High    Weak         No\n",
       "D2      Sunny         Hot     High  Strong         No\n",
       "D3   Overcast         Hot     High    Weak        Yes\n",
       "D4       Rain        Mild     High    Weak        Yes\n",
       "D5       Rain        Cool   Normal    Weak        Yes\n",
       "D6       Rain        Cool   Normal  Strong         No\n",
       "D7   Overcast        Cool   Normal  Strong        Yes\n",
       "D8      Sunny        Mild     High    Weak         No\n",
       "D9      Sunny        Cool   Normal    Weak        Yes\n",
       "D10      Rain        Mild   Normal    Weak        Yes\n",
       "D11     Sunny        Mild   Normal  Strong        Yes\n",
       "D12  Overcast        Mild     High  Strong        Yes\n",
       "D13  Overcast         Hot   Normal    Weak        Yes\n",
       "D14      Rain        Mild     High  Strong         No"
      ]
     },
     "execution_count": 50,
     "metadata": {},
     "output_type": "execute_result"
    }
   ],
   "source": [
    "tennis = pd.read_csv(\"data/tennis.csv\", index_col = \"Day\")\n",
    "tennis"
   ]
  },
  {
   "cell_type": "markdown",
   "metadata": {},
   "source": [
    "- 위와 같은 데이터가 있다고 할 때, 우리는 어떤 요인이 가장 확실한(불확실성이 적은) 변수일지 생각을 하고 트리를 만들어야합니다."
   ]
  },
  {
   "cell_type": "markdown",
   "metadata": {},
   "source": [
    "<br>\n",
    "<br>\n",
    "\n",
    "아무것도 나누지 않았을 때 gini계수를 구하는 함수를 만든 후 얼마인지 출력해보겠습니다"
   ]
  },
  {
   "cell_type": "code",
   "execution_count": 164,
   "metadata": {},
   "outputs": [],
   "source": [
    "def gini_nontsplit(df, y_col) :\n",
    "    Ys = df[y_col].value_counts()\n",
    "    total_row = len(df)\n",
    "    return 1 - np.sum([np.square(len(df[df[y_col] == y]) / total_row) for y in Ys.index])"
   ]
  },
  {
   "cell_type": "code",
   "execution_count": 165,
   "metadata": {},
   "outputs": [
    {
     "data": {
      "text/plain": [
       "0.4591836734693877"
      ]
     },
     "execution_count": 165,
     "metadata": {},
     "output_type": "execute_result"
    }
   ],
   "source": [
    "gini_nontsplit(tennis, \"PlayTennis\")"
   ]
  },
  {
   "cell_type": "markdown",
   "metadata": {},
   "source": [
    "어떤 기준으로 나누었을 때 gini계수를 구하는 함수를 만들어 예시로 Outlook이 Sunny일 때 gini 계수를 구해보겠습니다."
   ]
  },
  {
   "cell_type": "code",
   "execution_count": 199,
   "metadata": {},
   "outputs": [],
   "source": [
    "def gini_split(df, y_col, col, feature) :\n",
    "    r1 = len(df[df[col] == feature])\n",
    "    Y1 = dict(df[df[col] == feature][y_col].value_counts())\n",
    "    r2 = len(df[df[col] != feature])\n",
    "    Y2 = dict(df[df[col] != feature][y_col].value_counts())\n",
    "    \n",
    "    ratio = r1 / (r1 + r2)\n",
    "    gi1 = 1 - np.sum([np.square(len(df[(df[col] == feature) & (df[y_col] == x)]) / r1) for x, y in Y1.items()])\n",
    "    gi2 = 1 - np.sum([np.square(len(df[(df[col] != feature) & (df[y_col] == x)]) / r2) for x, y in Y2.items()])\n",
    "    \n",
    "    return (ratio * gi1) + ((1-ratio) * gi2)"
   ]
  },
  {
   "cell_type": "code",
   "execution_count": 200,
   "metadata": {},
   "outputs": [
    {
     "data": {
      "text/plain": [
       "0.3936507936507936"
      ]
     },
     "execution_count": 200,
     "metadata": {},
     "output_type": "execute_result"
    }
   ],
   "source": [
    "gini_split(tennis, \"PlayTennis\", \"Outlook\", \"Sunny\")"
   ]
  },
  {
   "cell_type": "markdown",
   "metadata": {},
   "source": [
    "아무것도 나누지 않았을 때보다, Sunny로 나누었을 때 gini계수가 줄어드는 것을 볼 수 있습니다.<br>\n",
    "이 때 이 차이값을 Information gain(정보획득)이라고 합니다. 그리고 정보획득량이 많은 쪽을 선택하여 트리의 구조를 만들기 시작합니다.\n",
    "<br>\n",
    "<br>\n",
    "\n",
    "- 이제 모든 변수에 대해서 각각의 gini계수를 구하여 정보획득량이 많은, 즉 gini계수가 적은 변수를 선정하여 트리를 만들어갑니다."
   ]
  },
  {
   "cell_type": "code",
   "execution_count": 201,
   "metadata": {},
   "outputs": [],
   "source": [
    "def get_gini_dict(df) :\n",
    "    return {x : list(df[x].unique()) for x in [\"Outlook\", \"Temperature\", \"Humidity\", \"Wind\"]}"
   ]
  },
  {
   "cell_type": "code",
   "execution_count": 122,
   "metadata": {},
   "outputs": [
    {
     "data": {
      "text/plain": [
       "{'Outlook': ['Sunny', 'Overcast', 'Rain'],\n",
       " 'Temperature': ['Hot', 'Mild', 'Cool'],\n",
       " 'Humidity': ['High', 'Normal'],\n",
       " 'Wind': ['Weak', 'Strong']}"
      ]
     },
     "execution_count": 122,
     "metadata": {},
     "output_type": "execute_result"
    }
   ],
   "source": [
    "y_col = \"PlayTennis\"\n",
    "to_gini = get_gini_dict(tennis)\n",
    "to_gini"
   ]
  },
  {
   "cell_type": "code",
   "execution_count": 123,
   "metadata": {},
   "outputs": [
    {
     "data": {
      "text/plain": [
       "['col : Outlook, split_feature : Sunny : gini_index = 0.3936507936507936',\n",
       " 'col : Outlook, split_feature : Overcast : gini_index = 0.35714285714285715',\n",
       " 'col : Outlook, split_feature : Rain : gini_index = 0.4571428571428571',\n",
       " 'col : Temperature, split_feature : Hot : gini_index = 0.4428571428571429',\n",
       " 'col : Temperature, split_feature : Mild : gini_index = 0.4583333333333333',\n",
       " 'col : Temperature, split_feature : Cool : gini_index = 0.45',\n",
       " 'col : Humidity, split_feature : High : gini_index = 0.3673469387755103',\n",
       " 'col : Humidity, split_feature : Normal : gini_index = 0.3673469387755103',\n",
       " 'col : Wind, split_feature : Weak : gini_index = 0.4285714285714286',\n",
       " 'col : Wind, split_feature : Strong : gini_index = 0.42857142857142855']"
      ]
     },
     "execution_count": 123,
     "metadata": {},
     "output_type": "execute_result"
    }
   ],
   "source": [
    "[f\"col : {idx}, split_feature : {v} : gini_index = {gini_split(tennis, y_col, idx, v)}\" for idx, val in get_gini_dict(tennis).items() for v in val]"
   ]
  },
  {
   "cell_type": "code",
   "execution_count": 125,
   "metadata": {},
   "outputs": [
    {
     "data": {
      "text/plain": [
       "cat1     Outlook\n",
       "cat2    Overcast\n",
       "gini    0.357143\n",
       "Name: 1, dtype: object"
      ]
     },
     "execution_count": 125,
     "metadata": {},
     "output_type": "execute_result"
    }
   ],
   "source": [
    "gini_df = pd.DataFrame([[idx, v, gini_split(tennis, y_col, idx, v)] for idx, val in to_gini.items() for v in val], columns = [\"cat1\", \"cat2\", \"gini\"])\n",
    "gini_df.iloc[gini_df[\"gini\"].argmin()]"
   ]
  },
  {
   "cell_type": "code",
   "execution_count": 127,
   "metadata": {},
   "outputs": [
    {
     "data": {
      "text/plain": [
       "cat1    Temperature\n",
       "cat2           Mild\n",
       "gini       0.458333\n",
       "Name: 4, dtype: object"
      ]
     },
     "execution_count": 127,
     "metadata": {},
     "output_type": "execute_result"
    }
   ],
   "source": [
    "gini_df.iloc[gini_df[\"gini\"].argmax()]"
   ]
  },
  {
   "cell_type": "markdown",
   "metadata": {},
   "source": [
    "---\n",
    "임의로 x, y좌표를 생성하여 정보들이 얼마나 흩어져있는지 확인해보겠습니다."
   ]
  },
  {
   "cell_type": "code",
   "execution_count": 81,
   "metadata": {},
   "outputs": [],
   "source": [
    "def generate_xy(df, split_col = None, split_value = None) :\n",
    "    if split_col == None :\n",
    "        return df.assign(x = [random.random() for _ in range(len(df))], y = [random.random() for _ in range(len(df))])\n",
    "    else :\n",
    "        tmp_ = df[df[split_col] == split_value]\n",
    "        tmp__ = df[df[split_col] != split_value]\n",
    "        return pd.concat([tmp_.assign(x = [random.random() / 2 for _ in range(len(tmp_))], y = [random.random() for _ in range(len(tmp_))]),\n",
    "                 tmp__.assign(x = [(random.random() / 2) + 0.5 for _ in range(len(tmp__))], y = [random.random() for _ in range(len(tmp__))])] )"
   ]
  },
  {
   "cell_type": "markdown",
   "metadata": {},
   "source": [
    "- 아무런 기준을 두지 않았을 때는 정보를 구분할 수 있는 정보가 없습니다."
   ]
  },
  {
   "cell_type": "code",
   "execution_count": 87,
   "metadata": {},
   "outputs": [
    {
     "data": {
      "image/png": "[encoded data removed]",
      "text/plain": [
       "<Figure size 640x480 with 1 Axes>"
      ]
     },
     "metadata": {},
     "output_type": "display_data"
    },
    {
     "data": {
      "text/plain": [
       "<ggplot: (-9223371882599534122)>"
      ]
     },
     "execution_count": 87,
     "metadata": {},
     "output_type": "execute_result"
    }
   ],
   "source": [
    "(\n",
    "    ggplot(data = generate_xy(tennis), mapping = aes(x = \"x\", y = \"y\", color = y_col)) +\n",
    "    geom_point() +\n",
    "    theme_bw()\n",
    ")"
   ]
  },
  {
   "cell_type": "markdown",
   "metadata": {},
   "source": [
    "- Outlook이 Overcast로 나누었을 때, Yes 4개가 확실히 구분되는 것을 볼 수 있습니다."
   ]
  },
  {
   "cell_type": "code",
   "execution_count": 86,
   "metadata": {},
   "outputs": [
    {
     "data": {
      "image/png": "[encoded data removed]",
      "text/plain": [
       "<Figure size 640x480 with 1 Axes>"
      ]
     },
     "metadata": {},
     "output_type": "display_data"
    },
    {
     "data": {
      "text/plain": [
       "<ggplot: (154254005238)>"
      ]
     },
     "execution_count": 86,
     "metadata": {},
     "output_type": "execute_result"
    }
   ],
   "source": [
    "split_list = [\"Outlook\", \"Overcast\"]\n",
    "(\n",
    "    ggplot(data = generate_xy(tennis, *split_list), mapping = aes(x = \"x\", y = \"y\", color = y_col)) +\n",
    "    geom_point() +\n",
    "    geom_vline(xintercept = 0.5, color = \"red\", alpha = 0.7) +\n",
    "    theme_bw() +\n",
    ")"
   ]
  },
  {
   "cell_type": "markdown",
   "metadata": {},
   "source": [
    "- Outlook이 Sunny, Rain으로 각각 나누었을 때입니다."
   ]
  },
  {
   "cell_type": "code",
   "execution_count": 88,
   "metadata": {},
   "outputs": [
    {
     "data": {
      "image/png": "[encoded data removed]",
      "text/plain": [
       "<Figure size 640x480 with 1 Axes>"
      ]
     },
     "metadata": {},
     "output_type": "display_data"
    },
    {
     "data": {
      "text/plain": [
       "<ggplot: (-9223371882599508634)>"
      ]
     },
     "execution_count": 88,
     "metadata": {},
     "output_type": "execute_result"
    }
   ],
   "source": [
    "split_list = [\"Outlook\", \"Sunny\"]\n",
    "(\n",
    "    ggplot(data = generate_xy(tennis, *split_list), mapping = aes(x = \"x\", y = \"y\", color = y_col)) +\n",
    "    geom_point() +\n",
    "    geom_vline(xintercept = 0.5, color = \"red\", alpha = 0.7) +\n",
    "    theme_bw()\n",
    ")"
   ]
  },
  {
   "cell_type": "code",
   "execution_count": 89,
   "metadata": {},
   "outputs": [
    {
     "data": {
      "image/png": "[encoded data removed]",
      "text/plain": [
       "<Figure size 640x480 with 1 Axes>"
      ]
     },
     "metadata": {},
     "output_type": "display_data"
    },
    {
     "data": {
      "text/plain": [
       "<ggplot: (154255759259)>"
      ]
     },
     "execution_count": 89,
     "metadata": {},
     "output_type": "execute_result"
    }
   ],
   "source": [
    "split_list = [\"Outlook\", \"Rain\"]\n",
    "(\n",
    "    ggplot(data = generate_xy(tennis, *split_list), mapping = aes(x = \"x\", y = \"y\", color = y_col)) +\n",
    "    geom_point() +\n",
    "    geom_vline(xintercept = 0.5, color = \"red\", alpha = 0.7) +\n",
    "    theme_bw()\n",
    ")"
   ]
  },
  {
   "cell_type": "markdown",
   "metadata": {},
   "source": [
    "- 정보획득량이 가장 큰 Temperature가 Mild로 나누었을 때입니다."
   ]
  },
  {
   "cell_type": "code",
   "execution_count": 128,
   "metadata": {},
   "outputs": [
    {
     "data": {
      "image/png": "[encoded data removed]",
      "text/plain": [
       "<Figure size 640x480 with 1 Axes>"
      ]
     },
     "metadata": {},
     "output_type": "display_data"
    },
    {
     "data": {
      "text/plain": [
       "<ggplot: (-9223371882599089618)>"
      ]
     },
     "execution_count": 128,
     "metadata": {},
     "output_type": "execute_result"
    }
   ],
   "source": [
    "split_list = [\"Temperature\", \"Mild\"]\n",
    "(\n",
    "    ggplot(data = generate_xy(tennis, *split_list), mapping = aes(x = \"x\", y = \"y\", color = y_col)) +\n",
    "    geom_point() +\n",
    "    geom_vline(xintercept = 0.5, color = \"red\", alpha = 0.7) +\n",
    "    theme_bw()\n",
    ")"
   ]
  },
  {
   "cell_type": "markdown",
   "metadata": {},
   "source": [
    "#### **실제 tree 모델과 비교하기 위하여 OneHotEncoding 후 트리모형을 돌려보도록 하겠습니다."
   ]
  },
  {
   "cell_type": "code",
   "execution_count": 129,
   "metadata": {},
   "outputs": [],
   "source": [
    "cols = [\"Outlook\", \"Temperature\", \"Humidity\", \"Wind\"]\n",
    "oe = OneHotEncoder()"
   ]
  },
  {
   "cell_type": "code",
   "execution_count": 130,
   "metadata": {},
   "outputs": [],
   "source": [
    "idx = 0\n",
    "tmp1 = pd.DataFrame(oe.fit_transform(tennis[[cols[idx]]]).toarray(), columns = [cols[idx] + \"_\" + x for x in np.sort(tennis[cols[idx]].unique())])"
   ]
  },
  {
   "cell_type": "code",
   "execution_count": 131,
   "metadata": {},
   "outputs": [],
   "source": [
    "idx = 1\n",
    "tmp2 = pd.DataFrame(oe.fit_transform(tennis[[cols[idx]]]).toarray(), columns = [cols[idx] + \"_\" + x for x in np.sort(tennis[cols[idx]].unique())])"
   ]
  },
  {
   "cell_type": "code",
   "execution_count": 132,
   "metadata": {},
   "outputs": [],
   "source": [
    "idx = 2\n",
    "tmp3 = pd.DataFrame(oe.fit_transform(tennis[[cols[idx]]]).toarray(), columns = [cols[idx] + \"_\" + x for x in np.sort(tennis[cols[idx]].unique())])"
   ]
  },
  {
   "cell_type": "code",
   "execution_count": 133,
   "metadata": {},
   "outputs": [],
   "source": [
    "idx = 3\n",
    "tmp4 = pd.DataFrame(oe.fit_transform(tennis[[cols[idx]]]).toarray(), columns = [cols[idx] + \"_\" + x for x in np.sort(tennis[cols[idx]].unique())])"
   ]
  },
  {
   "cell_type": "code",
   "execution_count": 134,
   "metadata": {},
   "outputs": [],
   "source": [
    "oh_df = pd.concat([tmp1, tmp2, tmp3, tmp4], axis = 1)"
   ]
  },
  {
   "cell_type": "code",
   "execution_count": 135,
   "metadata": {},
   "outputs": [
    {
     "data": {
      "text/plain": [
       "DecisionTreeClassifier(ccp_alpha=0.0, class_weight=None, criterion='gini',\n",
       "                       max_depth=None, max_features=None, max_leaf_nodes=None,\n",
       "                       min_impurity_decrease=0.0, min_impurity_split=None,\n",
       "                       min_samples_leaf=1, min_samples_split=2,\n",
       "                       min_weight_fraction_leaf=0.0, presort='deprecated',\n",
       "                       random_state=None, splitter='best')"
      ]
     },
     "execution_count": 135,
     "metadata": {},
     "output_type": "execute_result"
    }
   ],
   "source": [
    "dt = DecisionTreeClassifier(criterion=\"gini\")\n",
    "dt.fit(oh_df, tennis[y_col])"
   ]
  },
  {
   "cell_type": "code",
   "execution_count": 136,
   "metadata": {},
   "outputs": [
    {
     "data": {
      "image/svg+xml": [
       "<?xml version=\"1.0\" encoding=\"UTF-8\" standalone=\"no\"?>\r\n",
       "<!DOCTYPE svg PUBLIC \"-//W3C//DTD SVG 1.1//EN\"\r\n",
       " \"http://www.w3.org/Graphics/SVG/1.1/DTD/svg11.dtd\">\r\n",
       "<!-- Generated by graphviz version 2.38.0 (20140413.2041)\r\n",
       " -->\r\n",
       "<!-- Title: Tree Pages: 1 -->\r\n",
       "<svg width=\"538pt\" height=\"552pt\"\r\n",
       " viewBox=\"0.00 0.00 537.50 552.00\" xmlns=\"http://www.w3.org/2000/svg\" xmlns:xlink=\"http://www.w3.org/1999/xlink\">\r\n",
       "<g id=\"graph0\" class=\"graph\" transform=\"scale(1 1) rotate(0) translate(4 548)\">\r\n",
       "<title>Tree</title>\r\n",
       "<polygon fill=\"white\" stroke=\"none\" points=\"-4,4 -4,-548 533.5,-548 533.5,4 -4,4\"/>\r\n",
       "<!-- 0 -->\r\n",
       "<g id=\"node1\" class=\"node\"><title>0</title>\r\n",
       "<polygon fill=\"#a7d3f3\" stroke=\"black\" points=\"428.5,-544 267.5,-544 267.5,-461 428.5,-461 428.5,-544\"/>\r\n",
       "<text text-anchor=\"middle\" x=\"348\" y=\"-528.8\" font-family=\"Times New Roman,serif\" font-size=\"14.00\">Outlook_Overcast &lt;= 0.5</text>\r\n",
       "<text text-anchor=\"middle\" x=\"348\" y=\"-513.8\" font-family=\"Times New Roman,serif\" font-size=\"14.00\">gini = 0.459</text>\r\n",
       "<text text-anchor=\"middle\" x=\"348\" y=\"-498.8\" font-family=\"Times New Roman,serif\" font-size=\"14.00\">samples = 14</text>\r\n",
       "<text text-anchor=\"middle\" x=\"348\" y=\"-483.8\" font-family=\"Times New Roman,serif\" font-size=\"14.00\">value = [5, 9]</text>\r\n",
       "<text text-anchor=\"middle\" x=\"348\" y=\"-468.8\" font-family=\"Times New Roman,serif\" font-size=\"14.00\">class = Yes</text>\r\n",
       "</g>\r\n",
       "<!-- 1 -->\r\n",
       "<g id=\"node2\" class=\"node\"><title>1</title>\r\n",
       "<polygon fill=\"#ffffff\" stroke=\"black\" points=\"352.5,-425 209.5,-425 209.5,-342 352.5,-342 352.5,-425\"/>\r\n",
       "<text text-anchor=\"middle\" x=\"281\" y=\"-409.8\" font-family=\"Times New Roman,serif\" font-size=\"14.00\">Humidity_High &lt;= 0.5</text>\r\n",
       "<text text-anchor=\"middle\" x=\"281\" y=\"-394.8\" font-family=\"Times New Roman,serif\" font-size=\"14.00\">gini = 0.5</text>\r\n",
       "<text text-anchor=\"middle\" x=\"281\" y=\"-379.8\" font-family=\"Times New Roman,serif\" font-size=\"14.00\">samples = 10</text>\r\n",
       "<text text-anchor=\"middle\" x=\"281\" y=\"-364.8\" font-family=\"Times New Roman,serif\" font-size=\"14.00\">value = [5, 5]</text>\r\n",
       "<text text-anchor=\"middle\" x=\"281\" y=\"-349.8\" font-family=\"Times New Roman,serif\" font-size=\"14.00\">class = No</text>\r\n",
       "</g>\r\n",
       "<!-- 0&#45;&gt;1 -->\r\n",
       "<g id=\"edge1\" class=\"edge\"><title>0&#45;&gt;1</title>\r\n",
       "<path fill=\"none\" stroke=\"black\" d=\"M324.755,-460.907C319.766,-452.195 314.441,-442.897 309.285,-433.893\"/>\r\n",
       "<polygon fill=\"black\" stroke=\"black\" points=\"312.211,-431.959 304.204,-425.021 306.136,-435.438 312.211,-431.959\"/>\r\n",
       "<text text-anchor=\"middle\" x=\"297.648\" y=\"-445.446\" font-family=\"Times New Roman,serif\" font-size=\"14.00\">True</text>\r\n",
       "</g>\r\n",
       "<!-- 12 -->\r\n",
       "<g id=\"node13\" class=\"node\"><title>12</title>\r\n",
       "<polygon fill=\"#399de5\" stroke=\"black\" points=\"461.5,-417.5 370.5,-417.5 370.5,-349.5 461.5,-349.5 461.5,-417.5\"/>\r\n",
       "<text text-anchor=\"middle\" x=\"416\" y=\"-402.3\" font-family=\"Times New Roman,serif\" font-size=\"14.00\">gini = 0.0</text>\r\n",
       "<text text-anchor=\"middle\" x=\"416\" y=\"-387.3\" font-family=\"Times New Roman,serif\" font-size=\"14.00\">samples = 4</text>\r\n",
       "<text text-anchor=\"middle\" x=\"416\" y=\"-372.3\" font-family=\"Times New Roman,serif\" font-size=\"14.00\">value = [0, 4]</text>\r\n",
       "<text text-anchor=\"middle\" x=\"416\" y=\"-357.3\" font-family=\"Times New Roman,serif\" font-size=\"14.00\">class = Yes</text>\r\n",
       "</g>\r\n",
       "<!-- 0&#45;&gt;12 -->\r\n",
       "<g id=\"edge12\" class=\"edge\"><title>0&#45;&gt;12</title>\r\n",
       "<path fill=\"none\" stroke=\"black\" d=\"M371.592,-460.907C378.07,-449.763 385.105,-437.658 391.625,-426.439\"/>\r\n",
       "<polygon fill=\"black\" stroke=\"black\" points=\"394.725,-428.072 396.723,-417.667 388.672,-424.554 394.725,-428.072\"/>\r\n",
       "<text text-anchor=\"middle\" x=\"403.124\" y=\"-438.134\" font-family=\"Times New Roman,serif\" font-size=\"14.00\">False</text>\r\n",
       "</g>\r\n",
       "<!-- 2 -->\r\n",
       "<g id=\"node3\" class=\"node\"><title>2</title>\r\n",
       "<polygon fill=\"#6ab6ec\" stroke=\"black\" points=\"268,-306 140,-306 140,-223 268,-223 268,-306\"/>\r\n",
       "<text text-anchor=\"middle\" x=\"204\" y=\"-290.8\" font-family=\"Times New Roman,serif\" font-size=\"14.00\">Wind_Weak &lt;= 0.5</text>\r\n",
       "<text text-anchor=\"middle\" x=\"204\" y=\"-275.8\" font-family=\"Times New Roman,serif\" font-size=\"14.00\">gini = 0.32</text>\r\n",
       "<text text-anchor=\"middle\" x=\"204\" y=\"-260.8\" font-family=\"Times New Roman,serif\" font-size=\"14.00\">samples = 5</text>\r\n",
       "<text text-anchor=\"middle\" x=\"204\" y=\"-245.8\" font-family=\"Times New Roman,serif\" font-size=\"14.00\">value = [1, 4]</text>\r\n",
       "<text text-anchor=\"middle\" x=\"204\" y=\"-230.8\" font-family=\"Times New Roman,serif\" font-size=\"14.00\">class = Yes</text>\r\n",
       "</g>\r\n",
       "<!-- 1&#45;&gt;2 -->\r\n",
       "<g id=\"edge2\" class=\"edge\"><title>1&#45;&gt;2</title>\r\n",
       "<path fill=\"none\" stroke=\"black\" d=\"M254.285,-341.907C248.492,-333.105 242.305,-323.703 236.322,-314.612\"/>\r\n",
       "<polygon fill=\"black\" stroke=\"black\" points=\"239.089,-312.45 230.668,-306.021 233.241,-316.298 239.089,-312.45\"/>\r\n",
       "</g>\r\n",
       "<!-- 7 -->\r\n",
       "<g id=\"node8\" class=\"node\"><title>7</title>\r\n",
       "<polygon fill=\"#eca06a\" stroke=\"black\" points=\"432,-306 286,-306 286,-223 432,-223 432,-306\"/>\r\n",
       "<text text-anchor=\"middle\" x=\"359\" y=\"-290.8\" font-family=\"Times New Roman,serif\" font-size=\"14.00\">Outlook_Sunny &lt;= 0.5</text>\r\n",
       "<text text-anchor=\"middle\" x=\"359\" y=\"-275.8\" font-family=\"Times New Roman,serif\" font-size=\"14.00\">gini = 0.32</text>\r\n",
       "<text text-anchor=\"middle\" x=\"359\" y=\"-260.8\" font-family=\"Times New Roman,serif\" font-size=\"14.00\">samples = 5</text>\r\n",
       "<text text-anchor=\"middle\" x=\"359\" y=\"-245.8\" font-family=\"Times New Roman,serif\" font-size=\"14.00\">value = [4, 1]</text>\r\n",
       "<text text-anchor=\"middle\" x=\"359\" y=\"-230.8\" font-family=\"Times New Roman,serif\" font-size=\"14.00\">class = No</text>\r\n",
       "</g>\r\n",
       "<!-- 1&#45;&gt;7 -->\r\n",
       "<g id=\"edge7\" class=\"edge\"><title>1&#45;&gt;7</title>\r\n",
       "<path fill=\"none\" stroke=\"black\" d=\"M308.062,-341.907C313.93,-333.105 320.198,-323.703 326.259,-314.612\"/>\r\n",
       "<polygon fill=\"black\" stroke=\"black\" points=\"329.351,-316.283 331.986,-306.021 323.527,-312.4 329.351,-316.283\"/>\r\n",
       "</g>\r\n",
       "<!-- 3 -->\r\n",
       "<g id=\"node4\" class=\"node\"><title>3</title>\r\n",
       "<polygon fill=\"#ffffff\" stroke=\"black\" points=\"146,-187 0,-187 0,-104 146,-104 146,-187\"/>\r\n",
       "<text text-anchor=\"middle\" x=\"73\" y=\"-171.8\" font-family=\"Times New Roman,serif\" font-size=\"14.00\">Outlook_Sunny &lt;= 0.5</text>\r\n",
       "<text text-anchor=\"middle\" x=\"73\" y=\"-156.8\" font-family=\"Times New Roman,serif\" font-size=\"14.00\">gini = 0.5</text>\r\n",
       "<text text-anchor=\"middle\" x=\"73\" y=\"-141.8\" font-family=\"Times New Roman,serif\" font-size=\"14.00\">samples = 2</text>\r\n",
       "<text text-anchor=\"middle\" x=\"73\" y=\"-126.8\" font-family=\"Times New Roman,serif\" font-size=\"14.00\">value = [1, 1]</text>\r\n",
       "<text text-anchor=\"middle\" x=\"73\" y=\"-111.8\" font-family=\"Times New Roman,serif\" font-size=\"14.00\">class = No</text>\r\n",
       "</g>\r\n",
       "<!-- 2&#45;&gt;3 -->\r\n",
       "<g id=\"edge3\" class=\"edge\"><title>2&#45;&gt;3</title>\r\n",
       "<path fill=\"none\" stroke=\"black\" d=\"M158.55,-222.907C148.084,-213.56 136.863,-203.538 126.104,-193.929\"/>\r\n",
       "<polygon fill=\"black\" stroke=\"black\" points=\"128.159,-191.072 118.369,-187.021 123.496,-196.293 128.159,-191.072\"/>\r\n",
       "</g>\r\n",
       "<!-- 6 -->\r\n",
       "<g id=\"node7\" class=\"node\"><title>6</title>\r\n",
       "<polygon fill=\"#399de5\" stroke=\"black\" points=\"255.5,-179.5 164.5,-179.5 164.5,-111.5 255.5,-111.5 255.5,-179.5\"/>\r\n",
       "<text text-anchor=\"middle\" x=\"210\" y=\"-164.3\" font-family=\"Times New Roman,serif\" font-size=\"14.00\">gini = 0.0</text>\r\n",
       "<text text-anchor=\"middle\" x=\"210\" y=\"-149.3\" font-family=\"Times New Roman,serif\" font-size=\"14.00\">samples = 3</text>\r\n",
       "<text text-anchor=\"middle\" x=\"210\" y=\"-134.3\" font-family=\"Times New Roman,serif\" font-size=\"14.00\">value = [0, 3]</text>\r\n",
       "<text text-anchor=\"middle\" x=\"210\" y=\"-119.3\" font-family=\"Times New Roman,serif\" font-size=\"14.00\">class = Yes</text>\r\n",
       "</g>\r\n",
       "<!-- 2&#45;&gt;6 -->\r\n",
       "<g id=\"edge6\" class=\"edge\"><title>2&#45;&gt;6</title>\r\n",
       "<path fill=\"none\" stroke=\"black\" d=\"M206.082,-222.907C206.631,-212.204 207.225,-200.615 207.781,-189.776\"/>\r\n",
       "<polygon fill=\"black\" stroke=\"black\" points=\"211.282,-189.833 208.299,-179.667 204.291,-189.475 211.282,-189.833\"/>\r\n",
       "</g>\r\n",
       "<!-- 4 -->\r\n",
       "<g id=\"node5\" class=\"node\"><title>4</title>\r\n",
       "<polygon fill=\"#e58139\" stroke=\"black\" points=\"95.5,-68 4.5,-68 4.5,-0 95.5,-0 95.5,-68\"/>\r\n",
       "<text text-anchor=\"middle\" x=\"50\" y=\"-52.8\" font-family=\"Times New Roman,serif\" font-size=\"14.00\">gini = 0.0</text>\r\n",
       "<text text-anchor=\"middle\" x=\"50\" y=\"-37.8\" font-family=\"Times New Roman,serif\" font-size=\"14.00\">samples = 1</text>\r\n",
       "<text text-anchor=\"middle\" x=\"50\" y=\"-22.8\" font-family=\"Times New Roman,serif\" font-size=\"14.00\">value = [1, 0]</text>\r\n",
       "<text text-anchor=\"middle\" x=\"50\" y=\"-7.8\" font-family=\"Times New Roman,serif\" font-size=\"14.00\">class = No</text>\r\n",
       "</g>\r\n",
       "<!-- 3&#45;&gt;4 -->\r\n",
       "<g id=\"edge4\" class=\"edge\"><title>3&#45;&gt;4</title>\r\n",
       "<path fill=\"none\" stroke=\"black\" d=\"M64.4356,-103.726C62.6923,-95.4263 60.8524,-86.6671 59.0915,-78.2834\"/>\r\n",
       "<polygon fill=\"black\" stroke=\"black\" points=\"62.4754,-77.3666 56.9944,-68.2996 55.6249,-78.8055 62.4754,-77.3666\"/>\r\n",
       "</g>\r\n",
       "<!-- 5 -->\r\n",
       "<g id=\"node6\" class=\"node\"><title>5</title>\r\n",
       "<polygon fill=\"#399de5\" stroke=\"black\" points=\"204.5,-68 113.5,-68 113.5,-0 204.5,-0 204.5,-68\"/>\r\n",
       "<text text-anchor=\"middle\" x=\"159\" y=\"-52.8\" font-family=\"Times New Roman,serif\" font-size=\"14.00\">gini = 0.0</text>\r\n",
       "<text text-anchor=\"middle\" x=\"159\" y=\"-37.8\" font-family=\"Times New Roman,serif\" font-size=\"14.00\">samples = 1</text>\r\n",
       "<text text-anchor=\"middle\" x=\"159\" y=\"-22.8\" font-family=\"Times New Roman,serif\" font-size=\"14.00\">value = [0, 1]</text>\r\n",
       "<text text-anchor=\"middle\" x=\"159\" y=\"-7.8\" font-family=\"Times New Roman,serif\" font-size=\"14.00\">class = Yes</text>\r\n",
       "</g>\r\n",
       "<!-- 3&#45;&gt;5 -->\r\n",
       "<g id=\"edge5\" class=\"edge\"><title>3&#45;&gt;5</title>\r\n",
       "<path fill=\"none\" stroke=\"black\" d=\"M105.023,-103.726C112.043,-94.7878 119.482,-85.3168 126.52,-76.3558\"/>\r\n",
       "<polygon fill=\"black\" stroke=\"black\" points=\"129.423,-78.3259 132.847,-68.2996 123.918,-74.0022 129.423,-78.3259\"/>\r\n",
       "</g>\r\n",
       "<!-- 8 -->\r\n",
       "<g id=\"node9\" class=\"node\"><title>8</title>\r\n",
       "<polygon fill=\"#ffffff\" stroke=\"black\" points=\"420,-187 286,-187 286,-104 420,-104 420,-187\"/>\r\n",
       "<text text-anchor=\"middle\" x=\"353\" y=\"-171.8\" font-family=\"Times New Roman,serif\" font-size=\"14.00\">Wind_Strong &lt;= 0.5</text>\r\n",
       "<text text-anchor=\"middle\" x=\"353\" y=\"-156.8\" font-family=\"Times New Roman,serif\" font-size=\"14.00\">gini = 0.5</text>\r\n",
       "<text text-anchor=\"middle\" x=\"353\" y=\"-141.8\" font-family=\"Times New Roman,serif\" font-size=\"14.00\">samples = 2</text>\r\n",
       "<text text-anchor=\"middle\" x=\"353\" y=\"-126.8\" font-family=\"Times New Roman,serif\" font-size=\"14.00\">value = [1, 1]</text>\r\n",
       "<text text-anchor=\"middle\" x=\"353\" y=\"-111.8\" font-family=\"Times New Roman,serif\" font-size=\"14.00\">class = No</text>\r\n",
       "</g>\r\n",
       "<!-- 7&#45;&gt;8 -->\r\n",
       "<g id=\"edge8\" class=\"edge\"><title>7&#45;&gt;8</title>\r\n",
       "<path fill=\"none\" stroke=\"black\" d=\"M356.918,-222.907C356.49,-214.558 356.034,-205.671 355.591,-197.02\"/>\r\n",
       "<polygon fill=\"black\" stroke=\"black\" points=\"359.086,-196.828 355.078,-187.021 352.095,-197.187 359.086,-196.828\"/>\r\n",
       "</g>\r\n",
       "<!-- 11 -->\r\n",
       "<g id=\"node12\" class=\"node\"><title>11</title>\r\n",
       "<polygon fill=\"#e58139\" stroke=\"black\" points=\"529.5,-179.5 438.5,-179.5 438.5,-111.5 529.5,-111.5 529.5,-179.5\"/>\r\n",
       "<text text-anchor=\"middle\" x=\"484\" y=\"-164.3\" font-family=\"Times New Roman,serif\" font-size=\"14.00\">gini = 0.0</text>\r\n",
       "<text text-anchor=\"middle\" x=\"484\" y=\"-149.3\" font-family=\"Times New Roman,serif\" font-size=\"14.00\">samples = 3</text>\r\n",
       "<text text-anchor=\"middle\" x=\"484\" y=\"-134.3\" font-family=\"Times New Roman,serif\" font-size=\"14.00\">value = [3, 0]</text>\r\n",
       "<text text-anchor=\"middle\" x=\"484\" y=\"-119.3\" font-family=\"Times New Roman,serif\" font-size=\"14.00\">class = No</text>\r\n",
       "</g>\r\n",
       "<!-- 7&#45;&gt;11 -->\r\n",
       "<g id=\"edge11\" class=\"edge\"><title>7&#45;&gt;11</title>\r\n",
       "<path fill=\"none\" stroke=\"black\" d=\"M402.368,-222.907C414.864,-211.211 428.49,-198.457 440.966,-186.78\"/>\r\n",
       "<polygon fill=\"black\" stroke=\"black\" points=\"443.656,-189.056 448.565,-179.667 438.873,-183.945 443.656,-189.056\"/>\r\n",
       "</g>\r\n",
       "<!-- 9 -->\r\n",
       "<g id=\"node10\" class=\"node\"><title>9</title>\r\n",
       "<polygon fill=\"#399de5\" stroke=\"black\" points=\"355.5,-68 264.5,-68 264.5,-0 355.5,-0 355.5,-68\"/>\r\n",
       "<text text-anchor=\"middle\" x=\"310\" y=\"-52.8\" font-family=\"Times New Roman,serif\" font-size=\"14.00\">gini = 0.0</text>\r\n",
       "<text text-anchor=\"middle\" x=\"310\" y=\"-37.8\" font-family=\"Times New Roman,serif\" font-size=\"14.00\">samples = 1</text>\r\n",
       "<text text-anchor=\"middle\" x=\"310\" y=\"-22.8\" font-family=\"Times New Roman,serif\" font-size=\"14.00\">value = [0, 1]</text>\r\n",
       "<text text-anchor=\"middle\" x=\"310\" y=\"-7.8\" font-family=\"Times New Roman,serif\" font-size=\"14.00\">class = Yes</text>\r\n",
       "</g>\r\n",
       "<!-- 8&#45;&gt;9 -->\r\n",
       "<g id=\"edge9\" class=\"edge\"><title>8&#45;&gt;9</title>\r\n",
       "<path fill=\"none\" stroke=\"black\" d=\"M336.988,-103.726C333.657,-95.2439 330.138,-86.2819 326.78,-77.7312\"/>\r\n",
       "<polygon fill=\"black\" stroke=\"black\" points=\"329.99,-76.3283 323.077,-68.2996 323.474,-78.887 329.99,-76.3283\"/>\r\n",
       "</g>\r\n",
       "<!-- 10 -->\r\n",
       "<g id=\"node11\" class=\"node\"><title>10</title>\r\n",
       "<polygon fill=\"#e58139\" stroke=\"black\" points=\"464.5,-68 373.5,-68 373.5,-0 464.5,-0 464.5,-68\"/>\r\n",
       "<text text-anchor=\"middle\" x=\"419\" y=\"-52.8\" font-family=\"Times New Roman,serif\" font-size=\"14.00\">gini = 0.0</text>\r\n",
       "<text text-anchor=\"middle\" x=\"419\" y=\"-37.8\" font-family=\"Times New Roman,serif\" font-size=\"14.00\">samples = 1</text>\r\n",
       "<text text-anchor=\"middle\" x=\"419\" y=\"-22.8\" font-family=\"Times New Roman,serif\" font-size=\"14.00\">value = [1, 0]</text>\r\n",
       "<text text-anchor=\"middle\" x=\"419\" y=\"-7.8\" font-family=\"Times New Roman,serif\" font-size=\"14.00\">class = No</text>\r\n",
       "</g>\r\n",
       "<!-- 8&#45;&gt;10 -->\r\n",
       "<g id=\"edge10\" class=\"edge\"><title>8&#45;&gt;10</title>\r\n",
       "<path fill=\"none\" stroke=\"black\" d=\"M377.576,-103.726C382.854,-94.9703 388.439,-85.7032 393.742,-76.9051\"/>\r\n",
       "<polygon fill=\"black\" stroke=\"black\" points=\"396.764,-78.671 398.929,-68.2996 390.769,-75.0574 396.764,-78.671\"/>\r\n",
       "</g>\r\n",
       "</g>\r\n",
       "</svg>\r\n"
      ],
      "text/plain": [
       "<graphviz.files.Source at 0x23ea40e3208>"
      ]
     },
     "execution_count": 136,
     "metadata": {},
     "output_type": "execute_result"
    }
   ],
   "source": [
    "grp = tree.export_graphviz(dt, out_file = None, feature_names=oh_df.columns,  \n",
    "                   class_names=tennis[y_col].unique(),\n",
    "                   filled=True)\n",
    "graphviz.Source(grp, format = \"png\")"
   ]
  },
  {
   "cell_type": "markdown",
   "metadata": {},
   "source": [
    "#### **실제로 이 순서가 맞는지 확인해보겠습니다**"
   ]
  },
  {
   "cell_type": "code",
   "execution_count": 163,
   "metadata": {},
   "outputs": [
    {
     "data": {
      "text/plain": [
       "0.4591836734693877"
      ]
     },
     "execution_count": 163,
     "metadata": {},
     "output_type": "execute_result"
    }
   ],
   "source": [
    "gini_nontsplit(tennis, \"PlayTennis\", \"Outlook\")"
   ]
  },
  {
   "cell_type": "code",
   "execution_count": 41,
   "metadata": {},
   "outputs": [
    {
     "data": {
      "text/plain": [
       "cat1     Outlook\n",
       "cat2    Overcast\n",
       "gini    0.357143\n",
       "Name: 1, dtype: object"
      ]
     },
     "execution_count": 41,
     "metadata": {},
     "output_type": "execute_result"
    }
   ],
   "source": [
    "gini_df.iloc[gini_df[\"gini\"].argmin()]"
   ]
  },
  {
   "cell_type": "code",
   "execution_count": 114,
   "metadata": {},
   "outputs": [
    {
     "name": "stdout",
     "output_type": "stream",
     "text": [
      "col : Outlook, split_feature : Sunny : gini_index = 0.48\n",
      "col : Outlook, split_feature : Rain : gini_index = 0.48\n",
      "col : Temperature, split_feature : Hot : gini_index = 0.375\n",
      "col : Temperature, split_feature : Mild : gini_index = 0.48\n",
      "col : Temperature, split_feature : Cool : gini_index = 0.4761904761904763\n",
      "col : Humidity, split_feature : High : gini_index = 0.31999999999999984\n",
      "col : Humidity, split_feature : Normal : gini_index = 0.31999999999999984\n",
      "col : Wind, split_feature : Weak : gini_index = 0.4166666666666667\n",
      "col : Wind, split_feature : Strong : gini_index = 0.4166666666666667\n"
     ]
    },
    {
     "data": {
      "text/plain": [
       "cat1    Humidity\n",
       "cat2        High\n",
       "gini        0.32\n",
       "Name: 5, dtype: object"
      ]
     },
     "execution_count": 114,
     "metadata": {},
     "output_type": "execute_result"
    }
   ],
   "source": [
    "tennis_node1 = tennis[tennis[\"Outlook\"] != \"Overcast\"]\n",
    "[print(f\"col : {idx}, split_feature : {v} : gini_index = {gini_split(tennis_node1, y_col, idx, v)}\") for idx, val in get_gini_dict(tennis_node1).items() for v in val]\n",
    "gini_df = pd.DataFrame([[idx, v, gini_split(tennis_node1, y_col, idx, v)] for idx, val in get_gini_dict(tennis_node1).items() for v in val], columns = [\"cat1\", \"cat2\", \"gini\"])\n",
    "gini_df.iloc[gini_df[\"gini\"].argmin()]"
   ]
  },
  {
   "cell_type": "code",
   "execution_count": 115,
   "metadata": {},
   "outputs": [
    {
     "name": "stdout",
     "output_type": "stream",
     "text": [
      "col : Outlook, split_feature : Sunny : gini_index = 0.2\n",
      "col : Outlook, split_feature : Rain : gini_index = 0.30000000000000004\n",
      "col : Temperature, split_feature : Hot : gini_index = 0.26666666666666666\n",
      "col : Temperature, split_feature : Mild : gini_index = 0.3333333333333333\n",
      "col : Humidity, split_feature : High : gini_index = 1.0\n",
      "col : Wind, split_feature : Weak : gini_index = 0.3333333333333333\n",
      "col : Wind, split_feature : Strong : gini_index = 0.26666666666666666\n"
     ]
    },
    {
     "data": {
      "text/plain": [
       "cat1    Outlook\n",
       "cat2      Sunny\n",
       "gini        0.2\n",
       "Name: 0, dtype: object"
      ]
     },
     "execution_count": 115,
     "metadata": {},
     "output_type": "execute_result"
    }
   ],
   "source": [
    "tennis_node2 = tennis[(tennis[\"Outlook\"] != \"Overcast\") & (tennis[\"Humidity\"] == \"High\")]\n",
    "[print(f\"col : {idx}, split_feature : {v} : gini_index = {gini_split(tennis_node2, y_col, idx, v)}\") for idx, val in get_gini_dict(tennis_node2).items() for v in val]\n",
    "gini_df = pd.DataFrame([[idx, v, gini_split(tennis_node2, y_col, idx, v)] for idx, val in get_gini_dict(tennis_node2).items() for v in val], columns = [\"cat1\", \"cat2\", \"gini\"])\n",
    "gini_df.iloc[gini_df[\"gini\"].argmin()]"
   ]
  },
  {
   "cell_type": "markdown",
   "metadata": {},
   "source": [
    "#### - gini계수가 0이면 가장 끝쪽에 있는 terminal node가 됩니다.(데이터가 많으면 overfitting을 막기위하여 가지치기 컨셉이 활용됩니다)"
   ]
  },
  {
   "cell_type": "code",
   "execution_count": 116,
   "metadata": {},
   "outputs": [
    {
     "name": "stdout",
     "output_type": "stream",
     "text": [
      "col : Outlook, split_feature : Overcast : gini_index = 1.0\n",
      "col : Temperature, split_feature : Hot : gini_index = 0.0\n",
      "col : Temperature, split_feature : Cool : gini_index = 0.0\n",
      "col : Temperature, split_feature : Mild : gini_index = 0.0\n",
      "col : Humidity, split_feature : High : gini_index = 0.0\n",
      "col : Humidity, split_feature : Normal : gini_index = 0.0\n",
      "col : Wind, split_feature : Weak : gini_index = 0.0\n",
      "col : Wind, split_feature : Strong : gini_index = 0.0\n"
     ]
    },
    {
     "data": {
      "text/plain": [
       "cat1    Temperature\n",
       "cat2            Hot\n",
       "gini              0\n",
       "Name: 1, dtype: object"
      ]
     },
     "execution_count": 116,
     "metadata": {},
     "output_type": "execute_result"
    }
   ],
   "source": [
    "tennis_ter1 = tennis[tennis[\"Outlook\"] == \"Overcast\"]\n",
    "[print(f\"col : {idx}, split_feature : {v} : gini_index = {gini_split(tennis_ter1, y_col, idx, v)}\") for idx, val in get_gini_dict(tennis_ter1).items() for v in val]\n",
    "gini_df = pd.DataFrame([[idx, v, gini_split(tennis_ter1, y_col, idx, v)] for idx, val in get_gini_dict(tennis_ter1).items() for v in val], columns = [\"cat1\", \"cat2\", \"gini\"])\n",
    "gini_df.iloc[gini_df[\"gini\"].argmin()]"
   ]
  },
  {
   "cell_type": "markdown",
   "metadata": {},
   "source": [
    "---\n",
    "\n",
    "### **2. Entropy**\n",
    "다음은 ID3, C4.5 등 트리에서 정보획득량을 측정하기 위해 쓰이는 Entropy입니다.<br> "
   ]
  },
  {
   "cell_type": "markdown",
   "metadata": {},
   "source": [
    "우선 Entropy의 공식입니다. <br>\n",
    "\n",
    "- 영역의 데이터 비율을 제곱하여 더한 값을 1에서 빼주게 된다.<br>\n",
    "![Oops](https://wikimedia.org/api/rest_v1/media/math/render/svg/57a7ee6d08213c28f3f633229d26d1f82ea71ba6)\n",
    "<br>"
   ]
  },
  {
   "cell_type": "code",
   "execution_count": 154,
   "metadata": {},
   "outputs": [
    {
     "name": "stdout",
     "output_type": "stream",
     "text": [
      "Entropy의 최대값 : 1.0\n",
      "Entropy의 최대값 : -0.0\n"
     ]
    }
   ],
   "source": [
    "max_entropy = (-1 * ((0.5*np.log2(0.5)) + (0.5*np.log2(0.5))))\n",
    "min_entropy = (-1 * ((1*np.log2(1))))\n",
    "print(f\"Entropy의 최대값 : {max_entropy}\")\n",
    "print(f\"Entropy의 최대값 : {min_entropy}\")"
   ]
  },
  {
   "cell_type": "code",
   "execution_count": 155,
   "metadata": {},
   "outputs": [
    {
     "data": {
      "text/html": [
       "<div>\n",
       "<style scoped>\n",
       "    .dataframe tbody tr th:only-of-type {\n",
       "        vertical-align: middle;\n",
       "    }\n",
       "\n",
       "    .dataframe tbody tr th {\n",
       "        vertical-align: top;\n",
       "    }\n",
       "\n",
       "    .dataframe thead th {\n",
       "        text-align: right;\n",
       "    }\n",
       "</style>\n",
       "<table border=\"1\" class=\"dataframe\">\n",
       "  <thead>\n",
       "    <tr style=\"text-align: right;\">\n",
       "      <th></th>\n",
       "      <th>Outlook</th>\n",
       "      <th>Temperature</th>\n",
       "      <th>Humidity</th>\n",
       "      <th>Wind</th>\n",
       "      <th>PlayTennis</th>\n",
       "    </tr>\n",
       "    <tr>\n",
       "      <th>Day</th>\n",
       "      <th></th>\n",
       "      <th></th>\n",
       "      <th></th>\n",
       "      <th></th>\n",
       "      <th></th>\n",
       "    </tr>\n",
       "  </thead>\n",
       "  <tbody>\n",
       "    <tr>\n",
       "      <th>D1</th>\n",
       "      <td>Sunny</td>\n",
       "      <td>Hot</td>\n",
       "      <td>High</td>\n",
       "      <td>Weak</td>\n",
       "      <td>No</td>\n",
       "    </tr>\n",
       "    <tr>\n",
       "      <th>D2</th>\n",
       "      <td>Sunny</td>\n",
       "      <td>Hot</td>\n",
       "      <td>High</td>\n",
       "      <td>Strong</td>\n",
       "      <td>No</td>\n",
       "    </tr>\n",
       "    <tr>\n",
       "      <th>D3</th>\n",
       "      <td>Overcast</td>\n",
       "      <td>Hot</td>\n",
       "      <td>High</td>\n",
       "      <td>Weak</td>\n",
       "      <td>Yes</td>\n",
       "    </tr>\n",
       "    <tr>\n",
       "      <th>D4</th>\n",
       "      <td>Rain</td>\n",
       "      <td>Mild</td>\n",
       "      <td>High</td>\n",
       "      <td>Weak</td>\n",
       "      <td>Yes</td>\n",
       "    </tr>\n",
       "    <tr>\n",
       "      <th>D5</th>\n",
       "      <td>Rain</td>\n",
       "      <td>Cool</td>\n",
       "      <td>Normal</td>\n",
       "      <td>Weak</td>\n",
       "      <td>Yes</td>\n",
       "    </tr>\n",
       "    <tr>\n",
       "      <th>D6</th>\n",
       "      <td>Rain</td>\n",
       "      <td>Cool</td>\n",
       "      <td>Normal</td>\n",
       "      <td>Strong</td>\n",
       "      <td>No</td>\n",
       "    </tr>\n",
       "    <tr>\n",
       "      <th>D7</th>\n",
       "      <td>Overcast</td>\n",
       "      <td>Cool</td>\n",
       "      <td>Normal</td>\n",
       "      <td>Strong</td>\n",
       "      <td>Yes</td>\n",
       "    </tr>\n",
       "    <tr>\n",
       "      <th>D8</th>\n",
       "      <td>Sunny</td>\n",
       "      <td>Mild</td>\n",
       "      <td>High</td>\n",
       "      <td>Weak</td>\n",
       "      <td>No</td>\n",
       "    </tr>\n",
       "    <tr>\n",
       "      <th>D9</th>\n",
       "      <td>Sunny</td>\n",
       "      <td>Cool</td>\n",
       "      <td>Normal</td>\n",
       "      <td>Weak</td>\n",
       "      <td>Yes</td>\n",
       "    </tr>\n",
       "    <tr>\n",
       "      <th>D10</th>\n",
       "      <td>Rain</td>\n",
       "      <td>Mild</td>\n",
       "      <td>Normal</td>\n",
       "      <td>Weak</td>\n",
       "      <td>Yes</td>\n",
       "    </tr>\n",
       "    <tr>\n",
       "      <th>D11</th>\n",
       "      <td>Sunny</td>\n",
       "      <td>Mild</td>\n",
       "      <td>Normal</td>\n",
       "      <td>Strong</td>\n",
       "      <td>Yes</td>\n",
       "    </tr>\n",
       "    <tr>\n",
       "      <th>D12</th>\n",
       "      <td>Overcast</td>\n",
       "      <td>Mild</td>\n",
       "      <td>High</td>\n",
       "      <td>Strong</td>\n",
       "      <td>Yes</td>\n",
       "    </tr>\n",
       "    <tr>\n",
       "      <th>D13</th>\n",
       "      <td>Overcast</td>\n",
       "      <td>Hot</td>\n",
       "      <td>Normal</td>\n",
       "      <td>Weak</td>\n",
       "      <td>Yes</td>\n",
       "    </tr>\n",
       "    <tr>\n",
       "      <th>D14</th>\n",
       "      <td>Rain</td>\n",
       "      <td>Mild</td>\n",
       "      <td>High</td>\n",
       "      <td>Strong</td>\n",
       "      <td>No</td>\n",
       "    </tr>\n",
       "  </tbody>\n",
       "</table>\n",
       "</div>"
      ],
      "text/plain": [
       "      Outlook Temperature Humidity    Wind PlayTennis\n",
       "Day                                                  \n",
       "D1      Sunny         Hot     High    Weak         No\n",
       "D2      Sunny         Hot     High  Strong         No\n",
       "D3   Overcast         Hot     High    Weak        Yes\n",
       "D4       Rain        Mild     High    Weak        Yes\n",
       "D5       Rain        Cool   Normal    Weak        Yes\n",
       "D6       Rain        Cool   Normal  Strong         No\n",
       "D7   Overcast        Cool   Normal  Strong        Yes\n",
       "D8      Sunny        Mild     High    Weak         No\n",
       "D9      Sunny        Cool   Normal    Weak        Yes\n",
       "D10      Rain        Mild   Normal    Weak        Yes\n",
       "D11     Sunny        Mild   Normal  Strong        Yes\n",
       "D12  Overcast        Mild     High  Strong        Yes\n",
       "D13  Overcast         Hot   Normal    Weak        Yes\n",
       "D14      Rain        Mild     High  Strong         No"
      ]
     },
     "execution_count": 155,
     "metadata": {},
     "output_type": "execute_result"
    }
   ],
   "source": [
    "tennis"
   ]
  },
  {
   "cell_type": "code",
   "execution_count": 248,
   "metadata": {},
   "outputs": [],
   "source": [
    "def entropy_nonsplit(df, y_col) :\n",
    "    Ys = df[y_col].value_counts()\n",
    "    total_row = len(df)\n",
    "    (-1 * ((0.5*np.log2(0.5)) + (0.5*np.log2(0.5))))\n",
    "    return -1 *  np.sum([(len(df[df[y_col] == y]) / total_row) * np.log2(len(df[df[y_col] == y]) / total_row) for y in Ys.index])"
   ]
  },
  {
   "cell_type": "code",
   "execution_count": 251,
   "metadata": {},
   "outputs": [
    {
     "data": {
      "text/plain": [
       "0.9402859586706311"
      ]
     },
     "execution_count": 251,
     "metadata": {},
     "output_type": "execute_result"
    }
   ],
   "source": [
    "entropy_nonsplit(tennis, \"PlayTennis\")"
   ]
  },
  {
   "cell_type": "markdown",
   "metadata": {},
   "source": [
    "어떤 기준으로 나누었을 때 gini계수를 구하는 함수를 만들어 예시로 Outlook이 Sunny일 때 gini 계수를 구해보겠습니다."
   ]
  },
  {
   "cell_type": "code",
   "execution_count": 232,
   "metadata": {},
   "outputs": [],
   "source": [
    "def entropy_split(df, y_col, col, feature) :\n",
    "    r1 = len(df[df[col] == feature])\n",
    "    Y1 = dict(df[df[col] == feature][y_col].value_counts())\n",
    "    r2 = len(df[df[col] != feature])\n",
    "    Y2 = dict(df[df[col] != feature][y_col].value_counts())\n",
    "    \n",
    "    ratio = r1 / (r1 + r2)\n",
    "    ent1 = np.sum([(len(df[(df[col] == feature) & (df[y_col] == x)]) / r1) * np.log2(len(df[(df[col] == feature) & (df[y_col] == x)]) / r1) for x, y in Y1.items()])\n",
    "    ent2 = np.sum([(len(df[(df[col] != feature) & (df[y_col] == x)]) / r2) * np.log2(len(df[(df[col] != feature) & (df[y_col] == x)]) / r2) for x, y in Y2.items()])\n",
    "    \n",
    "    return -1 * ((ratio * ent1) + ((1-ratio) * ent2))"
   ]
  },
  {
   "cell_type": "code",
   "execution_count": 233,
   "metadata": {},
   "outputs": [
    {
     "data": {
      "text/plain": [
       "0.8380423950607803"
      ]
     },
     "execution_count": 233,
     "metadata": {},
     "output_type": "execute_result"
    }
   ],
   "source": [
    "entropy_split(tennis, \"PlayTennis\", \"Outlook\", \"Sunny\")"
   ]
  },
  {
   "cell_type": "markdown",
   "metadata": {},
   "source": [
    "아무것도 나누지 않았을 때보다, Sunny로 나누었을 때 gini계수가 줄어드는 것을 볼 수 있습니다.<br>\n",
    "이 때 이 차이값을 Information gain(정보획득)이라고 합니다. 그리고 정보획득량이 많은 쪽을 선택하여 트리의 구조를 만들기 시작합니다.\n",
    "<br>\n",
    "<br>\n",
    "\n",
    "- 이제 모든 변수에 대해서 각각의 gini계수를 구하여 정보획득량이 많은, 즉 gini계수가 적은 변수를 선정하여 트리를 만들어갑니다."
   ]
  },
  {
   "cell_type": "code",
   "execution_count": 237,
   "metadata": {},
   "outputs": [
    {
     "data": {
      "text/plain": [
       "['col : Outlook, split_feature : Sunny : Entropy = 0.8380423950607803',\n",
       " 'col : Outlook, split_feature : Overcast : Entropy = 0.7142857142857143',\n",
       " 'col : Outlook, split_feature : Rain : Entropy = 0.937101105625982',\n",
       " 'col : Temperature, split_feature : Hot : Entropy = 0.9152077851647805',\n",
       " 'col : Temperature, split_feature : Mild : Entropy = 0.9389462162661898',\n",
       " 'col : Temperature, split_feature : Cool : Entropy = 0.9253298887416583',\n",
       " 'col : Humidity, split_feature : High : Entropy = 0.7884504573082896',\n",
       " 'col : Humidity, split_feature : Normal : Entropy = 0.7884504573082896',\n",
       " 'col : Wind, split_feature : Weak : Entropy = 0.8921589282623617',\n",
       " 'col : Wind, split_feature : Strong : Entropy = 0.8921589282623617']"
      ]
     },
     "execution_count": 237,
     "metadata": {},
     "output_type": "execute_result"
    }
   ],
   "source": [
    "[f\"col : {idx}, split_feature : {v} : Entropy = {entropy_split(tennis, y_col, idx, v)}\" for idx, val in get_gini_dict(tennis).items() for v in val]"
   ]
  },
  {
   "cell_type": "code",
   "execution_count": 238,
   "metadata": {},
   "outputs": [
    {
     "data": {
      "text/plain": [
       "cat1        Outlook\n",
       "cat2       Overcast\n",
       "entropy    0.714286\n",
       "Name: 1, dtype: object"
      ]
     },
     "execution_count": 238,
     "metadata": {},
     "output_type": "execute_result"
    }
   ],
   "source": [
    "entropy_df = pd.DataFrame([[idx, v, entropy_split(tennis, y_col, idx, v)] for idx, val in to_gini.items() for v in val], columns = [\"cat1\", \"cat2\", \"entropy\"])\n",
    "entropy_df.iloc[entropy_df[\"entropy\"].argmin()]"
   ]
  },
  {
   "cell_type": "code",
   "execution_count": 239,
   "metadata": {},
   "outputs": [
    {
     "data": {
      "text/plain": [
       "cat1    Temperature\n",
       "cat2           Mild\n",
       "gini       0.458333\n",
       "Name: 4, dtype: object"
      ]
     },
     "execution_count": 239,
     "metadata": {},
     "output_type": "execute_result"
    }
   ],
   "source": [
    "gini_df.iloc[gini_df[\"gini\"].argmax()]"
   ]
  },
  {
   "cell_type": "markdown",
   "metadata": {},
   "source": [
    "---\n",
    "임의로 x, y좌표를 생성하여 정보들이 얼마나 흩어져있는지 확인해보겠습니다."
   ]
  },
  {
   "cell_type": "code",
   "execution_count": 81,
   "metadata": {},
   "outputs": [],
   "source": [
    "def generate_xy(df, split_col = None, split_value = None) :\n",
    "    if split_col == None :\n",
    "        return df.assign(x = [random.random() for _ in range(len(df))], y = [random.random() for _ in range(len(df))])\n",
    "    else :\n",
    "        tmp_ = df[df[split_col] == split_value]\n",
    "        tmp__ = df[df[split_col] != split_value]\n",
    "        return pd.concat([tmp_.assign(x = [random.random() / 2 for _ in range(len(tmp_))], y = [random.random() for _ in range(len(tmp_))]),\n",
    "                 tmp__.assign(x = [(random.random() / 2) + 0.5 for _ in range(len(tmp__))], y = [random.random() for _ in range(len(tmp__))])] )"
   ]
  },
  {
   "cell_type": "markdown",
   "metadata": {},
   "source": [
    "- 아무런 기준을 두지 않았을 때는 정보를 구분할 수 있는 정보가 없습니다."
   ]
  },
  {
   "cell_type": "markdown",
   "metadata": {},
   "source": [
    "#### **실제 tree 모델과 비교하기 위하여 OneHotEncoding 후 트리모형을 돌려보도록 하겠습니다."
   ]
  },
  {
   "cell_type": "code",
   "execution_count": 240,
   "metadata": {},
   "outputs": [
    {
     "data": {
      "text/plain": [
       "DecisionTreeClassifier(ccp_alpha=0.0, class_weight=None, criterion='entropy',\n",
       "                       max_depth=None, max_features=None, max_leaf_nodes=None,\n",
       "                       min_impurity_decrease=0.0, min_impurity_split=None,\n",
       "                       min_samples_leaf=1, min_samples_split=2,\n",
       "                       min_weight_fraction_leaf=0.0, presort='deprecated',\n",
       "                       random_state=None, splitter='best')"
      ]
     },
     "execution_count": 240,
     "metadata": {},
     "output_type": "execute_result"
    }
   ],
   "source": [
    "dt = DecisionTreeClassifier(criterion=\"entropy\")\n",
    "dt.fit(oh_df, tennis[y_col])"
   ]
  },
  {
   "cell_type": "code",
   "execution_count": 241,
   "metadata": {},
   "outputs": [
    {
     "data": {
      "image/svg+xml": [
       "<?xml version=\"1.0\" encoding=\"UTF-8\" standalone=\"no\"?>\r\n",
       "<!DOCTYPE svg PUBLIC \"-//W3C//DTD SVG 1.1//EN\"\r\n",
       " \"http://www.w3.org/Graphics/SVG/1.1/DTD/svg11.dtd\">\r\n",
       "<!-- Generated by graphviz version 2.38.0 (20140413.2041)\r\n",
       " -->\r\n",
       "<!-- Title: Tree Pages: 1 -->\r\n",
       "<svg width=\"569pt\" height=\"552pt\"\r\n",
       " viewBox=\"0.00 0.00 569.00 552.00\" xmlns=\"http://www.w3.org/2000/svg\" xmlns:xlink=\"http://www.w3.org/1999/xlink\">\r\n",
       "<g id=\"graph0\" class=\"graph\" transform=\"scale(1 1) rotate(0) translate(4 548)\">\r\n",
       "<title>Tree</title>\r\n",
       "<polygon fill=\"white\" stroke=\"none\" points=\"-4,4 -4,-548 565,-548 565,4 -4,4\"/>\r\n",
       "<!-- 0 -->\r\n",
       "<g id=\"node1\" class=\"node\"><title>0</title>\r\n",
       "<polygon fill=\"#a7d3f3\" stroke=\"black\" points=\"395.5,-544 234.5,-544 234.5,-461 395.5,-461 395.5,-544\"/>\r\n",
       "<text text-anchor=\"middle\" x=\"315\" y=\"-528.8\" font-family=\"Times New Roman,serif\" font-size=\"14.00\">Outlook_Overcast &lt;= 0.5</text>\r\n",
       "<text text-anchor=\"middle\" x=\"315\" y=\"-513.8\" font-family=\"Times New Roman,serif\" font-size=\"14.00\">entropy = 0.94</text>\r\n",
       "<text text-anchor=\"middle\" x=\"315\" y=\"-498.8\" font-family=\"Times New Roman,serif\" font-size=\"14.00\">samples = 14</text>\r\n",
       "<text text-anchor=\"middle\" x=\"315\" y=\"-483.8\" font-family=\"Times New Roman,serif\" font-size=\"14.00\">value = [5, 9]</text>\r\n",
       "<text text-anchor=\"middle\" x=\"315\" y=\"-468.8\" font-family=\"Times New Roman,serif\" font-size=\"14.00\">class = Yes</text>\r\n",
       "</g>\r\n",
       "<!-- 1 -->\r\n",
       "<g id=\"node2\" class=\"node\"><title>1</title>\r\n",
       "<polygon fill=\"#ffffff\" stroke=\"black\" points=\"323,-425 165,-425 165,-342 323,-342 323,-425\"/>\r\n",
       "<text text-anchor=\"middle\" x=\"244\" y=\"-409.8\" font-family=\"Times New Roman,serif\" font-size=\"14.00\">Humidity_Normal &lt;= 0.5</text>\r\n",
       "<text text-anchor=\"middle\" x=\"244\" y=\"-394.8\" font-family=\"Times New Roman,serif\" font-size=\"14.00\">entropy = 1.0</text>\r\n",
       "<text text-anchor=\"middle\" x=\"244\" y=\"-379.8\" font-family=\"Times New Roman,serif\" font-size=\"14.00\">samples = 10</text>\r\n",
       "<text text-anchor=\"middle\" x=\"244\" y=\"-364.8\" font-family=\"Times New Roman,serif\" font-size=\"14.00\">value = [5, 5]</text>\r\n",
       "<text text-anchor=\"middle\" x=\"244\" y=\"-349.8\" font-family=\"Times New Roman,serif\" font-size=\"14.00\">class = No</text>\r\n",
       "</g>\r\n",
       "<!-- 0&#45;&gt;1 -->\r\n",
       "<g id=\"edge1\" class=\"edge\"><title>0&#45;&gt;1</title>\r\n",
       "<path fill=\"none\" stroke=\"black\" d=\"M290.367,-460.907C285.025,-452.105 279.32,-442.703 273.803,-433.612\"/>\r\n",
       "<polygon fill=\"black\" stroke=\"black\" points=\"276.77,-431.754 268.59,-425.021 270.785,-435.386 276.77,-431.754\"/>\r\n",
       "<text text-anchor=\"middle\" x=\"262.648\" y=\"-445.604\" font-family=\"Times New Roman,serif\" font-size=\"14.00\">True</text>\r\n",
       "</g>\r\n",
       "<!-- 12 -->\r\n",
       "<g id=\"node13\" class=\"node\"><title>12</title>\r\n",
       "<polygon fill=\"#399de5\" stroke=\"black\" points=\"433,-417.5 341,-417.5 341,-349.5 433,-349.5 433,-417.5\"/>\r\n",
       "<text text-anchor=\"middle\" x=\"387\" y=\"-402.3\" font-family=\"Times New Roman,serif\" font-size=\"14.00\">entropy = 0.0</text>\r\n",
       "<text text-anchor=\"middle\" x=\"387\" y=\"-387.3\" font-family=\"Times New Roman,serif\" font-size=\"14.00\">samples = 4</text>\r\n",
       "<text text-anchor=\"middle\" x=\"387\" y=\"-372.3\" font-family=\"Times New Roman,serif\" font-size=\"14.00\">value = [0, 4]</text>\r\n",
       "<text text-anchor=\"middle\" x=\"387\" y=\"-357.3\" font-family=\"Times New Roman,serif\" font-size=\"14.00\">class = Yes</text>\r\n",
       "</g>\r\n",
       "<!-- 0&#45;&gt;12 -->\r\n",
       "<g id=\"edge12\" class=\"edge\"><title>0&#45;&gt;12</title>\r\n",
       "<path fill=\"none\" stroke=\"black\" d=\"M339.98,-460.907C346.838,-449.763 354.287,-437.658 361.191,-426.439\"/>\r\n",
       "<polygon fill=\"black\" stroke=\"black\" points=\"364.329,-428.018 366.59,-417.667 358.368,-424.349 364.329,-428.018\"/>\r\n",
       "<text text-anchor=\"middle\" x=\"372.38\" y=\"-438.287\" font-family=\"Times New Roman,serif\" font-size=\"14.00\">False</text>\r\n",
       "</g>\r\n",
       "<!-- 2 -->\r\n",
       "<g id=\"node3\" class=\"node\"><title>2</title>\r\n",
       "<polygon fill=\"#eca06a\" stroke=\"black\" points=\"235.5,-306 98.5,-306 98.5,-223 235.5,-223 235.5,-306\"/>\r\n",
       "<text text-anchor=\"middle\" x=\"167\" y=\"-290.8\" font-family=\"Times New Roman,serif\" font-size=\"14.00\">Outlook_Rain &lt;= 0.5</text>\r\n",
       "<text text-anchor=\"middle\" x=\"167\" y=\"-275.8\" font-family=\"Times New Roman,serif\" font-size=\"14.00\">entropy = 0.722</text>\r\n",
       "<text text-anchor=\"middle\" x=\"167\" y=\"-260.8\" font-family=\"Times New Roman,serif\" font-size=\"14.00\">samples = 5</text>\r\n",
       "<text text-anchor=\"middle\" x=\"167\" y=\"-245.8\" font-family=\"Times New Roman,serif\" font-size=\"14.00\">value = [4, 1]</text>\r\n",
       "<text text-anchor=\"middle\" x=\"167\" y=\"-230.8\" font-family=\"Times New Roman,serif\" font-size=\"14.00\">class = No</text>\r\n",
       "</g>\r\n",
       "<!-- 1&#45;&gt;2 -->\r\n",
       "<g id=\"edge2\" class=\"edge\"><title>1&#45;&gt;2</title>\r\n",
       "<path fill=\"none\" stroke=\"black\" d=\"M217.285,-341.907C211.492,-333.105 205.305,-323.703 199.322,-314.612\"/>\r\n",
       "<polygon fill=\"black\" stroke=\"black\" points=\"202.089,-312.45 193.668,-306.021 196.241,-316.298 202.089,-312.45\"/>\r\n",
       "</g>\r\n",
       "<!-- 7 -->\r\n",
       "<g id=\"node8\" class=\"node\"><title>7</title>\r\n",
       "<polygon fill=\"#6ab6ec\" stroke=\"black\" points=\"388,-306 254,-306 254,-223 388,-223 388,-306\"/>\r\n",
       "<text text-anchor=\"middle\" x=\"321\" y=\"-290.8\" font-family=\"Times New Roman,serif\" font-size=\"14.00\">Wind_Strong &lt;= 0.5</text>\r\n",
       "<text text-anchor=\"middle\" x=\"321\" y=\"-275.8\" font-family=\"Times New Roman,serif\" font-size=\"14.00\">entropy = 0.722</text>\r\n",
       "<text text-anchor=\"middle\" x=\"321\" y=\"-260.8\" font-family=\"Times New Roman,serif\" font-size=\"14.00\">samples = 5</text>\r\n",
       "<text text-anchor=\"middle\" x=\"321\" y=\"-245.8\" font-family=\"Times New Roman,serif\" font-size=\"14.00\">value = [1, 4]</text>\r\n",
       "<text text-anchor=\"middle\" x=\"321\" y=\"-230.8\" font-family=\"Times New Roman,serif\" font-size=\"14.00\">class = Yes</text>\r\n",
       "</g>\r\n",
       "<!-- 1&#45;&gt;7 -->\r\n",
       "<g id=\"edge7\" class=\"edge\"><title>1&#45;&gt;7</title>\r\n",
       "<path fill=\"none\" stroke=\"black\" d=\"M270.715,-341.907C276.508,-333.105 282.695,-323.703 288.678,-314.612\"/>\r\n",
       "<polygon fill=\"black\" stroke=\"black\" points=\"291.759,-316.298 294.332,-306.021 285.911,-312.45 291.759,-316.298\"/>\r\n",
       "</g>\r\n",
       "<!-- 3 -->\r\n",
       "<g id=\"node4\" class=\"node\"><title>3</title>\r\n",
       "<polygon fill=\"#e58139\" stroke=\"black\" points=\"92,-179.5 0,-179.5 0,-111.5 92,-111.5 92,-179.5\"/>\r\n",
       "<text text-anchor=\"middle\" x=\"46\" y=\"-164.3\" font-family=\"Times New Roman,serif\" font-size=\"14.00\">entropy = 0.0</text>\r\n",
       "<text text-anchor=\"middle\" x=\"46\" y=\"-149.3\" font-family=\"Times New Roman,serif\" font-size=\"14.00\">samples = 3</text>\r\n",
       "<text text-anchor=\"middle\" x=\"46\" y=\"-134.3\" font-family=\"Times New Roman,serif\" font-size=\"14.00\">value = [3, 0]</text>\r\n",
       "<text text-anchor=\"middle\" x=\"46\" y=\"-119.3\" font-family=\"Times New Roman,serif\" font-size=\"14.00\">class = No</text>\r\n",
       "</g>\r\n",
       "<!-- 2&#45;&gt;3 -->\r\n",
       "<g id=\"edge3\" class=\"edge\"><title>2&#45;&gt;3</title>\r\n",
       "<path fill=\"none\" stroke=\"black\" d=\"M125.02,-222.907C112.923,-211.211 99.7336,-198.457 87.6568,-186.78\"/>\r\n",
       "<polygon fill=\"black\" stroke=\"black\" points=\"89.9227,-184.102 80.3008,-179.667 85.0568,-189.134 89.9227,-184.102\"/>\r\n",
       "</g>\r\n",
       "<!-- 4 -->\r\n",
       "<g id=\"node5\" class=\"node\"><title>4</title>\r\n",
       "<polygon fill=\"#ffffff\" stroke=\"black\" points=\"238,-187 110,-187 110,-104 238,-104 238,-187\"/>\r\n",
       "<text text-anchor=\"middle\" x=\"174\" y=\"-171.8\" font-family=\"Times New Roman,serif\" font-size=\"14.00\">Wind_Weak &lt;= 0.5</text>\r\n",
       "<text text-anchor=\"middle\" x=\"174\" y=\"-156.8\" font-family=\"Times New Roman,serif\" font-size=\"14.00\">entropy = 1.0</text>\r\n",
       "<text text-anchor=\"middle\" x=\"174\" y=\"-141.8\" font-family=\"Times New Roman,serif\" font-size=\"14.00\">samples = 2</text>\r\n",
       "<text text-anchor=\"middle\" x=\"174\" y=\"-126.8\" font-family=\"Times New Roman,serif\" font-size=\"14.00\">value = [1, 1]</text>\r\n",
       "<text text-anchor=\"middle\" x=\"174\" y=\"-111.8\" font-family=\"Times New Roman,serif\" font-size=\"14.00\">class = No</text>\r\n",
       "</g>\r\n",
       "<!-- 2&#45;&gt;4 -->\r\n",
       "<g id=\"edge4\" class=\"edge\"><title>2&#45;&gt;4</title>\r\n",
       "<path fill=\"none\" stroke=\"black\" d=\"M169.429,-222.907C169.928,-214.558 170.46,-205.671 170.977,-197.02\"/>\r\n",
       "<polygon fill=\"black\" stroke=\"black\" points=\"174.472,-197.212 171.576,-187.021 167.485,-196.794 174.472,-197.212\"/>\r\n",
       "</g>\r\n",
       "<!-- 5 -->\r\n",
       "<g id=\"node6\" class=\"node\"><title>5</title>\r\n",
       "<polygon fill=\"#e58139\" stroke=\"black\" points=\"164,-68 72,-68 72,-0 164,-0 164,-68\"/>\r\n",
       "<text text-anchor=\"middle\" x=\"118\" y=\"-52.8\" font-family=\"Times New Roman,serif\" font-size=\"14.00\">entropy = 0.0</text>\r\n",
       "<text text-anchor=\"middle\" x=\"118\" y=\"-37.8\" font-family=\"Times New Roman,serif\" font-size=\"14.00\">samples = 1</text>\r\n",
       "<text text-anchor=\"middle\" x=\"118\" y=\"-22.8\" font-family=\"Times New Roman,serif\" font-size=\"14.00\">value = [1, 0]</text>\r\n",
       "<text text-anchor=\"middle\" x=\"118\" y=\"-7.8\" font-family=\"Times New Roman,serif\" font-size=\"14.00\">class = No</text>\r\n",
       "</g>\r\n",
       "<!-- 4&#45;&gt;5 -->\r\n",
       "<g id=\"edge5\" class=\"edge\"><title>4&#45;&gt;5</title>\r\n",
       "<path fill=\"none\" stroke=\"black\" d=\"M153.148,-103.726C148.763,-95.1527 144.128,-86.0891 139.712,-77.4555\"/>\r\n",
       "<polygon fill=\"black\" stroke=\"black\" points=\"142.699,-75.6092 135.03,-68.2996 136.467,-78.7965 142.699,-75.6092\"/>\r\n",
       "</g>\r\n",
       "<!-- 6 -->\r\n",
       "<g id=\"node7\" class=\"node\"><title>6</title>\r\n",
       "<polygon fill=\"#399de5\" stroke=\"black\" points=\"274,-68 182,-68 182,-0 274,-0 274,-68\"/>\r\n",
       "<text text-anchor=\"middle\" x=\"228\" y=\"-52.8\" font-family=\"Times New Roman,serif\" font-size=\"14.00\">entropy = 0.0</text>\r\n",
       "<text text-anchor=\"middle\" x=\"228\" y=\"-37.8\" font-family=\"Times New Roman,serif\" font-size=\"14.00\">samples = 1</text>\r\n",
       "<text text-anchor=\"middle\" x=\"228\" y=\"-22.8\" font-family=\"Times New Roman,serif\" font-size=\"14.00\">value = [0, 1]</text>\r\n",
       "<text text-anchor=\"middle\" x=\"228\" y=\"-7.8\" font-family=\"Times New Roman,serif\" font-size=\"14.00\">class = Yes</text>\r\n",
       "</g>\r\n",
       "<!-- 4&#45;&gt;6 -->\r\n",
       "<g id=\"edge6\" class=\"edge\"><title>4&#45;&gt;6</title>\r\n",
       "<path fill=\"none\" stroke=\"black\" d=\"M194.108,-103.726C198.336,-95.1527 202.805,-86.0891 207.063,-77.4555\"/>\r\n",
       "<polygon fill=\"black\" stroke=\"black\" points=\"210.294,-78.8164 211.578,-68.2996 204.016,-75.7203 210.294,-78.8164\"/>\r\n",
       "</g>\r\n",
       "<!-- 8 -->\r\n",
       "<g id=\"node9\" class=\"node\"><title>8</title>\r\n",
       "<polygon fill=\"#399de5\" stroke=\"black\" points=\"361,-179.5 269,-179.5 269,-111.5 361,-111.5 361,-179.5\"/>\r\n",
       "<text text-anchor=\"middle\" x=\"315\" y=\"-164.3\" font-family=\"Times New Roman,serif\" font-size=\"14.00\">entropy = 0.0</text>\r\n",
       "<text text-anchor=\"middle\" x=\"315\" y=\"-149.3\" font-family=\"Times New Roman,serif\" font-size=\"14.00\">samples = 3</text>\r\n",
       "<text text-anchor=\"middle\" x=\"315\" y=\"-134.3\" font-family=\"Times New Roman,serif\" font-size=\"14.00\">value = [0, 3]</text>\r\n",
       "<text text-anchor=\"middle\" x=\"315\" y=\"-119.3\" font-family=\"Times New Roman,serif\" font-size=\"14.00\">class = Yes</text>\r\n",
       "</g>\r\n",
       "<!-- 7&#45;&gt;8 -->\r\n",
       "<g id=\"edge8\" class=\"edge\"><title>7&#45;&gt;8</title>\r\n",
       "<path fill=\"none\" stroke=\"black\" d=\"M318.918,-222.907C318.369,-212.204 317.775,-200.615 317.219,-189.776\"/>\r\n",
       "<polygon fill=\"black\" stroke=\"black\" points=\"320.709,-189.475 316.701,-179.667 313.718,-189.833 320.709,-189.475\"/>\r\n",
       "</g>\r\n",
       "<!-- 9 -->\r\n",
       "<g id=\"node10\" class=\"node\"><title>9</title>\r\n",
       "<polygon fill=\"#ffffff\" stroke=\"black\" points=\"540.5,-187 379.5,-187 379.5,-104 540.5,-104 540.5,-187\"/>\r\n",
       "<text text-anchor=\"middle\" x=\"460\" y=\"-171.8\" font-family=\"Times New Roman,serif\" font-size=\"14.00\">Temperature_Mild &lt;= 0.5</text>\r\n",
       "<text text-anchor=\"middle\" x=\"460\" y=\"-156.8\" font-family=\"Times New Roman,serif\" font-size=\"14.00\">entropy = 1.0</text>\r\n",
       "<text text-anchor=\"middle\" x=\"460\" y=\"-141.8\" font-family=\"Times New Roman,serif\" font-size=\"14.00\">samples = 2</text>\r\n",
       "<text text-anchor=\"middle\" x=\"460\" y=\"-126.8\" font-family=\"Times New Roman,serif\" font-size=\"14.00\">value = [1, 1]</text>\r\n",
       "<text text-anchor=\"middle\" x=\"460\" y=\"-111.8\" font-family=\"Times New Roman,serif\" font-size=\"14.00\">class = No</text>\r\n",
       "</g>\r\n",
       "<!-- 7&#45;&gt;9 -->\r\n",
       "<g id=\"edge9\" class=\"edge\"><title>7&#45;&gt;9</title>\r\n",
       "<path fill=\"none\" stroke=\"black\" d=\"M369.225,-222.907C380.438,-213.469 392.469,-203.343 403.985,-193.649\"/>\r\n",
       "<polygon fill=\"black\" stroke=\"black\" points=\"406.463,-196.138 411.86,-187.021 401.955,-190.783 406.463,-196.138\"/>\r\n",
       "</g>\r\n",
       "<!-- 10 -->\r\n",
       "<g id=\"node11\" class=\"node\"><title>10</title>\r\n",
       "<polygon fill=\"#e58139\" stroke=\"black\" points=\"451,-68 359,-68 359,-0 451,-0 451,-68\"/>\r\n",
       "<text text-anchor=\"middle\" x=\"405\" y=\"-52.8\" font-family=\"Times New Roman,serif\" font-size=\"14.00\">entropy = 0.0</text>\r\n",
       "<text text-anchor=\"middle\" x=\"405\" y=\"-37.8\" font-family=\"Times New Roman,serif\" font-size=\"14.00\">samples = 1</text>\r\n",
       "<text text-anchor=\"middle\" x=\"405\" y=\"-22.8\" font-family=\"Times New Roman,serif\" font-size=\"14.00\">value = [1, 0]</text>\r\n",
       "<text text-anchor=\"middle\" x=\"405\" y=\"-7.8\" font-family=\"Times New Roman,serif\" font-size=\"14.00\">class = No</text>\r\n",
       "</g>\r\n",
       "<!-- 9&#45;&gt;10 -->\r\n",
       "<g id=\"edge10\" class=\"edge\"><title>9&#45;&gt;10</title>\r\n",
       "<path fill=\"none\" stroke=\"black\" d=\"M439.52,-103.726C435.214,-95.1527 430.661,-86.0891 426.325,-77.4555\"/>\r\n",
       "<polygon fill=\"black\" stroke=\"black\" points=\"429.342,-75.6647 421.726,-68.2996 423.087,-78.8067 429.342,-75.6647\"/>\r\n",
       "</g>\r\n",
       "<!-- 11 -->\r\n",
       "<g id=\"node12\" class=\"node\"><title>11</title>\r\n",
       "<polygon fill=\"#399de5\" stroke=\"black\" points=\"561,-68 469,-68 469,-0 561,-0 561,-68\"/>\r\n",
       "<text text-anchor=\"middle\" x=\"515\" y=\"-52.8\" font-family=\"Times New Roman,serif\" font-size=\"14.00\">entropy = 0.0</text>\r\n",
       "<text text-anchor=\"middle\" x=\"515\" y=\"-37.8\" font-family=\"Times New Roman,serif\" font-size=\"14.00\">samples = 1</text>\r\n",
       "<text text-anchor=\"middle\" x=\"515\" y=\"-22.8\" font-family=\"Times New Roman,serif\" font-size=\"14.00\">value = [0, 1]</text>\r\n",
       "<text text-anchor=\"middle\" x=\"515\" y=\"-7.8\" font-family=\"Times New Roman,serif\" font-size=\"14.00\">class = Yes</text>\r\n",
       "</g>\r\n",
       "<!-- 9&#45;&gt;11 -->\r\n",
       "<g id=\"edge11\" class=\"edge\"><title>9&#45;&gt;11</title>\r\n",
       "<path fill=\"none\" stroke=\"black\" d=\"M480.48,-103.726C484.786,-95.1527 489.339,-86.0891 493.675,-77.4555\"/>\r\n",
       "<polygon fill=\"black\" stroke=\"black\" points=\"496.913,-78.8067 498.274,-68.2996 490.658,-75.6647 496.913,-78.8067\"/>\r\n",
       "</g>\r\n",
       "</g>\r\n",
       "</svg>\r\n"
      ],
      "text/plain": [
       "<graphviz.files.Source at 0x23ea5fe0470>"
      ]
     },
     "execution_count": 241,
     "metadata": {},
     "output_type": "execute_result"
    }
   ],
   "source": [
    "grp = tree.export_graphviz(dt, out_file = None, feature_names=oh_df.columns,  \n",
    "                   class_names=tennis[y_col].unique(),\n",
    "                   filled=True)\n",
    "graphviz.Source(grp, format = \"png\")"
   ]
  },
  {
   "cell_type": "markdown",
   "metadata": {},
   "source": [
    "#### **실제로 이 순서가 맞는지 확인해보겠습니다**"
   ]
  },
  {
   "cell_type": "code",
   "execution_count": 251,
   "metadata": {},
   "outputs": [
    {
     "data": {
      "text/plain": [
       "0.9402859586706311"
      ]
     },
     "execution_count": 251,
     "metadata": {},
     "output_type": "execute_result"
    }
   ],
   "source": [
    "entropy_nonsplit(tennis, \"PlayTennis\")"
   ]
  },
  {
   "cell_type": "code",
   "execution_count": 243,
   "metadata": {},
   "outputs": [
    {
     "data": {
      "text/plain": [
       "cat1        Outlook\n",
       "cat2       Overcast\n",
       "entropy    0.714286\n",
       "Name: 1, dtype: object"
      ]
     },
     "execution_count": 243,
     "metadata": {},
     "output_type": "execute_result"
    }
   ],
   "source": [
    "entropy_df.iloc[entropy_df[\"entropy\"].argmin()]"
   ]
  },
  {
   "cell_type": "markdown",
   "metadata": {},
   "source": [
    "#### - gini계수가 0이면 가장 끝쪽에 있는 terminal node가 됩니다.(데이터가 많으면 overfitting을 막기위하여 가지치기 컨셉이 활용됩니다)"
   ]
  },
  {
   "cell_type": "code",
   "execution_count": 116,
   "metadata": {},
   "outputs": [
    {
     "name": "stdout",
     "output_type": "stream",
     "text": [
      "col : Outlook, split_feature : Overcast : gini_index = 1.0\n",
      "col : Temperature, split_feature : Hot : gini_index = 0.0\n",
      "col : Temperature, split_feature : Cool : gini_index = 0.0\n",
      "col : Temperature, split_feature : Mild : gini_index = 0.0\n",
      "col : Humidity, split_feature : High : gini_index = 0.0\n",
      "col : Humidity, split_feature : Normal : gini_index = 0.0\n",
      "col : Wind, split_feature : Weak : gini_index = 0.0\n",
      "col : Wind, split_feature : Strong : gini_index = 0.0\n"
     ]
    },
    {
     "data": {
      "text/plain": [
       "cat1    Temperature\n",
       "cat2            Hot\n",
       "gini              0\n",
       "Name: 1, dtype: object"
      ]
     },
     "execution_count": 116,
     "metadata": {},
     "output_type": "execute_result"
    }
   ],
   "source": [
    "tennis_ter1 = tennis[tennis[\"Outlook\"] == \"Overcast\"]\n",
    "[print(f\"col : {idx}, split_feature : {v} : gini_index = {gini_split(tennis_ter1, y_col, idx, v)}\") for idx, val in get_gini_dict(tennis_ter1).items() for v in val]\n",
    "gini_df = pd.DataFrame([[idx, v, gini_split(tennis_ter1, y_col, idx, v)] for idx, val in get_gini_dict(tennis_ter1).items() for v in val], columns = [\"cat1\", \"cat2\", \"gini\"])\n",
    "gini_df.iloc[gini_df[\"gini\"].argmin()]"
   ]
  },
  {
   "cell_type": "code",
   "execution_count": 255,
   "metadata": {},
   "outputs": [
    {
     "data": {
      "image/svg+xml": [
       "<?xml version=\"1.0\" encoding=\"UTF-8\" standalone=\"no\"?>\r\n",
       "<!DOCTYPE svg PUBLIC \"-//W3C//DTD SVG 1.1//EN\"\r\n",
       " \"http://www.w3.org/Graphics/SVG/1.1/DTD/svg11.dtd\">\r\n",
       "<!-- Generated by graphviz version 2.38.0 (20140413.2041)\r\n",
       " -->\r\n",
       "<!-- Title: Tree Pages: 1 -->\r\n",
       "<svg width=\"539pt\" height=\"552pt\"\r\n",
       " viewBox=\"0.00 0.00 539.00 552.00\" xmlns=\"http://www.w3.org/2000/svg\" xmlns:xlink=\"http://www.w3.org/1999/xlink\">\r\n",
       "<g id=\"graph0\" class=\"graph\" transform=\"scale(1 1) rotate(0) translate(4 548)\">\r\n",
       "<title>Tree</title>\r\n",
       "<polygon fill=\"white\" stroke=\"none\" points=\"-4,4 -4,-548 535,-548 535,4 -4,4\"/>\r\n",
       "<!-- 0 -->\r\n",
       "<g id=\"node1\" class=\"node\"><title>0</title>\r\n",
       "<polygon fill=\"#a7d3f3\" stroke=\"black\" points=\"425.5,-544 264.5,-544 264.5,-461 425.5,-461 425.5,-544\"/>\r\n",
       "<text text-anchor=\"middle\" x=\"345\" y=\"-528.8\" font-family=\"Times New Roman,serif\" font-size=\"14.00\">Outlook_Overcast &lt;= 0.5</text>\r\n",
       "<text text-anchor=\"middle\" x=\"345\" y=\"-513.8\" font-family=\"Times New Roman,serif\" font-size=\"14.00\">entropy = 0.94</text>\r\n",
       "<text text-anchor=\"middle\" x=\"345\" y=\"-498.8\" font-family=\"Times New Roman,serif\" font-size=\"14.00\">samples = 14</text>\r\n",
       "<text text-anchor=\"middle\" x=\"345\" y=\"-483.8\" font-family=\"Times New Roman,serif\" font-size=\"14.00\">value = [5, 9]</text>\r\n",
       "<text text-anchor=\"middle\" x=\"345\" y=\"-468.8\" font-family=\"Times New Roman,serif\" font-size=\"14.00\">class = Yes</text>\r\n",
       "</g>\r\n",
       "<!-- 1 -->\r\n",
       "<g id=\"node2\" class=\"node\"><title>1</title>\r\n",
       "<polygon fill=\"#ffffff\" stroke=\"black\" points=\"353,-425 195,-425 195,-342 353,-342 353,-425\"/>\r\n",
       "<text text-anchor=\"middle\" x=\"274\" y=\"-409.8\" font-family=\"Times New Roman,serif\" font-size=\"14.00\">Humidity_Normal &lt;= 0.5</text>\r\n",
       "<text text-anchor=\"middle\" x=\"274\" y=\"-394.8\" font-family=\"Times New Roman,serif\" font-size=\"14.00\">entropy = 1.0</text>\r\n",
       "<text text-anchor=\"middle\" x=\"274\" y=\"-379.8\" font-family=\"Times New Roman,serif\" font-size=\"14.00\">samples = 10</text>\r\n",
       "<text text-anchor=\"middle\" x=\"274\" y=\"-364.8\" font-family=\"Times New Roman,serif\" font-size=\"14.00\">value = [5, 5]</text>\r\n",
       "<text text-anchor=\"middle\" x=\"274\" y=\"-349.8\" font-family=\"Times New Roman,serif\" font-size=\"14.00\">class = No</text>\r\n",
       "</g>\r\n",
       "<!-- 0&#45;&gt;1 -->\r\n",
       "<g id=\"edge1\" class=\"edge\"><title>0&#45;&gt;1</title>\r\n",
       "<path fill=\"none\" stroke=\"black\" d=\"M320.367,-460.907C315.025,-452.105 309.32,-442.703 303.803,-433.612\"/>\r\n",
       "<polygon fill=\"black\" stroke=\"black\" points=\"306.77,-431.754 298.59,-425.021 300.785,-435.386 306.77,-431.754\"/>\r\n",
       "<text text-anchor=\"middle\" x=\"292.648\" y=\"-445.604\" font-family=\"Times New Roman,serif\" font-size=\"14.00\">True</text>\r\n",
       "</g>\r\n",
       "<!-- 12 -->\r\n",
       "<g id=\"node13\" class=\"node\"><title>12</title>\r\n",
       "<polygon fill=\"#399de5\" stroke=\"black\" points=\"463,-417.5 371,-417.5 371,-349.5 463,-349.5 463,-417.5\"/>\r\n",
       "<text text-anchor=\"middle\" x=\"417\" y=\"-402.3\" font-family=\"Times New Roman,serif\" font-size=\"14.00\">entropy = 0.0</text>\r\n",
       "<text text-anchor=\"middle\" x=\"417\" y=\"-387.3\" font-family=\"Times New Roman,serif\" font-size=\"14.00\">samples = 4</text>\r\n",
       "<text text-anchor=\"middle\" x=\"417\" y=\"-372.3\" font-family=\"Times New Roman,serif\" font-size=\"14.00\">value = [0, 4]</text>\r\n",
       "<text text-anchor=\"middle\" x=\"417\" y=\"-357.3\" font-family=\"Times New Roman,serif\" font-size=\"14.00\">class = Yes</text>\r\n",
       "</g>\r\n",
       "<!-- 0&#45;&gt;12 -->\r\n",
       "<g id=\"edge12\" class=\"edge\"><title>0&#45;&gt;12</title>\r\n",
       "<path fill=\"none\" stroke=\"black\" d=\"M369.98,-460.907C376.838,-449.763 384.287,-437.658 391.191,-426.439\"/>\r\n",
       "<polygon fill=\"black\" stroke=\"black\" points=\"394.329,-428.018 396.59,-417.667 388.368,-424.349 394.329,-428.018\"/>\r\n",
       "<text text-anchor=\"middle\" x=\"402.38\" y=\"-438.287\" font-family=\"Times New Roman,serif\" font-size=\"14.00\">False</text>\r\n",
       "</g>\r\n",
       "<!-- 2 -->\r\n",
       "<g id=\"node3\" class=\"node\"><title>2</title>\r\n",
       "<polygon fill=\"#eca06a\" stroke=\"black\" points=\"270,-306 124,-306 124,-223 270,-223 270,-306\"/>\r\n",
       "<text text-anchor=\"middle\" x=\"197\" y=\"-290.8\" font-family=\"Times New Roman,serif\" font-size=\"14.00\">Outlook_Sunny &lt;= 0.5</text>\r\n",
       "<text text-anchor=\"middle\" x=\"197\" y=\"-275.8\" font-family=\"Times New Roman,serif\" font-size=\"14.00\">entropy = 0.722</text>\r\n",
       "<text text-anchor=\"middle\" x=\"197\" y=\"-260.8\" font-family=\"Times New Roman,serif\" font-size=\"14.00\">samples = 5</text>\r\n",
       "<text text-anchor=\"middle\" x=\"197\" y=\"-245.8\" font-family=\"Times New Roman,serif\" font-size=\"14.00\">value = [4, 1]</text>\r\n",
       "<text text-anchor=\"middle\" x=\"197\" y=\"-230.8\" font-family=\"Times New Roman,serif\" font-size=\"14.00\">class = No</text>\r\n",
       "</g>\r\n",
       "<!-- 1&#45;&gt;2 -->\r\n",
       "<g id=\"edge2\" class=\"edge\"><title>1&#45;&gt;2</title>\r\n",
       "<path fill=\"none\" stroke=\"black\" d=\"M247.285,-341.907C241.492,-333.105 235.305,-323.703 229.322,-314.612\"/>\r\n",
       "<polygon fill=\"black\" stroke=\"black\" points=\"232.089,-312.45 223.668,-306.021 226.241,-316.298 232.089,-312.45\"/>\r\n",
       "</g>\r\n",
       "<!-- 7 -->\r\n",
       "<g id=\"node8\" class=\"node\"><title>7</title>\r\n",
       "<polygon fill=\"#6ab6ec\" stroke=\"black\" points=\"416,-306 288,-306 288,-223 416,-223 416,-306\"/>\r\n",
       "<text text-anchor=\"middle\" x=\"352\" y=\"-290.8\" font-family=\"Times New Roman,serif\" font-size=\"14.00\">Wind_Weak &lt;= 0.5</text>\r\n",
       "<text text-anchor=\"middle\" x=\"352\" y=\"-275.8\" font-family=\"Times New Roman,serif\" font-size=\"14.00\">entropy = 0.722</text>\r\n",
       "<text text-anchor=\"middle\" x=\"352\" y=\"-260.8\" font-family=\"Times New Roman,serif\" font-size=\"14.00\">samples = 5</text>\r\n",
       "<text text-anchor=\"middle\" x=\"352\" y=\"-245.8\" font-family=\"Times New Roman,serif\" font-size=\"14.00\">value = [1, 4]</text>\r\n",
       "<text text-anchor=\"middle\" x=\"352\" y=\"-230.8\" font-family=\"Times New Roman,serif\" font-size=\"14.00\">class = Yes</text>\r\n",
       "</g>\r\n",
       "<!-- 1&#45;&gt;7 -->\r\n",
       "<g id=\"edge7\" class=\"edge\"><title>1&#45;&gt;7</title>\r\n",
       "<path fill=\"none\" stroke=\"black\" d=\"M301.062,-341.907C306.93,-333.105 313.198,-323.703 319.259,-314.612\"/>\r\n",
       "<polygon fill=\"black\" stroke=\"black\" points=\"322.351,-316.283 324.986,-306.021 316.527,-312.4 322.351,-316.283\"/>\r\n",
       "</g>\r\n",
       "<!-- 3 -->\r\n",
       "<g id=\"node4\" class=\"node\"><title>3</title>\r\n",
       "<polygon fill=\"#ffffff\" stroke=\"black\" points=\"138,-187 10,-187 10,-104 138,-104 138,-187\"/>\r\n",
       "<text text-anchor=\"middle\" x=\"74\" y=\"-171.8\" font-family=\"Times New Roman,serif\" font-size=\"14.00\">Wind_Weak &lt;= 0.5</text>\r\n",
       "<text text-anchor=\"middle\" x=\"74\" y=\"-156.8\" font-family=\"Times New Roman,serif\" font-size=\"14.00\">entropy = 1.0</text>\r\n",
       "<text text-anchor=\"middle\" x=\"74\" y=\"-141.8\" font-family=\"Times New Roman,serif\" font-size=\"14.00\">samples = 2</text>\r\n",
       "<text text-anchor=\"middle\" x=\"74\" y=\"-126.8\" font-family=\"Times New Roman,serif\" font-size=\"14.00\">value = [1, 1]</text>\r\n",
       "<text text-anchor=\"middle\" x=\"74\" y=\"-111.8\" font-family=\"Times New Roman,serif\" font-size=\"14.00\">class = No</text>\r\n",
       "</g>\r\n",
       "<!-- 2&#45;&gt;3 -->\r\n",
       "<g id=\"edge3\" class=\"edge\"><title>2&#45;&gt;3</title>\r\n",
       "<path fill=\"none\" stroke=\"black\" d=\"M154.326,-222.907C144.499,-213.56 133.963,-203.538 123.861,-193.929\"/>\r\n",
       "<polygon fill=\"black\" stroke=\"black\" points=\"126.257,-191.377 116.599,-187.021 121.432,-196.449 126.257,-191.377\"/>\r\n",
       "</g>\r\n",
       "<!-- 6 -->\r\n",
       "<g id=\"node7\" class=\"node\"><title>6</title>\r\n",
       "<polygon fill=\"#e58139\" stroke=\"black\" points=\"248,-179.5 156,-179.5 156,-111.5 248,-111.5 248,-179.5\"/>\r\n",
       "<text text-anchor=\"middle\" x=\"202\" y=\"-164.3\" font-family=\"Times New Roman,serif\" font-size=\"14.00\">entropy = 0.0</text>\r\n",
       "<text text-anchor=\"middle\" x=\"202\" y=\"-149.3\" font-family=\"Times New Roman,serif\" font-size=\"14.00\">samples = 3</text>\r\n",
       "<text text-anchor=\"middle\" x=\"202\" y=\"-134.3\" font-family=\"Times New Roman,serif\" font-size=\"14.00\">value = [3, 0]</text>\r\n",
       "<text text-anchor=\"middle\" x=\"202\" y=\"-119.3\" font-family=\"Times New Roman,serif\" font-size=\"14.00\">class = No</text>\r\n",
       "</g>\r\n",
       "<!-- 2&#45;&gt;6 -->\r\n",
       "<g id=\"edge6\" class=\"edge\"><title>2&#45;&gt;6</title>\r\n",
       "<path fill=\"none\" stroke=\"black\" d=\"M198.735,-222.907C199.192,-212.204 199.687,-200.615 200.151,-189.776\"/>\r\n",
       "<polygon fill=\"black\" stroke=\"black\" points=\"203.652,-189.807 200.583,-179.667 196.659,-189.508 203.652,-189.807\"/>\r\n",
       "</g>\r\n",
       "<!-- 4 -->\r\n",
       "<g id=\"node5\" class=\"node\"><title>4</title>\r\n",
       "<polygon fill=\"#e58139\" stroke=\"black\" points=\"92,-68 0,-68 0,-0 92,-0 92,-68\"/>\r\n",
       "<text text-anchor=\"middle\" x=\"46\" y=\"-52.8\" font-family=\"Times New Roman,serif\" font-size=\"14.00\">entropy = 0.0</text>\r\n",
       "<text text-anchor=\"middle\" x=\"46\" y=\"-37.8\" font-family=\"Times New Roman,serif\" font-size=\"14.00\">samples = 1</text>\r\n",
       "<text text-anchor=\"middle\" x=\"46\" y=\"-22.8\" font-family=\"Times New Roman,serif\" font-size=\"14.00\">value = [1, 0]</text>\r\n",
       "<text text-anchor=\"middle\" x=\"46\" y=\"-7.8\" font-family=\"Times New Roman,serif\" font-size=\"14.00\">class = No</text>\r\n",
       "</g>\r\n",
       "<!-- 3&#45;&gt;4 -->\r\n",
       "<g id=\"edge4\" class=\"edge\"><title>3&#45;&gt;4</title>\r\n",
       "<path fill=\"none\" stroke=\"black\" d=\"M63.5738,-103.726C61.4282,-95.3351 59.1624,-86.4745 56.9973,-78.0072\"/>\r\n",
       "<polygon fill=\"black\" stroke=\"black\" points=\"60.3833,-77.1208 54.515,-68.2996 53.6015,-78.855 60.3833,-77.1208\"/>\r\n",
       "</g>\r\n",
       "<!-- 5 -->\r\n",
       "<g id=\"node6\" class=\"node\"><title>5</title>\r\n",
       "<polygon fill=\"#399de5\" stroke=\"black\" points=\"202,-68 110,-68 110,-0 202,-0 202,-68\"/>\r\n",
       "<text text-anchor=\"middle\" x=\"156\" y=\"-52.8\" font-family=\"Times New Roman,serif\" font-size=\"14.00\">entropy = 0.0</text>\r\n",
       "<text text-anchor=\"middle\" x=\"156\" y=\"-37.8\" font-family=\"Times New Roman,serif\" font-size=\"14.00\">samples = 1</text>\r\n",
       "<text text-anchor=\"middle\" x=\"156\" y=\"-22.8\" font-family=\"Times New Roman,serif\" font-size=\"14.00\">value = [0, 1]</text>\r\n",
       "<text text-anchor=\"middle\" x=\"156\" y=\"-7.8\" font-family=\"Times New Roman,serif\" font-size=\"14.00\">class = Yes</text>\r\n",
       "</g>\r\n",
       "<!-- 3&#45;&gt;5 -->\r\n",
       "<g id=\"edge5\" class=\"edge\"><title>3&#45;&gt;5</title>\r\n",
       "<path fill=\"none\" stroke=\"black\" d=\"M104.534,-103.726C111.227,-94.7878 118.32,-85.3168 125.03,-76.3558\"/>\r\n",
       "<polygon fill=\"black\" stroke=\"black\" points=\"127.871,-78.402 131.063,-68.2996 122.268,-74.206 127.871,-78.402\"/>\r\n",
       "</g>\r\n",
       "<!-- 8 -->\r\n",
       "<g id=\"node9\" class=\"node\"><title>8</title>\r\n",
       "<polygon fill=\"#ffffff\" stroke=\"black\" points=\"421,-187 275,-187 275,-104 421,-104 421,-187\"/>\r\n",
       "<text text-anchor=\"middle\" x=\"348\" y=\"-171.8\" font-family=\"Times New Roman,serif\" font-size=\"14.00\">Outlook_Sunny &lt;= 0.5</text>\r\n",
       "<text text-anchor=\"middle\" x=\"348\" y=\"-156.8\" font-family=\"Times New Roman,serif\" font-size=\"14.00\">entropy = 1.0</text>\r\n",
       "<text text-anchor=\"middle\" x=\"348\" y=\"-141.8\" font-family=\"Times New Roman,serif\" font-size=\"14.00\">samples = 2</text>\r\n",
       "<text text-anchor=\"middle\" x=\"348\" y=\"-126.8\" font-family=\"Times New Roman,serif\" font-size=\"14.00\">value = [1, 1]</text>\r\n",
       "<text text-anchor=\"middle\" x=\"348\" y=\"-111.8\" font-family=\"Times New Roman,serif\" font-size=\"14.00\">class = No</text>\r\n",
       "</g>\r\n",
       "<!-- 7&#45;&gt;8 -->\r\n",
       "<g id=\"edge8\" class=\"edge\"><title>7&#45;&gt;8</title>\r\n",
       "<path fill=\"none\" stroke=\"black\" d=\"M350.612,-222.907C350.327,-214.558 350.023,-205.671 349.727,-197.02\"/>\r\n",
       "<polygon fill=\"black\" stroke=\"black\" points=\"353.225,-196.895 349.385,-187.021 346.229,-197.135 353.225,-196.895\"/>\r\n",
       "</g>\r\n",
       "<!-- 11 -->\r\n",
       "<g id=\"node12\" class=\"node\"><title>11</title>\r\n",
       "<polygon fill=\"#399de5\" stroke=\"black\" points=\"531,-179.5 439,-179.5 439,-111.5 531,-111.5 531,-179.5\"/>\r\n",
       "<text text-anchor=\"middle\" x=\"485\" y=\"-164.3\" font-family=\"Times New Roman,serif\" font-size=\"14.00\">entropy = 0.0</text>\r\n",
       "<text text-anchor=\"middle\" x=\"485\" y=\"-149.3\" font-family=\"Times New Roman,serif\" font-size=\"14.00\">samples = 3</text>\r\n",
       "<text text-anchor=\"middle\" x=\"485\" y=\"-134.3\" font-family=\"Times New Roman,serif\" font-size=\"14.00\">value = [0, 3]</text>\r\n",
       "<text text-anchor=\"middle\" x=\"485\" y=\"-119.3\" font-family=\"Times New Roman,serif\" font-size=\"14.00\">class = Yes</text>\r\n",
       "</g>\r\n",
       "<!-- 7&#45;&gt;11 -->\r\n",
       "<g id=\"edge11\" class=\"edge\"><title>7&#45;&gt;11</title>\r\n",
       "<path fill=\"none\" stroke=\"black\" d=\"M398.144,-222.907C411.565,-211.101 426.211,-198.217 439.587,-186.45\"/>\r\n",
       "<polygon fill=\"black\" stroke=\"black\" points=\"442.101,-188.9 447.297,-179.667 437.477,-183.644 442.101,-188.9\"/>\r\n",
       "</g>\r\n",
       "<!-- 9 -->\r\n",
       "<g id=\"node10\" class=\"node\"><title>9</title>\r\n",
       "<polygon fill=\"#e58139\" stroke=\"black\" points=\"353,-68 261,-68 261,-0 353,-0 353,-68\"/>\r\n",
       "<text text-anchor=\"middle\" x=\"307\" y=\"-52.8\" font-family=\"Times New Roman,serif\" font-size=\"14.00\">entropy = 0.0</text>\r\n",
       "<text text-anchor=\"middle\" x=\"307\" y=\"-37.8\" font-family=\"Times New Roman,serif\" font-size=\"14.00\">samples = 1</text>\r\n",
       "<text text-anchor=\"middle\" x=\"307\" y=\"-22.8\" font-family=\"Times New Roman,serif\" font-size=\"14.00\">value = [1, 0]</text>\r\n",
       "<text text-anchor=\"middle\" x=\"307\" y=\"-7.8\" font-family=\"Times New Roman,serif\" font-size=\"14.00\">class = No</text>\r\n",
       "</g>\r\n",
       "<!-- 8&#45;&gt;9 -->\r\n",
       "<g id=\"edge9\" class=\"edge\"><title>8&#45;&gt;9</title>\r\n",
       "<path fill=\"none\" stroke=\"black\" d=\"M332.733,-103.726C329.557,-95.2439 326.201,-86.2819 323,-77.7312\"/>\r\n",
       "<polygon fill=\"black\" stroke=\"black\" points=\"326.253,-76.4373 319.468,-68.2996 319.697,-78.892 326.253,-76.4373\"/>\r\n",
       "</g>\r\n",
       "<!-- 10 -->\r\n",
       "<g id=\"node11\" class=\"node\"><title>10</title>\r\n",
       "<polygon fill=\"#399de5\" stroke=\"black\" points=\"463,-68 371,-68 371,-0 463,-0 463,-68\"/>\r\n",
       "<text text-anchor=\"middle\" x=\"417\" y=\"-52.8\" font-family=\"Times New Roman,serif\" font-size=\"14.00\">entropy = 0.0</text>\r\n",
       "<text text-anchor=\"middle\" x=\"417\" y=\"-37.8\" font-family=\"Times New Roman,serif\" font-size=\"14.00\">samples = 1</text>\r\n",
       "<text text-anchor=\"middle\" x=\"417\" y=\"-22.8\" font-family=\"Times New Roman,serif\" font-size=\"14.00\">value = [0, 1]</text>\r\n",
       "<text text-anchor=\"middle\" x=\"417\" y=\"-7.8\" font-family=\"Times New Roman,serif\" font-size=\"14.00\">class = Yes</text>\r\n",
       "</g>\r\n",
       "<!-- 8&#45;&gt;10 -->\r\n",
       "<g id=\"edge10\" class=\"edge\"><title>8&#45;&gt;10</title>\r\n",
       "<path fill=\"none\" stroke=\"black\" d=\"M373.693,-103.726C379.211,-94.9703 385.05,-85.7032 390.594,-76.9051\"/>\r\n",
       "<polygon fill=\"black\" stroke=\"black\" points=\"393.647,-78.6259 396.017,-68.2996 387.724,-74.8941 393.647,-78.6259\"/>\r\n",
       "</g>\r\n",
       "</g>\r\n",
       "</svg>\r\n"
      ],
      "text/plain": [
       "<graphviz.files.Source at 0x23ea5fff2b0>"
      ]
     },
     "execution_count": 255,
     "metadata": {},
     "output_type": "execute_result"
    }
   ],
   "source": [
    "dt = DecisionTreeClassifier(criterion=\"entropy\")\n",
    "dt.fit(oh_df, tennis[y_col])\n",
    "grp = tree.export_graphviz(dt, out_file = None, feature_names=oh_df.columns,  \n",
    "                   class_names=tennis[y_col].unique(),\n",
    "                   filled=True)\n",
    "graphviz.Source(grp, format = \"png\")"
   ]
  },
  {
   "cell_type": "code",
   "execution_count": 256,
   "metadata": {},
   "outputs": [
    {
     "data": {
      "image/svg+xml": [
       "<?xml version=\"1.0\" encoding=\"UTF-8\" standalone=\"no\"?>\r\n",
       "<!DOCTYPE svg PUBLIC \"-//W3C//DTD SVG 1.1//EN\"\r\n",
       " \"http://www.w3.org/Graphics/SVG/1.1/DTD/svg11.dtd\">\r\n",
       "<!-- Generated by graphviz version 2.38.0 (20140413.2041)\r\n",
       " -->\r\n",
       "<!-- Title: Tree Pages: 1 -->\r\n",
       "<svg width=\"543pt\" height=\"552pt\"\r\n",
       " viewBox=\"0.00 0.00 543.00 552.00\" xmlns=\"http://www.w3.org/2000/svg\" xmlns:xlink=\"http://www.w3.org/1999/xlink\">\r\n",
       "<g id=\"graph0\" class=\"graph\" transform=\"scale(1 1) rotate(0) translate(4 548)\">\r\n",
       "<title>Tree</title>\r\n",
       "<polygon fill=\"white\" stroke=\"none\" points=\"-4,4 -4,-548 539,-548 539,4 -4,4\"/>\r\n",
       "<!-- 0 -->\r\n",
       "<g id=\"node1\" class=\"node\"><title>0</title>\r\n",
       "<polygon fill=\"#a7d3f3\" stroke=\"black\" points=\"411,-544 250,-544 250,-461 411,-461 411,-544\"/>\r\n",
       "<text text-anchor=\"middle\" x=\"330.5\" y=\"-528.8\" font-family=\"Times New Roman,serif\" font-size=\"14.00\">Outlook_Overcast &lt;= 0.5</text>\r\n",
       "<text text-anchor=\"middle\" x=\"330.5\" y=\"-513.8\" font-family=\"Times New Roman,serif\" font-size=\"14.00\">gini = 0.459</text>\r\n",
       "<text text-anchor=\"middle\" x=\"330.5\" y=\"-498.8\" font-family=\"Times New Roman,serif\" font-size=\"14.00\">samples = 14</text>\r\n",
       "<text text-anchor=\"middle\" x=\"330.5\" y=\"-483.8\" font-family=\"Times New Roman,serif\" font-size=\"14.00\">value = [5, 9]</text>\r\n",
       "<text text-anchor=\"middle\" x=\"330.5\" y=\"-468.8\" font-family=\"Times New Roman,serif\" font-size=\"14.00\">class = Yes</text>\r\n",
       "</g>\r\n",
       "<!-- 1 -->\r\n",
       "<g id=\"node2\" class=\"node\"><title>1</title>\r\n",
       "<polygon fill=\"#ffffff\" stroke=\"black\" points=\"338.5,-425 180.5,-425 180.5,-342 338.5,-342 338.5,-425\"/>\r\n",
       "<text text-anchor=\"middle\" x=\"259.5\" y=\"-409.8\" font-family=\"Times New Roman,serif\" font-size=\"14.00\">Humidity_Normal &lt;= 0.5</text>\r\n",
       "<text text-anchor=\"middle\" x=\"259.5\" y=\"-394.8\" font-family=\"Times New Roman,serif\" font-size=\"14.00\">gini = 0.5</text>\r\n",
       "<text text-anchor=\"middle\" x=\"259.5\" y=\"-379.8\" font-family=\"Times New Roman,serif\" font-size=\"14.00\">samples = 10</text>\r\n",
       "<text text-anchor=\"middle\" x=\"259.5\" y=\"-364.8\" font-family=\"Times New Roman,serif\" font-size=\"14.00\">value = [5, 5]</text>\r\n",
       "<text text-anchor=\"middle\" x=\"259.5\" y=\"-349.8\" font-family=\"Times New Roman,serif\" font-size=\"14.00\">class = No</text>\r\n",
       "</g>\r\n",
       "<!-- 0&#45;&gt;1 -->\r\n",
       "<g id=\"edge1\" class=\"edge\"><title>0&#45;&gt;1</title>\r\n",
       "<path fill=\"none\" stroke=\"black\" d=\"M305.867,-460.907C300.525,-452.105 294.82,-442.703 289.303,-433.612\"/>\r\n",
       "<polygon fill=\"black\" stroke=\"black\" points=\"292.27,-431.754 284.09,-425.021 286.285,-435.386 292.27,-431.754\"/>\r\n",
       "<text text-anchor=\"middle\" x=\"278.148\" y=\"-445.604\" font-family=\"Times New Roman,serif\" font-size=\"14.00\">True</text>\r\n",
       "</g>\r\n",
       "<!-- 12 -->\r\n",
       "<g id=\"node13\" class=\"node\"><title>12</title>\r\n",
       "<polygon fill=\"#399de5\" stroke=\"black\" points=\"448,-417.5 357,-417.5 357,-349.5 448,-349.5 448,-417.5\"/>\r\n",
       "<text text-anchor=\"middle\" x=\"402.5\" y=\"-402.3\" font-family=\"Times New Roman,serif\" font-size=\"14.00\">gini = 0.0</text>\r\n",
       "<text text-anchor=\"middle\" x=\"402.5\" y=\"-387.3\" font-family=\"Times New Roman,serif\" font-size=\"14.00\">samples = 4</text>\r\n",
       "<text text-anchor=\"middle\" x=\"402.5\" y=\"-372.3\" font-family=\"Times New Roman,serif\" font-size=\"14.00\">value = [0, 4]</text>\r\n",
       "<text text-anchor=\"middle\" x=\"402.5\" y=\"-357.3\" font-family=\"Times New Roman,serif\" font-size=\"14.00\">class = Yes</text>\r\n",
       "</g>\r\n",
       "<!-- 0&#45;&gt;12 -->\r\n",
       "<g id=\"edge12\" class=\"edge\"><title>0&#45;&gt;12</title>\r\n",
       "<path fill=\"none\" stroke=\"black\" d=\"M355.48,-460.907C362.338,-449.763 369.787,-437.658 376.691,-426.439\"/>\r\n",
       "<polygon fill=\"black\" stroke=\"black\" points=\"379.829,-428.018 382.09,-417.667 373.868,-424.349 379.829,-428.018\"/>\r\n",
       "<text text-anchor=\"middle\" x=\"387.88\" y=\"-438.287\" font-family=\"Times New Roman,serif\" font-size=\"14.00\">False</text>\r\n",
       "</g>\r\n",
       "<!-- 2 -->\r\n",
       "<g id=\"node3\" class=\"node\"><title>2</title>\r\n",
       "<polygon fill=\"#eca06a\" stroke=\"black\" points=\"245,-306 108,-306 108,-223 245,-223 245,-306\"/>\r\n",
       "<text text-anchor=\"middle\" x=\"176.5\" y=\"-290.8\" font-family=\"Times New Roman,serif\" font-size=\"14.00\">Outlook_Rain &lt;= 0.5</text>\r\n",
       "<text text-anchor=\"middle\" x=\"176.5\" y=\"-275.8\" font-family=\"Times New Roman,serif\" font-size=\"14.00\">gini = 0.32</text>\r\n",
       "<text text-anchor=\"middle\" x=\"176.5\" y=\"-260.8\" font-family=\"Times New Roman,serif\" font-size=\"14.00\">samples = 5</text>\r\n",
       "<text text-anchor=\"middle\" x=\"176.5\" y=\"-245.8\" font-family=\"Times New Roman,serif\" font-size=\"14.00\">value = [4, 1]</text>\r\n",
       "<text text-anchor=\"middle\" x=\"176.5\" y=\"-230.8\" font-family=\"Times New Roman,serif\" font-size=\"14.00\">class = No</text>\r\n",
       "</g>\r\n",
       "<!-- 1&#45;&gt;2 -->\r\n",
       "<g id=\"edge2\" class=\"edge\"><title>1&#45;&gt;2</title>\r\n",
       "<path fill=\"none\" stroke=\"black\" d=\"M230.704,-341.907C224.394,-333.014 217.652,-323.509 211.141,-314.331\"/>\r\n",
       "<polygon fill=\"black\" stroke=\"black\" points=\"213.886,-312.152 205.246,-306.021 208.177,-316.202 213.886,-312.152\"/>\r\n",
       "</g>\r\n",
       "<!-- 7 -->\r\n",
       "<g id=\"node8\" class=\"node\"><title>7</title>\r\n",
       "<polygon fill=\"#6ab6ec\" stroke=\"black\" points=\"407.5,-306 279.5,-306 279.5,-223 407.5,-223 407.5,-306\"/>\r\n",
       "<text text-anchor=\"middle\" x=\"343.5\" y=\"-290.8\" font-family=\"Times New Roman,serif\" font-size=\"14.00\">Wind_Weak &lt;= 0.5</text>\r\n",
       "<text text-anchor=\"middle\" x=\"343.5\" y=\"-275.8\" font-family=\"Times New Roman,serif\" font-size=\"14.00\">gini = 0.32</text>\r\n",
       "<text text-anchor=\"middle\" x=\"343.5\" y=\"-260.8\" font-family=\"Times New Roman,serif\" font-size=\"14.00\">samples = 5</text>\r\n",
       "<text text-anchor=\"middle\" x=\"343.5\" y=\"-245.8\" font-family=\"Times New Roman,serif\" font-size=\"14.00\">value = [1, 4]</text>\r\n",
       "<text text-anchor=\"middle\" x=\"343.5\" y=\"-230.8\" font-family=\"Times New Roman,serif\" font-size=\"14.00\">class = Yes</text>\r\n",
       "</g>\r\n",
       "<!-- 1&#45;&gt;7 -->\r\n",
       "<g id=\"edge7\" class=\"edge\"><title>1&#45;&gt;7</title>\r\n",
       "<path fill=\"none\" stroke=\"black\" d=\"M288.643,-341.907C295.029,-333.014 301.852,-323.509 308.442,-314.331\"/>\r\n",
       "<polygon fill=\"black\" stroke=\"black\" points=\"311.419,-316.185 314.408,-306.021 305.733,-312.103 311.419,-316.185\"/>\r\n",
       "</g>\r\n",
       "<!-- 3 -->\r\n",
       "<g id=\"node4\" class=\"node\"><title>3</title>\r\n",
       "<polygon fill=\"#e58139\" stroke=\"black\" points=\"91,-179.5 0,-179.5 0,-111.5 91,-111.5 91,-179.5\"/>\r\n",
       "<text text-anchor=\"middle\" x=\"45.5\" y=\"-164.3\" font-family=\"Times New Roman,serif\" font-size=\"14.00\">gini = 0.0</text>\r\n",
       "<text text-anchor=\"middle\" x=\"45.5\" y=\"-149.3\" font-family=\"Times New Roman,serif\" font-size=\"14.00\">samples = 3</text>\r\n",
       "<text text-anchor=\"middle\" x=\"45.5\" y=\"-134.3\" font-family=\"Times New Roman,serif\" font-size=\"14.00\">value = [3, 0]</text>\r\n",
       "<text text-anchor=\"middle\" x=\"45.5\" y=\"-119.3\" font-family=\"Times New Roman,serif\" font-size=\"14.00\">class = No</text>\r\n",
       "</g>\r\n",
       "<!-- 2&#45;&gt;3 -->\r\n",
       "<g id=\"edge3\" class=\"edge\"><title>2&#45;&gt;3</title>\r\n",
       "<path fill=\"none\" stroke=\"black\" d=\"M131.05,-222.907C117.83,-211.101 103.405,-198.217 90.2298,-186.45\"/>\r\n",
       "<polygon fill=\"black\" stroke=\"black\" points=\"92.4255,-183.718 82.6356,-179.667 87.7626,-188.939 92.4255,-183.718\"/>\r\n",
       "</g>\r\n",
       "<!-- 4 -->\r\n",
       "<g id=\"node5\" class=\"node\"><title>4</title>\r\n",
       "<polygon fill=\"#ffffff\" stroke=\"black\" points=\"243.5,-187 109.5,-187 109.5,-104 243.5,-104 243.5,-187\"/>\r\n",
       "<text text-anchor=\"middle\" x=\"176.5\" y=\"-171.8\" font-family=\"Times New Roman,serif\" font-size=\"14.00\">Wind_Strong &lt;= 0.5</text>\r\n",
       "<text text-anchor=\"middle\" x=\"176.5\" y=\"-156.8\" font-family=\"Times New Roman,serif\" font-size=\"14.00\">gini = 0.5</text>\r\n",
       "<text text-anchor=\"middle\" x=\"176.5\" y=\"-141.8\" font-family=\"Times New Roman,serif\" font-size=\"14.00\">samples = 2</text>\r\n",
       "<text text-anchor=\"middle\" x=\"176.5\" y=\"-126.8\" font-family=\"Times New Roman,serif\" font-size=\"14.00\">value = [1, 1]</text>\r\n",
       "<text text-anchor=\"middle\" x=\"176.5\" y=\"-111.8\" font-family=\"Times New Roman,serif\" font-size=\"14.00\">class = No</text>\r\n",
       "</g>\r\n",
       "<!-- 2&#45;&gt;4 -->\r\n",
       "<g id=\"edge4\" class=\"edge\"><title>2&#45;&gt;4</title>\r\n",
       "<path fill=\"none\" stroke=\"black\" d=\"M176.5,-222.907C176.5,-214.649 176.5,-205.864 176.5,-197.302\"/>\r\n",
       "<polygon fill=\"black\" stroke=\"black\" points=\"180,-197.021 176.5,-187.021 173,-197.021 180,-197.021\"/>\r\n",
       "</g>\r\n",
       "<!-- 5 -->\r\n",
       "<g id=\"node6\" class=\"node\"><title>5</title>\r\n",
       "<polygon fill=\"#399de5\" stroke=\"black\" points=\"127,-68 36,-68 36,-0 127,-0 127,-68\"/>\r\n",
       "<text text-anchor=\"middle\" x=\"81.5\" y=\"-52.8\" font-family=\"Times New Roman,serif\" font-size=\"14.00\">gini = 0.0</text>\r\n",
       "<text text-anchor=\"middle\" x=\"81.5\" y=\"-37.8\" font-family=\"Times New Roman,serif\" font-size=\"14.00\">samples = 1</text>\r\n",
       "<text text-anchor=\"middle\" x=\"81.5\" y=\"-22.8\" font-family=\"Times New Roman,serif\" font-size=\"14.00\">value = [0, 1]</text>\r\n",
       "<text text-anchor=\"middle\" x=\"81.5\" y=\"-7.8\" font-family=\"Times New Roman,serif\" font-size=\"14.00\">class = Yes</text>\r\n",
       "</g>\r\n",
       "<!-- 4&#45;&gt;5 -->\r\n",
       "<g id=\"edge5\" class=\"edge\"><title>4&#45;&gt;5</title>\r\n",
       "<path fill=\"none\" stroke=\"black\" d=\"M141.126,-103.726C133.292,-94.6966 124.986,-85.1235 117.142,-76.0816\"/>\r\n",
       "<polygon fill=\"black\" stroke=\"black\" points=\"119.587,-73.5595 110.39,-68.2996 114.3,-78.1467 119.587,-73.5595\"/>\r\n",
       "</g>\r\n",
       "<!-- 6 -->\r\n",
       "<g id=\"node7\" class=\"node\"><title>6</title>\r\n",
       "<polygon fill=\"#e58139\" stroke=\"black\" points=\"236,-68 145,-68 145,-0 236,-0 236,-68\"/>\r\n",
       "<text text-anchor=\"middle\" x=\"190.5\" y=\"-52.8\" font-family=\"Times New Roman,serif\" font-size=\"14.00\">gini = 0.0</text>\r\n",
       "<text text-anchor=\"middle\" x=\"190.5\" y=\"-37.8\" font-family=\"Times New Roman,serif\" font-size=\"14.00\">samples = 1</text>\r\n",
       "<text text-anchor=\"middle\" x=\"190.5\" y=\"-22.8\" font-family=\"Times New Roman,serif\" font-size=\"14.00\">value = [1, 0]</text>\r\n",
       "<text text-anchor=\"middle\" x=\"190.5\" y=\"-7.8\" font-family=\"Times New Roman,serif\" font-size=\"14.00\">class = No</text>\r\n",
       "</g>\r\n",
       "<!-- 4&#45;&gt;6 -->\r\n",
       "<g id=\"edge6\" class=\"edge\"><title>4&#45;&gt;6</title>\r\n",
       "<path fill=\"none\" stroke=\"black\" d=\"M181.713,-103.726C182.774,-95.4263 183.894,-86.6671 184.966,-78.2834\"/>\r\n",
       "<polygon fill=\"black\" stroke=\"black\" points=\"188.446,-78.6628 186.243,-68.2996 181.502,-77.7749 188.446,-78.6628\"/>\r\n",
       "</g>\r\n",
       "<!-- 8 -->\r\n",
       "<g id=\"node9\" class=\"node\"><title>8</title>\r\n",
       "<polygon fill=\"#ffffff\" stroke=\"black\" points=\"425.5,-187 261.5,-187 261.5,-104 425.5,-104 425.5,-187\"/>\r\n",
       "<text text-anchor=\"middle\" x=\"343.5\" y=\"-171.8\" font-family=\"Times New Roman,serif\" font-size=\"14.00\">Temperature_Cool &lt;= 0.5</text>\r\n",
       "<text text-anchor=\"middle\" x=\"343.5\" y=\"-156.8\" font-family=\"Times New Roman,serif\" font-size=\"14.00\">gini = 0.5</text>\r\n",
       "<text text-anchor=\"middle\" x=\"343.5\" y=\"-141.8\" font-family=\"Times New Roman,serif\" font-size=\"14.00\">samples = 2</text>\r\n",
       "<text text-anchor=\"middle\" x=\"343.5\" y=\"-126.8\" font-family=\"Times New Roman,serif\" font-size=\"14.00\">value = [1, 1]</text>\r\n",
       "<text text-anchor=\"middle\" x=\"343.5\" y=\"-111.8\" font-family=\"Times New Roman,serif\" font-size=\"14.00\">class = No</text>\r\n",
       "</g>\r\n",
       "<!-- 7&#45;&gt;8 -->\r\n",
       "<g id=\"edge8\" class=\"edge\"><title>7&#45;&gt;8</title>\r\n",
       "<path fill=\"none\" stroke=\"black\" d=\"M343.5,-222.907C343.5,-214.649 343.5,-205.864 343.5,-197.302\"/>\r\n",
       "<polygon fill=\"black\" stroke=\"black\" points=\"347,-197.021 343.5,-187.021 340,-197.021 347,-197.021\"/>\r\n",
       "</g>\r\n",
       "<!-- 11 -->\r\n",
       "<g id=\"node12\" class=\"node\"><title>11</title>\r\n",
       "<polygon fill=\"#399de5\" stroke=\"black\" points=\"535,-179.5 444,-179.5 444,-111.5 535,-111.5 535,-179.5\"/>\r\n",
       "<text text-anchor=\"middle\" x=\"489.5\" y=\"-164.3\" font-family=\"Times New Roman,serif\" font-size=\"14.00\">gini = 0.0</text>\r\n",
       "<text text-anchor=\"middle\" x=\"489.5\" y=\"-149.3\" font-family=\"Times New Roman,serif\" font-size=\"14.00\">samples = 3</text>\r\n",
       "<text text-anchor=\"middle\" x=\"489.5\" y=\"-134.3\" font-family=\"Times New Roman,serif\" font-size=\"14.00\">value = [0, 3]</text>\r\n",
       "<text text-anchor=\"middle\" x=\"489.5\" y=\"-119.3\" font-family=\"Times New Roman,serif\" font-size=\"14.00\">class = Yes</text>\r\n",
       "</g>\r\n",
       "<!-- 7&#45;&gt;11 -->\r\n",
       "<g id=\"edge11\" class=\"edge\"><title>7&#45;&gt;11</title>\r\n",
       "<path fill=\"none\" stroke=\"black\" d=\"M394.154,-222.907C409.025,-210.99 425.265,-197.976 440.06,-186.12\"/>\r\n",
       "<polygon fill=\"black\" stroke=\"black\" points=\"442.497,-188.652 448.112,-179.667 438.12,-183.189 442.497,-188.652\"/>\r\n",
       "</g>\r\n",
       "<!-- 9 -->\r\n",
       "<g id=\"node10\" class=\"node\"><title>9</title>\r\n",
       "<polygon fill=\"#399de5\" stroke=\"black\" points=\"374,-68 283,-68 283,-0 374,-0 374,-68\"/>\r\n",
       "<text text-anchor=\"middle\" x=\"328.5\" y=\"-52.8\" font-family=\"Times New Roman,serif\" font-size=\"14.00\">gini = 0.0</text>\r\n",
       "<text text-anchor=\"middle\" x=\"328.5\" y=\"-37.8\" font-family=\"Times New Roman,serif\" font-size=\"14.00\">samples = 1</text>\r\n",
       "<text text-anchor=\"middle\" x=\"328.5\" y=\"-22.8\" font-family=\"Times New Roman,serif\" font-size=\"14.00\">value = [0, 1]</text>\r\n",
       "<text text-anchor=\"middle\" x=\"328.5\" y=\"-7.8\" font-family=\"Times New Roman,serif\" font-size=\"14.00\">class = Yes</text>\r\n",
       "</g>\r\n",
       "<!-- 8&#45;&gt;9 -->\r\n",
       "<g id=\"edge9\" class=\"edge\"><title>8&#45;&gt;9</title>\r\n",
       "<path fill=\"none\" stroke=\"black\" d=\"M337.915,-103.726C336.778,-95.4263 335.578,-86.6671 334.429,-78.2834\"/>\r\n",
       "<polygon fill=\"black\" stroke=\"black\" points=\"337.886,-77.732 333.062,-68.2996 330.951,-78.6821 337.886,-77.732\"/>\r\n",
       "</g>\r\n",
       "<!-- 10 -->\r\n",
       "<g id=\"node11\" class=\"node\"><title>10</title>\r\n",
       "<polygon fill=\"#e58139\" stroke=\"black\" points=\"483,-68 392,-68 392,-0 483,-0 483,-68\"/>\r\n",
       "<text text-anchor=\"middle\" x=\"437.5\" y=\"-52.8\" font-family=\"Times New Roman,serif\" font-size=\"14.00\">gini = 0.0</text>\r\n",
       "<text text-anchor=\"middle\" x=\"437.5\" y=\"-37.8\" font-family=\"Times New Roman,serif\" font-size=\"14.00\">samples = 1</text>\r\n",
       "<text text-anchor=\"middle\" x=\"437.5\" y=\"-22.8\" font-family=\"Times New Roman,serif\" font-size=\"14.00\">value = [1, 0]</text>\r\n",
       "<text text-anchor=\"middle\" x=\"437.5\" y=\"-7.8\" font-family=\"Times New Roman,serif\" font-size=\"14.00\">class = No</text>\r\n",
       "</g>\r\n",
       "<!-- 8&#45;&gt;10 -->\r\n",
       "<g id=\"edge10\" class=\"edge\"><title>8&#45;&gt;10</title>\r\n",
       "<path fill=\"none\" stroke=\"black\" d=\"M378.502,-103.726C386.254,-94.6966 394.472,-85.1235 402.234,-76.0816\"/>\r\n",
       "<polygon fill=\"black\" stroke=\"black\" points=\"405.056,-78.1671 408.914,-68.2996 399.745,-73.6075 405.056,-78.1671\"/>\r\n",
       "</g>\r\n",
       "</g>\r\n",
       "</svg>\r\n"
      ],
      "text/plain": [
       "<graphviz.files.Source at 0x23ea5fe0c88>"
      ]
     },
     "execution_count": 256,
     "metadata": {},
     "output_type": "execute_result"
    }
   ],
   "source": [
    "dt = DecisionTreeClassifier(criterion=\"gini\")\n",
    "dt.fit(oh_df, tennis[y_col])\n",
    "grp = tree.export_graphviz(dt, out_file = None, feature_names=oh_df.columns,  \n",
    "                   class_names=tennis[y_col].unique(),\n",
    "                   filled=True)\n",
    "graphviz.Source(grp, format = \"png\")"
   ]
  },
  {
   "cell_type": "code",
   "execution_count": 257,
   "metadata": {},
   "outputs": [
    {
     "data": {
      "text/plain": [
       "{'Outlook': ['Sunny', 'Overcast', 'Rain'],\n",
       " 'Temperature': ['Hot', 'Mild', 'Cool'],\n",
       " 'Humidity': ['High', 'Normal'],\n",
       " 'Wind': ['Weak', 'Strong']}"
      ]
     },
     "execution_count": 257,
     "metadata": {},
     "output_type": "execute_result"
    }
   ],
   "source": [
    "get_gini_dict(tennis)"
   ]
  },
  {
   "cell_type": "markdown",
   "metadata": {},
   "source": [
    "<br>\n",
    "<br>\n",
    "\n",
    "---\n",
    "<br>\n",
    "\n",
    "참고 자료 : [https://m.blog.naver.com/PostView.naver?isHttpsRedirect=true&blogId=ehdrndd&logNo=221158124011](https://m.blog.naver.com/PostView.naver?isHttpsRedirect=true&blogId=ehdrndd&logNo=221158124011)"
   ]
  }
 ],
 "metadata": {
  "kernelspec": {
   "display_name": "Python 3",
   "language": "python",
   "name": "python3"
  },
  "language_info": {
   "codemirror_mode": {
    "name": "ipython",
    "version": 3
   },
   "file_extension": ".py",
   "mimetype": "text/x-python",
   "name": "python",
   "nbconvert_exporter": "python",
   "pygments_lexer": "ipython3",
   "version": "3.7.3"
  }
 },
 "nbformat": 4,
 "nbformat_minor": 4
}
