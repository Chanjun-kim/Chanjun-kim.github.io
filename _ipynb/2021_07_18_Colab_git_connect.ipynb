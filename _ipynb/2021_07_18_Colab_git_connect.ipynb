{
  "nbformat": 4,
  "nbformat_minor": 0,
  "metadata": {
    "colab": {
      "name": "2021-07-18-Colab_git_connect.ipynb",
      "provenance": [],
      "collapsed_sections": [],
      "mount_file_id": "1rogasdOdxxhJwgWL_hwspdEqy-hxeIy7",
      "authorship_tag": "ABX9TyMEAJzF7jqAxh53jPJegzi5",
      "include_colab_link": true
    },
    "kernelspec": {
      "name": "python3",
      "display_name": "Python 3"
    },
    "language_info": {
      "name": "python"
    },
    "accelerator": "GPU"
  },
  "cells": [
    {
      "cell_type": "markdown",
      "metadata": {
        "id": "view-in-github",
        "colab_type": "text"
      },
      "source": [
        "<a href=\"https://colab.research.google.com/github/Chanjun-kim/Chanjun-kim.github.io/blob/main/_ipynb/2021_07_18_Colab_git_connect.ipynb\" target=\"_parent\"><img src=\"https://colab.research.google.com/assets/colab-badge.svg\" alt=\"Open In Colab\"/></a>"
      ]
    },
    {
      "cell_type": "code",
      "metadata": {
        "id": "IaqXhzOX8xvN"
      },
      "source": [
        "from google.colab import drive\n",
        "drive.mount(\"/content/drive\")\n",
        "%cd drive/MyDrive/\n",
        "!pwd"
      ],
      "execution_count": null,
      "outputs": []
    },
    {
      "cell_type": "code",
      "metadata": {
        "id": "sVhOTa3tDc4S"
      },
      "source": [
        "!git clone https://github.com/Chanjun-kim/Chanjun-kim.github.io.git"
      ],
      "execution_count": null,
      "outputs": []
    },
    {
      "cell_type": "code",
      "metadata": {
        "id": "hd1_ScmmFc1z"
      },
      "source": [
        "%cd Chanjun-kim.github.io"
      ],
      "execution_count": null,
      "outputs": []
    },
    {
      "cell_type": "code",
      "metadata": {
        "id": "X-In-bbp8BmC"
      },
      "source": [
        "!git init"
      ],
      "execution_count": null,
      "outputs": []
    },
    {
      "cell_type": "code",
      "metadata": {
        "id": "DFGHnR_mB2Ts"
      },
      "source": [
        "!git config --global user.email \"nice3803@gmail.com\"\n",
        "!git config --global user.name \"Chanjun-kim\""
      ],
      "execution_count": 5,
      "outputs": []
    },
    {
      "cell_type": "code",
      "metadata": {
        "id": "jOpRriTEE-AS"
      },
      "source": [
        "!git config --global init.defaultBranch main"
      ],
      "execution_count": 6,
      "outputs": []
    },
    {
      "cell_type": "code",
      "metadata": {
        "id": "s-5AIp0_FGPB"
      },
      "source": [
        "!git checkout -B main"
      ],
      "execution_count": null,
      "outputs": []
    },
    {
      "cell_type": "code",
      "metadata": {
        "id": "S6AA7sKJBWTG"
      },
      "source": [
        "!git status"
      ],
      "execution_count": null,
      "outputs": []
    },
    {
      "cell_type": "code",
      "metadata": {
        "id": "LdT9Ubn9BYSk"
      },
      "source": [
        "!git add ."
      ],
      "execution_count": null,
      "outputs": []
    },
    {
      "cell_type": "code",
      "metadata": {
        "id": "Xt7gmXzHBeym"
      },
      "source": [
        "!git commit -m \"commit test at the colab\""
      ],
      "execution_count": null,
      "outputs": []
    },
    {
      "cell_type": "code",
      "metadata": {
        "id": "bmdovG8GHqDp"
      },
      "source": [
        "!git push -u origin main"
      ],
      "execution_count": null,
      "outputs": []
    }
  ]
}