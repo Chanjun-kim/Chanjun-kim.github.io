{
 "cells": [
  {
   "cell_type": "markdown",
   "metadata": {
    "id": "ZCQ4MIS2mv4N"
   },
   "source": [
    "---\n",
    "layout: post\n",
    "title: \"데이터 분석가가 Python에서 한번씩 보지만 궁금하지 않았던 것들\"\n",
    "author: \"Chanjun Kim\"\n",
    "categories: Data분석\n",
    "tags: [Python, tip, ellipsis, underbar, Asterisk, decorator, magickey, jupyter, f string]\n",
    "image: 08_AutoEncoder.png\n",
    "---"
   ]
  },
  {
   "cell_type": "markdown",
   "metadata": {
    "id": "66ofBhh4mv4Q"
   },
   "source": [
    "## **학습목적**\n",
    "데이터 분석가로써 가끔 한번씩 혹은 미쳐 몰랐던 파이썬의 기능들의 몇가지를 소개하고, 이해해보도록 한다."
   ]
  },
  {
   "cell_type": "markdown",
   "metadata": {},
   "source": [
    "- **목차**\n",
    "    1. f string\n",
    "    2. decorator\n",
    "    3. underbar/under score\n",
    "    4. Asterisk    \n",
    "    5. jupyter magic key"
   ]
  },
  {
   "cell_type": "markdown",
   "metadata": {
    "id": "oGJTcUcZdOnt"
   },
   "source": [
    "---\n",
    "\n",
    "### **F string**\n",
    "\n",
    "- 분석을 하다보면 확인을 위해서 print한다던지, 혹은 query를 자동화한다던지 또는 어떤 데이터셋을 만들 때도 흔히 쓰이는 \"\".format을 많이 사용하게 됩니다. r에서는 paste나 sprintf를 사용하게 됩니다. 파이썬에서는 ~r보다 조금 자유롭고 편한하게(제 기준)~ 여러가지로 구현이 되어있습니다.\n",
    "<br>\n",
    "<br>\n",
    "<br>\n",
    "- 간단한 for문의 상태를 알 수 있는 print문과 sql문 등의 예시를 통해서 알아보도록 하겠습니다.\n"
   ]
  },
  {
   "cell_type": "markdown",
   "metadata": {},
   "source": [
    "---\n",
    "\n",
    "1. 가장 간단한 방식의 string + string 으로 표현합니다.\n",
    "    - string의 + 와 int, float의 + 의 연산이 다르기 때문에 숫자를 str()로 다시 감싸주어야 사용할 수 있습니다."
   ]
  },
  {
   "cell_type": "code",
   "execution_count": 2,
   "metadata": {},
   "outputs": [],
   "source": [
    "import os\n",
    "import sys"
   ]
  },
  {
   "cell_type": "code",
   "execution_count": 3,
   "metadata": {},
   "outputs": [
    {
     "name": "stdout",
     "output_type": "stream",
     "text": [
      "0번째 for문\n",
      "10번째 for문\n",
      "20번째 for문\n",
      "30번째 for문\n",
      "40번째 for문\n",
      "50번째 for문\n",
      "60번째 for문\n",
      "70번째 for문\n",
      "80번째 for문\n",
      "90번째 for문\n",
      "100번째 for문\n"
     ]
    }
   ],
   "source": [
    "for i in range(101) :\n",
    "    if i % 10 == 0 :\n",
    "        print(str(i) + \"번째 for문\")"
   ]
  },
  {
   "cell_type": "markdown",
   "metadata": {},
   "source": [
    "2. 조금 생소해보일 수도 있는 f string입니다. \n",
    "    - 간단한 작업을 할 때는 효율적이지만 복잡하거나 길어지면 가독성이나 코드가 간단하지는 않습니다."
   ]
  },
  {
   "cell_type": "code",
   "execution_count": 4,
   "metadata": {},
   "outputs": [
    {
     "name": "stdout",
     "output_type": "stream",
     "text": [
      "0번째 for문\n",
      "10번째 for문\n",
      "20번째 for문\n",
      "30번째 for문\n",
      "40번째 for문\n",
      "50번째 for문\n",
      "60번째 for문\n",
      "70번째 for문\n",
      "80번째 for문\n",
      "90번째 for문\n",
      "100번째 for문\n"
     ]
    }
   ],
   "source": [
    "for i in range(101) :\n",
    "    if i % 10 == 0 :\n",
    "        print(f\"{i}번째 for문\")"
   ]
  },
  {
   "cell_type": "markdown",
   "metadata": {},
   "source": [
    "3. 아마 가장 자주보는 방식의 string.format() 입니다.\n",
    "    - 간단해 보이지만 응용할 수 있는 방법들이 다양하게 있습니다."
   ]
  },
  {
   "cell_type": "code",
   "execution_count": 5,
   "metadata": {},
   "outputs": [
    {
     "name": "stdout",
     "output_type": "stream",
     "text": [
      "0번째 for문\n",
      "10번째 for문\n",
      "20번째 for문\n",
      "30번째 for문\n",
      "40번째 for문\n",
      "50번째 for문\n",
      "60번째 for문\n",
      "70번째 for문\n",
      "80번째 for문\n",
      "90번째 for문\n",
      "100번째 for문\n"
     ]
    }
   ],
   "source": [
    "for i in range(101) :\n",
    "    if i % 10 == 0 :\n",
    "        print(\"{}번째 for문\".format(i))"
   ]
  },
  {
   "cell_type": "markdown",
   "metadata": {},
   "source": [
    "- 어떠한 연속된 값 혹은 list의 값을 순서대로 formatting을 하고 싶으면 아래와 같은 방법으로 깔끔하게 해결할 수 있다."
   ]
  },
  {
   "cell_type": "code",
   "execution_count": 6,
   "metadata": {},
   "outputs": [
    {
     "name": "stdout",
     "output_type": "stream",
     "text": [
      "첫번째 값 : 0 \n",
      "두번째 값 : 1 \n",
      "세번째 값 : 2\n"
     ]
    }
   ],
   "source": [
    "print(\"첫번째 값 : {} \\n두번째 값 : {} \\n세번째 값 : {}\".format(0, 1, 2))"
   ]
  },
  {
   "cell_type": "code",
   "execution_count": 7,
   "metadata": {},
   "outputs": [
    {
     "name": "stdout",
     "output_type": "stream",
     "text": [
      "첫번째 값 : 0 \n",
      "두번째 값 : 1 \n",
      "세번째 값 : 2\n"
     ]
    }
   ],
   "source": [
    "print(\"첫번째 값 : {} \\n두번째 값 : {} \\n세번째 값 : {}\".format(*[i for i in range(3)]))"
   ]
  },
  {
   "cell_type": "markdown",
   "metadata": {},
   "source": [
    "- 그리고 어떤 값을 반복적으로 활용해야하는 상황에서 반복작업을 줄이기 위해서는 아래와 같이 key와 value를 매핑해주면 된다. dictionary를 활용할 때는 * 두개를 붙여 활용한다."
   ]
  },
  {
   "cell_type": "code",
   "execution_count": 8,
   "metadata": {},
   "outputs": [
    {
     "name": "stdout",
     "output_type": "stream",
     "text": [
      "첫번째 값 : 1 \n",
      "두번째 값 : 2 \n",
      "첫번째 값 AGAIN: 1 \n",
      "두번째 값 AGAIN : 2\n"
     ]
    }
   ],
   "source": [
    "print(\"첫번째 값 : {first_value} \\n두번째 값 : {second_value} \\n첫번째 값 AGAIN: {first_value} \\n두번째 값 AGAIN : {second_value}\".format(first_value = 1, second_value = 2))"
   ]
  },
  {
   "cell_type": "code",
   "execution_count": 9,
   "metadata": {},
   "outputs": [
    {
     "name": "stdout",
     "output_type": "stream",
     "text": [
      "첫번째 값 : 1 \n",
      "두번째 값 : 2 \n",
      "첫번째 값 AGAIN: 1 \n",
      "두번째 값 AGAIN : 2\n"
     ]
    }
   ],
   "source": [
    "print(\"첫번째 값 : {first_value} \\n두번째 값 : {second_value} \\n첫번째 값 AGAIN: {first_value} \\n두번째 값 AGAIN : {second_value}\".format(**{\"first_value\" : 1, \"second_value\" : 2}))"
   ]
  },
  {
   "cell_type": "markdown",
   "metadata": {},
   "source": [
    "- f\"\" 같은 경우는 간단하게 표현할 때 조금 더 직관적이고 간단해보인다.\n",
    "- \"\".format() 같은 경우는 조금 복잡한 string을 만들 때(ex. sql 등)을 만들 때 활용하면 조금 더 효과적이다."
   ]
  },
  {
   "cell_type": "markdown",
   "metadata": {
    "id": "oGJTcUcZdOnt"
   },
   "source": [
    "<br>\n",
    "<br>\n",
    "<br>\n",
    "\n",
    "---\n",
    "\n",
    "### **Decorator**\n",
    "\n",
    "- 함수 위에 @표시로 되어있는 것을 데코레이터라고 합니다. 사실 데이터분석가가 decorator를 보는 일은 굉장히 드문 것 같습니다. 그런데 tensorflow를 사용하다보면 @tf.function 이라는 것을 심심치 않게 볼 수 있는데요, @가 의미하는 것이 무엇일지 알아보겠습니다.\n",
    "<br>"
   ]
  },
  {
   "cell_type": "markdown",
   "metadata": {},
   "source": [
    "---\n",
    "\n",
    "- 기본적으로 decorator는 함수를 사용할 때마다 똑같은 기능을 함수에 넣기보다는 함수에 다시 씌워버리도록 하는 기능입니다.\n",
    "    - 보통 코드가 얼마나 걸리는 지 확인하기 위해서 사용하는 코드를 데코레이터로 실행한 뒤 시간을 제보도록 하겠습니다."
   ]
  },
  {
   "cell_type": "markdown",
   "metadata": {},
   "source": [
    "- A부터 B까지의 합을 구하고 결과를 print해주는 함수를 만들어보겠습니다. "
   ]
  },
  {
   "cell_type": "code",
   "execution_count": 10,
   "metadata": {},
   "outputs": [],
   "source": [
    "def sigma_fromA_toB(A, B) :\n",
    "    print(\"result : {}\".format(sum(range(A, B + 1))))"
   ]
  },
  {
   "cell_type": "code",
   "execution_count": 11,
   "metadata": {},
   "outputs": [
    {
     "name": "stdout",
     "output_type": "stream",
     "text": [
      "result : 3\n"
     ]
    }
   ],
   "source": [
    "sigma_fromA_toB(1,2)"
   ]
  },
  {
   "cell_type": "markdown",
   "metadata": {},
   "source": [
    "- 보통 이 함수의 시간을 재기 위해서는 time 함수를 통하여 함수가 동작한 시간을 빼주게 됩니다.\n",
    "<br>\n",
    "1. 첫번째 방법은 보통은 테스트 용으로 활용하기 위해서 간단하게 함수 앞뒤에 time을 정의해주고 차이를 코드 실행시간으로 확인을 합니다.\n",
    "    - 테스트하고 싶을 때만 앞뒤로 붙이면 되지만, 테스트할 경우가 많아지면 일일이 다 붙여넣기를 해주어야합니다.\n",
    "2. 두번째 방법은 함수 안에 코드의 실행 시간을 print하게 기능을 넣었습니다.\n",
    "    - 이 역시 필요한 함수에만 기능을 추가하면 되겠지만, 함수가 많아진다면 이 역시 매우 불편할 것입니다."
   ]
  },
  {
   "cell_type": "code",
   "execution_count": 12,
   "metadata": {},
   "outputs": [],
   "source": [
    "import time"
   ]
  },
  {
   "cell_type": "code",
   "execution_count": 13,
   "metadata": {},
   "outputs": [
    {
     "name": "stdout",
     "output_type": "stream",
     "text": [
      "result : 495000550000\n",
      "duringtime : 0.0177\n"
     ]
    }
   ],
   "source": [
    "stime = time.time()\n",
    "sigma_fromA_toB(100000,1000000)\n",
    "etime = time.time()\n",
    "print(\"duringtime : {:.4f}\".format(etime - stime))"
   ]
  },
  {
   "cell_type": "code",
   "execution_count": 14,
   "metadata": {},
   "outputs": [],
   "source": [
    "def sigma_fromA_toB_toTime(A, B) :\n",
    "    stime = time.time()\n",
    "    print(\"result : {}\".format(sum(range(A, B + 1))))\n",
    "    etime = time.time()\n",
    "    print(\"duringtime : {:.4f}\".format(etime - stime))"
   ]
  },
  {
   "cell_type": "code",
   "execution_count": 15,
   "metadata": {},
   "outputs": [
    {
     "name": "stdout",
     "output_type": "stream",
     "text": [
      "result : 495000550000\n",
      "duringtime : 0.0363\n"
     ]
    }
   ],
   "source": [
    "sigma_fromA_toB_toTime(100000,1000000)"
   ]
  },
  {
   "cell_type": "markdown",
   "metadata": {},
   "source": [
    "- 아래의 measure_time이라는 func를 중간에 실행하고 시간을 출력해주는 decorator 형식의 함수를 만들어 sigma_fromA_toB의 함수에 씌워보겠습니다.\n",
    "<br>\n",
    "<br>\n",
    "- 결과는 아래와 같이 결과가 제대로 나오는 것을 볼 수 있습니다. \n",
    "    - 함수의 위 아래로 time을 정의할 필요가 없이 @measure_time이라고 붙여줬을 뿐인데 기능들이 실현될 수 있다는 것을 확인할 수 있습니다.\n",
    "    - 앞으로 @ tf.function가 코드에 있더라도 tensorflow에서 잘 돌아갈 수 있도록 잘 정의해놓은 decorator function이라고 생각하고 쓰시면 될 것 같습니다."
   ]
  },
  {
   "cell_type": "code",
   "execution_count": 16,
   "metadata": {},
   "outputs": [],
   "source": [
    "def measure_time(func) :\n",
    "    def measure_time(*args, **kwargs) :\n",
    "        stime = time.time()\n",
    "        func(*args, **kwargs)\n",
    "        etime = time.time()\n",
    "\n",
    "        print(\"duringtime : {:.4f}\".format(etime - stime))\n",
    "    return measure_time"
   ]
  },
  {
   "cell_type": "code",
   "execution_count": 17,
   "metadata": {},
   "outputs": [],
   "source": [
    "@measure_time\n",
    "def sigma_fromA_toB(A, B) :\n",
    "    print(\"result : {}\".format(sum(range(A, B + 1))))"
   ]
  },
  {
   "cell_type": "code",
   "execution_count": 18,
   "metadata": {},
   "outputs": [
    {
     "name": "stdout",
     "output_type": "stream",
     "text": [
      "result : 495000550000\n",
      "duringtime : 0.0204\n"
     ]
    }
   ],
   "source": [
    "sigma_fromA_toB(100000,1000000)"
   ]
  },
  {
   "cell_type": "markdown",
   "metadata": {
    "id": "oGJTcUcZdOnt"
   },
   "source": [
    "<br>\n",
    "<br>\n",
    "<br>\n",
    "\n",
    "---\n",
    "\n",
    "### **Under bar/ Under score**\n",
    "\n",
    "- \"_\" 기호가 파이썬에 어디에서 나왔는지 궁금하신 분들도 있겠지만 생각보다 유용하고 자주 쓰인다는 것을 확인해보겠습니다.\n",
    "<br>"
   ]
  },
  {
   "cell_type": "markdown",
   "metadata": {},
   "source": [
    "---\n",
    "\n",
    "### **언더바 하나만 사용되는 경우 1**\n",
    "- 가장 자주 쓰이는 경우는 for문에서 딱히 쓸 필요가 없을 때 입니다.\n",
    "    - 보통은 for loop 안의 index나 값을 쓰기 위해서 사용하지만 그냥 반복만 하면 될 경우입니다."
   ]
  },
  {
   "cell_type": "code",
   "execution_count": 19,
   "metadata": {},
   "outputs": [
    {
     "name": "stdout",
     "output_type": "stream",
     "text": [
      "result : 495000550000\n",
      "duringtime : 0.0349\n",
      "result : 495000550000\n",
      "duringtime : 0.0222\n",
      "result : 495000550000\n",
      "duringtime : 0.0193\n",
      "result : 495000550000\n",
      "duringtime : 0.0630\n",
      "result : 495000550000\n",
      "duringtime : 0.0373\n",
      "result : 495000550000\n",
      "duringtime : 0.0484\n",
      "result : 495000550000\n",
      "duringtime : 0.0551\n",
      "result : 495000550000\n",
      "duringtime : 0.0290\n",
      "result : 495000550000\n",
      "duringtime : 0.0163\n",
      "result : 495000550000\n",
      "duringtime : 0.0154\n"
     ]
    }
   ],
   "source": [
    "for _ in range(10) :\n",
    "    sigma_fromA_toB(100000,1000000)"
   ]
  },
  {
   "cell_type": "code",
   "execution_count": 22,
   "metadata": {},
   "outputs": [
    {
     "name": "stdout",
     "output_type": "stream",
     "text": [
      "result : 495000550000\n",
      "duringtime : 0.0177\n",
      "_ size is 24\n",
      "result : 495000550000\n",
      "duringtime : 0.0207\n",
      "_ size is 28\n",
      "result : 495000550000\n",
      "duringtime : 0.0269\n",
      "_ size is 28\n",
      "result : 495000550000\n",
      "duringtime : 0.0599\n",
      "_ size is 28\n",
      "result : 495000550000\n",
      "duringtime : 0.0328\n",
      "_ size is 28\n",
      "result : 495000550000\n",
      "duringtime : 0.0959\n",
      "_ size is 28\n",
      "result : 495000550000\n",
      "duringtime : 0.0295\n",
      "_ size is 28\n",
      "result : 495000550000\n",
      "duringtime : 0.0324\n",
      "_ size is 28\n",
      "result : 495000550000\n",
      "duringtime : 0.0161\n",
      "_ size is 28\n",
      "result : 495000550000\n",
      "duringtime : 0.0151\n",
      "_ size is 28\n"
     ]
    }
   ],
   "source": [
    "for _ in range(10) :\n",
    "    sigma_fromA_toB(100000,1000000)\n",
    "    print(f\"_ size is {sys.getsizeof(_)}\")"
   ]
  },
  {
   "cell_type": "markdown",
   "metadata": {},
   "source": [
    "- 개인적인 의견이지만 \"_\"를 사용해도 memory에 저장이 안되는건 아니기 때문에 속도나 성능상 개선이 되진 않을 것 같습니다. 다만 의미상의 영역으로 보입니다. 그렇기 때문에 쓰지 않는 변수명을 적어도 성능이 저하될 것으로 보이진 않습니다."
   ]
  },
  {
   "cell_type": "markdown",
   "metadata": {},
   "source": [
    "### **언더바 하나만 사용되는 경우 2**\n",
    "- Under bar는 최근 출력됬던 변수들(결과값)을 자동으로 저장하고 가지고 있습니다.\n",
    "    1. a가 정의되고 한번 print되면 \"_\"에 최근 값이 저장이 됩니다."
   ]
  },
  {
   "cell_type": "code",
   "execution_count": 125,
   "metadata": {},
   "outputs": [
    {
     "data": {
      "text/plain": [
       "2"
      ]
     },
     "execution_count": 125,
     "metadata": {},
     "output_type": "execute_result"
    }
   ],
   "source": [
    "a = 1 + 1\n",
    "a"
   ]
  },
  {
   "cell_type": "code",
   "execution_count": 126,
   "metadata": {},
   "outputs": [
    {
     "data": {
      "text/plain": [
       "2"
      ]
     },
     "execution_count": 126,
     "metadata": {},
     "output_type": "execute_result"
    }
   ],
   "source": [
    "_"
   ]
  },
  {
   "cell_type": "code",
   "execution_count": 26,
   "metadata": {},
   "outputs": [
    {
     "data": {
      "text/plain": [
       "4"
      ]
     },
     "execution_count": 26,
     "metadata": {},
     "output_type": "execute_result"
    }
   ],
   "source": [
    "b = 2 + 2\n",
    "b"
   ]
  },
  {
   "cell_type": "code",
   "execution_count": 27,
   "metadata": {},
   "outputs": [
    {
     "data": {
      "text/plain": [
       "4"
      ]
     },
     "execution_count": 27,
     "metadata": {},
     "output_type": "execute_result"
    }
   ],
   "source": [
    "_"
   ]
  },
  {
   "cell_type": "code",
   "execution_count": 28,
   "metadata": {},
   "outputs": [],
   "source": [
    "c = 3 + 3"
   ]
  },
  {
   "cell_type": "code",
   "execution_count": 29,
   "metadata": {},
   "outputs": [
    {
     "data": {
      "text/plain": [
       "4"
      ]
     },
     "execution_count": 29,
     "metadata": {},
     "output_type": "execute_result"
    }
   ],
   "source": [
    "_"
   ]
  },
  {
   "cell_type": "markdown",
   "metadata": {},
   "source": [
    "<br>\n",
    "<br>\n",
    "\n",
    "### **언더바 위치와 개수에 따른 의미**\n",
    "- 변수명에서 \"_\" 의 위치와 개수에 따라서 약속된 의미가 다릅니다. 사용자 정의 클래스나 함수를 import하는 과정에서 접근성에 대한 정의들입니다. 사실 제가 직접적으로 함수를 import할 일이 많지 않았기 때문에 와닿지 않아서 자세한 내용은 출처 블로그에서 확인하시길 바랍니다.\n",
    "<br>\n",
    "\n",
    "    - 앞에 하나의 언더바 \\_variable : 내부 사용 코드, 즉 main문 안에서만 사용되는 함수\n",
    "    - 뒤에 하나의 언더바 variable_ : 함수명이 겹칠 때 추가하여 중복을 방지(결국 그냥 어떤 특수문자를 붙이고 싶은데 _만 붙일 수 있다는 의미랑 비슷한 것 같습니다.)\n",
    "    - 앞에 둘의 언더바 \\_\\_variable : 특정 변수가 override가 되는 것을 방지하기 위함, 즉 고유하게 유지하기 위한 방법(언제 쓰일지는 잘 모르겠습니다)\n",
    "    - 앞과 뒤에 두개의 언더바 \\_\\_variable\\_\\_ : 매직메소드라고 불립니다. 가급적 이 방법을 직접 사용하는 것을 추천하지 않는다고 합니다. 즉 이미 만들어진 객체들이나 약속이 아니면 직접 이 형태의 객체를 만들지 않는 것이 좋다고 합니다. 보통 if __name__ == __main__, __init__을 할 때 많이 보입니다.\n",
    "\n",
    "\n",
    "출처: https://eine.tistory.com/entry/파이썬에서-언더바언더스코어-의-의미와-역할 [아인스트라세의 SW 블로그]"
   ]
  },
  {
   "cell_type": "markdown",
   "metadata": {
    "id": "oGJTcUcZdOnt"
   },
   "source": [
    "<br>\n",
    "<br>\n",
    "<br>\n",
    "\n",
    "---\n",
    "\n",
    "### **Asterisk(\\*표)**\n",
    "\n",
    "- 기본적으로 곱셈이나 거듭제곱을 사용할 때 많이 보긴하지만 심심치 않게 func(\\*args, \\*\\*kwargs) 이렇게 사용하는 함수들을 볼 수 있습니다. 이것이 의미하는 것과 왜 사용하는지에 대해서 알아보겠습니다.\n",
    "<br>"
   ]
  },
  {
   "cell_type": "markdown",
   "metadata": {},
   "source": [
    "<br>\n",
    "\n",
    "#### 1. list 앞에 \\*이 하나만 쓰일 때 : 기본적으로 리스트를 풀 때? 사용된다고 이해하시면 됩니다. 하지만 개별적으로 사용은 안됩니다."
   ]
  },
  {
   "cell_type": "code",
   "execution_count": 43,
   "metadata": {},
   "outputs": [],
   "source": [
    "tmp1 = [1,2,3]\n",
    "tmp2 = [4,5,6]"
   ]
  },
  {
   "cell_type": "code",
   "execution_count": 46,
   "metadata": {},
   "outputs": [
    {
     "data": {
      "text/plain": [
       "[[1, 2, 3]]"
      ]
     },
     "execution_count": 46,
     "metadata": {},
     "output_type": "execute_result"
    }
   ],
   "source": [
    "[tmp1]"
   ]
  },
  {
   "cell_type": "code",
   "execution_count": 49,
   "metadata": {},
   "outputs": [
    {
     "data": {
      "text/plain": [
       "[1, 2, 3]"
      ]
     },
     "execution_count": 49,
     "metadata": {},
     "output_type": "execute_result"
    }
   ],
   "source": [
    "[*tmp1]"
   ]
  },
  {
   "cell_type": "code",
   "execution_count": 51,
   "metadata": {},
   "outputs": [
    {
     "data": {
      "text/plain": [
       "[[1, 2, 3], [4, 5, 6]]"
      ]
     },
     "execution_count": 51,
     "metadata": {},
     "output_type": "execute_result"
    }
   ],
   "source": [
    "[tmp1, tmp2]"
   ]
  },
  {
   "cell_type": "code",
   "execution_count": 52,
   "metadata": {},
   "outputs": [
    {
     "data": {
      "text/plain": [
       "[1, 2, 3, 4, 5, 6]"
      ]
     },
     "execution_count": 52,
     "metadata": {},
     "output_type": "execute_result"
    }
   ],
   "source": [
    "[*tmp1, *tmp2]"
   ]
  },
  {
   "cell_type": "code",
   "execution_count": 53,
   "metadata": {},
   "outputs": [
    {
     "ename": "SyntaxError",
     "evalue": "can't use starred expression here (<ipython-input-53-ca40ad2e4bf3>, line 1)",
     "output_type": "error",
     "traceback": [
      "\u001b[0;36m  File \u001b[0;32m\"<ipython-input-53-ca40ad2e4bf3>\"\u001b[0;36m, line \u001b[0;32m1\u001b[0m\n\u001b[0;31m    *tmp\u001b[0m\n\u001b[0m    ^\u001b[0m\n\u001b[0;31mSyntaxError\u001b[0m\u001b[0;31m:\u001b[0m can't use starred expression here\n"
     ]
    }
   ],
   "source": [
    "*tmp"
   ]
  },
  {
   "cell_type": "markdown",
   "metadata": {},
   "source": [
    "<br>\n",
    "\n",
    "#### 2. dict 앞에 \\*이 하나만 쓰일 때 : dict를 list와 같이 풀 때는 \\*를 두개 사용해주어야됩니다."
   ]
  },
  {
   "cell_type": "code",
   "execution_count": 55,
   "metadata": {},
   "outputs": [],
   "source": [
    "tmp1 = {\"a\" : 1, \"b\" : 2, \"c\" : 3}\n",
    "tmp2 = {\"d\" : 4, \"e\" : 5, \"f\" : 6}"
   ]
  },
  {
   "cell_type": "code",
   "execution_count": 57,
   "metadata": {},
   "outputs": [
    {
     "data": {
      "text/plain": [
       "{'a': 1, 'b': 2, 'c': 3}"
      ]
     },
     "execution_count": 57,
     "metadata": {},
     "output_type": "execute_result"
    }
   ],
   "source": [
    "{**tmp1}"
   ]
  },
  {
   "cell_type": "code",
   "execution_count": 62,
   "metadata": {},
   "outputs": [
    {
     "data": {
      "text/plain": [
       "[{'a': 1, 'b': 2, 'c': 3}]"
      ]
     },
     "execution_count": 62,
     "metadata": {},
     "output_type": "execute_result"
    }
   ],
   "source": [
    "[tmp1]"
   ]
  },
  {
   "cell_type": "code",
   "execution_count": 65,
   "metadata": {},
   "outputs": [
    {
     "data": {
      "text/plain": [
       "['a', 'b', 'c']"
      ]
     },
     "execution_count": 65,
     "metadata": {},
     "output_type": "execute_result"
    }
   ],
   "source": [
    "[*tmp1]"
   ]
  },
  {
   "cell_type": "code",
   "execution_count": 66,
   "metadata": {},
   "outputs": [
    {
     "ename": "SyntaxError",
     "evalue": "invalid syntax (<ipython-input-66-03dc013b6245>, line 1)",
     "output_type": "error",
     "traceback": [
      "\u001b[0;36m  File \u001b[0;32m\"<ipython-input-66-03dc013b6245>\"\u001b[0;36m, line \u001b[0;32m1\u001b[0m\n\u001b[0;31m    [**tmp1]\u001b[0m\n\u001b[0m     ^\u001b[0m\n\u001b[0;31mSyntaxError\u001b[0m\u001b[0;31m:\u001b[0m invalid syntax\n"
     ]
    }
   ],
   "source": [
    "[**tmp1]"
   ]
  },
  {
   "cell_type": "code",
   "execution_count": 58,
   "metadata": {},
   "outputs": [
    {
     "data": {
      "text/plain": [
       "{'a': 1, 'b': 2, 'c': 3, 'd': 4, 'e': 5, 'f': 6}"
      ]
     },
     "execution_count": 58,
     "metadata": {},
     "output_type": "execute_result"
    }
   ],
   "source": [
    "{**tmp1, **tmp2}"
   ]
  },
  {
   "cell_type": "code",
   "execution_count": 68,
   "metadata": {},
   "outputs": [
    {
     "data": {
      "text/plain": [
       "['a', 'b', 'c', 'd', 'e', 'f']"
      ]
     },
     "execution_count": 68,
     "metadata": {},
     "output_type": "execute_result"
    }
   ],
   "source": [
    "[*tmp1, *tmp2]"
   ]
  },
  {
   "cell_type": "code",
   "execution_count": 67,
   "metadata": {},
   "outputs": [
    {
     "ename": "SyntaxError",
     "evalue": "invalid syntax (<ipython-input-67-7655ba57a350>, line 1)",
     "output_type": "error",
     "traceback": [
      "\u001b[0;36m  File \u001b[0;32m\"<ipython-input-67-7655ba57a350>\"\u001b[0;36m, line \u001b[0;32m1\u001b[0m\n\u001b[0;31m    [**tmp1, **tmp2]\u001b[0m\n\u001b[0m     ^\u001b[0m\n\u001b[0;31mSyntaxError\u001b[0m\u001b[0;31m:\u001b[0m invalid syntax\n"
     ]
    }
   ],
   "source": [
    "[**tmp1, **tmp2]"
   ]
  },
  {
   "cell_type": "markdown",
   "metadata": {},
   "source": [
    "<br>\n",
    "\n",
    "#### 3. 위의 특징을 활용하여 함수에 적용하기"
   ]
  },
  {
   "cell_type": "code",
   "execution_count": 71,
   "metadata": {},
   "outputs": [],
   "source": [
    "def test_func(a = None, b = None, c = None) :\n",
    "    print(f\"a = {a}, b = {b}, c = {c}\")"
   ]
  },
  {
   "cell_type": "code",
   "execution_count": 72,
   "metadata": {},
   "outputs": [
    {
     "name": "stdout",
     "output_type": "stream",
     "text": [
      "a = 1, b = 2, c = 3\n"
     ]
    }
   ],
   "source": [
    "test_func(1,2,3)"
   ]
  },
  {
   "cell_type": "markdown",
   "metadata": {},
   "source": [
    "- 만일 [[1, 2, 3], [4,5,6], [\"ㄱ\", \"ㄴ\", \"ㄷ\"]] 이라는 list를 iterable하게 test_func에 적용해야하는 상황이 생겼을 때 어떻게 돌릴 수 있을까요?"
   ]
  },
  {
   "cell_type": "code",
   "execution_count": 73,
   "metadata": {},
   "outputs": [],
   "source": [
    "tmp = [[1, 2, 3], [4,5,6], [\"ㄱ\", \"ㄴ\", \"ㄷ\"]]"
   ]
  },
  {
   "cell_type": "code",
   "execution_count": 74,
   "metadata": {},
   "outputs": [
    {
     "name": "stdout",
     "output_type": "stream",
     "text": [
      "a = 1, b = 2, c = 3\n",
      "a = 4, b = 5, c = 6\n",
      "a = ㄱ, b = ㄴ, c = ㄷ\n"
     ]
    }
   ],
   "source": [
    "for t in tmp :\n",
    "    test_func(t[0], t[1], t[2])"
   ]
  },
  {
   "cell_type": "markdown",
   "metadata": {},
   "source": [
    "- 이런식으로 접근할 수도 있겠지만 위의 예시를 활용하여 Asterisk를 사용한다면 훨씬 간단하게 코드를 적용할 수 있습니다."
   ]
  },
  {
   "cell_type": "code",
   "execution_count": 75,
   "metadata": {},
   "outputs": [
    {
     "name": "stdout",
     "output_type": "stream",
     "text": [
      "a = 1, b = 2, c = 3\n",
      "a = 4, b = 5, c = 6\n",
      "a = ㄱ, b = ㄴ, c = ㄷ\n"
     ]
    }
   ],
   "source": [
    "for t in tmp :\n",
    "    test_func(*t)"
   ]
  },
  {
   "cell_type": "markdown",
   "metadata": {},
   "source": [
    "- \\*[]를 활용하면 간결한 코딩을 할 수 있지만 순서대로 들어가기 때문에 argument들이 많아지고 랜덤으로 부여됬을 때 순서를 다시 맞춰줘야하는 경우가 있습니다. 머신러닝/딥러닝을 하다보면 많은 하이퍼 파라미터가 있는데 batch_size, epoch, learning_rate같은 여러 하이퍼파라미터의 순서를 고려하는 것은 어려운 일이 될 것입니다. 이러한 경우는 dict를 활용하면 훨씬 간결해질 수 있습니다."
   ]
  },
  {
   "cell_type": "code",
   "execution_count": 84,
   "metadata": {},
   "outputs": [],
   "source": [
    "def test_func(lr = 0.001, epoch = 100, batch_size = 64) :\n",
    "    print(f\"lr = {lr}, epoch = {epoch}, batch_size = {batch_size}\")"
   ]
  },
  {
   "cell_type": "code",
   "execution_count": 79,
   "metadata": {},
   "outputs": [],
   "source": [
    "tmp1 = {\"lr\" : 0.000001, \"epoch\" : 200}\n",
    "tmp2 = {\"epoch\" : 200, \"batch_size\" : 32}\n",
    "tmp3 = {\"epoch\" : 200, \"lr\" : 0.000001, \"batch_size\" : 128}"
   ]
  },
  {
   "cell_type": "code",
   "execution_count": 80,
   "metadata": {},
   "outputs": [],
   "source": [
    "tmp = [tmp1, tmp2, tmp3]"
   ]
  },
  {
   "cell_type": "code",
   "execution_count": 85,
   "metadata": {},
   "outputs": [
    {
     "name": "stdout",
     "output_type": "stream",
     "text": [
      "lr = 1e-06, epoch = 200, batch_size = 64\n",
      "lr = 0.001, epoch = 200, batch_size = 32\n",
      "lr = 1e-06, epoch = 200, batch_size = 128\n"
     ]
    }
   ],
   "source": [
    "for t in tmp :\n",
    "    test_func(**t)"
   ]
  },
  {
   "cell_type": "markdown",
   "metadata": {},
   "source": [
    "- 앞에서 얘기했던 func(\\*args, \\*\\*kwargs)은 결국에 list 형태의 파라미터는 \\*args로 dict형식의 파라미터는 \\*\\*kwargs로 적용하는 것이다. kwargs는 keyword arguments로 key값이 있어 적용이 가능하다는 의미이다."
   ]
  },
  {
   "cell_type": "markdown",
   "metadata": {
    "id": "oGJTcUcZdOnt"
   },
   "source": [
    "<br>\n",
    "<br>\n",
    "<br>\n",
    "\n",
    "---\n",
    "\n",
    "### **Jupyter Magic key**\n",
    "\n",
    "- 파이썬을 활용하여 분석을 할 때 jupyter 환경을 사용하는 경우가 많은데, jupyter project는 분석에 필요한 패키지 관리 뿐 아니라 다양한 기능들을 magic key로 만들어 제공하고 있습니다. 대표적으로 코딩을 시작할 때 시작하는 %matplotlib inline도 jupyter magic key의 일부분입니다. 이렇듯 magic key는 %로 시작하게 됩니다.\n",
    "- 시작 전에 어떤 기능들이 있는 지 알려주는 %lsmagic을 활용해서 확인해보겠습니다.\n",
    "<br>"
   ]
  },
  {
   "cell_type": "markdown",
   "metadata": {},
   "source": [
    "- magic키는 기본적으로 line magic key와 cell magic key로 나뉘게 됩니다. 이름을 듣고 유추할 수도 있겠지만, line magic key의 경우에는 % 하나로 이루어져있으며, 해당 매직키가 있는 라인의 코드에 대해서만 적용을 하게 되며, cell magic key는 cell 전체의 코드에 대해서 기능을 적용하게 됩니다."
   ]
  },
  {
   "cell_type": "code",
   "execution_count": 86,
   "metadata": {},
   "outputs": [
    {
     "data": {
      "application/json": {
       "cell": {
        "!": "OSMagics",
        "HTML": "Other",
        "SVG": "Other",
        "bash": "Other",
        "capture": "ExecutionMagics",
        "debug": "ExecutionMagics",
        "file": "Other",
        "html": "DisplayMagics",
        "javascript": "DisplayMagics",
        "js": "DisplayMagics",
        "latex": "DisplayMagics",
        "markdown": "DisplayMagics",
        "perl": "Other",
        "prun": "ExecutionMagics",
        "pypy": "Other",
        "python": "Other",
        "python2": "Other",
        "python3": "Other",
        "ruby": "Other",
        "script": "ScriptMagics",
        "sh": "Other",
        "svg": "DisplayMagics",
        "sx": "OSMagics",
        "system": "OSMagics",
        "time": "ExecutionMagics",
        "timeit": "ExecutionMagics",
        "writefile": "OSMagics"
       },
       "line": {
        "alias": "OSMagics",
        "alias_magic": "BasicMagics",
        "autoawait": "AsyncMagics",
        "autocall": "AutoMagics",
        "automagic": "AutoMagics",
        "autosave": "KernelMagics",
        "bookmark": "OSMagics",
        "cat": "Other",
        "cd": "OSMagics",
        "clear": "KernelMagics",
        "colors": "BasicMagics",
        "conda": "PackagingMagics",
        "config": "ConfigMagics",
        "connect_info": "KernelMagics",
        "cp": "Other",
        "debug": "ExecutionMagics",
        "dhist": "OSMagics",
        "dirs": "OSMagics",
        "doctest_mode": "BasicMagics",
        "ed": "Other",
        "edit": "KernelMagics",
        "env": "OSMagics",
        "gui": "BasicMagics",
        "hist": "Other",
        "history": "HistoryMagics",
        "killbgscripts": "ScriptMagics",
        "ldir": "Other",
        "less": "KernelMagics",
        "lf": "Other",
        "lk": "Other",
        "ll": "Other",
        "load": "CodeMagics",
        "load_ext": "ExtensionMagics",
        "loadpy": "CodeMagics",
        "logoff": "LoggingMagics",
        "logon": "LoggingMagics",
        "logstart": "LoggingMagics",
        "logstate": "LoggingMagics",
        "logstop": "LoggingMagics",
        "ls": "Other",
        "lsmagic": "BasicMagics",
        "lx": "Other",
        "macro": "ExecutionMagics",
        "magic": "BasicMagics",
        "man": "KernelMagics",
        "matplotlib": "PylabMagics",
        "mkdir": "Other",
        "more": "KernelMagics",
        "mv": "Other",
        "notebook": "BasicMagics",
        "page": "BasicMagics",
        "pastebin": "CodeMagics",
        "pdb": "ExecutionMagics",
        "pdef": "NamespaceMagics",
        "pdoc": "NamespaceMagics",
        "pfile": "NamespaceMagics",
        "pinfo": "NamespaceMagics",
        "pinfo2": "NamespaceMagics",
        "pip": "PackagingMagics",
        "popd": "OSMagics",
        "pprint": "BasicMagics",
        "precision": "BasicMagics",
        "prun": "ExecutionMagics",
        "psearch": "NamespaceMagics",
        "psource": "NamespaceMagics",
        "pushd": "OSMagics",
        "pwd": "OSMagics",
        "pycat": "OSMagics",
        "pylab": "PylabMagics",
        "qtconsole": "KernelMagics",
        "quickref": "BasicMagics",
        "recall": "HistoryMagics",
        "rehashx": "OSMagics",
        "reload_ext": "ExtensionMagics",
        "rep": "Other",
        "rerun": "HistoryMagics",
        "reset": "NamespaceMagics",
        "reset_selective": "NamespaceMagics",
        "rm": "Other",
        "rmdir": "Other",
        "run": "ExecutionMagics",
        "save": "CodeMagics",
        "sc": "OSMagics",
        "set_env": "OSMagics",
        "store": "StoreMagics",
        "sx": "OSMagics",
        "system": "OSMagics",
        "tb": "ExecutionMagics",
        "time": "ExecutionMagics",
        "timeit": "ExecutionMagics",
        "unalias": "OSMagics",
        "unload_ext": "ExtensionMagics",
        "who": "NamespaceMagics",
        "who_ls": "NamespaceMagics",
        "whos": "NamespaceMagics",
        "xdel": "NamespaceMagics",
        "xmode": "BasicMagics"
       }
      },
      "text/plain": [
       "Available line magics:\n",
       "%alias  %alias_magic  %autoawait  %autocall  %automagic  %autosave  %bookmark  %cat  %cd  %clear  %colors  %conda  %config  %connect_info  %cp  %debug  %dhist  %dirs  %doctest_mode  %ed  %edit  %env  %gui  %hist  %history  %killbgscripts  %ldir  %less  %lf  %lk  %ll  %load  %load_ext  %loadpy  %logoff  %logon  %logstart  %logstate  %logstop  %ls  %lsmagic  %lx  %macro  %magic  %man  %matplotlib  %mkdir  %more  %mv  %notebook  %page  %pastebin  %pdb  %pdef  %pdoc  %pfile  %pinfo  %pinfo2  %pip  %popd  %pprint  %precision  %prun  %psearch  %psource  %pushd  %pwd  %pycat  %pylab  %qtconsole  %quickref  %recall  %rehashx  %reload_ext  %rep  %rerun  %reset  %reset_selective  %rm  %rmdir  %run  %save  %sc  %set_env  %store  %sx  %system  %tb  %time  %timeit  %unalias  %unload_ext  %who  %who_ls  %whos  %xdel  %xmode\n",
       "\n",
       "Available cell magics:\n",
       "%%!  %%HTML  %%SVG  %%bash  %%capture  %%debug  %%file  %%html  %%javascript  %%js  %%latex  %%markdown  %%perl  %%prun  %%pypy  %%python  %%python2  %%python3  %%ruby  %%script  %%sh  %%svg  %%sx  %%system  %%time  %%timeit  %%writefile\n",
       "\n",
       "Automagic is ON, % prefix IS NOT needed for line magics."
      ]
     },
     "execution_count": 86,
     "metadata": {},
     "output_type": "execute_result"
    }
   ],
   "source": [
    "%lsmagic"
   ]
  },
  {
   "cell_type": "markdown",
   "metadata": {},
   "source": [
    "- 위의 decorator 설명을 할 때도 코드의 실행 시간에 대해서 어떻게 코딩하는 가에 대한 부분이 있었는데 이런 부분도 매직키로 해결할 수 있습니다."
   ]
  },
  {
   "cell_type": "code",
   "execution_count": 87,
   "metadata": {},
   "outputs": [
    {
     "name": "stdout",
     "output_type": "stream",
     "text": [
      "CPU times: user 706 µs, sys: 1.65 ms, total: 2.36 ms\n",
      "Wall time: 5 s\n"
     ]
    }
   ],
   "source": [
    "%time time.sleep(5)"
   ]
  },
  {
   "cell_type": "code",
   "execution_count": 90,
   "metadata": {},
   "outputs": [
    {
     "name": "stdout",
     "output_type": "stream",
     "text": [
      "CPU times: user 3 µs, sys: 1 µs, total: 4 µs\n",
      "Wall time: 5.72 µs\n"
     ]
    }
   ],
   "source": [
    "%time\n",
    "time.sleep(3)\n",
    "time.sleep(2)"
   ]
  },
  {
   "cell_type": "code",
   "execution_count": 88,
   "metadata": {},
   "outputs": [
    {
     "name": "stdout",
     "output_type": "stream",
     "text": [
      "CPU times: user 948 µs, sys: 1.53 ms, total: 2.48 ms\n",
      "Wall time: 5 s\n"
     ]
    }
   ],
   "source": [
    "%%time \n",
    "time.sleep(2)\n",
    "time.sleep(3)"
   ]
  },
  {
   "cell_type": "markdown",
   "metadata": {},
   "source": [
    "- 위에서 보듯이 똑같이 5초가 걸리게 실행했을 때 차이가 보입니다. line 매직키인 %time은 그 라인에 있는 코드에 대한 실행 시간을 측정하기 때문에 첫 코드는 5초의 실행시간을 뱉지만, 두번째 줄의 코드는 그 라인에 실행시킬것이 아무것도 없기 때문에 사실상 그냥 최소 시간을 측정하게 됩니다.\n",
    "- 세번째의 cell 매직키인 %%time은 셀 전체의 시간을 측정하기 때문에 5초로 올바르게 측정하고 있습니다.\n",
    "- 주의할 것은 매직키의 결과를 return해주는 것이 아니라 그냥 출력만 해주는 것입니다. %ls 등의 경로등을 변수로 사용할 때는 glob이나 sys 안에 있는 객체로 return해주는 함수를 활용해야합니다.\n",
    "- 위에서 보듯 많은 기능들이 있지만 제가 보통 쓰는 것은 matplotlib, time 관련 매직키들이고 코랩을 활용할 경우 chdir, ls등을 사용할 경우가 많습니다. 보통 %matplotlib이 어디서 나온지 모른채 사용하는 경우가 많기 때문에 이번 기회에 %의 근본?에 대해서 한번 더 생각하는 기회가 됬으면 좋겠습니다."
   ]
  },
  {
   "cell_type": "markdown",
   "metadata": {
    "id": "sFxcbBrNmv4f"
   },
   "source": [
    "---\n",
    "\n",
    "code : https://github.com/Chanjun-kim/Chanjun-kim.github.io/blob/main/_ipynb/2021-08-08-PythonTip.ipynb\n",
    "\n",
    "감사합니다."
   ]
  }
 ],
 "metadata": {
  "kernelspec": {
   "display_name": "Python 3",
   "language": "python",
   "name": "python3"
  },
  "language_info": {
   "codemirror_mode": {
    "name": "ipython",
    "version": 3
   },
   "file_extension": ".py",
   "mimetype": "text/x-python",
   "name": "python",
   "nbconvert_exporter": "python",
   "pygments_lexer": "ipython3",
   "version": "3.8.5"
  }
 },
 "nbformat": 4,
 "nbformat_minor": 4
}
