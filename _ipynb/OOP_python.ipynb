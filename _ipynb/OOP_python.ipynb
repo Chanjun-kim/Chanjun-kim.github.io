{
 "cells": [
  {
   "cell_type": "markdown",
   "metadata": {},
   "source": [
    "## Employee.py 에 있는 모듈을 import"
   ]
  },
  {
   "cell_type": "code",
   "execution_count": 1,
   "metadata": {},
   "outputs": [],
   "source": [
    "import Employee"
   ]
  },
  {
   "cell_type": "markdown",
   "metadata": {},
   "source": [
    "#### 객체와 메소드를 확인할 수 있는 dir 함수를 통해 Emplyee의 메소드와 객체 탐색"
   ]
  },
  {
   "cell_type": "code",
   "execution_count": 2,
   "metadata": {},
   "outputs": [
    {
     "data": {
      "text/plain": [
       "['DataEngineer',\n",
       " 'DataScientist',\n",
       " 'DataWorker',\n",
       " 'Leader',\n",
       " '_DataLeader',\n",
       " '__Spy',\n",
       " '__builtins__',\n",
       " '__cached__',\n",
       " '__doc__',\n",
       " '__file__',\n",
       " '__loader__',\n",
       " '__name__',\n",
       " '__package__',\n",
       " '__spec__']"
      ]
     },
     "execution_count": 2,
     "metadata": {},
     "output_type": "execute_result"
    }
   ],
   "source": [
    "dir(Employee)"
   ]
  },
  {
   "cell_type": "markdown",
   "metadata": {},
   "source": [
    "#### 정보를 확인할 수 있는 help 함수를 통해 Emplyee의 구조 탐색"
   ]
  },
  {
   "cell_type": "code",
   "execution_count": 9,
   "metadata": {
    "tags": []
   },
   "outputs": [
    {
     "name": "stdout",
     "output_type": "stream",
     "text": [
      "Help on module Employee:\n",
      "\n",
      "NAME\n",
      "    Employee\n",
      "\n",
      "CLASSES\n",
      "    builtins.object\n",
      "        DataWorker\n",
      "            DataEngineer\n",
      "            DataScientist\n",
      "    \n",
      "    class DataEngineer(DataWorker)\n",
      "     |  DataEngineer(name: str, working_list: list)\n",
      "     |  \n",
      "     |  데이터 엔지니어에 대한 클래스입니다.\n",
      "     |  \n",
      "     |  Method resolution order:\n",
      "     |      DataEngineer\n",
      "     |      DataWorker\n",
      "     |      builtins.object\n",
      "     |  \n",
      "     |  Methods defined here:\n",
      "     |  \n",
      "     |  __call__(self)\n",
      "     |      데이터엔지니어를 부를 때 대답합니다.\n",
      "     |  \n",
      "     |  __init__(self, name: str, working_list: list)\n",
      "     |      데이터 엔지니어에 대한 정보를 초기화하는 함수입니다.\n",
      "     |      \n",
      "     |      Args:\n",
      "     |          name (str): 이름\n",
      "     |          working (list): 하는 업무 리스트\n",
      "     |          _today_objective(str) : 오늘의 목표\n",
      "     |  \n",
      "     |  introduce(self)\n",
      "     |      자기 소개를 하고 명함을 건내줍니다.\n",
      "     |      \n",
      "     |      Returns:\n",
      "     |          _type_: 명함\n",
      "     |  \n",
      "     |  ----------------------------------------------------------------------\n",
      "     |  Data descriptors defined here:\n",
      "     |  \n",
      "     |  today_objective\n",
      "     |  \n",
      "     |  ----------------------------------------------------------------------\n",
      "     |  Data descriptors inherited from DataWorker:\n",
      "     |  \n",
      "     |  __dict__\n",
      "     |      dictionary for instance variables (if defined)\n",
      "     |  \n",
      "     |  __weakref__\n",
      "     |      list of weak references to the object (if defined)\n",
      "    \n",
      "    class DataScientist(DataWorker)\n",
      "     |  DataScientist(name: str, working: list, _DataScientist__job_turnover: bool)\n",
      "     |  \n",
      "     |  데이터사이언티스트에 대한 클래스입니다.\n",
      "     |  \n",
      "     |  Method resolution order:\n",
      "     |      DataScientist\n",
      "     |      DataWorker\n",
      "     |      builtins.object\n",
      "     |  \n",
      "     |  Methods defined here:\n",
      "     |  \n",
      "     |  __call__(self)\n",
      "     |      데이터사이언티스트를 부를 때 대답합니다.\n",
      "     |  \n",
      "     |  __init__(self, name: str, working: list, _DataScientist__job_turnover: bool)\n",
      "     |      데이터 사이언티스트 대한 정보를 초기화하는 함수입니다.\n",
      "     |      \n",
      "     |      Args:\n",
      "     |          name (str): 이름\n",
      "     |          working (list): 하는 업무 리스트\n",
      "     |          job_turnover(bool) : 공개한 이직 희망 의사\n",
      "     |          __job_turnover(bool) : 솔직한 이직 희망 의사\n",
      "     |  \n",
      "     |  drink_alchol(self)\n",
      "     |      술을 마십니다.\n",
      "     |  \n",
      "     |  introduce(self)\n",
      "     |      자기소개를 합니다.\n",
      "     |  \n",
      "     |  question_turnover(self)\n",
      "     |      이직 여부를 물어봅니다.\n",
      "     |  \n",
      "     |  ----------------------------------------------------------------------\n",
      "     |  Data descriptors inherited from DataWorker:\n",
      "     |  \n",
      "     |  __dict__\n",
      "     |      dictionary for instance variables (if defined)\n",
      "     |  \n",
      "     |  __weakref__\n",
      "     |      list of weak references to the object (if defined)\n",
      "    \n",
      "    class DataWorker(builtins.object)\n",
      "     |  DataWorker(name: str)\n",
      "     |  \n",
      "     |  데이터직군에 대한 클래스입니다.\n",
      "     |  \n",
      "     |  Methods defined here:\n",
      "     |  \n",
      "     |  __call__(self)\n",
      "     |      객체를 부를 때 대답합니다.\n",
      "     |  \n",
      "     |  __init__(self, name: str)\n",
      "     |      데이터 직군에 대한 정보를 초기화하는 함수입니다.\n",
      "     |      \n",
      "     |      Args:\n",
      "     |          name (str): 이름\n",
      "     |  \n",
      "     |  introduce(self)\n",
      "     |      자기 소개를 하고 명함을 건내줍니다.\n",
      "     |      \n",
      "     |      Returns:\n",
      "     |          _type_: 명함\n",
      "     |  \n",
      "     |  ----------------------------------------------------------------------\n",
      "     |  Data descriptors defined here:\n",
      "     |  \n",
      "     |  __dict__\n",
      "     |      dictionary for instance variables (if defined)\n",
      "     |  \n",
      "     |  __weakref__\n",
      "     |      list of weak references to the object (if defined)\n",
      "\n",
      "FILE\n",
      "    /Users/kimchanjun/Documents/cj/private_repo/Employee.py\n",
      "\n",
      "\n"
     ]
    }
   ],
   "source": [
    "help(Employee)"
   ]
  },
  {
   "cell_type": "markdown",
   "metadata": {},
   "source": [
    "### 불필요한 정보가 많아보이지만, 두개의 정보가 서로 다르다는 것을 확인"
   ]
  },
  {
   "cell_type": "markdown",
   "metadata": {},
   "source": [
    "---\n",
    "### 가장 상위 클래스인 DataWorker 클래스\n",
    "- 데이터직군 종사자 클래스는 이름을 가지고 있고, 자기소개를 할 때 명함을 줍니다."
   ]
  },
  {
   "cell_type": "code",
   "execution_count": 3,
   "metadata": {},
   "outputs": [
    {
     "name": "stdout",
     "output_type": "stream",
     "text": [
      "Help on class DataWorker in module Employee:\n",
      "\n",
      "class DataWorker(builtins.object)\n",
      " |  DataWorker(name: str)\n",
      " |  \n",
      " |  데이터직군에 대한 클래스입니다.\n",
      " |  \n",
      " |  Methods defined here:\n",
      " |  \n",
      " |  __call__(self)\n",
      " |      객체를 부를 때 대답합니다.\n",
      " |  \n",
      " |  __init__(self, name: str)\n",
      " |      데이터 직군에 대한 정보를 초기화하는 함수입니다.\n",
      " |      \n",
      " |      Args:\n",
      " |          name (str): 이름\n",
      " |  \n",
      " |  introduce(self)\n",
      " |      자기 소개를 하고 명함을 건내줍니다.\n",
      " |      \n",
      " |      Returns:\n",
      " |          _type_: 명함\n",
      " |  \n",
      " |  ----------------------------------------------------------------------\n",
      " |  Data descriptors defined here:\n",
      " |  \n",
      " |  __dict__\n",
      " |      dictionary for instance variables (if defined)\n",
      " |  \n",
      " |  __weakref__\n",
      " |      list of weak references to the object (if defined)\n",
      "\n"
     ]
    }
   ],
   "source": [
    "help(Employee.DataWorker)"
   ]
  },
  {
   "cell_type": "code",
   "execution_count": 4,
   "metadata": {},
   "outputs": [],
   "source": [
    "dw = Employee.DataWorker(\"A\")"
   ]
  },
  {
   "cell_type": "code",
   "execution_count": 5,
   "metadata": {},
   "outputs": [
    {
     "name": "stdout",
     "output_type": "stream",
     "text": [
      "부르셨나요?\n"
     ]
    }
   ],
   "source": [
    "# 데이터 직군 종사자는 부를 때마다 아래와 같이 대답\n",
    "dw()"
   ]
  },
  {
   "cell_type": "code",
   "execution_count": 6,
   "metadata": {},
   "outputs": [
    {
     "name": "stdout",
     "output_type": "stream",
     "text": [
      "안녕하세요 데이터 직군에 종사하는 A 입니다.\n"
     ]
    }
   ],
   "source": [
    "# 데이터 직군 종사자의 소개는 아래와 같습니다.\n",
    "dw_business_card = dw.introduce()"
   ]
  },
  {
   "cell_type": "code",
   "execution_count": 7,
   "metadata": {},
   "outputs": [
    {
     "name": "stdout",
     "output_type": "stream",
     "text": [
      "명함 : A\n"
     ]
    }
   ],
   "source": [
    "# 소개가 끝나면 데이터 종사자는 아래와 같은 명함을 줍니다.\n",
    "print(dw_business_card)"
   ]
  },
  {
   "cell_type": "markdown",
   "metadata": {},
   "source": [
    "- 추상화는 이와 같이 데이터사이언티스트, 데이터엔지니어를 대표할 수 있는 특징을 뽑아 공통된 행동(메소드), 특징(변수)를 만들어 놓는 것"
   ]
  },
  {
   "cell_type": "markdown",
   "metadata": {},
   "source": [
    "---\n",
    "### 데이터종사자의 하위 클래스인 데이터에지니어 클래스\n",
    "- 데이터 엔지니어 클래스는 데이터종사자가 가지고 있는 이름 뿐만 아니라 자신의 업무, 오늘의 목표에 대한 정보를 담고 있습니다."
   ]
  },
  {
   "cell_type": "code",
   "execution_count": 8,
   "metadata": {},
   "outputs": [
    {
     "name": "stdout",
     "output_type": "stream",
     "text": [
      "Help on class DataEngineer in module Employee:\n",
      "\n",
      "class DataEngineer(DataWorker)\n",
      " |  DataEngineer(name: str, working_list: list)\n",
      " |  \n",
      " |  데이터 엔지니어에 대한 클래스입니다.\n",
      " |  \n",
      " |  Method resolution order:\n",
      " |      DataEngineer\n",
      " |      DataWorker\n",
      " |      builtins.object\n",
      " |  \n",
      " |  Methods defined here:\n",
      " |  \n",
      " |  __call__(self)\n",
      " |      데이터엔지니어를 부를 때 대답합니다.\n",
      " |  \n",
      " |  __init__(self, name: str, working_list: list)\n",
      " |      데이터 엔지니어에 대한 정보를 초기화하는 함수입니다.\n",
      " |      \n",
      " |      Args:\n",
      " |          name (str): 이름\n",
      " |          working (list): 하는 업무 리스트\n",
      " |          _today_objective(str) : 오늘의 목표\n",
      " |  \n",
      " |  introduce(self)\n",
      " |      자기 소개를 하고 명함을 건내줍니다.\n",
      " |      \n",
      " |      Returns:\n",
      " |          _type_: 명함\n",
      " |  \n",
      " |  ----------------------------------------------------------------------\n",
      " |  Data descriptors defined here:\n",
      " |  \n",
      " |  today_objective\n",
      " |  \n",
      " |  ----------------------------------------------------------------------\n",
      " |  Data descriptors inherited from DataWorker:\n",
      " |  \n",
      " |  __dict__\n",
      " |      dictionary for instance variables (if defined)\n",
      " |  \n",
      " |  __weakref__\n",
      " |      list of weak references to the object (if defined)\n",
      "\n"
     ]
    }
   ],
   "source": [
    "help(Employee.DataEngineer)"
   ]
  },
  {
   "cell_type": "code",
   "execution_count": 9,
   "metadata": {},
   "outputs": [],
   "source": [
    "# 이름이 B인 데이터엔지니어의 업무를 포함하여 객체를 생성\n",
    "de = Employee.DataEngineer(\"B\", [\"파이프라인 개발\", \"파이프라인 관리\", \"클라우드 관리\"])"
   ]
  },
  {
   "cell_type": "code",
   "execution_count": 11,
   "metadata": {},
   "outputs": [
    {
     "name": "stdout",
     "output_type": "stream",
     "text": [
      "부르셨나요?\n",
      "그렇게 막 가져가시면 안되는데요.\n"
     ]
    }
   ],
   "source": [
    "# 데이터 엔지니어는 부르면(호출하면) 데이터종사자와 같이 \"부르셨나요?\"를 대답한 뒤 한마디를 덫붙여 대답을 합니다.\n",
    "de()"
   ]
  },
  {
   "cell_type": "code",
   "execution_count": 12,
   "metadata": {},
   "outputs": [
    {
     "name": "stdout",
     "output_type": "stream",
     "text": [
      "데이터엔지니어 B 입니다.\n",
      "\t하는 업무는 파이프라인 개발 입니다.\n",
      "\t하는 업무는 파이프라인 관리 입니다.\n",
      "\t하는 업무는 클라우드 관리 입니다.\n"
     ]
    }
   ],
   "source": [
    "# 데이터 엔지니어는 자기소개를 할 때 자신의 직무와 하는 업무에 대하여 대답을 하고 명함을 주지 않습니다.\n",
    "de.introduce()"
   ]
  },
  {
   "cell_type": "code",
   "execution_count": 13,
   "metadata": {},
   "outputs": [
    {
     "data": {
      "text/plain": [
       "'칼퇴'"
      ]
     },
     "execution_count": 13,
     "metadata": {},
     "output_type": "execute_result"
    }
   ],
   "source": [
    "# 데이터 엔지니어의 오늘 목표는 칼퇴였습니다.\n",
    "de._today_objective"
   ]
  },
  {
   "cell_type": "code",
   "execution_count": 15,
   "metadata": {},
   "outputs": [
    {
     "name": "stdout",
     "output_type": "stream",
     "text": [
      "칼퇴 아니면 야근 밖에 선택권이 없습니다.\n"
     ]
    },
    {
     "ename": "ValueError",
     "evalue": "",
     "output_type": "error",
     "traceback": [
      "\u001b[0;31m---------------------------------------------------------------------------\u001b[0m",
      "\u001b[0;31mValueError\u001b[0m                                Traceback (most recent call last)",
      "Input \u001b[0;32mIn [15]\u001b[0m, in \u001b[0;36m<cell line: 2>\u001b[0;34m()\u001b[0m\n\u001b[1;32m      1\u001b[0m \u001b[38;5;66;03m# 데이터 엔지니어가 날씨가 너무 좋아 \"땡땡이\"로 목표를 바꾸려했는데, 이것은 오늘의 목표가 될 수 없습니다.\u001b[39;00m\n\u001b[0;32m----> 2\u001b[0m de\u001b[38;5;241m.\u001b[39mtoday_objective \u001b[38;5;241m=\u001b[39m \u001b[38;5;124m\"\u001b[39m\u001b[38;5;124m땡땡이\u001b[39m\u001b[38;5;124m\"\u001b[39m\n",
      "File \u001b[0;32m~/Documents/cj/private_repo/Employee.py:75\u001b[0m, in \u001b[0;36mDataEngineer.today_objective\u001b[0;34m(self, value)\u001b[0m\n\u001b[1;32m     73\u001b[0m \u001b[38;5;28;01melse\u001b[39;00m : \n\u001b[1;32m     74\u001b[0m     \u001b[38;5;28mprint\u001b[39m(\u001b[38;5;124m\"\u001b[39m\u001b[38;5;124m칼퇴 아니면 야근 밖에 선택권이 없습니다.\u001b[39m\u001b[38;5;124m\"\u001b[39m)\n\u001b[0;32m---> 75\u001b[0m     \u001b[38;5;28;01mraise\u001b[39;00m \u001b[38;5;167;01mValueError\u001b[39;00m\n",
      "\u001b[0;31mValueError\u001b[0m: "
     ]
    }
   ],
   "source": [
    "# 데이터 엔지니어가 날씨가 너무 좋아 \"땡땡이\"로 목표를 바꾸려했는데, 이것은 오늘의 목표가 될 수 없습니다.\n",
    "de.today_objective = \"땡땡이\""
   ]
  },
  {
   "cell_type": "code",
   "execution_count": 16,
   "metadata": {},
   "outputs": [
    {
     "data": {
      "text/plain": [
       "'야근'"
      ]
     },
     "execution_count": 16,
     "metadata": {},
     "output_type": "execute_result"
    }
   ],
   "source": [
    "# 팀장님이 야근을 시킵니다. 그러면 데이터 엔지니어의 목표는 '야근'으로 바뀝니다.\n",
    "de._today_objective = \"야근\"\n",
    "de._today_objective"
   ]
  },
  {
   "cell_type": "markdown",
   "metadata": {},
   "source": [
    "- 상속이란 이와같이 데이터 종사자의 공통성 or 반복성을 통하여 개발/유지/보수를 편리하게 만듭니다.\n",
    "- 캡슐화는 오늘의 목표가 \"땡땡이\"가 될 수 없도록 외부에서 들어오는 정보를 통제할 수 있도록 합니다.\n",
    "    - _(single underscore)는 접근이 가능하나 외부에서 되도록 접근을 하지 말라는 의미입니다."
   ]
  },
  {
   "cell_type": "markdown",
   "metadata": {},
   "source": [
    "---\n",
    "### 데이터 사이언티스트의 클래스\n",
    "- 데이터사이언티스트 클래스는 데이터종사자가 가지고 있는 이름 뿐만 아니라 데이터 엔지니어가 가지고 있던 자신의 업무, 공개 이직 희망 의사와 솔직한 이직 희망 여부에 대한 정보를 담고 있습니다."
   ]
  },
  {
   "cell_type": "code",
   "execution_count": 17,
   "metadata": {},
   "outputs": [
    {
     "name": "stdout",
     "output_type": "stream",
     "text": [
      "Help on class DataScientist in module Employee:\n",
      "\n",
      "class DataScientist(DataWorker)\n",
      " |  DataScientist(name: str, working: list, _DataScientist__job_turnover: bool)\n",
      " |  \n",
      " |  데이터사이언티스트에 대한 클래스입니다.\n",
      " |  \n",
      " |  Method resolution order:\n",
      " |      DataScientist\n",
      " |      DataWorker\n",
      " |      builtins.object\n",
      " |  \n",
      " |  Methods defined here:\n",
      " |  \n",
      " |  __call__(self)\n",
      " |      데이터사이언티스트를 부를 때 대답합니다.\n",
      " |  \n",
      " |  __init__(self, name: str, working: list, _DataScientist__job_turnover: bool)\n",
      " |      데이터 사이언티스트 대한 정보를 초기화하는 함수입니다.\n",
      " |      \n",
      " |      Args:\n",
      " |          name (str): 이름\n",
      " |          working (list): 하는 업무 리스트\n",
      " |          job_turnover(bool) : 공개한 이직 희망 의사\n",
      " |          __job_turnover(bool) : 솔직한 이직 희망 의사\n",
      " |  \n",
      " |  introduce(self)\n",
      " |      자기소개를 합니다.\n",
      " |  \n",
      " |  question_turnover(self)\n",
      " |      이직 여부를 물어봅니다.\n",
      " |  \n",
      " |  ----------------------------------------------------------------------\n",
      " |  Data descriptors inherited from DataWorker:\n",
      " |  \n",
      " |  __dict__\n",
      " |      dictionary for instance variables (if defined)\n",
      " |  \n",
      " |  __weakref__\n",
      " |      list of weak references to the object (if defined)\n",
      "\n"
     ]
    }
   ],
   "source": [
    "help(Employee.DataScientist)"
   ]
  },
  {
   "cell_type": "code",
   "execution_count": 18,
   "metadata": {},
   "outputs": [],
   "source": [
    "# 데이터사이언티스트 C의 업무와 솔직한 이직희망의사에 대한 정보를 넣어 클래스를 만듭니다.\n",
    "ds = Employee.DataScientist(\"C\", [\"데이터분석\", \"모델링\", \"파이프라인 개발\"], True)"
   ]
  },
  {
   "cell_type": "code",
   "execution_count": 20,
   "metadata": {},
   "outputs": [
    {
     "name": "stdout",
     "output_type": "stream",
     "text": [
      "부르셨나요?\n",
      "그렇게 해석하시면 안되는데요\n"
     ]
    }
   ],
   "source": [
    "# 데이터사이언티스트 C는 부를 때(호출할 때)마다 데이터종사자와 같이 \"부르셨나요?\" 라고 대답한 뒤 데이터 엔지니어와는 다르게 \"그렇게 해석하시면 안되는데요\" 라고 덫붙입니다.\n",
    "ds()"
   ]
  },
  {
   "cell_type": "code",
   "execution_count": 21,
   "metadata": {},
   "outputs": [
    {
     "name": "stdout",
     "output_type": "stream",
     "text": [
      "데이터사이언티스트 C 입니다.\n",
      "\t하는 업무는 데이터분석 입니다.\n",
      "\t하는 업무는 모델링 입니다.\n",
      "\t하는 업무는 파이프라인 개발 입니다.\n"
     ]
    }
   ],
   "source": [
    "# 데이터사이언티스트는 자기를 데이터사이언티스트라고 하며 자신의 업무를 설명해줍니다.\n",
    "ds.introduce()"
   ]
  },
  {
   "cell_type": "code",
   "execution_count": 22,
   "metadata": {},
   "outputs": [
    {
     "data": {
      "text/plain": [
       "False"
      ]
     },
     "execution_count": 22,
     "metadata": {},
     "output_type": "execute_result"
    }
   ],
   "source": [
    "# 데이터사이언티스트의 이직 희망 의사를 물어봅니다.\n",
    "# 아니(False)라고 대답합니다.\n",
    "ds.job_turnover"
   ]
  },
  {
   "cell_type": "code",
   "execution_count": 23,
   "metadata": {},
   "outputs": [
    {
     "ename": "AttributeError",
     "evalue": "'DataScientist' object has no attribute '__job_turnover'",
     "output_type": "error",
     "traceback": [
      "\u001b[0;31m---------------------------------------------------------------------------\u001b[0m",
      "\u001b[0;31mAttributeError\u001b[0m                            Traceback (most recent call last)",
      "Input \u001b[0;32mIn [23]\u001b[0m, in \u001b[0;36m<cell line: 2>\u001b[0;34m()\u001b[0m\n\u001b[1;32m      1\u001b[0m \u001b[38;5;66;03m# 솔직한 이직 희망 의사를 물어보자 에러를 뱉습니다.\u001b[39;00m\n\u001b[0;32m----> 2\u001b[0m \u001b[43mds\u001b[49m\u001b[38;5;241;43m.\u001b[39;49m\u001b[43m__job_turnover\u001b[49m\n",
      "\u001b[0;31mAttributeError\u001b[0m: 'DataScientist' object has no attribute '__job_turnover'"
     ]
    }
   ],
   "source": [
    "# 솔직한 이직 희망 의사를 물어보자 에러를 뱉습니다.\n",
    "ds.__job_turnover"
   ]
  },
  {
   "cell_type": "code",
   "execution_count": 24,
   "metadata": {},
   "outputs": [
    {
     "name": "stdout",
     "output_type": "stream",
     "text": [
      "평생 다녀야죠!\n"
     ]
    }
   ],
   "source": [
    "# 이직할래? 라고 물어보자 평생 다닌다고 대답합니다.\n",
    "ds.question_turnover()"
   ]
  },
  {
   "cell_type": "code",
   "execution_count": 25,
   "metadata": {},
   "outputs": [
    {
     "name": "stdout",
     "output_type": "stream",
     "text": [
      "다음주에 면접이에요\n"
     ]
    }
   ],
   "source": [
    "# 술을 한잔 먹은 뒤 다시 이직 희망여부를 물어보자 다음주에 면접이라고 알려줍니다.\n",
    "ds._drink_alchol()\n",
    "ds.question_turnover()"
   ]
  },
  {
   "cell_type": "markdown",
   "metadata": {},
   "source": [
    "- 캡슐화 중 \\__(double underscore)는 외부에서 접근을 금지한 변수입니다.\n",
    "    - 이를 제어하기 위해서는 getter와 setter를 구현하여 동작을 하도록 해야합니다(ex. drink_alchol)"
   ]
  },
  {
   "cell_type": "markdown",
   "metadata": {},
   "source": [
    "---\n",
    "### 팀장 클래스\n",
    "- 팀장 클래스는 팀이름이 있고 하는 행동은 리딩하는 것입니다."
   ]
  },
  {
   "cell_type": "code",
   "execution_count": 28,
   "metadata": {},
   "outputs": [
    {
     "name": "stdout",
     "output_type": "stream",
     "text": [
      "Help on class Leader in module Employee:\n",
      "\n",
      "class Leader(builtins.object)\n",
      " |  Leader(team_name)\n",
      " |  \n",
      " |  Methods defined here:\n",
      " |  \n",
      " |  __init__(self, team_name)\n",
      " |      Initialize self.  See help(type(self)) for accurate signature.\n",
      " |  \n",
      " |  leading(self)\n",
      " |  \n",
      " |  ----------------------------------------------------------------------\n",
      " |  Data descriptors defined here:\n",
      " |  \n",
      " |  __dict__\n",
      " |      dictionary for instance variables (if defined)\n",
      " |  \n",
      " |  __weakref__\n",
      " |      list of weak references to the object (if defined)\n",
      "\n"
     ]
    }
   ],
   "source": [
    "help(Employee.Leader)"
   ]
  },
  {
   "cell_type": "code",
   "execution_count": 31,
   "metadata": {},
   "outputs": [],
   "source": [
    "leader = Employee.Leader(\"기획\")"
   ]
  },
  {
   "cell_type": "code",
   "execution_count": 32,
   "metadata": {},
   "outputs": [
    {
     "name": "stdout",
     "output_type": "stream",
     "text": [
      "기획팀 주간회의 시작하겠습니다.\n"
     ]
    }
   ],
   "source": [
    "leader.leading()"
   ]
  },
  {
   "cell_type": "markdown",
   "metadata": {},
   "source": [
    "---\n",
    "### 데이터 직군 리더\n",
    "- 데이터 직군 리더는 DataWorker와 Leader의 특성을 가지고 있습니다.\n",
    "- 고로 데이터 직군의 행동인 자기소개와 Leading을 두가지 다 할 수 있습니다."
   ]
  },
  {
   "cell_type": "code",
   "execution_count": 26,
   "metadata": {},
   "outputs": [
    {
     "name": "stdout",
     "output_type": "stream",
     "text": [
      "Help on class _DataLeader in module Employee:\n",
      "\n",
      "class _DataLeader(DataWorker, Leader)\n",
      " |  _DataLeader(name, team_name)\n",
      " |  \n",
      " |  팀장에 대한 클래스입니다.\n",
      " |  \n",
      " |  Method resolution order:\n",
      " |      _DataLeader\n",
      " |      DataWorker\n",
      " |      Leader\n",
      " |      builtins.object\n",
      " |  \n",
      " |  Methods defined here:\n",
      " |  \n",
      " |  __init__(self, name, team_name)\n",
      " |      팀장 정보를 초기화하는 함수입니다.\n",
      " |      \n",
      " |      Args:\n",
      " |          name (str): 이름\n",
      " |          team_name(str) : 팀 이름\n",
      " |  \n",
      " |  ----------------------------------------------------------------------\n",
      " |  Methods inherited from DataWorker:\n",
      " |  \n",
      " |  __call__(self)\n",
      " |      객체를 부를 때 대답합니다.\n",
      " |  \n",
      " |  introduce(self)\n",
      " |      자기 소개를 하고 명함을 건내줍니다.\n",
      " |      \n",
      " |      Returns:\n",
      " |          _type_: 명함\n",
      " |  \n",
      " |  ----------------------------------------------------------------------\n",
      " |  Data descriptors inherited from DataWorker:\n",
      " |  \n",
      " |  __dict__\n",
      " |      dictionary for instance variables (if defined)\n",
      " |  \n",
      " |  __weakref__\n",
      " |      list of weak references to the object (if defined)\n",
      " |  \n",
      " |  ----------------------------------------------------------------------\n",
      " |  Methods inherited from Leader:\n",
      " |  \n",
      " |  leading(self)\n",
      "\n"
     ]
    }
   ],
   "source": [
    "help(Employee._DataLeader)"
   ]
  },
  {
   "cell_type": "code",
   "execution_count": 33,
   "metadata": {},
   "outputs": [],
   "source": [
    "data_leader = Employee._DataLeader(\"J\", \"데이터사이언스팀\")"
   ]
  },
  {
   "cell_type": "code",
   "execution_count": 35,
   "metadata": {},
   "outputs": [
    {
     "name": "stdout",
     "output_type": "stream",
     "text": [
      "안녕하세요 데이터 직군에 종사하는 J 입니다.\n"
     ]
    },
    {
     "data": {
      "text/plain": [
       "'명함 : J'"
      ]
     },
     "execution_count": 35,
     "metadata": {},
     "output_type": "execute_result"
    }
   ],
   "source": [
    "data_leader.introduce()"
   ]
  },
  {
   "cell_type": "code",
   "execution_count": 36,
   "metadata": {},
   "outputs": [
    {
     "name": "stdout",
     "output_type": "stream",
     "text": [
      "데이터사이언스팀팀 주간회의 시작하겠습니다.\n"
     ]
    }
   ],
   "source": [
    "data_leader.leading()"
   ]
  },
  {
   "cell_type": "markdown",
   "metadata": {},
   "source": [
    "- 다형성은 이와같이 데이터 직군에 있으면서 팀장을 할 수도 있도록 다중 상속을 받아, 구현에 용이하도록하는 객체지향 프로그래밍입니다.\n",
    "- \\_DataLeader는 help에 정보가 나오지 않는데, 이는 위에서 설명한 python name mangling의 한 종류입니다."
   ]
  }
 ],
 "metadata": {
  "kernelspec": {
   "display_name": "Python 3 (ipykernel)",
   "language": "python",
   "name": "python3"
  },
  "language_info": {
   "codemirror_mode": {
    "name": "ipython",
    "version": 3
   },
   "file_extension": ".py",
   "mimetype": "text/x-python",
   "name": "python",
   "nbconvert_exporter": "python",
   "pygments_lexer": "ipython3",
   "version": "3.9.13"
  },
  "vscode": {
   "interpreter": {
    "hash": "31f2aee4e71d21fbe5cf8b01ff0e069b9275f58929596ceb00d14d90e3e16cd6"
   }
  }
 },
 "nbformat": 4,
 "nbformat_minor": 4
}
