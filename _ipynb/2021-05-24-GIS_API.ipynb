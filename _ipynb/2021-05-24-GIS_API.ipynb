{
 "cells": [
  {
   "cell_type": "markdown",
   "metadata": {},
   "source": [
    "---\n",
    "layout: post\n",
    "title: \"GIS 관련 API에 대한 도움글\"\n",
    "author: \"Chanjun Kim\"\n",
    "categories: Data분석\n",
    "tags: [Data, GIS, API, NAVER, KAKAO, TMAP, geocoding, 공간분석, 경로찾기]\n",
    "image: API_img.png\n",
    "---"
   ]
  },
  {
   "cell_type": "markdown",
   "metadata": {},
   "source": [
    "## 1. API란?\n",
    "API(Application Programming Interface, 응용 프로그램 프로그래밍 인터페이스) : 응용 프로그램에서 사용할 수 있도록, 운영 체제나 프로그래밍 언어가 제공하는 기능을 제어할 수 있게 만든 인터페이스를 뜻한다.<br/>\n",
    "> 출처 : https://ko.wikipedia.org/wiki/APIs"
   ]
  },
  {
   "cell_type": "markdown",
   "metadata": {},
   "source": [
    "![Oops](http://blog.wishket.com/wp-content/uploads/2019/10/API-%EC%89%BD%EA%B2%8C-%EC%95%8C%EC%95%84%EB%B3%B4%EA%B8%B0.png)<br/>\n",
    "> 출처 : http://blog.wishket.com/api%EB%9E%80-%EC%89%BD%EA%B2%8C-%EC%84%A4%EB%AA%85-%EA%B7%B8%EB%A6%B0%ED%81%B4%EB%9D%BC%EC%9D%B4%EC%96%B8%ED%8A%B8/"
   ]
  },
  {
   "cell_type": "markdown",
   "metadata": {},
   "source": [
    "### A. [Naver MAP API](https://www.ncloud.com/product/applicationService/maps) \n",
    "[네이버](https://www.ncloud.com/product)에서는 Storage, DB, 이미지, 자연어 등 다양한 API 서비스를 제공하고 있습니다. <br/>\n",
    "그 중에서 GIS 관련 서비스를 모아둔 MAPS 의 API에 대해서 살펴보겠습니다. <br/>\n",
    "위의 링크로 가게되면 서비스의 종류와 요금 안내를 받을 수 있습니다. 서비스를 상용화하지 않는다면 대부분 무료로 사용할 수 있다고 생각하시면 됩니다. <br/>\n",
    "자세한 내용은 [NAVER API 참조서](https://api.ncloud-docs.com/docs/home)를 참고하시기 바랍니다."
   ]
  },
  {
   "cell_type": "markdown",
   "metadata": {},
   "source": [
    "---\n",
    "일단 API를 사용하기 위해서는 [네이버 개발자 센터](https://developers.naver.com/main/)에 회원가입을 한 뒤<br/>\n",
    "[어플리케이션 등록](https://developers.naver.com/docs/common/openapiguide/appregister.md#%EC%95%A0%ED%94%8C%EB%A6%AC%EC%BC%80%EC%9D%B4%EC%85%98-%EB%93%B1%EB%A1%9D)을 하여 api key를 받아야합니다. <br/>\n",
    "저는 사전에 받은 api key를 불러오도록 하겠습니다."
   ]
  },
  {
   "cell_type": "code",
   "execution_count": null,
   "metadata": {},
   "outputs": [],
   "source": [
    "import os\n",
    "import sys\n",
    "\n",
    "\n",
    "import pandas as pd\n",
    "\n",
    "# API를 사용하기 위한 라이브러리\n",
    "import requests\n",
    "import json\n",
    "\n",
    "# 데이터 시각화를 위한 라이브러리\n",
    "import folium\n",
    "import matplotlib\n",
    "%matplotlib inline"
   ]
  },
  {
   "cell_type": "code",
   "execution_count": null,
   "metadata": {},
   "outputs": [],
   "source": [
    "key_csv = pd.read_csv(\"key/api_key.secret\", index_col = \"name\")"
   ]
  },
  {
   "cell_type": "markdown",
   "metadata": {},
   "source": [
    "위의 링크에 걸려있는 API 참조서에서 geocoding 과 reverse geocoding을 해보겠습니다.<br/>\n",
    "**geocoding 은 주소 -> 좌표**<br/>\n",
    "**reverse geocoding 은 좌표 -> 주소 변환을 해주는 역할을 합니다.**<br/>\n",
    "<br/>\n",
    "---\n",
    "참조서에서 request의 방식, header에 넣어야될 파라미터 값 그리고 요청 파라미터를 어떤 이름으로 어떻게 넣어야되는지 나와있습니다.<br/>\n",
    "예시를 위해서 서울 시청 주소를 geocoding 하여 좌표로 바꿔보도록 하겠습니다."
   ]
  },
  {
   "cell_type": "code",
   "execution_count": null,
   "metadata": {},
   "outputs": [],
   "source": [
    "# 위에서 말했던 header에 넣어야할 id와 key를 넣어주고 url 을 지정해줍니다.\n",
    "header = {}\n",
    "header[\"Accept\"]=\"application/json\"\n",
    "header[\"X-NCP-APIGW-API-KEY-ID\"] = key_csv.loc[\"naver_id\"][\"value\"]\n",
    "header[\"X-NCP-APIGW-API-KEY\"] = key_csv.loc[\"naver_key\"][\"value\"]"
   ]
  },
  {
   "cell_type": "code",
   "execution_count": null,
   "metadata": {},
   "outputs": [],
   "source": [
    "naver_geocoding = \"https://naveropenapi.apigw.ntruss.com/map-geocode/v2/geocode\"\n",
    "# 서울시청 주소\n",
    "exam_address = \"서울특별시 중구 세종대로 110\""
   ]
  },
  {
   "cell_type": "code",
   "execution_count": null,
   "metadata": {},
   "outputs": [],
   "source": [
    "# get 방식으로하기 위해 url 뒤에 ?를 붙이면 어떠한 데이터를 보내겠다는 이야기입니다. 그러므로 query 뒤에 주소를 하나 적어서 보내봅니다.\n",
    "naver_geturl = naver_geocoding + \"?query=\"+ str(exam_address)\n",
    "print(\"naver_geturl = {}\".format(naver_geturl))"
   ]
  },
  {
   "cell_type": "code",
   "execution_count": null,
   "metadata": {},
   "outputs": [],
   "source": [
    "res = requests.get(naver_geturl, headers = header)\n",
    "res_ = json.loads(res.text)\n",
    "res_"
   ]
  },
  {
   "cell_type": "markdown",
   "metadata": {},
   "source": [
    "---\n",
    "참조서에서 보시는 **응답바디**라는 부분과 똑같이 리턴을 받을 수 있게됩니다.\n",
    "아주 친절하게도 그냥 좌표만 나오는 것이 아니라 행정동과 건물의 이름 구주소 등도 알 수 있습니다.\n",
    "---"
   ]
  },
  {
   "cell_type": "code",
   "execution_count": null,
   "metadata": {},
   "outputs": [],
   "source": [
    "# python의 folium으로 띄워보겠습니다.\n",
    "m = folium.Map(\n",
    "    location=[res_[\"addresses\"][0][\"y\"],res_[\"addresses\"][0][\"x\"]],\n",
    "    zoom_start=18\n",
    ")\n",
    "\n",
    "folium.Marker(\n",
    "  location=[res_[\"addresses\"][0][\"y\"],res_[\"addresses\"][0][\"x\"]],\n",
    "  popup=res_[\"addresses\"][0][\"addressElements\"][6][\"longName\"],\n",
    "  icon=folium.Icon(color='red',icon='star')\n",
    ").add_to(m)\n",
    "\n",
    "m"
   ]
  },
  {
   "cell_type": "markdown",
   "metadata": {},
   "source": [
    "---\n",
    "다시 **reverse geocoding**을 통하여 좌표가 다시 서울시청 주소로 나오는지 확인해보겠습니다.<br/>\n",
    "reverse geocoding의 경우 출력 format을 요청 파라미터로 지정해주고, 변환 주소 타입이 지번 혹은 도로명인지에 대해서도 지정을 해주어야합니다. <br/>\n",
    "요청 파라미터에 도로명 주소와 json 형식으로 받아오도록 request를 해보겠습니다.\n",
    "\n",
    "---"
   ]
  },
  {
   "cell_type": "code",
   "execution_count": null,
   "metadata": {},
   "outputs": [],
   "source": [
    "naver_geocoding = \"https://naveropenapi.apigw.ntruss.com/map-reversegeocode/v2/gc\"\n",
    "exam_point = \",\".join([res_[\"addresses\"][0][\"x\"], res_[\"addresses\"][0][\"y\"]])\n",
    "output_format = \"json\""
   ]
  },
  {
   "cell_type": "code",
   "execution_count": null,
   "metadata": {},
   "outputs": [],
   "source": [
    "naver_geturl = f\"{naver_geocoding}?coords={str(exam_point)}&orders=roadaddr&output={output_format}\"\n",
    "print(\"naver_geturl = {}\".format(naver_geturl))"
   ]
  },
  {
   "cell_type": "code",
   "execution_count": null,
   "metadata": {},
   "outputs": [],
   "source": [
    "res = requests.get(naver_geturl, headers = header)\n",
    "res_ = json.loads(res.text)\n",
    "res_"
   ]
  },
  {
   "cell_type": "code",
   "execution_count": null,
   "metadata": {},
   "outputs": [],
   "source": [
    "print(\" \".join([res_[\"results\"][0][\"region\"][f\"area{i + 1}\"][\"name\"] for i in range(3)] + [res_[\"results\"][0][\"land\"][\"number1\"]]))\n",
    "print(exam_address)"
   ]
  },
  {
   "cell_type": "markdown",
   "metadata": {},
   "source": [
    "---\n",
    "결과가 조금 이상하게 나왔지만\n",
    "[세종대로? 태평대로?](https://dorojuso.kr/1114010300100310000019224/%EC%84%9C%EC%9A%B8%ED%8A%B9%EB%B3%84%EC%8B%9C-%EC%A4%91%EA%B5%AC-%EC%84%B8%EC%A2%85%EB%8C%80%EB%A1%9C-110-%ED%83%9C%ED%8F%89%EB%A1%9C1%EA%B0%80) <br/>\n",
    "잘 맞게 나왔다는 것을 알 수 있습니다.\n",
    "\n",
    "---"
   ]
  },
  {
   "cell_type": "markdown",
   "metadata": {},
   "source": [
    "---\n",
    "### **B. [Kakao MAP API](https://apis.map.kakao.com/web/)**\n",
    "카카오는 네이버에서 제공하는 모든 API를 모아둔 사이트가 있는 것과 달리 Kakao Map API 페이지가 따로 있습니다.<br/>\n",
    "API가 익숙하신 분들이라면 크게 상관 없겠지만 왠지 카카오가 좀 더 친절하다고 느껴집니다.&nbsp;&nbsp;&nbsp;&nbsp;&nbsp;&nbsp;&nbsp;&nbsp;&nbsp;&nbsp;&nbsp;&nbsp;&nbsp;&nbsp;&nbsp;&nbsp;*~~네이버도 예전에는 Map API 사이트가 따로 있었고 사이트 구조도 비슷했었습니다.~~* <br/>\n",
    "왜 더 친절하게 느껴지는 지는 [Kakao MAP API Sampler](https://apis.map.kakao.com/web/sample/) 여기에 들어가면 샘플 코드로 html과 js로 실행할 수 있는 샘플들도 할 수 있습니다.\n",
    "\n",
    "---\n",
    "\n",
    "\n",
    "#### **<u>HTML, CSS, JS 아무것도 모르는 데이터 사이언티스트인데 이걸 왜 쓰고 어떻게 쓰나요?</u>**\n",
    "물론 웹 관련하여 지식이 없는 분들에겐 어렵고 복잡하게만 느껴지시겠지만, <br/>\n",
    "굳이 지금 당장 파이썬을 안키고 자바스크립트에 간단하게 값만 넣으면 샘플로 효율적으로 작업하실 수 있습니다.\n",
    "\n",
    "---\n",
    "카카오도 다른 API들과 마찬가지로 회원가입과 어플리케이션 등록 후 key를 발급 받아야 사용할 수 있습니다.\n",
    "\n",
    "---\n",
    "Kakao MAP API 실습은 네이버에서는 볼 수 없었던 **키워드로 검색**하는 기능을 해보겠습니다."
   ]
  },
  {
   "cell_type": "markdown",
   "metadata": {},
   "source": []
  },
  {
   "cell_type": "markdown",
   "metadata": {},
   "source": [
    "---\n",
    "### C. [T map API]() \n"
   ]
  },
  {
   "cell_type": "code",
   "execution_count": null,
   "metadata": {},
   "outputs": [],
   "source": [
    "headers = {}\n",
    "headers[\"appKey\"] = key_csv.loc[\"tmap_key\"][\"value\"]\n",
    "headers[\"Content-Type\"] = \"application/json\"\n",
    "param = {}"
   ]
  },
  {
   "cell_type": "code",
   "execution_count": null,
   "metadata": {},
   "outputs": [],
   "source": [
    "# 여기서 좌표값을 string 타입으로 바꿔주지 않으면, api자체에서 type error가 뜹니다. 주의해서 string으로 바꿔주시길 바랍니다.\n",
    "param[\"startName\"] = tmp.iloc[0][\"장소\"]\n",
    "param[\"startX\"] = str(tmp.iloc[0][\"X_open\"])\n",
    "param[\"startY\"] = str(tmp.iloc[0][\"Y_open\"])\n",
    "param[\"startTime\"] = \"202002210900\""
   ]
  },
  {
   "cell_type": "code",
   "execution_count": null,
   "metadata": {},
   "outputs": [],
   "source": [
    "param[\"endName\"] = tmp.iloc[4][\"장소\"]\n",
    "param[\"endX\"] = str(tmp.iloc[4][\"X_open\"])\n",
    "param[\"endY\"] = str(tmp.iloc[4][\"Y_open\"])"
   ]
  },
  {
   "cell_type": "code",
   "execution_count": null,
   "metadata": {},
   "outputs": [],
   "source": [
    "param"
   ]
  },
  {
   "cell_type": "code",
   "execution_count": null,
   "metadata": {},
   "outputs": [],
   "source": [
    "viaPoints = [{\"viaPointId\" : str(a), \"viaPointName\" : tmp.iloc[a][\"장소\"] , \"viaX\" : str(tmp.iloc[a][\"X_open\"]), \"viaY\" : str(tmp.iloc[a][\"Y_open\"])} for a in range(1,4)]"
   ]
  },
  {
   "cell_type": "code",
   "execution_count": null,
   "metadata": {},
   "outputs": [],
   "source": [
    "viaPoints"
   ]
  },
  {
   "cell_type": "code",
   "execution_count": null,
   "metadata": {},
   "outputs": [],
   "source": [
    "param[\"viaPoints\"] = viaPoints"
   ]
  },
  {
   "cell_type": "code",
   "execution_count": null,
   "metadata": {},
   "outputs": [],
   "source": [
    "param"
   ]
  },
  {
   "cell_type": "code",
   "execution_count": null,
   "metadata": {},
   "outputs": [],
   "source": [
    "param[\"reqCoordType\"] = \"WGS84GEO\"\n",
    "param[\"resCoordType\"] = \"WGS84GEO\""
   ]
  },
  {
   "cell_type": "code",
   "execution_count": null,
   "metadata": {},
   "outputs": [],
   "source": [
    "res = requests.post(url = \"https://apis.openapi.sk.com/tmap/routes/routeSequential30?version=1&format=json\", data = json.dumps(param), headers = headers)"
   ]
  },
  {
   "cell_type": "code",
   "execution_count": null,
   "metadata": {
    "scrolled": true
   },
   "outputs": [],
   "source": [
    "res = res.json()"
   ]
  },
  {
   "cell_type": "code",
   "execution_count": null,
   "metadata": {
    "scrolled": true
   },
   "outputs": [],
   "source": [
    "# 경유지가 총 5개 이므로, line string 값이 4개가 나왔습니다. 이에 대한 index는 2~ 짝수의 인덱스에 들어가있습니다.\n",
    "res[\"features\"][2][\"geometry\"]"
   ]
  },
  {
   "cell_type": "code",
   "execution_count": null,
   "metadata": {},
   "outputs": [],
   "source": [
    "import geopandas as gpd\n",
    "from shapely.geometry import LineString"
   ]
  },
  {
   "cell_type": "code",
   "execution_count": null,
   "metadata": {},
   "outputs": [],
   "source": [
    "# 경유지가 총 5개 이므로, line string 값이 4개가 나왔습니다. 이에 대한 index는 2~ 짝수의 인덱스에 들어가있습니다.\n",
    "LineString(res[\"features\"][2][\"geometry\"][\"coordinates\"])"
   ]
  },
  {
   "cell_type": "code",
   "execution_count": null,
   "metadata": {},
   "outputs": [],
   "source": [
    "df = pd.DataFrame([[res[\"features\"][idx][\"properties\"][\"viaPointName\"], res[\"features\"][idx][\"geometry\"][\"coordinates\"]] for idx in range(len(res[\"features\"])) if idx % 2 != 0 ], columns = [\"name\", \"point\"])"
   ]
  },
  {
   "cell_type": "code",
   "execution_count": null,
   "metadata": {},
   "outputs": [],
   "source": [
    "res[\"features\"][2][\"geometry\"][\"coordinates\"][1:10]"
   ]
  },
  {
   "cell_type": "code",
   "execution_count": null,
   "metadata": {},
   "outputs": [],
   "source": [
    "df[\"geometry\"] = pd.NA"
   ]
  },
  {
   "cell_type": "code",
   "execution_count": null,
   "metadata": {},
   "outputs": [],
   "source": [
    "df.head()"
   ]
  },
  {
   "cell_type": "code",
   "execution_count": null,
   "metadata": {},
   "outputs": [],
   "source": [
    "for idx in range(1, len(res[\"features\"])) :\n",
    "    if idx % 2 == 0 :\n",
    "        df[\"geometry\"][idx/2-1] = LineString(res[\"features\"][idx][\"geometry\"][\"coordinates\"])"
   ]
  },
  {
   "cell_type": "code",
   "execution_count": null,
   "metadata": {},
   "outputs": [],
   "source": [
    "df.head()"
   ]
  },
  {
   "cell_type": "code",
   "execution_count": null,
   "metadata": {},
   "outputs": [],
   "source": [
    "gdf = gpd.GeoDataFrame(df, geometry = \"geometry\")"
   ]
  },
  {
   "cell_type": "code",
   "execution_count": null,
   "metadata": {},
   "outputs": [],
   "source": [
    "gdf.head()"
   ]
  },
  {
   "cell_type": "code",
   "execution_count": null,
   "metadata": {},
   "outputs": [],
   "source": [
    "# 결과가 잘 나왔는지 r의 리플랫과 비슷한 python의 folium으로 띄워보겠습니다.\n",
    "m = folium.Map(\n",
    "    location=[gdf[\"point\"][0][1],gdf[\"point\"][0][0]],\n",
    "    zoom_start=13\n",
    ")\n",
    "\n",
    "for idx in range(len(gdf)) :\n",
    "    folium.Marker(\n",
    "      location=[gdf[\"point\"][idx][1],gdf[\"point\"][idx][0]],\n",
    "      popup=gdf[\"name\"][idx],\n",
    "      icon=folium.Icon(color='red',icon='star')\n",
    "    ).add_to(m)\n",
    "m"
   ]
  },
  {
   "cell_type": "code",
   "execution_count": null,
   "metadata": {},
   "outputs": [],
   "source": [
    "folium.GeoJson(data=gdf.to_json()).add_to(m)\n",
    "m"
   ]
  },
  {
   "cell_type": "code",
   "execution_count": null,
   "metadata": {},
   "outputs": [],
   "source": []
  },
  {
   "cell_type": "code",
   "execution_count": null,
   "metadata": {},
   "outputs": [],
   "source": []
  },
  {
   "cell_type": "code",
   "execution_count": null,
   "metadata": {},
   "outputs": [],
   "source": []
  }
 ],
 "metadata": {
  "kernelspec": {
   "display_name": "Python 3",
   "language": "python",
   "name": "python3"
  },
  "language_info": {
   "codemirror_mode": {
    "name": "ipython",
    "version": 3
   },
   "file_extension": ".py",
   "mimetype": "text/x-python",
   "name": "python",
   "nbconvert_exporter": "python",
   "pygments_lexer": "ipython3",
   "version": "3.7.3"
  },
  "varInspector": {
   "cols": {
    "lenName": 16,
    "lenType": 16,
    "lenVar": 40
   },
   "kernels_config": {
    "python": {
     "delete_cmd_postfix": "",
     "delete_cmd_prefix": "del ",
     "library": "var_list.py",
     "varRefreshCmd": "print(var_dic_list())"
    },
    "r": {
     "delete_cmd_postfix": ") ",
     "delete_cmd_prefix": "rm(",
     "library": "var_list.r",
     "varRefreshCmd": "cat(var_dic_list()) "
    }
   },
   "types_to_exclude": [
    "module",
    "function",
    "builtin_function_or_method",
    "instance",
    "_Feature"
   ],
   "window_display": false
  }
 },
 "nbformat": 4,
 "nbformat_minor": 4
}
