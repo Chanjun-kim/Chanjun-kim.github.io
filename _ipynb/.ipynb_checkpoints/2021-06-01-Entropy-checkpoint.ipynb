{
 "cells": [
  {
   "cell_type": "markdown",
   "metadata": {},
   "source": [
    "---\n",
    "layout: post\n",
    "title: \"Entropy와 Gini계수\"\n",
    "author: \"Chanjun Kim\"\n",
    "categories: Data분석\n",
    "tags: [DecisionTree, 의사결정나무, 불순도, Entropy와, Gini, 엔트로피, 지니계수, InformationGain, information]\n",
    "image: 03_entropy_gini.png\n",
    "---"
   ]
  },
  {
   "cell_type": "markdown",
   "metadata": {},
   "source": [
    "## **목적**\n",
    "- 지난번 포스팅에 ensemble 모델에 관하여 이야기하면서 약한 모형으로 의사결정나무를 많이 사용하는 것을 알 수 있었습니다. 이번에는 의사결정 나무를 만들기 위하여 사용되는 Entropy와 gini index에 대해서 알아보도록 하겠습니다.\n",
    "<br/>\n",
    "<br/>\n"
   ]
  },
  {
   "cell_type": "markdown",
   "metadata": {},
   "source": [
    "### **트리 구축의 원칙**\n",
    "![Oops](https://mblogthumb-phinf.pstatic.net/MjAxODEyMDlfMjYz/MDAxNTQ0MzY1Njc0OTY4.hFiUNsT9cpXJORVg3QGSLdx1F78bgZbOktHa3e7emnwg.P0iA6eeREGDfir58hS-s8ZMOak_P5-qHPPaR_bJePhwg.PNG.ehdrndd/image.png?type=w800)\n",
    "> 출처 : https://m.blog.naver.com/PostView.naver?isHttpsRedirect=true&blogId=ehdrndd&logNo=221158124011\n",
    "- 결정 트리를 구축할 때는 Occamm의 면도날처럼 데이터의 특성을 가장 잘 반영하는 간단한 가설을 먼저 채택하도록 되어있습니다. 어떻게 간단하고 합리적인 트리를 만들 수 있을 지 알아보겠습니다.\n",
    "<br>\n",
    "<br>"
   ]
  },
  {
   "cell_type": "markdown",
   "metadata": {},
   "source": [
    "---\n",
    "\n",
    "### **1. 결정 트리**\n",
    "의사결정나무를 효율적으로 만들기 위해서는 변수의 기준에 따라 불순도/불확실성을 낮추는 방식으로 선택하여 만들게 됩니다.<br>\n",
    "이에 불순도(Impurity) / 불확실성(Uncertainty)를 감소하는 것을 Information gain이라고 하며 이것을 최소화시키기 위하여 Gini Index와 Entropy라는 개념을 사용하게 되고 의사결정 나무의 종류에 따라 다르게 쓰입니다.<br>\n",
    "sklearn에서 default로 쓰이는 건 gini계수이며 이는 CART(Classificatioin And Regression Tree)에 쓰입니다.<br>\n",
    "ID3 그리고 이것을 개선한 C4.5, C5.0에서는 Entropy를 계산한다고 합니다. <br>\n",
    "CART tree는 항상 2진 분류를 하는 방식으로 나타나며, Entropy 혹은 Entropy 기반으로 계산되는 Information gain으로 계산되며 다중 분리가 됩니다. <br>\n",
    "\n",
    "- Gini계수와 Entropy 모두 높을수록 불순도가 높아져 분류를 하기 어렵습니다. <br>\n",
    "![Oops](http://i.imgur.com/n3MVwHW.png)\n",
    "\n",
    "|비 고|ID3|C4.5, C5|CART|\n",
    "|:---:|:---:|:---:|:---:|\n",
    "|평가지수|Entropy|Information gain|Gini Index(범주), 분산의 차이(수치)|\n",
    "|분리방식|다지분리|다지분리(범주) 및 이진분리(수치)|항상2진 분리|\n",
    "|비고|수치형 데이터 못 다룸|||\n",
    "\n",
    "<br>\n",
    "<br>\n",
    "> 출처/참고자료 : https://ko.wikipedia.org/wiki/%EA%B2%B0%EC%A0%95_%ED%8A%B8%EB%A6%AC_%ED%95%99%EC%8A%B5%EB%B2%95 <br>\n",
    "> 출처/참고자료 : https://m.blog.naver.com/PostView.naver?isHttpsRedirect=true&blogId=trashx&logNo=60099037740 <br>\n",
    "> 출처/참고자료 : https://ratsgo.github.io/machine%20learning/2017/03/26/tree/"
   ]
  },
  {
   "cell_type": "markdown",
   "metadata": {},
   "source": [
    "---\n",
    "\n",
    "### **1. Gini Index**\n",
    "일단 sklearn의 DecisionTreeClassifier의 default 값인 Gini 계수에 대해서 먼저 설명하겠습니다. <br> "
   ]
  },
  {
   "cell_type": "markdown",
   "metadata": {},
   "source": [
    "우선 Gini index의 공식입니다. <br>\n",
    "\n",
    "- 영역의 데이터 비율을 제곱하여 더한 값을 1에서 빼주게 된다.<br>\n",
    "![Oops](https://blog.kakaocdn.net/dn/uwQUP/btquI1QZpzV/zg919kn8JXk2n0bWovsYkk/img.png) <br>\n",
    "<br>\n",
    "- 두개 영역 이상이 되면 비율의 제곱의 비율을 곱하여 1에서 빼주게 된다.<br>\n",
    "![Oops](https://blog.kakaocdn.net/dn/cfpPHK/btquKIXbRpq/5WF8UDRqrRAG5itVMx1oW0/img.png)\n",
    "> 출처 : https://soobarkbar.tistory.com/17\n",
    "\n",
    "<br>\n",
    "\n",
    "- 최대값을 보게되면 1 - ( (1/2)^2 + (1/2)^2 ) = 0.5\n",
    "- 최소값을 보게되면 1 - ( 1^2 + 0^2 ) = 0"
   ]
  },
  {
   "cell_type": "code",
   "execution_count": 83,
   "metadata": {},
   "outputs": [],
   "source": [
    "import os\n",
    "import sys\n",
    "\n",
    "import math\n",
    "import random\n",
    "import numpy as np\n",
    "import pandas as pd\n",
    "import scipy\n",
    "\n",
    "from sklearn import tree\n",
    "from sklearn.tree import DecisionTreeClassifier\n",
    "\n",
    "import matplotlib as mpl\n",
    "from matplotlib import pyplot as plt\n",
    "from plotnine import *\n",
    "\n",
    "import graphviz\n",
    "from sklearn.preprocessing import OneHotEncoder\n",
    "\n",
    "%matplotlib inline"
   ]
  },
  {
   "cell_type": "code",
   "execution_count": 84,
   "metadata": {},
   "outputs": [
    {
     "data": {
      "text/html": [
       "<div>\n",
       "<style scoped>\n",
       "    .dataframe tbody tr th:only-of-type {\n",
       "        vertical-align: middle;\n",
       "    }\n",
       "\n",
       "    .dataframe tbody tr th {\n",
       "        vertical-align: top;\n",
       "    }\n",
       "\n",
       "    .dataframe thead th {\n",
       "        text-align: right;\n",
       "    }\n",
       "</style>\n",
       "<table border=\"1\" class=\"dataframe\">\n",
       "  <thead>\n",
       "    <tr style=\"text-align: right;\">\n",
       "      <th></th>\n",
       "      <th>Outlook</th>\n",
       "      <th>Temperature</th>\n",
       "      <th>Humidity</th>\n",
       "      <th>Wind</th>\n",
       "      <th>PlayTennis</th>\n",
       "    </tr>\n",
       "    <tr>\n",
       "      <th>Day</th>\n",
       "      <th></th>\n",
       "      <th></th>\n",
       "      <th></th>\n",
       "      <th></th>\n",
       "      <th></th>\n",
       "    </tr>\n",
       "  </thead>\n",
       "  <tbody>\n",
       "    <tr>\n",
       "      <th>D1</th>\n",
       "      <td>Sunny</td>\n",
       "      <td>Hot</td>\n",
       "      <td>High</td>\n",
       "      <td>Weak</td>\n",
       "      <td>No</td>\n",
       "    </tr>\n",
       "    <tr>\n",
       "      <th>D2</th>\n",
       "      <td>Sunny</td>\n",
       "      <td>Hot</td>\n",
       "      <td>High</td>\n",
       "      <td>Strong</td>\n",
       "      <td>No</td>\n",
       "    </tr>\n",
       "    <tr>\n",
       "      <th>D3</th>\n",
       "      <td>Overcast</td>\n",
       "      <td>Hot</td>\n",
       "      <td>High</td>\n",
       "      <td>Weak</td>\n",
       "      <td>Yes</td>\n",
       "    </tr>\n",
       "    <tr>\n",
       "      <th>D4</th>\n",
       "      <td>Rain</td>\n",
       "      <td>Mild</td>\n",
       "      <td>High</td>\n",
       "      <td>Weak</td>\n",
       "      <td>Yes</td>\n",
       "    </tr>\n",
       "    <tr>\n",
       "      <th>D5</th>\n",
       "      <td>Rain</td>\n",
       "      <td>Cool</td>\n",
       "      <td>Normal</td>\n",
       "      <td>Weak</td>\n",
       "      <td>Yes</td>\n",
       "    </tr>\n",
       "    <tr>\n",
       "      <th>D6</th>\n",
       "      <td>Rain</td>\n",
       "      <td>Cool</td>\n",
       "      <td>Normal</td>\n",
       "      <td>Strong</td>\n",
       "      <td>No</td>\n",
       "    </tr>\n",
       "    <tr>\n",
       "      <th>D7</th>\n",
       "      <td>Overcast</td>\n",
       "      <td>Cool</td>\n",
       "      <td>Normal</td>\n",
       "      <td>Strong</td>\n",
       "      <td>Yes</td>\n",
       "    </tr>\n",
       "    <tr>\n",
       "      <th>D8</th>\n",
       "      <td>Sunny</td>\n",
       "      <td>Mild</td>\n",
       "      <td>High</td>\n",
       "      <td>Weak</td>\n",
       "      <td>No</td>\n",
       "    </tr>\n",
       "    <tr>\n",
       "      <th>D9</th>\n",
       "      <td>Sunny</td>\n",
       "      <td>Cool</td>\n",
       "      <td>Normal</td>\n",
       "      <td>Weak</td>\n",
       "      <td>Yes</td>\n",
       "    </tr>\n",
       "    <tr>\n",
       "      <th>D10</th>\n",
       "      <td>Rain</td>\n",
       "      <td>Mild</td>\n",
       "      <td>Normal</td>\n",
       "      <td>Weak</td>\n",
       "      <td>Yes</td>\n",
       "    </tr>\n",
       "    <tr>\n",
       "      <th>D11</th>\n",
       "      <td>Sunny</td>\n",
       "      <td>Mild</td>\n",
       "      <td>Normal</td>\n",
       "      <td>Strong</td>\n",
       "      <td>Yes</td>\n",
       "    </tr>\n",
       "    <tr>\n",
       "      <th>D12</th>\n",
       "      <td>Overcast</td>\n",
       "      <td>Mild</td>\n",
       "      <td>High</td>\n",
       "      <td>Strong</td>\n",
       "      <td>Yes</td>\n",
       "    </tr>\n",
       "    <tr>\n",
       "      <th>D13</th>\n",
       "      <td>Overcast</td>\n",
       "      <td>Hot</td>\n",
       "      <td>Normal</td>\n",
       "      <td>Weak</td>\n",
       "      <td>Yes</td>\n",
       "    </tr>\n",
       "    <tr>\n",
       "      <th>D14</th>\n",
       "      <td>Rain</td>\n",
       "      <td>Mild</td>\n",
       "      <td>High</td>\n",
       "      <td>Strong</td>\n",
       "      <td>No</td>\n",
       "    </tr>\n",
       "  </tbody>\n",
       "</table>\n",
       "</div>"
      ],
      "text/plain": [
       "      Outlook Temperature Humidity    Wind PlayTennis\n",
       "Day                                                  \n",
       "D1      Sunny         Hot     High    Weak         No\n",
       "D2      Sunny         Hot     High  Strong         No\n",
       "D3   Overcast         Hot     High    Weak        Yes\n",
       "D4       Rain        Mild     High    Weak        Yes\n",
       "D5       Rain        Cool   Normal    Weak        Yes\n",
       "D6       Rain        Cool   Normal  Strong         No\n",
       "D7   Overcast        Cool   Normal  Strong        Yes\n",
       "D8      Sunny        Mild     High    Weak         No\n",
       "D9      Sunny        Cool   Normal    Weak        Yes\n",
       "D10      Rain        Mild   Normal    Weak        Yes\n",
       "D11     Sunny        Mild   Normal  Strong        Yes\n",
       "D12  Overcast        Mild     High  Strong        Yes\n",
       "D13  Overcast         Hot   Normal    Weak        Yes\n",
       "D14      Rain        Mild     High  Strong         No"
      ]
     },
     "execution_count": 84,
     "metadata": {},
     "output_type": "execute_result"
    }
   ],
   "source": [
    "tennis = pd.read_csv(\"data/tennis.csv\", index_col = \"Day\")\n",
    "tennis"
   ]
  },
  {
   "cell_type": "markdown",
   "metadata": {},
   "source": [
    "- 위와 같은 데이터가 있다고 할 때, 우리는 어떤 요인이 가장 확실한(불확실성이 적은) 변수일지 생각을 하고 트리를 만들어야합니다."
   ]
  },
  {
   "cell_type": "markdown",
   "metadata": {},
   "source": [
    "<br>\n",
    "<br>\n",
    "\n",
    "아무것도 나누지 않았을 때 gini계수를 구하는 함수를 만든 후 얼마인지 출력해보겠습니다"
   ]
  },
  {
   "cell_type": "code",
   "execution_count": 85,
   "metadata": {},
   "outputs": [],
   "source": [
    "def get_unique_dict(df) :\n",
    "    return {x : list(df[x].unique()) for x in [\"Outlook\", \"Temperature\", \"Humidity\", \"Wind\"]}"
   ]
  },
  {
   "cell_type": "code",
   "execution_count": 86,
   "metadata": {},
   "outputs": [],
   "source": [
    "def get_gini(df, y_col) :\n",
    "    Ys = df[y_col].value_counts()\n",
    "    total_row = len(df)\n",
    "    return 1 - np.sum([np.square(len(df[df[y_col] == y]) / total_row) for y in Ys.index])"
   ]
  },
  {
   "cell_type": "code",
   "execution_count": 87,
   "metadata": {},
   "outputs": [],
   "source": [
    "def gini_split(df, y_col, col, feature) :\n",
    "    r1 = len(df[df[col] == feature])\n",
    "    Y1 = dict(df[df[col] == feature][y_col].value_counts())\n",
    "    r2 = len(df[df[col] != feature])\n",
    "    Y2 = dict(df[df[col] != feature][y_col].value_counts())\n",
    "    \n",
    "    ratio = r1 / (r1 + r2)\n",
    "    gi1 = 1 - np.sum([np.square(len(df[(df[col] == feature) & (df[y_col] == x)]) / r1) for x, y in Y1.items()])\n",
    "    gi2 = 1 - np.sum([np.square(len(df[(df[col] != feature) & (df[y_col] == x)]) / r2) for x, y in Y2.items()])\n",
    "    \n",
    "    return (ratio * gi1) + ((1-ratio) * gi2)"
   ]
  },
  {
   "cell_type": "markdown",
   "metadata": {},
   "source": [
    "어떤 기준으로 나누었을 때 gini계수를 구하는 함수를 만들어 예시로 Outlook이 Sunny일 때 gini 계수를 구해보겠습니다."
   ]
  },
  {
   "cell_type": "code",
   "execution_count": 88,
   "metadata": {},
   "outputs": [
    {
     "data": {
      "text/plain": [
       "0.4591836734693877"
      ]
     },
     "execution_count": 88,
     "metadata": {},
     "output_type": "execute_result"
    }
   ],
   "source": [
    "get_gini(tennis, \"PlayTennis\")"
   ]
  },
  {
   "cell_type": "markdown",
   "metadata": {},
   "source": [
    "아무것도 나누지 않았을 때보다, Sunny로 나누었을 때 gini계수가 줄어드는 것을 볼 수 있습니다.<br>\n",
    "이 때 이 차이값을 Information gain(정보획득)이라고 합니다. 그리고 정보획득량이 많은 쪽을 선택하여 트리의 구조를 만들기 시작합니다."
   ]
  },
  {
   "cell_type": "code",
   "execution_count": 89,
   "metadata": {},
   "outputs": [
    {
     "name": "stdout",
     "output_type": "stream",
     "text": [
      "Outlook, Sunny 기준 split 후 gini 계수 : 0.3936507936507936\n",
      "information gain : 0.06553287981859413\n"
     ]
    }
   ],
   "source": [
    "split_point = [\"Outlook\", \"Sunny\"]\n",
    "print(\"{}, {} 기준 split 후 gini 계수 : {}\".format(*split_point, gini_split(tennis, \"PlayTennis\", *split_point)))\n",
    "print(\"information gain : {}\".format(get_gini(tennis, \"PlayTennis\") - gini_split(tennis, \"PlayTennis\", *split_point)))"
   ]
  },
  {
   "cell_type": "markdown",
   "metadata": {},
   "source": [
    "- 이제 모든 변수에 대해서 각각의 gini계수를 구하여 정보획득량이 많은, 즉 gini계수가 적은 변수를 선정하여 트리를 만들어갑니다."
   ]
  },
  {
   "cell_type": "code",
   "execution_count": 90,
   "metadata": {},
   "outputs": [
    {
     "data": {
      "text/plain": [
       "{'Outlook': ['Sunny', 'Overcast', 'Rain'],\n",
       " 'Temperature': ['Hot', 'Mild', 'Cool'],\n",
       " 'Humidity': ['High', 'Normal'],\n",
       " 'Wind': ['Weak', 'Strong']}"
      ]
     },
     "execution_count": 90,
     "metadata": {},
     "output_type": "execute_result"
    }
   ],
   "source": [
    "y_col = \"PlayTennis\"\n",
    "unique_dict = get_unique_dict(tennis)\n",
    "unique_dict"
   ]
  },
  {
   "cell_type": "code",
   "execution_count": 91,
   "metadata": {},
   "outputs": [
    {
     "data": {
      "text/plain": [
       "['col : Outlook, split_feature : Sunny : gini_index = 0.3936507936507936',\n",
       " 'col : Outlook, split_feature : Overcast : gini_index = 0.35714285714285715',\n",
       " 'col : Outlook, split_feature : Rain : gini_index = 0.4571428571428571',\n",
       " 'col : Temperature, split_feature : Hot : gini_index = 0.4428571428571429',\n",
       " 'col : Temperature, split_feature : Mild : gini_index = 0.4583333333333333',\n",
       " 'col : Temperature, split_feature : Cool : gini_index = 0.45',\n",
       " 'col : Humidity, split_feature : High : gini_index = 0.3673469387755103',\n",
       " 'col : Humidity, split_feature : Normal : gini_index = 0.3673469387755103',\n",
       " 'col : Wind, split_feature : Weak : gini_index = 0.4285714285714286',\n",
       " 'col : Wind, split_feature : Strong : gini_index = 0.42857142857142855']"
      ]
     },
     "execution_count": 91,
     "metadata": {},
     "output_type": "execute_result"
    }
   ],
   "source": [
    "[f\"col : {idx}, split_feature : {v} : gini_index = {gini_split(tennis, y_col, idx, v)}\" for idx, val in unique_dict.items() for v in val]"
   ]
  },
  {
   "cell_type": "code",
   "execution_count": 92,
   "metadata": {},
   "outputs": [],
   "source": [
    "gini_df = pd.DataFrame([[idx, v, gini_split(tennis, y_col, idx, v)] for idx, val in to_gini.items() for v in val], columns = [\"cat1\", \"cat2\", \"gini\"])"
   ]
  },
  {
   "cell_type": "code",
   "execution_count": 93,
   "metadata": {},
   "outputs": [
    {
     "name": "stdout",
     "output_type": "stream",
     "text": [
      "cat1    Temperature\n",
      "cat2           Mild\n",
      "gini       0.458333\n",
      "Name: 4, dtype: object\n",
      "cat1     Outlook\n",
      "cat2    Overcast\n",
      "gini    0.357143\n",
      "Name: 1, dtype: object\n"
     ]
    }
   ],
   "source": [
    "print(gini_df.iloc[gini_df[\"gini\"].argmax()])\n",
    "print(gini_df.iloc[gini_df[\"gini\"].argmin()])"
   ]
  },
  {
   "cell_type": "markdown",
   "metadata": {},
   "source": [
    "---\n",
    "임의로 x, y좌표를 생성하여 정보들이 얼마나 흩어져있는지 확인해보겠습니다."
   ]
  },
  {
   "cell_type": "code",
   "execution_count": 94,
   "metadata": {},
   "outputs": [],
   "source": [
    "def generate_xy(df, split_col = None, split_value = None) :\n",
    "    if split_col == None :\n",
    "        return df.assign(x = [random.random() for _ in range(len(df))], y = [random.random() for _ in range(len(df))])\n",
    "    else :\n",
    "        tmp_ = df[df[split_col] == split_value]\n",
    "        tmp__ = df[df[split_col] != split_value]\n",
    "        return pd.concat([tmp_.assign(x = [random.random() / 2 for _ in range(len(tmp_))], y = [random.random() for _ in range(len(tmp_))]),\n",
    "                 tmp__.assign(x = [(random.random() / 2) + 0.5 for _ in range(len(tmp__))], y = [random.random() for _ in range(len(tmp__))])] )"
   ]
  },
  {
   "cell_type": "markdown",
   "metadata": {},
   "source": [
    "- 아무런 기준을 두지 않았을 때는 정보를 구분할 수 있는 정보가 없습니다."
   ]
  },
  {
   "cell_type": "code",
   "execution_count": 95,
   "metadata": {},
   "outputs": [
    {
     "name": "stderr",
     "output_type": "stream",
     "text": [
      "C:\\Users\\Computer\\Anaconda3\\lib\\site-packages\\plotnine\\ggplot.py:706: UserWarning: Saving 6.4 x 4.8 in image.\n",
      "  from_inches(height, units), units))\n",
      "C:\\Users\\Computer\\Anaconda3\\lib\\site-packages\\plotnine\\ggplot.py:707: UserWarning: Filename: ../assets/img/2021-06-01-Entropy/1.jpg\n",
      "  warn('Filename: {}'.format(filename))\n"
     ]
    }
   ],
   "source": [
    "p = (\n",
    "    ggplot(data = generate_xy(tennis), mapping = aes(x = \"x\", y = \"y\", color = y_col)) +\n",
    "    geom_point() +\n",
    "    theme_bw()\n",
    ")\n",
    "p.save(\"../assets/img/2021-06-01-Entropy/1.jpg\")"
   ]
  },
  {
   "cell_type": "markdown",
   "metadata": {},
   "source": [
    "![Oops](../assets/img/2021-06-01-Entropy/1.jpg)"
   ]
  },
  {
   "cell_type": "markdown",
   "metadata": {},
   "source": [
    "- Outlook이 Overcast로 나누었을 때, Yes 4개가 확실히 구분되는 것을 볼 수 있습니다."
   ]
  },
  {
   "cell_type": "code",
   "execution_count": 86,
   "metadata": {},
   "outputs": [
    {
     "data": {
      "image/png": "[encoded data removed]",
      "text/plain": [
       "<Figure size 640x480 with 1 Axes>"
      ]
     },
     "metadata": {},
     "output_type": "display_data"
    },
    {
     "data": {
      "text/plain": [
       "<ggplot: (154254005238)>"
      ]
     },
     "execution_count": 86,
     "metadata": {},
     "output_type": "execute_result"
    }
   ],
   "source": [
    "split_list = [\"Outlook\", \"Overcast\"]\n",
    "(\n",
    "    ggplot(data = generate_xy(tennis, *split_list), mapping = aes(x = \"x\", y = \"y\", color = y_col)) +\n",
    "    geom_point() +\n",
    "    geom_vline(xintercept = 0.5, color = \"red\", alpha = 0.7) +\n",
    "    theme_bw() +\n",
    ")"
   ]
  },
  {
   "cell_type": "markdown",
   "metadata": {},
   "source": [
    "- 정보획득량이 가장 큰 Temperature가 Mild로 나누었을 때입니다."
   ]
  },
  {
   "cell_type": "code",
   "execution_count": 128,
   "metadata": {},
   "outputs": [
    {
     "data": {
      "image/png": "[encoded data removed]",
      "text/plain": [
       "<Figure size 640x480 with 1 Axes>"
      ]
     },
     "metadata": {},
     "output_type": "display_data"
    },
    {
     "data": {
      "text/plain": [
       "<ggplot: (-9223371882599089618)>"
      ]
     },
     "execution_count": 128,
     "metadata": {},
     "output_type": "execute_result"
    }
   ],
   "source": [
    "split_list = [\"Temperature\", \"Mild\"]\n",
    "(\n",
    "    ggplot(data = generate_xy(tennis, *split_list), mapping = aes(x = \"x\", y = \"y\", color = y_col)) +\n",
    "    geom_point() +\n",
    "    geom_vline(xintercept = 0.5, color = \"red\", alpha = 0.7) +\n",
    "    theme_bw()\n",
    ")"
   ]
  },
  {
   "cell_type": "markdown",
   "metadata": {},
   "source": [
    "- Outlook이 Sunny, Rain으로 각각 나누었을 때입니다."
   ]
  },
  {
   "cell_type": "code",
   "execution_count": 88,
   "metadata": {},
   "outputs": [
    {
     "data": {
      "image/png": "[encoded data removed]",
      "text/plain": [
       "<Figure size 640x480 with 1 Axes>"
      ]
     },
     "metadata": {},
     "output_type": "display_data"
    },
    {
     "data": {
      "text/plain": [
       "<ggplot: (-9223371882599508634)>"
      ]
     },
     "execution_count": 88,
     "metadata": {},
     "output_type": "execute_result"
    }
   ],
   "source": [
    "split_list = [\"Outlook\", \"Sunny\"]\n",
    "(\n",
    "    ggplot(data = generate_xy(tennis, *split_list), mapping = aes(x = \"x\", y = \"y\", color = y_col)) +\n",
    "    geom_point() +\n",
    "    geom_vline(xintercept = 0.5, color = \"red\", alpha = 0.7) +\n",
    "    theme_bw()\n",
    ")"
   ]
  },
  {
   "cell_type": "code",
   "execution_count": 89,
   "metadata": {},
   "outputs": [
    {
     "data": {
      "image/png": "[encoded data removed]",
      "text/plain": [
       "<Figure size 640x480 with 1 Axes>"
      ]
     },
     "metadata": {},
     "output_type": "display_data"
    },
    {
     "data": {
      "text/plain": [
       "<ggplot: (154255759259)>"
      ]
     },
     "execution_count": 89,
     "metadata": {},
     "output_type": "execute_result"
    }
   ],
   "source": [
    "split_list = [\"Outlook\", \"Rain\"]\n",
    "(\n",
    "    ggplot(data = generate_xy(tennis, *split_list), mapping = aes(x = \"x\", y = \"y\", color = y_col)) +\n",
    "    geom_point() +\n",
    "    geom_vline(xintercept = 0.5, color = \"red\", alpha = 0.7) +\n",
    "    theme_bw()\n",
    ")"
   ]
  },
  {
   "cell_type": "markdown",
   "metadata": {},
   "source": [
    "#### **실제 tree 모델과 비교하기 위하여 OneHotEncoding 후 트리모형을 돌려보도록 하겠습니다."
   ]
  },
  {
   "cell_type": "code",
   "execution_count": 23,
   "metadata": {},
   "outputs": [],
   "source": [
    "cols = [\"Outlook\", \"Temperature\", \"Humidity\", \"Wind\"]\n",
    "oe = OneHotEncoder()"
   ]
  },
  {
   "cell_type": "code",
   "execution_count": 32,
   "metadata": {},
   "outputs": [],
   "source": [
    "Xs = pd.get_dummies(tennis[cols])\n",
    "Ys = tennis[y_col]"
   ]
  },
  {
   "cell_type": "code",
   "execution_count": 63,
   "metadata": {},
   "outputs": [
    {
     "data": {
      "text/plain": [
       "DecisionTreeClassifier(ccp_alpha=0.0, class_weight=None, criterion='gini',\n",
       "                       max_depth=None, max_features=None, max_leaf_nodes=None,\n",
       "                       min_impurity_decrease=0.0, min_impurity_split=None,\n",
       "                       min_samples_leaf=1, min_samples_split=2,\n",
       "                       min_weight_fraction_leaf=0.0, presort='deprecated',\n",
       "                       random_state=None, splitter='best')"
      ]
     },
     "execution_count": 63,
     "metadata": {},
     "output_type": "execute_result"
    }
   ],
   "source": [
    "dt_gini = DecisionTreeClassifier(criterion=\"gini\")\n",
    "dt_gini.fit(Xs, Ys)"
   ]
  },
  {
   "cell_type": "code",
   "execution_count": 64,
   "metadata": {},
   "outputs": [
    {
     "data": {
      "image/svg+xml": [
       "<?xml version=\"1.0\" encoding=\"UTF-8\" standalone=\"no\"?>\r\n",
       "<!DOCTYPE svg PUBLIC \"-//W3C//DTD SVG 1.1//EN\"\r\n",
       " \"http://www.w3.org/Graphics/SVG/1.1/DTD/svg11.dtd\">\r\n",
       "<!-- Generated by graphviz version 2.38.0 (20140413.2041)\r\n",
       " -->\r\n",
       "<!-- Title: Tree Pages: 1 -->\r\n",
       "<svg width=\"608pt\" height=\"552pt\"\r\n",
       " viewBox=\"0.00 0.00 608.00 552.00\" xmlns=\"http://www.w3.org/2000/svg\" xmlns:xlink=\"http://www.w3.org/1999/xlink\">\r\n",
       "<g id=\"graph0\" class=\"graph\" transform=\"scale(1 1) rotate(0) translate(4 548)\">\r\n",
       "<title>Tree</title>\r\n",
       "<polygon fill=\"white\" stroke=\"none\" points=\"-4,4 -4,-548 604,-548 604,4 -4,4\"/>\r\n",
       "<!-- 0 -->\r\n",
       "<g id=\"node1\" class=\"node\"><title>0</title>\r\n",
       "<polygon fill=\"#a7d3f3\" stroke=\"black\" points=\"448,-544 287,-544 287,-461 448,-461 448,-544\"/>\r\n",
       "<text text-anchor=\"middle\" x=\"367.5\" y=\"-528.8\" font-family=\"Times New Roman,serif\" font-size=\"14.00\">Outlook_Overcast &lt;= 0.5</text>\r\n",
       "<text text-anchor=\"middle\" x=\"367.5\" y=\"-513.8\" font-family=\"Times New Roman,serif\" font-size=\"14.00\">gini = 0.459</text>\r\n",
       "<text text-anchor=\"middle\" x=\"367.5\" y=\"-498.8\" font-family=\"Times New Roman,serif\" font-size=\"14.00\">samples = 14</text>\r\n",
       "<text text-anchor=\"middle\" x=\"367.5\" y=\"-483.8\" font-family=\"Times New Roman,serif\" font-size=\"14.00\">value = [5, 9]</text>\r\n",
       "<text text-anchor=\"middle\" x=\"367.5\" y=\"-468.8\" font-family=\"Times New Roman,serif\" font-size=\"14.00\">class = Yes</text>\r\n",
       "</g>\r\n",
       "<!-- 1 -->\r\n",
       "<g id=\"node2\" class=\"node\"><title>1</title>\r\n",
       "<polygon fill=\"#ffffff\" stroke=\"black\" points=\"375.5,-425 217.5,-425 217.5,-342 375.5,-342 375.5,-425\"/>\r\n",
       "<text text-anchor=\"middle\" x=\"296.5\" y=\"-409.8\" font-family=\"Times New Roman,serif\" font-size=\"14.00\">Humidity_Normal &lt;= 0.5</text>\r\n",
       "<text text-anchor=\"middle\" x=\"296.5\" y=\"-394.8\" font-family=\"Times New Roman,serif\" font-size=\"14.00\">gini = 0.5</text>\r\n",
       "<text text-anchor=\"middle\" x=\"296.5\" y=\"-379.8\" font-family=\"Times New Roman,serif\" font-size=\"14.00\">samples = 10</text>\r\n",
       "<text text-anchor=\"middle\" x=\"296.5\" y=\"-364.8\" font-family=\"Times New Roman,serif\" font-size=\"14.00\">value = [5, 5]</text>\r\n",
       "<text text-anchor=\"middle\" x=\"296.5\" y=\"-349.8\" font-family=\"Times New Roman,serif\" font-size=\"14.00\">class = No</text>\r\n",
       "</g>\r\n",
       "<!-- 0&#45;&gt;1 -->\r\n",
       "<g id=\"edge1\" class=\"edge\"><title>0&#45;&gt;1</title>\r\n",
       "<path fill=\"none\" stroke=\"black\" d=\"M342.867,-460.907C337.525,-452.105 331.82,-442.703 326.303,-433.612\"/>\r\n",
       "<polygon fill=\"black\" stroke=\"black\" points=\"329.27,-431.754 321.09,-425.021 323.285,-435.386 329.27,-431.754\"/>\r\n",
       "<text text-anchor=\"middle\" x=\"315.148\" y=\"-445.604\" font-family=\"Times New Roman,serif\" font-size=\"14.00\">True</text>\r\n",
       "</g>\r\n",
       "<!-- 12 -->\r\n",
       "<g id=\"node13\" class=\"node\"><title>12</title>\r\n",
       "<polygon fill=\"#399de5\" stroke=\"black\" points=\"485,-417.5 394,-417.5 394,-349.5 485,-349.5 485,-417.5\"/>\r\n",
       "<text text-anchor=\"middle\" x=\"439.5\" y=\"-402.3\" font-family=\"Times New Roman,serif\" font-size=\"14.00\">gini = 0.0</text>\r\n",
       "<text text-anchor=\"middle\" x=\"439.5\" y=\"-387.3\" font-family=\"Times New Roman,serif\" font-size=\"14.00\">samples = 4</text>\r\n",
       "<text text-anchor=\"middle\" x=\"439.5\" y=\"-372.3\" font-family=\"Times New Roman,serif\" font-size=\"14.00\">value = [0, 4]</text>\r\n",
       "<text text-anchor=\"middle\" x=\"439.5\" y=\"-357.3\" font-family=\"Times New Roman,serif\" font-size=\"14.00\">class = Yes</text>\r\n",
       "</g>\r\n",
       "<!-- 0&#45;&gt;12 -->\r\n",
       "<g id=\"edge12\" class=\"edge\"><title>0&#45;&gt;12</title>\r\n",
       "<path fill=\"none\" stroke=\"black\" d=\"M392.48,-460.907C399.338,-449.763 406.787,-437.658 413.691,-426.439\"/>\r\n",
       "<polygon fill=\"black\" stroke=\"black\" points=\"416.829,-428.018 419.09,-417.667 410.868,-424.349 416.829,-428.018\"/>\r\n",
       "<text text-anchor=\"middle\" x=\"424.88\" y=\"-438.287\" font-family=\"Times New Roman,serif\" font-size=\"14.00\">False</text>\r\n",
       "</g>\r\n",
       "<!-- 2 -->\r\n",
       "<g id=\"node3\" class=\"node\"><title>2</title>\r\n",
       "<polygon fill=\"#eca06a\" stroke=\"black\" points=\"290.5,-306 144.5,-306 144.5,-223 290.5,-223 290.5,-306\"/>\r\n",
       "<text text-anchor=\"middle\" x=\"217.5\" y=\"-290.8\" font-family=\"Times New Roman,serif\" font-size=\"14.00\">Outlook_Sunny &lt;= 0.5</text>\r\n",
       "<text text-anchor=\"middle\" x=\"217.5\" y=\"-275.8\" font-family=\"Times New Roman,serif\" font-size=\"14.00\">gini = 0.32</text>\r\n",
       "<text text-anchor=\"middle\" x=\"217.5\" y=\"-260.8\" font-family=\"Times New Roman,serif\" font-size=\"14.00\">samples = 5</text>\r\n",
       "<text text-anchor=\"middle\" x=\"217.5\" y=\"-245.8\" font-family=\"Times New Roman,serif\" font-size=\"14.00\">value = [4, 1]</text>\r\n",
       "<text text-anchor=\"middle\" x=\"217.5\" y=\"-230.8\" font-family=\"Times New Roman,serif\" font-size=\"14.00\">class = No</text>\r\n",
       "</g>\r\n",
       "<!-- 1&#45;&gt;2 -->\r\n",
       "<g id=\"edge2\" class=\"edge\"><title>1&#45;&gt;2</title>\r\n",
       "<path fill=\"none\" stroke=\"black\" d=\"M269.091,-341.907C263.086,-333.014 256.669,-323.509 250.471,-314.331\"/>\r\n",
       "<polygon fill=\"black\" stroke=\"black\" points=\"253.357,-312.35 244.86,-306.021 247.556,-316.267 253.357,-312.35\"/>\r\n",
       "</g>\r\n",
       "<!-- 7 -->\r\n",
       "<g id=\"node8\" class=\"node\"><title>7</title>\r\n",
       "<polygon fill=\"#6ab6ec\" stroke=\"black\" points=\"442.5,-306 308.5,-306 308.5,-223 442.5,-223 442.5,-306\"/>\r\n",
       "<text text-anchor=\"middle\" x=\"375.5\" y=\"-290.8\" font-family=\"Times New Roman,serif\" font-size=\"14.00\">Wind_Strong &lt;= 0.5</text>\r\n",
       "<text text-anchor=\"middle\" x=\"375.5\" y=\"-275.8\" font-family=\"Times New Roman,serif\" font-size=\"14.00\">gini = 0.32</text>\r\n",
       "<text text-anchor=\"middle\" x=\"375.5\" y=\"-260.8\" font-family=\"Times New Roman,serif\" font-size=\"14.00\">samples = 5</text>\r\n",
       "<text text-anchor=\"middle\" x=\"375.5\" y=\"-245.8\" font-family=\"Times New Roman,serif\" font-size=\"14.00\">value = [1, 4]</text>\r\n",
       "<text text-anchor=\"middle\" x=\"375.5\" y=\"-230.8\" font-family=\"Times New Roman,serif\" font-size=\"14.00\">class = Yes</text>\r\n",
       "</g>\r\n",
       "<!-- 1&#45;&gt;7 -->\r\n",
       "<g id=\"edge7\" class=\"edge\"><title>1&#45;&gt;7</title>\r\n",
       "<path fill=\"none\" stroke=\"black\" d=\"M323.909,-341.907C329.914,-333.014 336.331,-323.509 342.529,-314.331\"/>\r\n",
       "<polygon fill=\"black\" stroke=\"black\" points=\"345.444,-316.267 348.14,-306.021 339.643,-312.35 345.444,-316.267\"/>\r\n",
       "</g>\r\n",
       "<!-- 3 -->\r\n",
       "<g id=\"node4\" class=\"node\"><title>3</title>\r\n",
       "<polygon fill=\"#ffffff\" stroke=\"black\" points=\"166.5,-187 32.5,-187 32.5,-104 166.5,-104 166.5,-187\"/>\r\n",
       "<text text-anchor=\"middle\" x=\"99.5\" y=\"-171.8\" font-family=\"Times New Roman,serif\" font-size=\"14.00\">Wind_Strong &lt;= 0.5</text>\r\n",
       "<text text-anchor=\"middle\" x=\"99.5\" y=\"-156.8\" font-family=\"Times New Roman,serif\" font-size=\"14.00\">gini = 0.5</text>\r\n",
       "<text text-anchor=\"middle\" x=\"99.5\" y=\"-141.8\" font-family=\"Times New Roman,serif\" font-size=\"14.00\">samples = 2</text>\r\n",
       "<text text-anchor=\"middle\" x=\"99.5\" y=\"-126.8\" font-family=\"Times New Roman,serif\" font-size=\"14.00\">value = [1, 1]</text>\r\n",
       "<text text-anchor=\"middle\" x=\"99.5\" y=\"-111.8\" font-family=\"Times New Roman,serif\" font-size=\"14.00\">class = No</text>\r\n",
       "</g>\r\n",
       "<!-- 2&#45;&gt;3 -->\r\n",
       "<g id=\"edge3\" class=\"edge\"><title>2&#45;&gt;3</title>\r\n",
       "<path fill=\"none\" stroke=\"black\" d=\"M176.56,-222.907C167.225,-213.651 157.221,-203.732 147.617,-194.209\"/>\r\n",
       "<polygon fill=\"black\" stroke=\"black\" points=\"149.933,-191.576 140.367,-187.021 145.004,-196.547 149.933,-191.576\"/>\r\n",
       "</g>\r\n",
       "<!-- 6 -->\r\n",
       "<g id=\"node7\" class=\"node\"><title>6</title>\r\n",
       "<polygon fill=\"#e58139\" stroke=\"black\" points=\"276,-179.5 185,-179.5 185,-111.5 276,-111.5 276,-179.5\"/>\r\n",
       "<text text-anchor=\"middle\" x=\"230.5\" y=\"-164.3\" font-family=\"Times New Roman,serif\" font-size=\"14.00\">gini = 0.0</text>\r\n",
       "<text text-anchor=\"middle\" x=\"230.5\" y=\"-149.3\" font-family=\"Times New Roman,serif\" font-size=\"14.00\">samples = 3</text>\r\n",
       "<text text-anchor=\"middle\" x=\"230.5\" y=\"-134.3\" font-family=\"Times New Roman,serif\" font-size=\"14.00\">value = [3, 0]</text>\r\n",
       "<text text-anchor=\"middle\" x=\"230.5\" y=\"-119.3\" font-family=\"Times New Roman,serif\" font-size=\"14.00\">class = No</text>\r\n",
       "</g>\r\n",
       "<!-- 2&#45;&gt;6 -->\r\n",
       "<g id=\"edge6\" class=\"edge\"><title>2&#45;&gt;6</title>\r\n",
       "<path fill=\"none\" stroke=\"black\" d=\"M222.01,-222.907C223.2,-212.204 224.487,-200.615 225.692,-189.776\"/>\r\n",
       "<polygon fill=\"black\" stroke=\"black\" points=\"229.189,-189.992 226.815,-179.667 222.232,-189.219 229.189,-189.992\"/>\r\n",
       "</g>\r\n",
       "<!-- 4 -->\r\n",
       "<g id=\"node5\" class=\"node\"><title>4</title>\r\n",
       "<polygon fill=\"#399de5\" stroke=\"black\" points=\"91,-68 0,-68 0,-0 91,-0 91,-68\"/>\r\n",
       "<text text-anchor=\"middle\" x=\"45.5\" y=\"-52.8\" font-family=\"Times New Roman,serif\" font-size=\"14.00\">gini = 0.0</text>\r\n",
       "<text text-anchor=\"middle\" x=\"45.5\" y=\"-37.8\" font-family=\"Times New Roman,serif\" font-size=\"14.00\">samples = 1</text>\r\n",
       "<text text-anchor=\"middle\" x=\"45.5\" y=\"-22.8\" font-family=\"Times New Roman,serif\" font-size=\"14.00\">value = [0, 1]</text>\r\n",
       "<text text-anchor=\"middle\" x=\"45.5\" y=\"-7.8\" font-family=\"Times New Roman,serif\" font-size=\"14.00\">class = Yes</text>\r\n",
       "</g>\r\n",
       "<!-- 3&#45;&gt;4 -->\r\n",
       "<g id=\"edge4\" class=\"edge\"><title>3&#45;&gt;4</title>\r\n",
       "<path fill=\"none\" stroke=\"black\" d=\"M79.3924,-103.726C75.1643,-95.1527 70.6946,-86.0891 66.437,-77.4555\"/>\r\n",
       "<polygon fill=\"black\" stroke=\"black\" points=\"69.4838,-75.7203 61.9217,-68.2996 63.2056,-78.8164 69.4838,-75.7203\"/>\r\n",
       "</g>\r\n",
       "<!-- 5 -->\r\n",
       "<g id=\"node6\" class=\"node\"><title>5</title>\r\n",
       "<polygon fill=\"#e58139\" stroke=\"black\" points=\"200,-68 109,-68 109,-0 200,-0 200,-68\"/>\r\n",
       "<text text-anchor=\"middle\" x=\"154.5\" y=\"-52.8\" font-family=\"Times New Roman,serif\" font-size=\"14.00\">gini = 0.0</text>\r\n",
       "<text text-anchor=\"middle\" x=\"154.5\" y=\"-37.8\" font-family=\"Times New Roman,serif\" font-size=\"14.00\">samples = 1</text>\r\n",
       "<text text-anchor=\"middle\" x=\"154.5\" y=\"-22.8\" font-family=\"Times New Roman,serif\" font-size=\"14.00\">value = [1, 0]</text>\r\n",
       "<text text-anchor=\"middle\" x=\"154.5\" y=\"-7.8\" font-family=\"Times New Roman,serif\" font-size=\"14.00\">class = No</text>\r\n",
       "</g>\r\n",
       "<!-- 3&#45;&gt;5 -->\r\n",
       "<g id=\"edge5\" class=\"edge\"><title>3&#45;&gt;5</title>\r\n",
       "<path fill=\"none\" stroke=\"black\" d=\"M119.98,-103.726C124.286,-95.1527 128.839,-86.0891 133.175,-77.4555\"/>\r\n",
       "<polygon fill=\"black\" stroke=\"black\" points=\"136.413,-78.8067 137.774,-68.2996 130.158,-75.6647 136.413,-78.8067\"/>\r\n",
       "</g>\r\n",
       "<!-- 8 -->\r\n",
       "<g id=\"node9\" class=\"node\"><title>8</title>\r\n",
       "<polygon fill=\"#399de5\" stroke=\"black\" points=\"409,-179.5 318,-179.5 318,-111.5 409,-111.5 409,-179.5\"/>\r\n",
       "<text text-anchor=\"middle\" x=\"363.5\" y=\"-164.3\" font-family=\"Times New Roman,serif\" font-size=\"14.00\">gini = 0.0</text>\r\n",
       "<text text-anchor=\"middle\" x=\"363.5\" y=\"-149.3\" font-family=\"Times New Roman,serif\" font-size=\"14.00\">samples = 3</text>\r\n",
       "<text text-anchor=\"middle\" x=\"363.5\" y=\"-134.3\" font-family=\"Times New Roman,serif\" font-size=\"14.00\">value = [0, 3]</text>\r\n",
       "<text text-anchor=\"middle\" x=\"363.5\" y=\"-119.3\" font-family=\"Times New Roman,serif\" font-size=\"14.00\">class = Yes</text>\r\n",
       "</g>\r\n",
       "<!-- 7&#45;&gt;8 -->\r\n",
       "<g id=\"edge8\" class=\"edge\"><title>7&#45;&gt;8</title>\r\n",
       "<path fill=\"none\" stroke=\"black\" d=\"M371.337,-222.907C370.239,-212.204 369.05,-200.615 367.939,-189.776\"/>\r\n",
       "<polygon fill=\"black\" stroke=\"black\" points=\"371.404,-189.258 366.902,-179.667 364.44,-189.972 371.404,-189.258\"/>\r\n",
       "</g>\r\n",
       "<!-- 9 -->\r\n",
       "<g id=\"node10\" class=\"node\"><title>9</title>\r\n",
       "<polygon fill=\"#ffffff\" stroke=\"black\" points=\"573.5,-187 427.5,-187 427.5,-104 573.5,-104 573.5,-187\"/>\r\n",
       "<text text-anchor=\"middle\" x=\"500.5\" y=\"-171.8\" font-family=\"Times New Roman,serif\" font-size=\"14.00\">Outlook_Sunny &lt;= 0.5</text>\r\n",
       "<text text-anchor=\"middle\" x=\"500.5\" y=\"-156.8\" font-family=\"Times New Roman,serif\" font-size=\"14.00\">gini = 0.5</text>\r\n",
       "<text text-anchor=\"middle\" x=\"500.5\" y=\"-141.8\" font-family=\"Times New Roman,serif\" font-size=\"14.00\">samples = 2</text>\r\n",
       "<text text-anchor=\"middle\" x=\"500.5\" y=\"-126.8\" font-family=\"Times New Roman,serif\" font-size=\"14.00\">value = [1, 1]</text>\r\n",
       "<text text-anchor=\"middle\" x=\"500.5\" y=\"-111.8\" font-family=\"Times New Roman,serif\" font-size=\"14.00\">class = No</text>\r\n",
       "</g>\r\n",
       "<!-- 7&#45;&gt;9 -->\r\n",
       "<g id=\"edge9\" class=\"edge\"><title>7&#45;&gt;9</title>\r\n",
       "<path fill=\"none\" stroke=\"black\" d=\"M418.868,-222.907C428.855,-213.56 439.562,-203.538 449.828,-193.929\"/>\r\n",
       "<polygon fill=\"black\" stroke=\"black\" points=\"452.299,-196.41 457.209,-187.021 447.516,-191.299 452.299,-196.41\"/>\r\n",
       "</g>\r\n",
       "<!-- 10 -->\r\n",
       "<g id=\"node11\" class=\"node\"><title>10</title>\r\n",
       "<polygon fill=\"#e58139\" stroke=\"black\" points=\"491,-68 400,-68 400,-0 491,-0 491,-68\"/>\r\n",
       "<text text-anchor=\"middle\" x=\"445.5\" y=\"-52.8\" font-family=\"Times New Roman,serif\" font-size=\"14.00\">gini = 0.0</text>\r\n",
       "<text text-anchor=\"middle\" x=\"445.5\" y=\"-37.8\" font-family=\"Times New Roman,serif\" font-size=\"14.00\">samples = 1</text>\r\n",
       "<text text-anchor=\"middle\" x=\"445.5\" y=\"-22.8\" font-family=\"Times New Roman,serif\" font-size=\"14.00\">value = [1, 0]</text>\r\n",
       "<text text-anchor=\"middle\" x=\"445.5\" y=\"-7.8\" font-family=\"Times New Roman,serif\" font-size=\"14.00\">class = No</text>\r\n",
       "</g>\r\n",
       "<!-- 9&#45;&gt;10 -->\r\n",
       "<g id=\"edge10\" class=\"edge\"><title>9&#45;&gt;10</title>\r\n",
       "<path fill=\"none\" stroke=\"black\" d=\"M480.02,-103.726C475.714,-95.1527 471.161,-86.0891 466.825,-77.4555\"/>\r\n",
       "<polygon fill=\"black\" stroke=\"black\" points=\"469.842,-75.6647 462.226,-68.2996 463.587,-78.8067 469.842,-75.6647\"/>\r\n",
       "</g>\r\n",
       "<!-- 11 -->\r\n",
       "<g id=\"node12\" class=\"node\"><title>11</title>\r\n",
       "<polygon fill=\"#399de5\" stroke=\"black\" points=\"600,-68 509,-68 509,-0 600,-0 600,-68\"/>\r\n",
       "<text text-anchor=\"middle\" x=\"554.5\" y=\"-52.8\" font-family=\"Times New Roman,serif\" font-size=\"14.00\">gini = 0.0</text>\r\n",
       "<text text-anchor=\"middle\" x=\"554.5\" y=\"-37.8\" font-family=\"Times New Roman,serif\" font-size=\"14.00\">samples = 1</text>\r\n",
       "<text text-anchor=\"middle\" x=\"554.5\" y=\"-22.8\" font-family=\"Times New Roman,serif\" font-size=\"14.00\">value = [0, 1]</text>\r\n",
       "<text text-anchor=\"middle\" x=\"554.5\" y=\"-7.8\" font-family=\"Times New Roman,serif\" font-size=\"14.00\">class = Yes</text>\r\n",
       "</g>\r\n",
       "<!-- 9&#45;&gt;11 -->\r\n",
       "<g id=\"edge11\" class=\"edge\"><title>9&#45;&gt;11</title>\r\n",
       "<path fill=\"none\" stroke=\"black\" d=\"M520.608,-103.726C524.836,-95.1527 529.305,-86.0891 533.563,-77.4555\"/>\r\n",
       "<polygon fill=\"black\" stroke=\"black\" points=\"536.794,-78.8164 538.078,-68.2996 530.516,-75.7203 536.794,-78.8164\"/>\r\n",
       "</g>\r\n",
       "</g>\r\n",
       "</svg>\r\n"
      ],
      "text/plain": [
       "<graphviz.files.Source at 0x1f8d5e453c8>"
      ]
     },
     "execution_count": 64,
     "metadata": {},
     "output_type": "execute_result"
    }
   ],
   "source": [
    "grp = tree.export_graphviz(dt_gini, out_file = None, feature_names=oh_df.columns,  \n",
    "                   class_names=tennis[y_col].unique(),\n",
    "                   filled=True)\n",
    "graphviz.Source(grp, format = \"png\")"
   ]
  },
  {
   "cell_type": "markdown",
   "metadata": {},
   "source": [
    "#### **실제로 이 순서가 맞는지 확인해보겠습니다**"
   ]
  },
  {
   "cell_type": "code",
   "execution_count": 36,
   "metadata": {},
   "outputs": [
    {
     "data": {
      "text/plain": [
       "0.4591836734693877"
      ]
     },
     "execution_count": 36,
     "metadata": {},
     "output_type": "execute_result"
    }
   ],
   "source": [
    "get_gini(tennis, \"PlayTennis\")"
   ]
  },
  {
   "cell_type": "code",
   "execution_count": 37,
   "metadata": {},
   "outputs": [
    {
     "data": {
      "text/plain": [
       "cat1     Outlook\n",
       "cat2    Overcast\n",
       "gini    0.357143\n",
       "Name: 1, dtype: object"
      ]
     },
     "execution_count": 37,
     "metadata": {},
     "output_type": "execute_result"
    }
   ],
   "source": [
    "gini_df.iloc[gini_df[\"gini\"].argmin()]"
   ]
  },
  {
   "cell_type": "code",
   "execution_count": 50,
   "metadata": {},
   "outputs": [
    {
     "name": "stdout",
     "output_type": "stream",
     "text": [
      "col : Outlook, split_feature : Sunny : gini_index = 0.48\n",
      "col : Outlook, split_feature : Rain : gini_index = 0.48\n",
      "col : Temperature, split_feature : Hot : gini_index = 0.375\n",
      "col : Temperature, split_feature : Mild : gini_index = 0.48\n",
      "col : Temperature, split_feature : Cool : gini_index = 0.4761904761904763\n",
      "col : Humidity, split_feature : High : gini_index = 0.31999999999999984\n",
      "col : Humidity, split_feature : Normal : gini_index = 0.31999999999999984\n",
      "col : Wind, split_feature : Weak : gini_index = 0.4166666666666667\n",
      "col : Wind, split_feature : Strong : gini_index = 0.4166666666666667\n",
      "\n",
      "gini index : 0.5\n",
      "cat1    Humidity\n",
      "cat2        High\n",
      "gini        0.32\n",
      "Name: 5, dtype: object\n"
     ]
    }
   ],
   "source": [
    "tennis_node1 = tennis[tennis[\"Outlook\"] != \"Overcast\"]\n",
    "[print(f\"col : {idx}, split_feature : {v} : gini_index = {gini_split(tennis_node1, y_col, idx, v)}\") for idx, val in get_unique_dict(tennis_node1).items() for v in val]\n",
    "gini_df = pd.DataFrame([[idx, v, gini_split(tennis_node1, y_col, idx, v)] for idx, val in get_unique_dict(tennis_node1).items() for v in val], columns = [\"cat1\", \"cat2\", \"gini\"])\n",
    "print(\"\")\n",
    "print(\"gini index : {}\".format(get_gini(tennis_node1, y_col)))\n",
    "print(gini_df.iloc[gini_df[\"gini\"].argmin()])"
   ]
  },
  {
   "cell_type": "code",
   "execution_count": 48,
   "metadata": {},
   "outputs": [
    {
     "name": "stdout",
     "output_type": "stream",
     "text": [
      "col : Outlook, split_feature : Sunny : gini_index = 0.2\n",
      "col : Outlook, split_feature : Rain : gini_index = 0.2\n",
      "col : Temperature, split_feature : Hot : gini_index = 0.26666666666666666\n",
      "col : Temperature, split_feature : Mild : gini_index = 0.26666666666666666\n",
      "col : Humidity, split_feature : High : gini_index = 0.31999999999999984\n",
      "col : Wind, split_feature : Weak : gini_index = 0.26666666666666666\n",
      "col : Wind, split_feature : Strong : gini_index = 0.26666666666666666\n",
      "\n",
      "gini index : 0.31999999999999984\n"
     ]
    },
    {
     "data": {
      "text/plain": [
       "cat1    Outlook\n",
       "cat2      Sunny\n",
       "gini        0.2\n",
       "Name: 0, dtype: object"
      ]
     },
     "execution_count": 48,
     "metadata": {},
     "output_type": "execute_result"
    }
   ],
   "source": [
    "tennis_node2 = tennis[(tennis[\"Outlook\"] != \"Overcast\") & (tennis[\"Humidity\"] == \"High\")]\n",
    "[print(f\"col : {idx}, split_feature : {v} : gini_index = {gini_split(tennis_node2, y_col, idx, v)}\") for idx, val in get_unique_dict(tennis_node2).items() for v in val]\n",
    "gini_df = pd.DataFrame([[idx, v, gini_split(tennis_node2, y_col, idx, v)] for idx, val in get_unique_dict(tennis_node2).items() for v in val], columns = [\"cat1\", \"cat2\", \"gini\"])\n",
    "print(\"\")\n",
    "print(\"gini index : {}\".format(get_gini(tennis_node2, y_col)))\n",
    "gini_df.iloc[gini_df[\"gini\"].argmin()]"
   ]
  },
  {
   "cell_type": "markdown",
   "metadata": {},
   "source": [
    "#### - gini계수가 0이면 가장 끝쪽에 있는 terminal node가 됩니다.(데이터가 많으면 overfitting을 막기위하여 가지치기 컨셉이 활용됩니다)"
   ]
  },
  {
   "cell_type": "code",
   "execution_count": 52,
   "metadata": {},
   "outputs": [
    {
     "name": "stdout",
     "output_type": "stream",
     "text": [
      "col : Outlook, split_feature : Overcast : gini_index = 0.0\n",
      "col : Temperature, split_feature : Hot : gini_index = 0.0\n",
      "col : Temperature, split_feature : Cool : gini_index = 0.0\n",
      "col : Temperature, split_feature : Mild : gini_index = 0.0\n",
      "col : Humidity, split_feature : High : gini_index = 0.0\n",
      "col : Humidity, split_feature : Normal : gini_index = 0.0\n",
      "col : Wind, split_feature : Weak : gini_index = 0.0\n",
      "col : Wind, split_feature : Strong : gini_index = 0.0\n"
     ]
    },
    {
     "data": {
      "text/plain": [
       "cat1     Outlook\n",
       "cat2    Overcast\n",
       "gini           0\n",
       "Name: 0, dtype: object"
      ]
     },
     "execution_count": 52,
     "metadata": {},
     "output_type": "execute_result"
    }
   ],
   "source": [
    "tennis_ter1 = tennis[tennis[\"Outlook\"] == \"Overcast\"]\n",
    "[print(f\"col : {idx}, split_feature : {v} : gini_index = {gini_split(tennis_ter1, y_col, idx, v)}\") for idx, val in get_unique_dict(tennis_ter1).items() for v in val]\n",
    "gini_df = pd.DataFrame([[idx, v, gini_split(tennis_ter1, y_col, idx, v)] for idx, val in get_unique_dict(tennis_ter1).items() for v in val], columns = [\"cat1\", \"cat2\", \"gini\"])\n",
    "gini_df.iloc[gini_df[\"gini\"].argmin()]"
   ]
  },
  {
   "cell_type": "markdown",
   "metadata": {},
   "source": [
    "---\n",
    "\n",
    "### **2. Entropy**\n",
    "다음은 ID3, C4.5 등 트리에서 정보획득량을 측정하기 위해 쓰이는 Entropy입니다.<br> "
   ]
  },
  {
   "cell_type": "markdown",
   "metadata": {},
   "source": [
    "우선 Entropy의 공식입니다. <br>\n",
    "\n",
    "- 영역의 데이터 비율을 제곱하여 더한 값을 1에서 빼주게 된다.<br>\n",
    "![Oops](https://wikimedia.org/api/rest_v1/media/math/render/svg/57a7ee6d08213c28f3f633229d26d1f82ea71ba6)\n",
    "<br>"
   ]
  },
  {
   "cell_type": "code",
   "execution_count": 154,
   "metadata": {},
   "outputs": [
    {
     "name": "stdout",
     "output_type": "stream",
     "text": [
      "Entropy의 최대값 : 1.0\n",
      "Entropy의 최대값 : -0.0\n"
     ]
    }
   ],
   "source": [
    "max_entropy = (-1 * ((0.5*np.log2(0.5)) + (0.5*np.log2(0.5))))\n",
    "min_entropy = (-1 * ((1*np.log2(1))))\n",
    "print(f\"Entropy의 최대값 : {max_entropy}\")\n",
    "print(f\"Entropy의 최대값 : {min_entropy}\")"
   ]
  },
  {
   "cell_type": "code",
   "execution_count": 155,
   "metadata": {},
   "outputs": [
    {
     "data": {
      "text/html": [
       "<div>\n",
       "<style scoped>\n",
       "    .dataframe tbody tr th:only-of-type {\n",
       "        vertical-align: middle;\n",
       "    }\n",
       "\n",
       "    .dataframe tbody tr th {\n",
       "        vertical-align: top;\n",
       "    }\n",
       "\n",
       "    .dataframe thead th {\n",
       "        text-align: right;\n",
       "    }\n",
       "</style>\n",
       "<table border=\"1\" class=\"dataframe\">\n",
       "  <thead>\n",
       "    <tr style=\"text-align: right;\">\n",
       "      <th></th>\n",
       "      <th>Outlook</th>\n",
       "      <th>Temperature</th>\n",
       "      <th>Humidity</th>\n",
       "      <th>Wind</th>\n",
       "      <th>PlayTennis</th>\n",
       "    </tr>\n",
       "    <tr>\n",
       "      <th>Day</th>\n",
       "      <th></th>\n",
       "      <th></th>\n",
       "      <th></th>\n",
       "      <th></th>\n",
       "      <th></th>\n",
       "    </tr>\n",
       "  </thead>\n",
       "  <tbody>\n",
       "    <tr>\n",
       "      <th>D1</th>\n",
       "      <td>Sunny</td>\n",
       "      <td>Hot</td>\n",
       "      <td>High</td>\n",
       "      <td>Weak</td>\n",
       "      <td>No</td>\n",
       "    </tr>\n",
       "    <tr>\n",
       "      <th>D2</th>\n",
       "      <td>Sunny</td>\n",
       "      <td>Hot</td>\n",
       "      <td>High</td>\n",
       "      <td>Strong</td>\n",
       "      <td>No</td>\n",
       "    </tr>\n",
       "    <tr>\n",
       "      <th>D3</th>\n",
       "      <td>Overcast</td>\n",
       "      <td>Hot</td>\n",
       "      <td>High</td>\n",
       "      <td>Weak</td>\n",
       "      <td>Yes</td>\n",
       "    </tr>\n",
       "    <tr>\n",
       "      <th>D4</th>\n",
       "      <td>Rain</td>\n",
       "      <td>Mild</td>\n",
       "      <td>High</td>\n",
       "      <td>Weak</td>\n",
       "      <td>Yes</td>\n",
       "    </tr>\n",
       "    <tr>\n",
       "      <th>D5</th>\n",
       "      <td>Rain</td>\n",
       "      <td>Cool</td>\n",
       "      <td>Normal</td>\n",
       "      <td>Weak</td>\n",
       "      <td>Yes</td>\n",
       "    </tr>\n",
       "    <tr>\n",
       "      <th>D6</th>\n",
       "      <td>Rain</td>\n",
       "      <td>Cool</td>\n",
       "      <td>Normal</td>\n",
       "      <td>Strong</td>\n",
       "      <td>No</td>\n",
       "    </tr>\n",
       "    <tr>\n",
       "      <th>D7</th>\n",
       "      <td>Overcast</td>\n",
       "      <td>Cool</td>\n",
       "      <td>Normal</td>\n",
       "      <td>Strong</td>\n",
       "      <td>Yes</td>\n",
       "    </tr>\n",
       "    <tr>\n",
       "      <th>D8</th>\n",
       "      <td>Sunny</td>\n",
       "      <td>Mild</td>\n",
       "      <td>High</td>\n",
       "      <td>Weak</td>\n",
       "      <td>No</td>\n",
       "    </tr>\n",
       "    <tr>\n",
       "      <th>D9</th>\n",
       "      <td>Sunny</td>\n",
       "      <td>Cool</td>\n",
       "      <td>Normal</td>\n",
       "      <td>Weak</td>\n",
       "      <td>Yes</td>\n",
       "    </tr>\n",
       "    <tr>\n",
       "      <th>D10</th>\n",
       "      <td>Rain</td>\n",
       "      <td>Mild</td>\n",
       "      <td>Normal</td>\n",
       "      <td>Weak</td>\n",
       "      <td>Yes</td>\n",
       "    </tr>\n",
       "    <tr>\n",
       "      <th>D11</th>\n",
       "      <td>Sunny</td>\n",
       "      <td>Mild</td>\n",
       "      <td>Normal</td>\n",
       "      <td>Strong</td>\n",
       "      <td>Yes</td>\n",
       "    </tr>\n",
       "    <tr>\n",
       "      <th>D12</th>\n",
       "      <td>Overcast</td>\n",
       "      <td>Mild</td>\n",
       "      <td>High</td>\n",
       "      <td>Strong</td>\n",
       "      <td>Yes</td>\n",
       "    </tr>\n",
       "    <tr>\n",
       "      <th>D13</th>\n",
       "      <td>Overcast</td>\n",
       "      <td>Hot</td>\n",
       "      <td>Normal</td>\n",
       "      <td>Weak</td>\n",
       "      <td>Yes</td>\n",
       "    </tr>\n",
       "    <tr>\n",
       "      <th>D14</th>\n",
       "      <td>Rain</td>\n",
       "      <td>Mild</td>\n",
       "      <td>High</td>\n",
       "      <td>Strong</td>\n",
       "      <td>No</td>\n",
       "    </tr>\n",
       "  </tbody>\n",
       "</table>\n",
       "</div>"
      ],
      "text/plain": [
       "      Outlook Temperature Humidity    Wind PlayTennis\n",
       "Day                                                  \n",
       "D1      Sunny         Hot     High    Weak         No\n",
       "D2      Sunny         Hot     High  Strong         No\n",
       "D3   Overcast         Hot     High    Weak        Yes\n",
       "D4       Rain        Mild     High    Weak        Yes\n",
       "D5       Rain        Cool   Normal    Weak        Yes\n",
       "D6       Rain        Cool   Normal  Strong         No\n",
       "D7   Overcast        Cool   Normal  Strong        Yes\n",
       "D8      Sunny        Mild     High    Weak         No\n",
       "D9      Sunny        Cool   Normal    Weak        Yes\n",
       "D10      Rain        Mild   Normal    Weak        Yes\n",
       "D11     Sunny        Mild   Normal  Strong        Yes\n",
       "D12  Overcast        Mild     High  Strong        Yes\n",
       "D13  Overcast         Hot   Normal    Weak        Yes\n",
       "D14      Rain        Mild     High  Strong         No"
      ]
     },
     "execution_count": 155,
     "metadata": {},
     "output_type": "execute_result"
    }
   ],
   "source": [
    "tennis"
   ]
  },
  {
   "cell_type": "code",
   "execution_count": 53,
   "metadata": {},
   "outputs": [],
   "source": [
    "def get_entropy(df, y_col) :\n",
    "    Ys = df[y_col].value_counts()\n",
    "    total_row = len(df)\n",
    "    (-1 * ((0.5*np.log2(0.5)) + (0.5*np.log2(0.5))))\n",
    "    return -1 *  np.sum([(len(df[df[y_col] == y]) / total_row) * np.log2(len(df[df[y_col] == y]) / total_row) for y in Ys.index])"
   ]
  },
  {
   "cell_type": "code",
   "execution_count": 54,
   "metadata": {},
   "outputs": [
    {
     "data": {
      "text/plain": [
       "0.9402859586706311"
      ]
     },
     "execution_count": 54,
     "metadata": {},
     "output_type": "execute_result"
    }
   ],
   "source": [
    "get_entropy(tennis, y_col)"
   ]
  },
  {
   "cell_type": "code",
   "execution_count": 55,
   "metadata": {},
   "outputs": [],
   "source": [
    "def entropy_split(df, y_col, col, feature) :\n",
    "    r1 = len(df[df[col] == feature])\n",
    "    Y1 = dict(df[df[col] == feature][y_col].value_counts())\n",
    "    r2 = len(df[df[col] != feature])\n",
    "    Y2 = dict(df[df[col] != feature][y_col].value_counts())\n",
    "    \n",
    "    ratio = r1 / (r1 + r2)\n",
    "    ent1 = np.sum([(len(df[(df[col] == feature) & (df[y_col] == x)]) / r1) * np.log2(len(df[(df[col] == feature) & (df[y_col] == x)]) / r1) for x, y in Y1.items()])\n",
    "    ent2 = np.sum([(len(df[(df[col] != feature) & (df[y_col] == x)]) / r2) * np.log2(len(df[(df[col] != feature) & (df[y_col] == x)]) / r2) for x, y in Y2.items()])\n",
    "    \n",
    "    return -1 * ((ratio * ent1) + ((1-ratio) * ent2))"
   ]
  },
  {
   "cell_type": "code",
   "execution_count": 56,
   "metadata": {},
   "outputs": [
    {
     "data": {
      "text/plain": [
       "0.8380423950607803"
      ]
     },
     "execution_count": 56,
     "metadata": {},
     "output_type": "execute_result"
    }
   ],
   "source": [
    "entropy_split(tennis, \"PlayTennis\", \"Outlook\", \"Sunny\")"
   ]
  },
  {
   "cell_type": "markdown",
   "metadata": {},
   "source": [
    "Entropy 역시 gini index와 똑같은 개념으로 아무것도 나누지 않았을 때보다, Sunny로 나누었을 때 줄어드는 것을 볼 수 있습니다.<br>\n",
    "이 때 차이값(Information gain)을 이용하여 트리를 만들면 ID3, C4.5 등의 트리 구조를 만들게 됩니다."
   ]
  },
  {
   "cell_type": "code",
   "execution_count": 57,
   "metadata": {},
   "outputs": [
    {
     "data": {
      "text/plain": [
       "['col : Outlook, split_feature : Sunny : Entropy = 0.8380423950607803',\n",
       " 'col : Outlook, split_feature : Overcast : Entropy = 0.7142857142857143',\n",
       " 'col : Outlook, split_feature : Rain : Entropy = 0.937101105625982',\n",
       " 'col : Temperature, split_feature : Hot : Entropy = 0.9152077851647805',\n",
       " 'col : Temperature, split_feature : Mild : Entropy = 0.9389462162661898',\n",
       " 'col : Temperature, split_feature : Cool : Entropy = 0.9253298887416583',\n",
       " 'col : Humidity, split_feature : High : Entropy = 0.7884504573082896',\n",
       " 'col : Humidity, split_feature : Normal : Entropy = 0.7884504573082896',\n",
       " 'col : Wind, split_feature : Weak : Entropy = 0.8921589282623617',\n",
       " 'col : Wind, split_feature : Strong : Entropy = 0.8921589282623617']"
      ]
     },
     "execution_count": 57,
     "metadata": {},
     "output_type": "execute_result"
    }
   ],
   "source": [
    "[f\"col : {idx}, split_feature : {v} : Entropy = {entropy_split(tennis, y_col, idx, v)}\" for idx, val in get_unique_dict(tennis).items() for v in val]"
   ]
  },
  {
   "cell_type": "code",
   "execution_count": 76,
   "metadata": {},
   "outputs": [],
   "source": [
    "entropy_df = pd.DataFrame([[idx, v, entropy_split(tennis, y_col, idx, v)] for idx, val in unique_dict.items() for v in val], columns = [\"cat1\", \"cat2\", \"entropy\"])"
   ]
  },
  {
   "cell_type": "code",
   "execution_count": 77,
   "metadata": {},
   "outputs": [
    {
     "name": "stdout",
     "output_type": "stream",
     "text": [
      "cat1        Outlook\n",
      "cat2       Overcast\n",
      "entropy    0.714286\n",
      "Name: 1, dtype: object\n",
      "cat1        Outlook\n",
      "cat2          Sunny\n",
      "entropy    0.838042\n",
      "Name: 0, dtype: object\n"
     ]
    }
   ],
   "source": [
    "print(entropy_df.iloc[entropy_df[\"entropy\"].argmin()])\n",
    "print(entropy_df.iloc[gini_df[\"gini\"].argmax()])"
   ]
  },
  {
   "cell_type": "markdown",
   "metadata": {},
   "source": [
    "#### **실제 tree 모델과 비교하기 위하여 OneHotEncoding 후 트리모형을 돌려보도록 하겠습니다.**"
   ]
  },
  {
   "cell_type": "code",
   "execution_count": 65,
   "metadata": {},
   "outputs": [
    {
     "data": {
      "text/plain": [
       "DecisionTreeClassifier(ccp_alpha=0.0, class_weight=None, criterion='entropy',\n",
       "                       max_depth=None, max_features=None, max_leaf_nodes=None,\n",
       "                       min_impurity_decrease=0.0, min_impurity_split=None,\n",
       "                       min_samples_leaf=1, min_samples_split=2,\n",
       "                       min_weight_fraction_leaf=0.0, presort='deprecated',\n",
       "                       random_state=None, splitter='best')"
      ]
     },
     "execution_count": 65,
     "metadata": {},
     "output_type": "execute_result"
    }
   ],
   "source": [
    "dt_entropy = DecisionTreeClassifier(criterion=\"entropy\")\n",
    "dt_entropy.fit(Xs, Ys)"
   ]
  },
  {
   "cell_type": "code",
   "execution_count": 66,
   "metadata": {},
   "outputs": [
    {
     "data": {
      "image/svg+xml": [
       "<?xml version=\"1.0\" encoding=\"UTF-8\" standalone=\"no\"?>\r\n",
       "<!DOCTYPE svg PUBLIC \"-//W3C//DTD SVG 1.1//EN\"\r\n",
       " \"http://www.w3.org/Graphics/SVG/1.1/DTD/svg11.dtd\">\r\n",
       "<!-- Generated by graphviz version 2.38.0 (20140413.2041)\r\n",
       " -->\r\n",
       "<!-- Title: Tree Pages: 1 -->\r\n",
       "<svg width=\"519pt\" height=\"552pt\"\r\n",
       " viewBox=\"0.00 0.00 519.00 552.00\" xmlns=\"http://www.w3.org/2000/svg\" xmlns:xlink=\"http://www.w3.org/1999/xlink\">\r\n",
       "<g id=\"graph0\" class=\"graph\" transform=\"scale(1 1) rotate(0) translate(4 548)\">\r\n",
       "<title>Tree</title>\r\n",
       "<polygon fill=\"white\" stroke=\"none\" points=\"-4,4 -4,-548 515,-548 515,4 -4,4\"/>\r\n",
       "<!-- 0 -->\r\n",
       "<g id=\"node1\" class=\"node\"><title>0</title>\r\n",
       "<polygon fill=\"#a7d3f3\" stroke=\"black\" points=\"404.5,-544 243.5,-544 243.5,-461 404.5,-461 404.5,-544\"/>\r\n",
       "<text text-anchor=\"middle\" x=\"324\" y=\"-528.8\" font-family=\"Times New Roman,serif\" font-size=\"14.00\">Outlook_Overcast &lt;= 0.5</text>\r\n",
       "<text text-anchor=\"middle\" x=\"324\" y=\"-513.8\" font-family=\"Times New Roman,serif\" font-size=\"14.00\">entropy = 0.94</text>\r\n",
       "<text text-anchor=\"middle\" x=\"324\" y=\"-498.8\" font-family=\"Times New Roman,serif\" font-size=\"14.00\">samples = 14</text>\r\n",
       "<text text-anchor=\"middle\" x=\"324\" y=\"-483.8\" font-family=\"Times New Roman,serif\" font-size=\"14.00\">value = [5, 9]</text>\r\n",
       "<text text-anchor=\"middle\" x=\"324\" y=\"-468.8\" font-family=\"Times New Roman,serif\" font-size=\"14.00\">class = Yes</text>\r\n",
       "</g>\r\n",
       "<!-- 1 -->\r\n",
       "<g id=\"node2\" class=\"node\"><title>1</title>\r\n",
       "<polygon fill=\"#ffffff\" stroke=\"black\" points=\"327.5,-425 184.5,-425 184.5,-342 327.5,-342 327.5,-425\"/>\r\n",
       "<text text-anchor=\"middle\" x=\"256\" y=\"-409.8\" font-family=\"Times New Roman,serif\" font-size=\"14.00\">Humidity_High &lt;= 0.5</text>\r\n",
       "<text text-anchor=\"middle\" x=\"256\" y=\"-394.8\" font-family=\"Times New Roman,serif\" font-size=\"14.00\">entropy = 1.0</text>\r\n",
       "<text text-anchor=\"middle\" x=\"256\" y=\"-379.8\" font-family=\"Times New Roman,serif\" font-size=\"14.00\">samples = 10</text>\r\n",
       "<text text-anchor=\"middle\" x=\"256\" y=\"-364.8\" font-family=\"Times New Roman,serif\" font-size=\"14.00\">value = [5, 5]</text>\r\n",
       "<text text-anchor=\"middle\" x=\"256\" y=\"-349.8\" font-family=\"Times New Roman,serif\" font-size=\"14.00\">class = No</text>\r\n",
       "</g>\r\n",
       "<!-- 0&#45;&gt;1 -->\r\n",
       "<g id=\"edge1\" class=\"edge\"><title>0&#45;&gt;1</title>\r\n",
       "<path fill=\"none\" stroke=\"black\" d=\"M300.408,-460.907C295.344,-452.195 289.94,-442.897 284.707,-433.893\"/>\r\n",
       "<polygon fill=\"black\" stroke=\"black\" points=\"287.602,-431.908 279.551,-425.021 281.549,-435.425 287.602,-431.908\"/>\r\n",
       "<text text-anchor=\"middle\" x=\"273.15\" y=\"-445.487\" font-family=\"Times New Roman,serif\" font-size=\"14.00\">True</text>\r\n",
       "</g>\r\n",
       "<!-- 12 -->\r\n",
       "<g id=\"node13\" class=\"node\"><title>12</title>\r\n",
       "<polygon fill=\"#399de5\" stroke=\"black\" points=\"438,-417.5 346,-417.5 346,-349.5 438,-349.5 438,-417.5\"/>\r\n",
       "<text text-anchor=\"middle\" x=\"392\" y=\"-402.3\" font-family=\"Times New Roman,serif\" font-size=\"14.00\">entropy = 0.0</text>\r\n",
       "<text text-anchor=\"middle\" x=\"392\" y=\"-387.3\" font-family=\"Times New Roman,serif\" font-size=\"14.00\">samples = 4</text>\r\n",
       "<text text-anchor=\"middle\" x=\"392\" y=\"-372.3\" font-family=\"Times New Roman,serif\" font-size=\"14.00\">value = [0, 4]</text>\r\n",
       "<text text-anchor=\"middle\" x=\"392\" y=\"-357.3\" font-family=\"Times New Roman,serif\" font-size=\"14.00\">class = Yes</text>\r\n",
       "</g>\r\n",
       "<!-- 0&#45;&gt;12 -->\r\n",
       "<g id=\"edge12\" class=\"edge\"><title>0&#45;&gt;12</title>\r\n",
       "<path fill=\"none\" stroke=\"black\" d=\"M347.592,-460.907C354.07,-449.763 361.105,-437.658 367.625,-426.439\"/>\r\n",
       "<polygon fill=\"black\" stroke=\"black\" points=\"370.725,-428.072 372.723,-417.667 364.672,-424.554 370.725,-428.072\"/>\r\n",
       "<text text-anchor=\"middle\" x=\"379.124\" y=\"-438.134\" font-family=\"Times New Roman,serif\" font-size=\"14.00\">False</text>\r\n",
       "</g>\r\n",
       "<!-- 2 -->\r\n",
       "<g id=\"node3\" class=\"node\"><title>2</title>\r\n",
       "<polygon fill=\"#6ab6ec\" stroke=\"black\" points=\"244,-306 110,-306 110,-223 244,-223 244,-306\"/>\r\n",
       "<text text-anchor=\"middle\" x=\"177\" y=\"-290.8\" font-family=\"Times New Roman,serif\" font-size=\"14.00\">Wind_Strong &lt;= 0.5</text>\r\n",
       "<text text-anchor=\"middle\" x=\"177\" y=\"-275.8\" font-family=\"Times New Roman,serif\" font-size=\"14.00\">entropy = 0.722</text>\r\n",
       "<text text-anchor=\"middle\" x=\"177\" y=\"-260.8\" font-family=\"Times New Roman,serif\" font-size=\"14.00\">samples = 5</text>\r\n",
       "<text text-anchor=\"middle\" x=\"177\" y=\"-245.8\" font-family=\"Times New Roman,serif\" font-size=\"14.00\">value = [1, 4]</text>\r\n",
       "<text text-anchor=\"middle\" x=\"177\" y=\"-230.8\" font-family=\"Times New Roman,serif\" font-size=\"14.00\">class = Yes</text>\r\n",
       "</g>\r\n",
       "<!-- 1&#45;&gt;2 -->\r\n",
       "<g id=\"edge2\" class=\"edge\"><title>1&#45;&gt;2</title>\r\n",
       "<path fill=\"none\" stroke=\"black\" d=\"M228.591,-341.907C222.586,-333.014 216.169,-323.509 209.971,-314.331\"/>\r\n",
       "<polygon fill=\"black\" stroke=\"black\" points=\"212.857,-312.35 204.36,-306.021 207.056,-316.267 212.857,-312.35\"/>\r\n",
       "</g>\r\n",
       "<!-- 7 -->\r\n",
       "<g id=\"node8\" class=\"node\"><title>7</title>\r\n",
       "<polygon fill=\"#eca06a\" stroke=\"black\" points=\"408,-306 262,-306 262,-223 408,-223 408,-306\"/>\r\n",
       "<text text-anchor=\"middle\" x=\"335\" y=\"-290.8\" font-family=\"Times New Roman,serif\" font-size=\"14.00\">Outlook_Sunny &lt;= 0.5</text>\r\n",
       "<text text-anchor=\"middle\" x=\"335\" y=\"-275.8\" font-family=\"Times New Roman,serif\" font-size=\"14.00\">entropy = 0.722</text>\r\n",
       "<text text-anchor=\"middle\" x=\"335\" y=\"-260.8\" font-family=\"Times New Roman,serif\" font-size=\"14.00\">samples = 5</text>\r\n",
       "<text text-anchor=\"middle\" x=\"335\" y=\"-245.8\" font-family=\"Times New Roman,serif\" font-size=\"14.00\">value = [4, 1]</text>\r\n",
       "<text text-anchor=\"middle\" x=\"335\" y=\"-230.8\" font-family=\"Times New Roman,serif\" font-size=\"14.00\">class = No</text>\r\n",
       "</g>\r\n",
       "<!-- 1&#45;&gt;7 -->\r\n",
       "<g id=\"edge7\" class=\"edge\"><title>1&#45;&gt;7</title>\r\n",
       "<path fill=\"none\" stroke=\"black\" d=\"M283.409,-341.907C289.414,-333.014 295.831,-323.509 302.029,-314.331\"/>\r\n",
       "<polygon fill=\"black\" stroke=\"black\" points=\"304.944,-316.267 307.64,-306.021 299.143,-312.35 304.944,-316.267\"/>\r\n",
       "</g>\r\n",
       "<!-- 3 -->\r\n",
       "<g id=\"node4\" class=\"node\"><title>3</title>\r\n",
       "<polygon fill=\"#399de5\" stroke=\"black\" points=\"92,-179.5 0,-179.5 0,-111.5 92,-111.5 92,-179.5\"/>\r\n",
       "<text text-anchor=\"middle\" x=\"46\" y=\"-164.3\" font-family=\"Times New Roman,serif\" font-size=\"14.00\">entropy = 0.0</text>\r\n",
       "<text text-anchor=\"middle\" x=\"46\" y=\"-149.3\" font-family=\"Times New Roman,serif\" font-size=\"14.00\">samples = 3</text>\r\n",
       "<text text-anchor=\"middle\" x=\"46\" y=\"-134.3\" font-family=\"Times New Roman,serif\" font-size=\"14.00\">value = [0, 3]</text>\r\n",
       "<text text-anchor=\"middle\" x=\"46\" y=\"-119.3\" font-family=\"Times New Roman,serif\" font-size=\"14.00\">class = Yes</text>\r\n",
       "</g>\r\n",
       "<!-- 2&#45;&gt;3 -->\r\n",
       "<g id=\"edge3\" class=\"edge\"><title>2&#45;&gt;3</title>\r\n",
       "<path fill=\"none\" stroke=\"black\" d=\"M131.55,-222.907C118.33,-211.101 103.905,-198.217 90.7298,-186.45\"/>\r\n",
       "<polygon fill=\"black\" stroke=\"black\" points=\"92.9255,-183.718 83.1356,-179.667 88.2626,-188.939 92.9255,-183.718\"/>\r\n",
       "</g>\r\n",
       "<!-- 4 -->\r\n",
       "<g id=\"node5\" class=\"node\"><title>4</title>\r\n",
       "<polygon fill=\"#ffffff\" stroke=\"black\" points=\"247.5,-187 110.5,-187 110.5,-104 247.5,-104 247.5,-187\"/>\r\n",
       "<text text-anchor=\"middle\" x=\"179\" y=\"-171.8\" font-family=\"Times New Roman,serif\" font-size=\"14.00\">Outlook_Rain &lt;= 0.5</text>\r\n",
       "<text text-anchor=\"middle\" x=\"179\" y=\"-156.8\" font-family=\"Times New Roman,serif\" font-size=\"14.00\">entropy = 1.0</text>\r\n",
       "<text text-anchor=\"middle\" x=\"179\" y=\"-141.8\" font-family=\"Times New Roman,serif\" font-size=\"14.00\">samples = 2</text>\r\n",
       "<text text-anchor=\"middle\" x=\"179\" y=\"-126.8\" font-family=\"Times New Roman,serif\" font-size=\"14.00\">value = [1, 1]</text>\r\n",
       "<text text-anchor=\"middle\" x=\"179\" y=\"-111.8\" font-family=\"Times New Roman,serif\" font-size=\"14.00\">class = No</text>\r\n",
       "</g>\r\n",
       "<!-- 2&#45;&gt;4 -->\r\n",
       "<g id=\"edge4\" class=\"edge\"><title>2&#45;&gt;4</title>\r\n",
       "<path fill=\"none\" stroke=\"black\" d=\"M177.694,-222.907C177.837,-214.558 177.989,-205.671 178.136,-197.02\"/>\r\n",
       "<polygon fill=\"black\" stroke=\"black\" points=\"181.636,-197.079 178.307,-187.021 174.637,-196.959 181.636,-197.079\"/>\r\n",
       "</g>\r\n",
       "<!-- 5 -->\r\n",
       "<g id=\"node6\" class=\"node\"><title>5</title>\r\n",
       "<polygon fill=\"#399de5\" stroke=\"black\" points=\"126,-68 34,-68 34,-0 126,-0 126,-68\"/>\r\n",
       "<text text-anchor=\"middle\" x=\"80\" y=\"-52.8\" font-family=\"Times New Roman,serif\" font-size=\"14.00\">entropy = 0.0</text>\r\n",
       "<text text-anchor=\"middle\" x=\"80\" y=\"-37.8\" font-family=\"Times New Roman,serif\" font-size=\"14.00\">samples = 1</text>\r\n",
       "<text text-anchor=\"middle\" x=\"80\" y=\"-22.8\" font-family=\"Times New Roman,serif\" font-size=\"14.00\">value = [0, 1]</text>\r\n",
       "<text text-anchor=\"middle\" x=\"80\" y=\"-7.8\" font-family=\"Times New Roman,serif\" font-size=\"14.00\">class = Yes</text>\r\n",
       "</g>\r\n",
       "<!-- 4&#45;&gt;5 -->\r\n",
       "<g id=\"edge5\" class=\"edge\"><title>4&#45;&gt;5</title>\r\n",
       "<path fill=\"none\" stroke=\"black\" d=\"M142.136,-103.726C133.89,-94.6054 125.142,-84.93 116.895,-75.8078\"/>\r\n",
       "<polygon fill=\"black\" stroke=\"black\" points=\"119.409,-73.3701 110.106,-68.2996 114.217,-78.0647 119.409,-73.3701\"/>\r\n",
       "</g>\r\n",
       "<!-- 6 -->\r\n",
       "<g id=\"node7\" class=\"node\"><title>6</title>\r\n",
       "<polygon fill=\"#e58139\" stroke=\"black\" points=\"236,-68 144,-68 144,-0 236,-0 236,-68\"/>\r\n",
       "<text text-anchor=\"middle\" x=\"190\" y=\"-52.8\" font-family=\"Times New Roman,serif\" font-size=\"14.00\">entropy = 0.0</text>\r\n",
       "<text text-anchor=\"middle\" x=\"190\" y=\"-37.8\" font-family=\"Times New Roman,serif\" font-size=\"14.00\">samples = 1</text>\r\n",
       "<text text-anchor=\"middle\" x=\"190\" y=\"-22.8\" font-family=\"Times New Roman,serif\" font-size=\"14.00\">value = [1, 0]</text>\r\n",
       "<text text-anchor=\"middle\" x=\"190\" y=\"-7.8\" font-family=\"Times New Roman,serif\" font-size=\"14.00\">class = No</text>\r\n",
       "</g>\r\n",
       "<!-- 4&#45;&gt;6 -->\r\n",
       "<g id=\"edge6\" class=\"edge\"><title>4&#45;&gt;6</title>\r\n",
       "<path fill=\"none\" stroke=\"black\" d=\"M183.096,-103.726C183.93,-95.4263 184.81,-86.6671 185.652,-78.2834\"/>\r\n",
       "<polygon fill=\"black\" stroke=\"black\" points=\"189.138,-78.5994 186.655,-68.2996 182.173,-77.8997 189.138,-78.5994\"/>\r\n",
       "</g>\r\n",
       "<!-- 8 -->\r\n",
       "<g id=\"node9\" class=\"node\"><title>8</title>\r\n",
       "<polygon fill=\"#ffffff\" stroke=\"black\" points=\"401,-187 267,-187 267,-104 401,-104 401,-187\"/>\r\n",
       "<text text-anchor=\"middle\" x=\"334\" y=\"-171.8\" font-family=\"Times New Roman,serif\" font-size=\"14.00\">Wind_Strong &lt;= 0.5</text>\r\n",
       "<text text-anchor=\"middle\" x=\"334\" y=\"-156.8\" font-family=\"Times New Roman,serif\" font-size=\"14.00\">entropy = 1.0</text>\r\n",
       "<text text-anchor=\"middle\" x=\"334\" y=\"-141.8\" font-family=\"Times New Roman,serif\" font-size=\"14.00\">samples = 2</text>\r\n",
       "<text text-anchor=\"middle\" x=\"334\" y=\"-126.8\" font-family=\"Times New Roman,serif\" font-size=\"14.00\">value = [1, 1]</text>\r\n",
       "<text text-anchor=\"middle\" x=\"334\" y=\"-111.8\" font-family=\"Times New Roman,serif\" font-size=\"14.00\">class = No</text>\r\n",
       "</g>\r\n",
       "<!-- 7&#45;&gt;8 -->\r\n",
       "<g id=\"edge8\" class=\"edge\"><title>7&#45;&gt;8</title>\r\n",
       "<path fill=\"none\" stroke=\"black\" d=\"M334.653,-222.907C334.582,-214.649 334.507,-205.864 334.434,-197.302\"/>\r\n",
       "<polygon fill=\"black\" stroke=\"black\" points=\"337.932,-196.99 334.346,-187.021 330.932,-197.05 337.932,-196.99\"/>\r\n",
       "</g>\r\n",
       "<!-- 11 -->\r\n",
       "<g id=\"node12\" class=\"node\"><title>11</title>\r\n",
       "<polygon fill=\"#e58139\" stroke=\"black\" points=\"511,-179.5 419,-179.5 419,-111.5 511,-111.5 511,-179.5\"/>\r\n",
       "<text text-anchor=\"middle\" x=\"465\" y=\"-164.3\" font-family=\"Times New Roman,serif\" font-size=\"14.00\">entropy = 0.0</text>\r\n",
       "<text text-anchor=\"middle\" x=\"465\" y=\"-149.3\" font-family=\"Times New Roman,serif\" font-size=\"14.00\">samples = 3</text>\r\n",
       "<text text-anchor=\"middle\" x=\"465\" y=\"-134.3\" font-family=\"Times New Roman,serif\" font-size=\"14.00\">value = [3, 0]</text>\r\n",
       "<text text-anchor=\"middle\" x=\"465\" y=\"-119.3\" font-family=\"Times New Roman,serif\" font-size=\"14.00\">class = No</text>\r\n",
       "</g>\r\n",
       "<!-- 7&#45;&gt;11 -->\r\n",
       "<g id=\"edge11\" class=\"edge\"><title>7&#45;&gt;11</title>\r\n",
       "<path fill=\"none\" stroke=\"black\" d=\"M380.103,-222.907C393.222,-211.101 407.537,-198.217 420.612,-186.45\"/>\r\n",
       "<polygon fill=\"black\" stroke=\"black\" points=\"423.056,-188.958 428.148,-179.667 418.373,-183.755 423.056,-188.958\"/>\r\n",
       "</g>\r\n",
       "<!-- 9 -->\r\n",
       "<g id=\"node10\" class=\"node\"><title>9</title>\r\n",
       "<polygon fill=\"#399de5\" stroke=\"black\" points=\"368,-68 276,-68 276,-0 368,-0 368,-68\"/>\r\n",
       "<text text-anchor=\"middle\" x=\"322\" y=\"-52.8\" font-family=\"Times New Roman,serif\" font-size=\"14.00\">entropy = 0.0</text>\r\n",
       "<text text-anchor=\"middle\" x=\"322\" y=\"-37.8\" font-family=\"Times New Roman,serif\" font-size=\"14.00\">samples = 1</text>\r\n",
       "<text text-anchor=\"middle\" x=\"322\" y=\"-22.8\" font-family=\"Times New Roman,serif\" font-size=\"14.00\">value = [0, 1]</text>\r\n",
       "<text text-anchor=\"middle\" x=\"322\" y=\"-7.8\" font-family=\"Times New Roman,serif\" font-size=\"14.00\">class = Yes</text>\r\n",
       "</g>\r\n",
       "<!-- 8&#45;&gt;9 -->\r\n",
       "<g id=\"edge9\" class=\"edge\"><title>8&#45;&gt;9</title>\r\n",
       "<path fill=\"none\" stroke=\"black\" d=\"M329.532,-103.726C328.622,-95.4263 327.662,-86.6671 326.743,-78.2834\"/>\r\n",
       "<polygon fill=\"black\" stroke=\"black\" points=\"330.218,-77.8588 325.649,-68.2996 323.26,-78.6214 330.218,-77.8588\"/>\r\n",
       "</g>\r\n",
       "<!-- 10 -->\r\n",
       "<g id=\"node11\" class=\"node\"><title>10</title>\r\n",
       "<polygon fill=\"#e58139\" stroke=\"black\" points=\"478,-68 386,-68 386,-0 478,-0 478,-68\"/>\r\n",
       "<text text-anchor=\"middle\" x=\"432\" y=\"-52.8\" font-family=\"Times New Roman,serif\" font-size=\"14.00\">entropy = 0.0</text>\r\n",
       "<text text-anchor=\"middle\" x=\"432\" y=\"-37.8\" font-family=\"Times New Roman,serif\" font-size=\"14.00\">samples = 1</text>\r\n",
       "<text text-anchor=\"middle\" x=\"432\" y=\"-22.8\" font-family=\"Times New Roman,serif\" font-size=\"14.00\">value = [1, 0]</text>\r\n",
       "<text text-anchor=\"middle\" x=\"432\" y=\"-7.8\" font-family=\"Times New Roman,serif\" font-size=\"14.00\">class = No</text>\r\n",
       "</g>\r\n",
       "<!-- 8&#45;&gt;10 -->\r\n",
       "<g id=\"edge10\" class=\"edge\"><title>8&#45;&gt;10</title>\r\n",
       "<path fill=\"none\" stroke=\"black\" d=\"M370.492,-103.726C378.655,-94.6054 387.314,-84.93 395.478,-75.8078\"/>\r\n",
       "<polygon fill=\"black\" stroke=\"black\" points=\"398.137,-78.0853 402.198,-68.2996 392.921,-73.417 398.137,-78.0853\"/>\r\n",
       "</g>\r\n",
       "</g>\r\n",
       "</svg>\r\n"
      ],
      "text/plain": [
       "<graphviz.files.Source at 0x1f8d5e6ce10>"
      ]
     },
     "execution_count": 66,
     "metadata": {},
     "output_type": "execute_result"
    }
   ],
   "source": [
    "grp = tree.export_graphviz(dt_entropy, out_file = None, feature_names=oh_df.columns,  \n",
    "                   class_names=tennis[y_col].unique(),\n",
    "                   filled=True)\n",
    "graphviz.Source(grp, format = \"png\")"
   ]
  },
  {
   "cell_type": "markdown",
   "metadata": {},
   "source": [
    "#### **실제로 이 순서가 맞는지 확인해보겠습니다**"
   ]
  },
  {
   "cell_type": "code",
   "execution_count": 70,
   "metadata": {},
   "outputs": [
    {
     "data": {
      "text/plain": [
       "0.9402859586706311"
      ]
     },
     "execution_count": 70,
     "metadata": {},
     "output_type": "execute_result"
    }
   ],
   "source": [
    "get_entropy(tennis, \"PlayTennis\")"
   ]
  },
  {
   "cell_type": "code",
   "execution_count": 71,
   "metadata": {},
   "outputs": [
    {
     "data": {
      "text/plain": [
       "cat1        Outlook\n",
       "cat2       Overcast\n",
       "entropy    0.714286\n",
       "Name: 1, dtype: object"
      ]
     },
     "execution_count": 71,
     "metadata": {},
     "output_type": "execute_result"
    }
   ],
   "source": [
    "entropy_df.iloc[entropy_df[\"entropy\"].argmin()]"
   ]
  },
  {
   "cell_type": "code",
   "execution_count": 78,
   "metadata": {},
   "outputs": [
    {
     "name": "stdout",
     "output_type": "stream",
     "text": [
      "col : Outlook, split_feature : Overcast : entropy = -0.0\n",
      "col : Temperature, split_feature : Hot : entropy = -0.0\n",
      "col : Temperature, split_feature : Cool : entropy = -0.0\n",
      "col : Temperature, split_feature : Mild : entropy = -0.0\n",
      "col : Humidity, split_feature : High : entropy = -0.0\n",
      "col : Humidity, split_feature : Normal : entropy = -0.0\n",
      "col : Wind, split_feature : Weak : entropy = -0.0\n",
      "col : Wind, split_feature : Strong : entropy = -0.0\n"
     ]
    },
    {
     "data": {
      "text/plain": [
       "cat1        Outlook\n",
       "cat2       Overcast\n",
       "entropy    0.714286\n",
       "Name: 0, dtype: object"
      ]
     },
     "execution_count": 78,
     "metadata": {},
     "output_type": "execute_result"
    }
   ],
   "source": [
    "tennis_ter1 = tennis[tennis[\"Outlook\"] == \"Overcast\"]\n",
    "[print(f\"col : {idx}, split_feature : {v} : entropy = {entropy_split(tennis_ter1, y_col, idx, v)}\") for idx, val in get_unique_dict(tennis_ter1).items() for v in val]\n",
    "entropy_df = pd.DataFrame([[idx, v, entropy_split(tennis, y_col, idx, v)] for idx, val in get_unique_dict(tennis_ter1).items() for v in val], columns = [\"cat1\", \"cat2\", \"entropy\"])\n",
    "entropy_df.iloc[entropy_df[\"entropy\"].argmin()]"
   ]
  },
  {
   "cell_type": "code",
   "execution_count": 79,
   "metadata": {},
   "outputs": [
    {
     "name": "stdout",
     "output_type": "stream",
     "text": [
      "col : Outlook, split_feature : Sunny : entropy = 0.9709505944546686\n",
      "col : Outlook, split_feature : Rain : entropy = 0.9709505944546686\n",
      "col : Temperature, split_feature : Hot : entropy = 0.7635472023399721\n",
      "col : Temperature, split_feature : Mild : entropy = 0.9709505944546686\n",
      "col : Temperature, split_feature : Cool : entropy = 0.965148445440323\n",
      "col : Humidity, split_feature : High : entropy = 0.7219280948873623\n",
      "col : Humidity, split_feature : Normal : entropy = 0.7219280948873623\n",
      "col : Wind, split_feature : Weak : entropy = 0.8754887502163469\n",
      "col : Wind, split_feature : Strong : entropy = 0.8754887502163469\n"
     ]
    },
    {
     "data": {
      "text/plain": [
       "cat1       Humidity\n",
       "cat2           High\n",
       "entropy     0.78845\n",
       "Name: 5, dtype: object"
      ]
     },
     "execution_count": 79,
     "metadata": {},
     "output_type": "execute_result"
    }
   ],
   "source": [
    "tennis_ter1 = tennis[tennis[\"Outlook\"] != \"Overcast\"]\n",
    "[print(f\"col : {idx}, split_feature : {v} : entropy = {entropy_split(tennis_ter1, y_col, idx, v)}\") for idx, val in get_unique_dict(tennis_ter1).items() for v in val]\n",
    "entropy_df = pd.DataFrame([[idx, v, entropy_split(tennis, y_col, idx, v)] for idx, val in get_unique_dict(tennis_ter1).items() for v in val], columns = [\"cat1\", \"cat2\", \"entropy\"])\n",
    "entropy_df.iloc[entropy_df[\"entropy\"].argmin()]"
   ]
  },
  {
   "cell_type": "code",
   "execution_count": 68,
   "metadata": {},
   "outputs": [
    {
     "data": {
      "image/svg+xml": [
       "<?xml version=\"1.0\" encoding=\"UTF-8\" standalone=\"no\"?>\r\n",
       "<!DOCTYPE svg PUBLIC \"-//W3C//DTD SVG 1.1//EN\"\r\n",
       " \"http://www.w3.org/Graphics/SVG/1.1/DTD/svg11.dtd\">\r\n",
       "<!-- Generated by graphviz version 2.38.0 (20140413.2041)\r\n",
       " -->\r\n",
       "<!-- Title: Tree Pages: 1 -->\r\n",
       "<svg width=\"519pt\" height=\"552pt\"\r\n",
       " viewBox=\"0.00 0.00 519.00 552.00\" xmlns=\"http://www.w3.org/2000/svg\" xmlns:xlink=\"http://www.w3.org/1999/xlink\">\r\n",
       "<g id=\"graph0\" class=\"graph\" transform=\"scale(1 1) rotate(0) translate(4 548)\">\r\n",
       "<title>Tree</title>\r\n",
       "<polygon fill=\"white\" stroke=\"none\" points=\"-4,4 -4,-548 515,-548 515,4 -4,4\"/>\r\n",
       "<!-- 0 -->\r\n",
       "<g id=\"node1\" class=\"node\"><title>0</title>\r\n",
       "<polygon fill=\"#a7d3f3\" stroke=\"black\" points=\"404.5,-544 243.5,-544 243.5,-461 404.5,-461 404.5,-544\"/>\r\n",
       "<text text-anchor=\"middle\" x=\"324\" y=\"-528.8\" font-family=\"Times New Roman,serif\" font-size=\"14.00\">Outlook_Overcast &lt;= 0.5</text>\r\n",
       "<text text-anchor=\"middle\" x=\"324\" y=\"-513.8\" font-family=\"Times New Roman,serif\" font-size=\"14.00\">entropy = 0.94</text>\r\n",
       "<text text-anchor=\"middle\" x=\"324\" y=\"-498.8\" font-family=\"Times New Roman,serif\" font-size=\"14.00\">samples = 14</text>\r\n",
       "<text text-anchor=\"middle\" x=\"324\" y=\"-483.8\" font-family=\"Times New Roman,serif\" font-size=\"14.00\">value = [5, 9]</text>\r\n",
       "<text text-anchor=\"middle\" x=\"324\" y=\"-468.8\" font-family=\"Times New Roman,serif\" font-size=\"14.00\">class = Yes</text>\r\n",
       "</g>\r\n",
       "<!-- 1 -->\r\n",
       "<g id=\"node2\" class=\"node\"><title>1</title>\r\n",
       "<polygon fill=\"#ffffff\" stroke=\"black\" points=\"327.5,-425 184.5,-425 184.5,-342 327.5,-342 327.5,-425\"/>\r\n",
       "<text text-anchor=\"middle\" x=\"256\" y=\"-409.8\" font-family=\"Times New Roman,serif\" font-size=\"14.00\">Humidity_High &lt;= 0.5</text>\r\n",
       "<text text-anchor=\"middle\" x=\"256\" y=\"-394.8\" font-family=\"Times New Roman,serif\" font-size=\"14.00\">entropy = 1.0</text>\r\n",
       "<text text-anchor=\"middle\" x=\"256\" y=\"-379.8\" font-family=\"Times New Roman,serif\" font-size=\"14.00\">samples = 10</text>\r\n",
       "<text text-anchor=\"middle\" x=\"256\" y=\"-364.8\" font-family=\"Times New Roman,serif\" font-size=\"14.00\">value = [5, 5]</text>\r\n",
       "<text text-anchor=\"middle\" x=\"256\" y=\"-349.8\" font-family=\"Times New Roman,serif\" font-size=\"14.00\">class = No</text>\r\n",
       "</g>\r\n",
       "<!-- 0&#45;&gt;1 -->\r\n",
       "<g id=\"edge1\" class=\"edge\"><title>0&#45;&gt;1</title>\r\n",
       "<path fill=\"none\" stroke=\"black\" d=\"M300.408,-460.907C295.344,-452.195 289.94,-442.897 284.707,-433.893\"/>\r\n",
       "<polygon fill=\"black\" stroke=\"black\" points=\"287.602,-431.908 279.551,-425.021 281.549,-435.425 287.602,-431.908\"/>\r\n",
       "<text text-anchor=\"middle\" x=\"273.15\" y=\"-445.487\" font-family=\"Times New Roman,serif\" font-size=\"14.00\">True</text>\r\n",
       "</g>\r\n",
       "<!-- 12 -->\r\n",
       "<g id=\"node13\" class=\"node\"><title>12</title>\r\n",
       "<polygon fill=\"#399de5\" stroke=\"black\" points=\"438,-417.5 346,-417.5 346,-349.5 438,-349.5 438,-417.5\"/>\r\n",
       "<text text-anchor=\"middle\" x=\"392\" y=\"-402.3\" font-family=\"Times New Roman,serif\" font-size=\"14.00\">entropy = 0.0</text>\r\n",
       "<text text-anchor=\"middle\" x=\"392\" y=\"-387.3\" font-family=\"Times New Roman,serif\" font-size=\"14.00\">samples = 4</text>\r\n",
       "<text text-anchor=\"middle\" x=\"392\" y=\"-372.3\" font-family=\"Times New Roman,serif\" font-size=\"14.00\">value = [0, 4]</text>\r\n",
       "<text text-anchor=\"middle\" x=\"392\" y=\"-357.3\" font-family=\"Times New Roman,serif\" font-size=\"14.00\">class = Yes</text>\r\n",
       "</g>\r\n",
       "<!-- 0&#45;&gt;12 -->\r\n",
       "<g id=\"edge12\" class=\"edge\"><title>0&#45;&gt;12</title>\r\n",
       "<path fill=\"none\" stroke=\"black\" d=\"M347.592,-460.907C354.07,-449.763 361.105,-437.658 367.625,-426.439\"/>\r\n",
       "<polygon fill=\"black\" stroke=\"black\" points=\"370.725,-428.072 372.723,-417.667 364.672,-424.554 370.725,-428.072\"/>\r\n",
       "<text text-anchor=\"middle\" x=\"379.124\" y=\"-438.134\" font-family=\"Times New Roman,serif\" font-size=\"14.00\">False</text>\r\n",
       "</g>\r\n",
       "<!-- 2 -->\r\n",
       "<g id=\"node3\" class=\"node\"><title>2</title>\r\n",
       "<polygon fill=\"#6ab6ec\" stroke=\"black\" points=\"244,-306 110,-306 110,-223 244,-223 244,-306\"/>\r\n",
       "<text text-anchor=\"middle\" x=\"177\" y=\"-290.8\" font-family=\"Times New Roman,serif\" font-size=\"14.00\">Wind_Strong &lt;= 0.5</text>\r\n",
       "<text text-anchor=\"middle\" x=\"177\" y=\"-275.8\" font-family=\"Times New Roman,serif\" font-size=\"14.00\">entropy = 0.722</text>\r\n",
       "<text text-anchor=\"middle\" x=\"177\" y=\"-260.8\" font-family=\"Times New Roman,serif\" font-size=\"14.00\">samples = 5</text>\r\n",
       "<text text-anchor=\"middle\" x=\"177\" y=\"-245.8\" font-family=\"Times New Roman,serif\" font-size=\"14.00\">value = [1, 4]</text>\r\n",
       "<text text-anchor=\"middle\" x=\"177\" y=\"-230.8\" font-family=\"Times New Roman,serif\" font-size=\"14.00\">class = Yes</text>\r\n",
       "</g>\r\n",
       "<!-- 1&#45;&gt;2 -->\r\n",
       "<g id=\"edge2\" class=\"edge\"><title>1&#45;&gt;2</title>\r\n",
       "<path fill=\"none\" stroke=\"black\" d=\"M228.591,-341.907C222.586,-333.014 216.169,-323.509 209.971,-314.331\"/>\r\n",
       "<polygon fill=\"black\" stroke=\"black\" points=\"212.857,-312.35 204.36,-306.021 207.056,-316.267 212.857,-312.35\"/>\r\n",
       "</g>\r\n",
       "<!-- 7 -->\r\n",
       "<g id=\"node8\" class=\"node\"><title>7</title>\r\n",
       "<polygon fill=\"#eca06a\" stroke=\"black\" points=\"408,-306 262,-306 262,-223 408,-223 408,-306\"/>\r\n",
       "<text text-anchor=\"middle\" x=\"335\" y=\"-290.8\" font-family=\"Times New Roman,serif\" font-size=\"14.00\">Outlook_Sunny &lt;= 0.5</text>\r\n",
       "<text text-anchor=\"middle\" x=\"335\" y=\"-275.8\" font-family=\"Times New Roman,serif\" font-size=\"14.00\">entropy = 0.722</text>\r\n",
       "<text text-anchor=\"middle\" x=\"335\" y=\"-260.8\" font-family=\"Times New Roman,serif\" font-size=\"14.00\">samples = 5</text>\r\n",
       "<text text-anchor=\"middle\" x=\"335\" y=\"-245.8\" font-family=\"Times New Roman,serif\" font-size=\"14.00\">value = [4, 1]</text>\r\n",
       "<text text-anchor=\"middle\" x=\"335\" y=\"-230.8\" font-family=\"Times New Roman,serif\" font-size=\"14.00\">class = No</text>\r\n",
       "</g>\r\n",
       "<!-- 1&#45;&gt;7 -->\r\n",
       "<g id=\"edge7\" class=\"edge\"><title>1&#45;&gt;7</title>\r\n",
       "<path fill=\"none\" stroke=\"black\" d=\"M283.409,-341.907C289.414,-333.014 295.831,-323.509 302.029,-314.331\"/>\r\n",
       "<polygon fill=\"black\" stroke=\"black\" points=\"304.944,-316.267 307.64,-306.021 299.143,-312.35 304.944,-316.267\"/>\r\n",
       "</g>\r\n",
       "<!-- 3 -->\r\n",
       "<g id=\"node4\" class=\"node\"><title>3</title>\r\n",
       "<polygon fill=\"#399de5\" stroke=\"black\" points=\"92,-179.5 0,-179.5 0,-111.5 92,-111.5 92,-179.5\"/>\r\n",
       "<text text-anchor=\"middle\" x=\"46\" y=\"-164.3\" font-family=\"Times New Roman,serif\" font-size=\"14.00\">entropy = 0.0</text>\r\n",
       "<text text-anchor=\"middle\" x=\"46\" y=\"-149.3\" font-family=\"Times New Roman,serif\" font-size=\"14.00\">samples = 3</text>\r\n",
       "<text text-anchor=\"middle\" x=\"46\" y=\"-134.3\" font-family=\"Times New Roman,serif\" font-size=\"14.00\">value = [0, 3]</text>\r\n",
       "<text text-anchor=\"middle\" x=\"46\" y=\"-119.3\" font-family=\"Times New Roman,serif\" font-size=\"14.00\">class = Yes</text>\r\n",
       "</g>\r\n",
       "<!-- 2&#45;&gt;3 -->\r\n",
       "<g id=\"edge3\" class=\"edge\"><title>2&#45;&gt;3</title>\r\n",
       "<path fill=\"none\" stroke=\"black\" d=\"M131.55,-222.907C118.33,-211.101 103.905,-198.217 90.7298,-186.45\"/>\r\n",
       "<polygon fill=\"black\" stroke=\"black\" points=\"92.9255,-183.718 83.1356,-179.667 88.2626,-188.939 92.9255,-183.718\"/>\r\n",
       "</g>\r\n",
       "<!-- 4 -->\r\n",
       "<g id=\"node5\" class=\"node\"><title>4</title>\r\n",
       "<polygon fill=\"#ffffff\" stroke=\"black\" points=\"247.5,-187 110.5,-187 110.5,-104 247.5,-104 247.5,-187\"/>\r\n",
       "<text text-anchor=\"middle\" x=\"179\" y=\"-171.8\" font-family=\"Times New Roman,serif\" font-size=\"14.00\">Outlook_Rain &lt;= 0.5</text>\r\n",
       "<text text-anchor=\"middle\" x=\"179\" y=\"-156.8\" font-family=\"Times New Roman,serif\" font-size=\"14.00\">entropy = 1.0</text>\r\n",
       "<text text-anchor=\"middle\" x=\"179\" y=\"-141.8\" font-family=\"Times New Roman,serif\" font-size=\"14.00\">samples = 2</text>\r\n",
       "<text text-anchor=\"middle\" x=\"179\" y=\"-126.8\" font-family=\"Times New Roman,serif\" font-size=\"14.00\">value = [1, 1]</text>\r\n",
       "<text text-anchor=\"middle\" x=\"179\" y=\"-111.8\" font-family=\"Times New Roman,serif\" font-size=\"14.00\">class = No</text>\r\n",
       "</g>\r\n",
       "<!-- 2&#45;&gt;4 -->\r\n",
       "<g id=\"edge4\" class=\"edge\"><title>2&#45;&gt;4</title>\r\n",
       "<path fill=\"none\" stroke=\"black\" d=\"M177.694,-222.907C177.837,-214.558 177.989,-205.671 178.136,-197.02\"/>\r\n",
       "<polygon fill=\"black\" stroke=\"black\" points=\"181.636,-197.079 178.307,-187.021 174.637,-196.959 181.636,-197.079\"/>\r\n",
       "</g>\r\n",
       "<!-- 5 -->\r\n",
       "<g id=\"node6\" class=\"node\"><title>5</title>\r\n",
       "<polygon fill=\"#399de5\" stroke=\"black\" points=\"126,-68 34,-68 34,-0 126,-0 126,-68\"/>\r\n",
       "<text text-anchor=\"middle\" x=\"80\" y=\"-52.8\" font-family=\"Times New Roman,serif\" font-size=\"14.00\">entropy = 0.0</text>\r\n",
       "<text text-anchor=\"middle\" x=\"80\" y=\"-37.8\" font-family=\"Times New Roman,serif\" font-size=\"14.00\">samples = 1</text>\r\n",
       "<text text-anchor=\"middle\" x=\"80\" y=\"-22.8\" font-family=\"Times New Roman,serif\" font-size=\"14.00\">value = [0, 1]</text>\r\n",
       "<text text-anchor=\"middle\" x=\"80\" y=\"-7.8\" font-family=\"Times New Roman,serif\" font-size=\"14.00\">class = Yes</text>\r\n",
       "</g>\r\n",
       "<!-- 4&#45;&gt;5 -->\r\n",
       "<g id=\"edge5\" class=\"edge\"><title>4&#45;&gt;5</title>\r\n",
       "<path fill=\"none\" stroke=\"black\" d=\"M142.136,-103.726C133.89,-94.6054 125.142,-84.93 116.895,-75.8078\"/>\r\n",
       "<polygon fill=\"black\" stroke=\"black\" points=\"119.409,-73.3701 110.106,-68.2996 114.217,-78.0647 119.409,-73.3701\"/>\r\n",
       "</g>\r\n",
       "<!-- 6 -->\r\n",
       "<g id=\"node7\" class=\"node\"><title>6</title>\r\n",
       "<polygon fill=\"#e58139\" stroke=\"black\" points=\"236,-68 144,-68 144,-0 236,-0 236,-68\"/>\r\n",
       "<text text-anchor=\"middle\" x=\"190\" y=\"-52.8\" font-family=\"Times New Roman,serif\" font-size=\"14.00\">entropy = 0.0</text>\r\n",
       "<text text-anchor=\"middle\" x=\"190\" y=\"-37.8\" font-family=\"Times New Roman,serif\" font-size=\"14.00\">samples = 1</text>\r\n",
       "<text text-anchor=\"middle\" x=\"190\" y=\"-22.8\" font-family=\"Times New Roman,serif\" font-size=\"14.00\">value = [1, 0]</text>\r\n",
       "<text text-anchor=\"middle\" x=\"190\" y=\"-7.8\" font-family=\"Times New Roman,serif\" font-size=\"14.00\">class = No</text>\r\n",
       "</g>\r\n",
       "<!-- 4&#45;&gt;6 -->\r\n",
       "<g id=\"edge6\" class=\"edge\"><title>4&#45;&gt;6</title>\r\n",
       "<path fill=\"none\" stroke=\"black\" d=\"M183.096,-103.726C183.93,-95.4263 184.81,-86.6671 185.652,-78.2834\"/>\r\n",
       "<polygon fill=\"black\" stroke=\"black\" points=\"189.138,-78.5994 186.655,-68.2996 182.173,-77.8997 189.138,-78.5994\"/>\r\n",
       "</g>\r\n",
       "<!-- 8 -->\r\n",
       "<g id=\"node9\" class=\"node\"><title>8</title>\r\n",
       "<polygon fill=\"#ffffff\" stroke=\"black\" points=\"401,-187 267,-187 267,-104 401,-104 401,-187\"/>\r\n",
       "<text text-anchor=\"middle\" x=\"334\" y=\"-171.8\" font-family=\"Times New Roman,serif\" font-size=\"14.00\">Wind_Strong &lt;= 0.5</text>\r\n",
       "<text text-anchor=\"middle\" x=\"334\" y=\"-156.8\" font-family=\"Times New Roman,serif\" font-size=\"14.00\">entropy = 1.0</text>\r\n",
       "<text text-anchor=\"middle\" x=\"334\" y=\"-141.8\" font-family=\"Times New Roman,serif\" font-size=\"14.00\">samples = 2</text>\r\n",
       "<text text-anchor=\"middle\" x=\"334\" y=\"-126.8\" font-family=\"Times New Roman,serif\" font-size=\"14.00\">value = [1, 1]</text>\r\n",
       "<text text-anchor=\"middle\" x=\"334\" y=\"-111.8\" font-family=\"Times New Roman,serif\" font-size=\"14.00\">class = No</text>\r\n",
       "</g>\r\n",
       "<!-- 7&#45;&gt;8 -->\r\n",
       "<g id=\"edge8\" class=\"edge\"><title>7&#45;&gt;8</title>\r\n",
       "<path fill=\"none\" stroke=\"black\" d=\"M334.653,-222.907C334.582,-214.649 334.507,-205.864 334.434,-197.302\"/>\r\n",
       "<polygon fill=\"black\" stroke=\"black\" points=\"337.932,-196.99 334.346,-187.021 330.932,-197.05 337.932,-196.99\"/>\r\n",
       "</g>\r\n",
       "<!-- 11 -->\r\n",
       "<g id=\"node12\" class=\"node\"><title>11</title>\r\n",
       "<polygon fill=\"#e58139\" stroke=\"black\" points=\"511,-179.5 419,-179.5 419,-111.5 511,-111.5 511,-179.5\"/>\r\n",
       "<text text-anchor=\"middle\" x=\"465\" y=\"-164.3\" font-family=\"Times New Roman,serif\" font-size=\"14.00\">entropy = 0.0</text>\r\n",
       "<text text-anchor=\"middle\" x=\"465\" y=\"-149.3\" font-family=\"Times New Roman,serif\" font-size=\"14.00\">samples = 3</text>\r\n",
       "<text text-anchor=\"middle\" x=\"465\" y=\"-134.3\" font-family=\"Times New Roman,serif\" font-size=\"14.00\">value = [3, 0]</text>\r\n",
       "<text text-anchor=\"middle\" x=\"465\" y=\"-119.3\" font-family=\"Times New Roman,serif\" font-size=\"14.00\">class = No</text>\r\n",
       "</g>\r\n",
       "<!-- 7&#45;&gt;11 -->\r\n",
       "<g id=\"edge11\" class=\"edge\"><title>7&#45;&gt;11</title>\r\n",
       "<path fill=\"none\" stroke=\"black\" d=\"M380.103,-222.907C393.222,-211.101 407.537,-198.217 420.612,-186.45\"/>\r\n",
       "<polygon fill=\"black\" stroke=\"black\" points=\"423.056,-188.958 428.148,-179.667 418.373,-183.755 423.056,-188.958\"/>\r\n",
       "</g>\r\n",
       "<!-- 9 -->\r\n",
       "<g id=\"node10\" class=\"node\"><title>9</title>\r\n",
       "<polygon fill=\"#399de5\" stroke=\"black\" points=\"368,-68 276,-68 276,-0 368,-0 368,-68\"/>\r\n",
       "<text text-anchor=\"middle\" x=\"322\" y=\"-52.8\" font-family=\"Times New Roman,serif\" font-size=\"14.00\">entropy = 0.0</text>\r\n",
       "<text text-anchor=\"middle\" x=\"322\" y=\"-37.8\" font-family=\"Times New Roman,serif\" font-size=\"14.00\">samples = 1</text>\r\n",
       "<text text-anchor=\"middle\" x=\"322\" y=\"-22.8\" font-family=\"Times New Roman,serif\" font-size=\"14.00\">value = [0, 1]</text>\r\n",
       "<text text-anchor=\"middle\" x=\"322\" y=\"-7.8\" font-family=\"Times New Roman,serif\" font-size=\"14.00\">class = Yes</text>\r\n",
       "</g>\r\n",
       "<!-- 8&#45;&gt;9 -->\r\n",
       "<g id=\"edge9\" class=\"edge\"><title>8&#45;&gt;9</title>\r\n",
       "<path fill=\"none\" stroke=\"black\" d=\"M329.532,-103.726C328.622,-95.4263 327.662,-86.6671 326.743,-78.2834\"/>\r\n",
       "<polygon fill=\"black\" stroke=\"black\" points=\"330.218,-77.8588 325.649,-68.2996 323.26,-78.6214 330.218,-77.8588\"/>\r\n",
       "</g>\r\n",
       "<!-- 10 -->\r\n",
       "<g id=\"node11\" class=\"node\"><title>10</title>\r\n",
       "<polygon fill=\"#e58139\" stroke=\"black\" points=\"478,-68 386,-68 386,-0 478,-0 478,-68\"/>\r\n",
       "<text text-anchor=\"middle\" x=\"432\" y=\"-52.8\" font-family=\"Times New Roman,serif\" font-size=\"14.00\">entropy = 0.0</text>\r\n",
       "<text text-anchor=\"middle\" x=\"432\" y=\"-37.8\" font-family=\"Times New Roman,serif\" font-size=\"14.00\">samples = 1</text>\r\n",
       "<text text-anchor=\"middle\" x=\"432\" y=\"-22.8\" font-family=\"Times New Roman,serif\" font-size=\"14.00\">value = [1, 0]</text>\r\n",
       "<text text-anchor=\"middle\" x=\"432\" y=\"-7.8\" font-family=\"Times New Roman,serif\" font-size=\"14.00\">class = No</text>\r\n",
       "</g>\r\n",
       "<!-- 8&#45;&gt;10 -->\r\n",
       "<g id=\"edge10\" class=\"edge\"><title>8&#45;&gt;10</title>\r\n",
       "<path fill=\"none\" stroke=\"black\" d=\"M370.492,-103.726C378.655,-94.6054 387.314,-84.93 395.478,-75.8078\"/>\r\n",
       "<polygon fill=\"black\" stroke=\"black\" points=\"398.137,-78.0853 402.198,-68.2996 392.921,-73.417 398.137,-78.0853\"/>\r\n",
       "</g>\r\n",
       "</g>\r\n",
       "</svg>\r\n"
      ],
      "text/plain": [
       "<graphviz.files.Source at 0x1f8d5e36ef0>"
      ]
     },
     "execution_count": 68,
     "metadata": {},
     "output_type": "execute_result"
    }
   ],
   "source": [
    "grp = tree.export_graphviz(dt_entropy, out_file = None, feature_names=oh_df.columns,  \n",
    "                   class_names=tennis[y_col].unique(),\n",
    "                   filled=True)\n",
    "graphviz.Source(grp, format = \"png\")"
   ]
  },
  {
   "cell_type": "code",
   "execution_count": 67,
   "metadata": {},
   "outputs": [
    {
     "data": {
      "image/svg+xml": [
       "<?xml version=\"1.0\" encoding=\"UTF-8\" standalone=\"no\"?>\r\n",
       "<!DOCTYPE svg PUBLIC \"-//W3C//DTD SVG 1.1//EN\"\r\n",
       " \"http://www.w3.org/Graphics/SVG/1.1/DTD/svg11.dtd\">\r\n",
       "<!-- Generated by graphviz version 2.38.0 (20140413.2041)\r\n",
       " -->\r\n",
       "<!-- Title: Tree Pages: 1 -->\r\n",
       "<svg width=\"608pt\" height=\"552pt\"\r\n",
       " viewBox=\"0.00 0.00 608.00 552.00\" xmlns=\"http://www.w3.org/2000/svg\" xmlns:xlink=\"http://www.w3.org/1999/xlink\">\r\n",
       "<g id=\"graph0\" class=\"graph\" transform=\"scale(1 1) rotate(0) translate(4 548)\">\r\n",
       "<title>Tree</title>\r\n",
       "<polygon fill=\"white\" stroke=\"none\" points=\"-4,4 -4,-548 604,-548 604,4 -4,4\"/>\r\n",
       "<!-- 0 -->\r\n",
       "<g id=\"node1\" class=\"node\"><title>0</title>\r\n",
       "<polygon fill=\"#a7d3f3\" stroke=\"black\" points=\"448,-544 287,-544 287,-461 448,-461 448,-544\"/>\r\n",
       "<text text-anchor=\"middle\" x=\"367.5\" y=\"-528.8\" font-family=\"Times New Roman,serif\" font-size=\"14.00\">Outlook_Overcast &lt;= 0.5</text>\r\n",
       "<text text-anchor=\"middle\" x=\"367.5\" y=\"-513.8\" font-family=\"Times New Roman,serif\" font-size=\"14.00\">gini = 0.459</text>\r\n",
       "<text text-anchor=\"middle\" x=\"367.5\" y=\"-498.8\" font-family=\"Times New Roman,serif\" font-size=\"14.00\">samples = 14</text>\r\n",
       "<text text-anchor=\"middle\" x=\"367.5\" y=\"-483.8\" font-family=\"Times New Roman,serif\" font-size=\"14.00\">value = [5, 9]</text>\r\n",
       "<text text-anchor=\"middle\" x=\"367.5\" y=\"-468.8\" font-family=\"Times New Roman,serif\" font-size=\"14.00\">class = Yes</text>\r\n",
       "</g>\r\n",
       "<!-- 1 -->\r\n",
       "<g id=\"node2\" class=\"node\"><title>1</title>\r\n",
       "<polygon fill=\"#ffffff\" stroke=\"black\" points=\"375.5,-425 217.5,-425 217.5,-342 375.5,-342 375.5,-425\"/>\r\n",
       "<text text-anchor=\"middle\" x=\"296.5\" y=\"-409.8\" font-family=\"Times New Roman,serif\" font-size=\"14.00\">Humidity_Normal &lt;= 0.5</text>\r\n",
       "<text text-anchor=\"middle\" x=\"296.5\" y=\"-394.8\" font-family=\"Times New Roman,serif\" font-size=\"14.00\">gini = 0.5</text>\r\n",
       "<text text-anchor=\"middle\" x=\"296.5\" y=\"-379.8\" font-family=\"Times New Roman,serif\" font-size=\"14.00\">samples = 10</text>\r\n",
       "<text text-anchor=\"middle\" x=\"296.5\" y=\"-364.8\" font-family=\"Times New Roman,serif\" font-size=\"14.00\">value = [5, 5]</text>\r\n",
       "<text text-anchor=\"middle\" x=\"296.5\" y=\"-349.8\" font-family=\"Times New Roman,serif\" font-size=\"14.00\">class = No</text>\r\n",
       "</g>\r\n",
       "<!-- 0&#45;&gt;1 -->\r\n",
       "<g id=\"edge1\" class=\"edge\"><title>0&#45;&gt;1</title>\r\n",
       "<path fill=\"none\" stroke=\"black\" d=\"M342.867,-460.907C337.525,-452.105 331.82,-442.703 326.303,-433.612\"/>\r\n",
       "<polygon fill=\"black\" stroke=\"black\" points=\"329.27,-431.754 321.09,-425.021 323.285,-435.386 329.27,-431.754\"/>\r\n",
       "<text text-anchor=\"middle\" x=\"315.148\" y=\"-445.604\" font-family=\"Times New Roman,serif\" font-size=\"14.00\">True</text>\r\n",
       "</g>\r\n",
       "<!-- 12 -->\r\n",
       "<g id=\"node13\" class=\"node\"><title>12</title>\r\n",
       "<polygon fill=\"#399de5\" stroke=\"black\" points=\"485,-417.5 394,-417.5 394,-349.5 485,-349.5 485,-417.5\"/>\r\n",
       "<text text-anchor=\"middle\" x=\"439.5\" y=\"-402.3\" font-family=\"Times New Roman,serif\" font-size=\"14.00\">gini = 0.0</text>\r\n",
       "<text text-anchor=\"middle\" x=\"439.5\" y=\"-387.3\" font-family=\"Times New Roman,serif\" font-size=\"14.00\">samples = 4</text>\r\n",
       "<text text-anchor=\"middle\" x=\"439.5\" y=\"-372.3\" font-family=\"Times New Roman,serif\" font-size=\"14.00\">value = [0, 4]</text>\r\n",
       "<text text-anchor=\"middle\" x=\"439.5\" y=\"-357.3\" font-family=\"Times New Roman,serif\" font-size=\"14.00\">class = Yes</text>\r\n",
       "</g>\r\n",
       "<!-- 0&#45;&gt;12 -->\r\n",
       "<g id=\"edge12\" class=\"edge\"><title>0&#45;&gt;12</title>\r\n",
       "<path fill=\"none\" stroke=\"black\" d=\"M392.48,-460.907C399.338,-449.763 406.787,-437.658 413.691,-426.439\"/>\r\n",
       "<polygon fill=\"black\" stroke=\"black\" points=\"416.829,-428.018 419.09,-417.667 410.868,-424.349 416.829,-428.018\"/>\r\n",
       "<text text-anchor=\"middle\" x=\"424.88\" y=\"-438.287\" font-family=\"Times New Roman,serif\" font-size=\"14.00\">False</text>\r\n",
       "</g>\r\n",
       "<!-- 2 -->\r\n",
       "<g id=\"node3\" class=\"node\"><title>2</title>\r\n",
       "<polygon fill=\"#eca06a\" stroke=\"black\" points=\"290.5,-306 144.5,-306 144.5,-223 290.5,-223 290.5,-306\"/>\r\n",
       "<text text-anchor=\"middle\" x=\"217.5\" y=\"-290.8\" font-family=\"Times New Roman,serif\" font-size=\"14.00\">Outlook_Sunny &lt;= 0.5</text>\r\n",
       "<text text-anchor=\"middle\" x=\"217.5\" y=\"-275.8\" font-family=\"Times New Roman,serif\" font-size=\"14.00\">gini = 0.32</text>\r\n",
       "<text text-anchor=\"middle\" x=\"217.5\" y=\"-260.8\" font-family=\"Times New Roman,serif\" font-size=\"14.00\">samples = 5</text>\r\n",
       "<text text-anchor=\"middle\" x=\"217.5\" y=\"-245.8\" font-family=\"Times New Roman,serif\" font-size=\"14.00\">value = [4, 1]</text>\r\n",
       "<text text-anchor=\"middle\" x=\"217.5\" y=\"-230.8\" font-family=\"Times New Roman,serif\" font-size=\"14.00\">class = No</text>\r\n",
       "</g>\r\n",
       "<!-- 1&#45;&gt;2 -->\r\n",
       "<g id=\"edge2\" class=\"edge\"><title>1&#45;&gt;2</title>\r\n",
       "<path fill=\"none\" stroke=\"black\" d=\"M269.091,-341.907C263.086,-333.014 256.669,-323.509 250.471,-314.331\"/>\r\n",
       "<polygon fill=\"black\" stroke=\"black\" points=\"253.357,-312.35 244.86,-306.021 247.556,-316.267 253.357,-312.35\"/>\r\n",
       "</g>\r\n",
       "<!-- 7 -->\r\n",
       "<g id=\"node8\" class=\"node\"><title>7</title>\r\n",
       "<polygon fill=\"#6ab6ec\" stroke=\"black\" points=\"442.5,-306 308.5,-306 308.5,-223 442.5,-223 442.5,-306\"/>\r\n",
       "<text text-anchor=\"middle\" x=\"375.5\" y=\"-290.8\" font-family=\"Times New Roman,serif\" font-size=\"14.00\">Wind_Strong &lt;= 0.5</text>\r\n",
       "<text text-anchor=\"middle\" x=\"375.5\" y=\"-275.8\" font-family=\"Times New Roman,serif\" font-size=\"14.00\">gini = 0.32</text>\r\n",
       "<text text-anchor=\"middle\" x=\"375.5\" y=\"-260.8\" font-family=\"Times New Roman,serif\" font-size=\"14.00\">samples = 5</text>\r\n",
       "<text text-anchor=\"middle\" x=\"375.5\" y=\"-245.8\" font-family=\"Times New Roman,serif\" font-size=\"14.00\">value = [1, 4]</text>\r\n",
       "<text text-anchor=\"middle\" x=\"375.5\" y=\"-230.8\" font-family=\"Times New Roman,serif\" font-size=\"14.00\">class = Yes</text>\r\n",
       "</g>\r\n",
       "<!-- 1&#45;&gt;7 -->\r\n",
       "<g id=\"edge7\" class=\"edge\"><title>1&#45;&gt;7</title>\r\n",
       "<path fill=\"none\" stroke=\"black\" d=\"M323.909,-341.907C329.914,-333.014 336.331,-323.509 342.529,-314.331\"/>\r\n",
       "<polygon fill=\"black\" stroke=\"black\" points=\"345.444,-316.267 348.14,-306.021 339.643,-312.35 345.444,-316.267\"/>\r\n",
       "</g>\r\n",
       "<!-- 3 -->\r\n",
       "<g id=\"node4\" class=\"node\"><title>3</title>\r\n",
       "<polygon fill=\"#ffffff\" stroke=\"black\" points=\"166.5,-187 32.5,-187 32.5,-104 166.5,-104 166.5,-187\"/>\r\n",
       "<text text-anchor=\"middle\" x=\"99.5\" y=\"-171.8\" font-family=\"Times New Roman,serif\" font-size=\"14.00\">Wind_Strong &lt;= 0.5</text>\r\n",
       "<text text-anchor=\"middle\" x=\"99.5\" y=\"-156.8\" font-family=\"Times New Roman,serif\" font-size=\"14.00\">gini = 0.5</text>\r\n",
       "<text text-anchor=\"middle\" x=\"99.5\" y=\"-141.8\" font-family=\"Times New Roman,serif\" font-size=\"14.00\">samples = 2</text>\r\n",
       "<text text-anchor=\"middle\" x=\"99.5\" y=\"-126.8\" font-family=\"Times New Roman,serif\" font-size=\"14.00\">value = [1, 1]</text>\r\n",
       "<text text-anchor=\"middle\" x=\"99.5\" y=\"-111.8\" font-family=\"Times New Roman,serif\" font-size=\"14.00\">class = No</text>\r\n",
       "</g>\r\n",
       "<!-- 2&#45;&gt;3 -->\r\n",
       "<g id=\"edge3\" class=\"edge\"><title>2&#45;&gt;3</title>\r\n",
       "<path fill=\"none\" stroke=\"black\" d=\"M176.56,-222.907C167.225,-213.651 157.221,-203.732 147.617,-194.209\"/>\r\n",
       "<polygon fill=\"black\" stroke=\"black\" points=\"149.933,-191.576 140.367,-187.021 145.004,-196.547 149.933,-191.576\"/>\r\n",
       "</g>\r\n",
       "<!-- 6 -->\r\n",
       "<g id=\"node7\" class=\"node\"><title>6</title>\r\n",
       "<polygon fill=\"#e58139\" stroke=\"black\" points=\"276,-179.5 185,-179.5 185,-111.5 276,-111.5 276,-179.5\"/>\r\n",
       "<text text-anchor=\"middle\" x=\"230.5\" y=\"-164.3\" font-family=\"Times New Roman,serif\" font-size=\"14.00\">gini = 0.0</text>\r\n",
       "<text text-anchor=\"middle\" x=\"230.5\" y=\"-149.3\" font-family=\"Times New Roman,serif\" font-size=\"14.00\">samples = 3</text>\r\n",
       "<text text-anchor=\"middle\" x=\"230.5\" y=\"-134.3\" font-family=\"Times New Roman,serif\" font-size=\"14.00\">value = [3, 0]</text>\r\n",
       "<text text-anchor=\"middle\" x=\"230.5\" y=\"-119.3\" font-family=\"Times New Roman,serif\" font-size=\"14.00\">class = No</text>\r\n",
       "</g>\r\n",
       "<!-- 2&#45;&gt;6 -->\r\n",
       "<g id=\"edge6\" class=\"edge\"><title>2&#45;&gt;6</title>\r\n",
       "<path fill=\"none\" stroke=\"black\" d=\"M222.01,-222.907C223.2,-212.204 224.487,-200.615 225.692,-189.776\"/>\r\n",
       "<polygon fill=\"black\" stroke=\"black\" points=\"229.189,-189.992 226.815,-179.667 222.232,-189.219 229.189,-189.992\"/>\r\n",
       "</g>\r\n",
       "<!-- 4 -->\r\n",
       "<g id=\"node5\" class=\"node\"><title>4</title>\r\n",
       "<polygon fill=\"#399de5\" stroke=\"black\" points=\"91,-68 0,-68 0,-0 91,-0 91,-68\"/>\r\n",
       "<text text-anchor=\"middle\" x=\"45.5\" y=\"-52.8\" font-family=\"Times New Roman,serif\" font-size=\"14.00\">gini = 0.0</text>\r\n",
       "<text text-anchor=\"middle\" x=\"45.5\" y=\"-37.8\" font-family=\"Times New Roman,serif\" font-size=\"14.00\">samples = 1</text>\r\n",
       "<text text-anchor=\"middle\" x=\"45.5\" y=\"-22.8\" font-family=\"Times New Roman,serif\" font-size=\"14.00\">value = [0, 1]</text>\r\n",
       "<text text-anchor=\"middle\" x=\"45.5\" y=\"-7.8\" font-family=\"Times New Roman,serif\" font-size=\"14.00\">class = Yes</text>\r\n",
       "</g>\r\n",
       "<!-- 3&#45;&gt;4 -->\r\n",
       "<g id=\"edge4\" class=\"edge\"><title>3&#45;&gt;4</title>\r\n",
       "<path fill=\"none\" stroke=\"black\" d=\"M79.3924,-103.726C75.1643,-95.1527 70.6946,-86.0891 66.437,-77.4555\"/>\r\n",
       "<polygon fill=\"black\" stroke=\"black\" points=\"69.4838,-75.7203 61.9217,-68.2996 63.2056,-78.8164 69.4838,-75.7203\"/>\r\n",
       "</g>\r\n",
       "<!-- 5 -->\r\n",
       "<g id=\"node6\" class=\"node\"><title>5</title>\r\n",
       "<polygon fill=\"#e58139\" stroke=\"black\" points=\"200,-68 109,-68 109,-0 200,-0 200,-68\"/>\r\n",
       "<text text-anchor=\"middle\" x=\"154.5\" y=\"-52.8\" font-family=\"Times New Roman,serif\" font-size=\"14.00\">gini = 0.0</text>\r\n",
       "<text text-anchor=\"middle\" x=\"154.5\" y=\"-37.8\" font-family=\"Times New Roman,serif\" font-size=\"14.00\">samples = 1</text>\r\n",
       "<text text-anchor=\"middle\" x=\"154.5\" y=\"-22.8\" font-family=\"Times New Roman,serif\" font-size=\"14.00\">value = [1, 0]</text>\r\n",
       "<text text-anchor=\"middle\" x=\"154.5\" y=\"-7.8\" font-family=\"Times New Roman,serif\" font-size=\"14.00\">class = No</text>\r\n",
       "</g>\r\n",
       "<!-- 3&#45;&gt;5 -->\r\n",
       "<g id=\"edge5\" class=\"edge\"><title>3&#45;&gt;5</title>\r\n",
       "<path fill=\"none\" stroke=\"black\" d=\"M119.98,-103.726C124.286,-95.1527 128.839,-86.0891 133.175,-77.4555\"/>\r\n",
       "<polygon fill=\"black\" stroke=\"black\" points=\"136.413,-78.8067 137.774,-68.2996 130.158,-75.6647 136.413,-78.8067\"/>\r\n",
       "</g>\r\n",
       "<!-- 8 -->\r\n",
       "<g id=\"node9\" class=\"node\"><title>8</title>\r\n",
       "<polygon fill=\"#399de5\" stroke=\"black\" points=\"409,-179.5 318,-179.5 318,-111.5 409,-111.5 409,-179.5\"/>\r\n",
       "<text text-anchor=\"middle\" x=\"363.5\" y=\"-164.3\" font-family=\"Times New Roman,serif\" font-size=\"14.00\">gini = 0.0</text>\r\n",
       "<text text-anchor=\"middle\" x=\"363.5\" y=\"-149.3\" font-family=\"Times New Roman,serif\" font-size=\"14.00\">samples = 3</text>\r\n",
       "<text text-anchor=\"middle\" x=\"363.5\" y=\"-134.3\" font-family=\"Times New Roman,serif\" font-size=\"14.00\">value = [0, 3]</text>\r\n",
       "<text text-anchor=\"middle\" x=\"363.5\" y=\"-119.3\" font-family=\"Times New Roman,serif\" font-size=\"14.00\">class = Yes</text>\r\n",
       "</g>\r\n",
       "<!-- 7&#45;&gt;8 -->\r\n",
       "<g id=\"edge8\" class=\"edge\"><title>7&#45;&gt;8</title>\r\n",
       "<path fill=\"none\" stroke=\"black\" d=\"M371.337,-222.907C370.239,-212.204 369.05,-200.615 367.939,-189.776\"/>\r\n",
       "<polygon fill=\"black\" stroke=\"black\" points=\"371.404,-189.258 366.902,-179.667 364.44,-189.972 371.404,-189.258\"/>\r\n",
       "</g>\r\n",
       "<!-- 9 -->\r\n",
       "<g id=\"node10\" class=\"node\"><title>9</title>\r\n",
       "<polygon fill=\"#ffffff\" stroke=\"black\" points=\"573.5,-187 427.5,-187 427.5,-104 573.5,-104 573.5,-187\"/>\r\n",
       "<text text-anchor=\"middle\" x=\"500.5\" y=\"-171.8\" font-family=\"Times New Roman,serif\" font-size=\"14.00\">Outlook_Sunny &lt;= 0.5</text>\r\n",
       "<text text-anchor=\"middle\" x=\"500.5\" y=\"-156.8\" font-family=\"Times New Roman,serif\" font-size=\"14.00\">gini = 0.5</text>\r\n",
       "<text text-anchor=\"middle\" x=\"500.5\" y=\"-141.8\" font-family=\"Times New Roman,serif\" font-size=\"14.00\">samples = 2</text>\r\n",
       "<text text-anchor=\"middle\" x=\"500.5\" y=\"-126.8\" font-family=\"Times New Roman,serif\" font-size=\"14.00\">value = [1, 1]</text>\r\n",
       "<text text-anchor=\"middle\" x=\"500.5\" y=\"-111.8\" font-family=\"Times New Roman,serif\" font-size=\"14.00\">class = No</text>\r\n",
       "</g>\r\n",
       "<!-- 7&#45;&gt;9 -->\r\n",
       "<g id=\"edge9\" class=\"edge\"><title>7&#45;&gt;9</title>\r\n",
       "<path fill=\"none\" stroke=\"black\" d=\"M418.868,-222.907C428.855,-213.56 439.562,-203.538 449.828,-193.929\"/>\r\n",
       "<polygon fill=\"black\" stroke=\"black\" points=\"452.299,-196.41 457.209,-187.021 447.516,-191.299 452.299,-196.41\"/>\r\n",
       "</g>\r\n",
       "<!-- 10 -->\r\n",
       "<g id=\"node11\" class=\"node\"><title>10</title>\r\n",
       "<polygon fill=\"#e58139\" stroke=\"black\" points=\"491,-68 400,-68 400,-0 491,-0 491,-68\"/>\r\n",
       "<text text-anchor=\"middle\" x=\"445.5\" y=\"-52.8\" font-family=\"Times New Roman,serif\" font-size=\"14.00\">gini = 0.0</text>\r\n",
       "<text text-anchor=\"middle\" x=\"445.5\" y=\"-37.8\" font-family=\"Times New Roman,serif\" font-size=\"14.00\">samples = 1</text>\r\n",
       "<text text-anchor=\"middle\" x=\"445.5\" y=\"-22.8\" font-family=\"Times New Roman,serif\" font-size=\"14.00\">value = [1, 0]</text>\r\n",
       "<text text-anchor=\"middle\" x=\"445.5\" y=\"-7.8\" font-family=\"Times New Roman,serif\" font-size=\"14.00\">class = No</text>\r\n",
       "</g>\r\n",
       "<!-- 9&#45;&gt;10 -->\r\n",
       "<g id=\"edge10\" class=\"edge\"><title>9&#45;&gt;10</title>\r\n",
       "<path fill=\"none\" stroke=\"black\" d=\"M480.02,-103.726C475.714,-95.1527 471.161,-86.0891 466.825,-77.4555\"/>\r\n",
       "<polygon fill=\"black\" stroke=\"black\" points=\"469.842,-75.6647 462.226,-68.2996 463.587,-78.8067 469.842,-75.6647\"/>\r\n",
       "</g>\r\n",
       "<!-- 11 -->\r\n",
       "<g id=\"node12\" class=\"node\"><title>11</title>\r\n",
       "<polygon fill=\"#399de5\" stroke=\"black\" points=\"600,-68 509,-68 509,-0 600,-0 600,-68\"/>\r\n",
       "<text text-anchor=\"middle\" x=\"554.5\" y=\"-52.8\" font-family=\"Times New Roman,serif\" font-size=\"14.00\">gini = 0.0</text>\r\n",
       "<text text-anchor=\"middle\" x=\"554.5\" y=\"-37.8\" font-family=\"Times New Roman,serif\" font-size=\"14.00\">samples = 1</text>\r\n",
       "<text text-anchor=\"middle\" x=\"554.5\" y=\"-22.8\" font-family=\"Times New Roman,serif\" font-size=\"14.00\">value = [0, 1]</text>\r\n",
       "<text text-anchor=\"middle\" x=\"554.5\" y=\"-7.8\" font-family=\"Times New Roman,serif\" font-size=\"14.00\">class = Yes</text>\r\n",
       "</g>\r\n",
       "<!-- 9&#45;&gt;11 -->\r\n",
       "<g id=\"edge11\" class=\"edge\"><title>9&#45;&gt;11</title>\r\n",
       "<path fill=\"none\" stroke=\"black\" d=\"M520.608,-103.726C524.836,-95.1527 529.305,-86.0891 533.563,-77.4555\"/>\r\n",
       "<polygon fill=\"black\" stroke=\"black\" points=\"536.794,-78.8164 538.078,-68.2996 530.516,-75.7203 536.794,-78.8164\"/>\r\n",
       "</g>\r\n",
       "</g>\r\n",
       "</svg>\r\n"
      ],
      "text/plain": [
       "<graphviz.files.Source at 0x1f8d5e458d0>"
      ]
     },
     "execution_count": 67,
     "metadata": {},
     "output_type": "execute_result"
    }
   ],
   "source": [
    "grp = tree.export_graphviz(dt_gini, out_file = None, feature_names=oh_df.columns,  \n",
    "                   class_names=tennis[y_col].unique(),\n",
    "                   filled=True)\n",
    "graphviz.Source(grp, format = \"png\")"
   ]
  },
  {
   "cell_type": "markdown",
   "metadata": {},
   "source": [
    "<br>\n",
    "<br>\n",
    "\n",
    "---\n",
    "<br>\n",
    "\n",
    "참고 자료 : [https://m.blog.naver.com/PostView.naver?isHttpsRedirect=true&blogId=ehdrndd&logNo=221158124011](https://m.blog.naver.com/PostView.naver?isHttpsRedirect=true&blogId=ehdrndd&logNo=221158124011)"
   ]
  }
 ],
 "metadata": {
  "kernelspec": {
   "display_name": "Python 3",
   "language": "python",
   "name": "python3"
  },
  "language_info": {
   "codemirror_mode": {
    "name": "ipython",
    "version": 3
   },
   "file_extension": ".py",
   "mimetype": "text/x-python",
   "name": "python",
   "nbconvert_exporter": "python",
   "pygments_lexer": "ipython3",
   "version": "3.7.3"
  }
 },
 "nbformat": 4,
 "nbformat_minor": 4
}
