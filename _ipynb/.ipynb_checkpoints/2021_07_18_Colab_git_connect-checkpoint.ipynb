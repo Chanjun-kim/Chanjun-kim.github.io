{
  "nbformat": 4,
  "nbformat_minor": 0,
  "metadata": {
    "colab": {
      "name": "2021-07-18-Colab_git_connect.ipynb",
      "provenance": [],
      "collapsed_sections": [],
      "mount_file_id": "1rogasdOdxxhJwgWL_hwspdEqy-hxeIy7",
      "authorship_tag": "ABX9TyMYtLzM2KMjGsNKSqIKINjK",
      "include_colab_link": true
    },
    "kernelspec": {
      "name": "python3",
      "display_name": "Python 3"
    },
    "language_info": {
      "name": "python"
    },
    "accelerator": "GPU"
  },
  "cells": [
    {
      "cell_type": "markdown",
      "metadata": {
        "id": "view-in-github",
        "colab_type": "text"
      },
      "source": [
        "<a href=\"https://colab.research.google.com/github/Chanjun-kim/Chanjun-kim.github.io/blob/main/_ipynb/2021_07_18_Colab_git_connect.ipynb\" target=\"_parent\"><img src=\"https://colab.research.google.com/assets/colab-badge.svg\" alt=\"Open In Colab\"/></a>"
      ]
    },
    {
      "cell_type": "code",
      "metadata": {
        "colab": {
          "base_uri": "https://localhost:8080/"
        },
        "id": "IaqXhzOX8xvN",
        "outputId": "8363bbd7-a4b5-4d2a-de7f-119ec0879980"
      },
      "source": [
        "from google.colab import drive\n",
        "drive.mount(\"/content/drive\")\n",
        "%cd drive/MyDrive/cj/portfolio/Chanjun-kim.github.io/\n",
        "!pwd\n",
        "!git init\n",
        "!git config --global user.email \"nice3803@gmail.com\"\n",
        "!git config --global user.name \"Chanjun-kim\"\n",
        "!git stash\n",
        "!git pull origin main"
      ],
      "execution_count": 1,
      "outputs": [
        {
          "output_type": "stream",
          "text": [
            "Drive already mounted at /content/drive; to attempt to forcibly remount, call drive.mount(\"/content/drive\", force_remount=True).\n",
            "/content/drive/MyDrive/cj/portfolio/Chanjun-kim.github.io\n",
            "/content/drive/MyDrive/cj/portfolio/Chanjun-kim.github.io\n"
          ],
          "name": "stdout"
        }
      ]
    },
    {
      "cell_type": "code",
      "metadata": {
        "id": "Ss6mqSURM4z3"
      },
      "source": [
        ""
      ],
      "execution_count": null,
      "outputs": []
    }
  ]
}