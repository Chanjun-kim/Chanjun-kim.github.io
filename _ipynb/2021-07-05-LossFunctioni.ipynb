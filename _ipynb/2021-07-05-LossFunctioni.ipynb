{
 "cells": [
  {
   "cell_type": "markdown",
   "id": "d8ad059b-f9d1-460a-a359-45b5fc7f2e4a",
   "metadata": {},
   "source": [
    "---\n",
    "layout: post\n",
    "title: \"Loss function\"\n",
    "author: \"Chanjun Kim\"\n",
    "categories: Data분석\n",
    "tags: [Data, Lossfunction, 손실함수, 목적함수, 비용함수, 머신러닝, 딥러닝, ML, DeepLearning]\n",
    "image: 06_LSTM.png\n",
    "---"
   ]
  },
  {
   "cell_type": "markdown",
   "id": "5ea0614d-5955-4e3e-b794-ebff9cead3b2",
   "metadata": {},
   "source": [
    "## **학습목적**\n",
    "이 포스팅에선 머신러닝/딥러닝에 쓰이는 Loss function에 대해서 알아보겠습니다.<br>"
   ]
  },
  {
   "cell_type": "markdown",
   "id": "1bbc0cf9-83c9-4a1e-ae5b-06ebe77d8670",
   "metadata": {},
   "source": [
    "#### **1. Objective / Cost / Loss function**\n",
    "- 만들고자 하는 머신러닝/딥러닝 모델을 만들 때 대체로 Loss function이란 말을 쓰지만 조금의 차이가 있을 수 있으니 위 세개의 말이 어떻게 다른지 알아보겠습니다.\n",
    "\n",
    "**1. Objective Function(목적 함수)**\n",
    "- 목적함수는 셋 중에 가장 큰 범위로 말 그대로 모델을 만드는 목적을 말합니다. 보통 Loss function은 오차를 최소화하기 위한 것이지만 MLE 같이 최대화하는 경우는 Loss function에는 포함되지 않습니다.\n",
    "\n",
    "**2. Loss Function(손실 함수)**\n",
    "- 손실 함수는 우리가 가지고 있는 예측된 값과 실제 Y값의 차이를 계산하는 함수입니다.\n",
    "\n",
    "**3. Cost Function(목적 함수)**\n",
    "- 목적함수는 전체 데이터의 손실의 합을 의미합니다."
   ]
  },
  {
   "cell_type": "markdown",
   "id": "05592812-dd89-47c2-9bb2-85e19b7b4d2c",
   "metadata": {},
   "source": [
    "---\n",
    "\n",
    "code : https://github.com/Chanjun-kim/Chanjun-kim.github.io/blob/main/_ipynb/2021-07-05-LossFunction.ipynb"
   ]
  },
  {
   "cell_type": "markdown",
   "id": "54da81da-d77f-4552-bc93-131fdc63acce",
   "metadata": {},
   "source": [
    "---\n",
    "\n",
    "참고 자료 : \n",
    "- https://ganghee-lee.tistory.com/28"
   ]
  },
  {
   "cell_type": "code",
   "execution_count": null,
   "id": "5825e934-0328-4fce-8f95-addf0f8ec753",
   "metadata": {},
   "outputs": [],
   "source": []
  }
 ],
 "metadata": {
  "kernelspec": {
   "display_name": "Python 3",
   "language": "python",
   "name": "python3"
  },
  "language_info": {
   "codemirror_mode": {
    "name": "ipython",
    "version": 3
   },
   "file_extension": ".py",
   "mimetype": "text/x-python",
   "name": "python",
   "nbconvert_exporter": "python",
   "pygments_lexer": "ipython3",
   "version": "3.8.10"
  }
 },
 "nbformat": 4,
 "nbformat_minor": 5
}
